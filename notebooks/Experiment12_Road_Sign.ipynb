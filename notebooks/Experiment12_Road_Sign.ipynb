{
 "cells": [
  {
   "cell_type": "code",
   "execution_count": 64,
   "metadata": {
    "collapsed": true
   },
   "outputs": [],
   "source": [
    "%matplotlib inline\n",
    "\n",
    "import pandas as pd\n",
    "import numpy as np\n",
    "import gc\n",
    "import time\n",
    "\n",
    "import matplotlib.pyplot as plt\n",
    "import seaborn as sns\n",
    "\n",
    "from sklearn.base import BaseEstimator\n",
    "from sklearn.base import TransformerMixin\n",
    "\n",
    "from sklearn.pipeline import Pipeline\n",
    "from sklearn.pipeline import FeatureUnion\n",
    "from sklearn.model_selection import train_test_split\n",
    "from sklearn.ensemble import ExtraTreesClassifier, RandomForestClassifier\n",
    "from sklearn.metrics import log_loss\n",
    "\n",
    "import xgboost as xgb\n",
    "\n",
    "sns.set_style('dark')\n",
    "\n",
    "import warnings\n",
    "warnings.filterwarnings('ignore')\n",
    "\n",
    "SEED = 123131\n",
    "np.random.seed(SEED)"
   ]
  },
  {
   "cell_type": "markdown",
   "metadata": {},
   "source": [
    "# Load Files"
   ]
  },
  {
   "cell_type": "code",
   "execution_count": 89,
   "metadata": {
    "collapsed": true
   },
   "outputs": [],
   "source": [
    "train = pd.read_csv('../data/raw/4b699168-4-here_dataset/train.csv')\n",
    "test  = pd.read_csv('../data/raw/4b699168-4-here_dataset/test.csv')\n",
    "sub   = pd.read_csv('../data/raw/4b699168-4-here_dataset/sample_submission.csv')"
   ]
  },
  {
   "cell_type": "code",
   "execution_count": 90,
   "metadata": {
    "collapsed": true
   },
   "outputs": [],
   "source": [
    "# rename target column\n",
    "\n",
    "train = train.rename(columns={\n",
    "    'SignFacing (Target)': 'target'\n",
    "})"
   ]
  },
  {
   "cell_type": "code",
   "execution_count": 91,
   "metadata": {
    "collapsed": false
   },
   "outputs": [
    {
     "data": {
      "text/plain": [
       "916"
      ]
     },
     "execution_count": 91,
     "metadata": {},
     "output_type": "execute_result"
    }
   ],
   "source": [
    "# combine dataset\n",
    "data = pd.concat((train, test))\n",
    "train_mask = data.target.notnull()\n",
    "\n",
    "del train, test\n",
    "gc.collect()"
   ]
  },
  {
   "cell_type": "code",
   "execution_count": 58,
   "metadata": {
    "collapsed": true
   },
   "outputs": [],
   "source": [
    "def print_nunique(feature_name):\n",
    "    print('Number of unique values in the training set {}'\\\n",
    "      .format(data.loc[train_mask, feature_name].nunique()))\n",
    "    print('Number of unique values in the test set {}'\\\n",
    "          .format(data.loc[~train_mask, feature_name].nunique()))\n",
    "    \n",
    "    \n",
    "def missing_values(feature_name):\n",
    "    print('{} missing in train set but present in the test set'\\\n",
    "      .format(set(data.loc[~train_mask, feature_name]) - set(data.loc[train_mask, feature_name])))"
   ]
  },
  {
   "cell_type": "code",
   "execution_count": 6,
   "metadata": {
    "collapsed": false
   },
   "outputs": [
    {
     "name": "stdout",
     "output_type": "stream",
     "text": [
      "Number of unique values in the training set 353\n",
      "Number of unique values in the test set 358\n"
     ]
    }
   ],
   "source": [
    "# number of unique values of angle of sign variable\n",
    "print_nunique('AngleOfSign')"
   ]
  },
  {
   "cell_type": "code",
   "execution_count": 20,
   "metadata": {
    "collapsed": false
   },
   "outputs": [
    {
     "name": "stdout",
     "output_type": "stream",
     "text": [
      "{0, 2, 356, 358, 167, 143, 177, 184} missing in train set but present in the test set\n"
     ]
    }
   ],
   "source": [
    "# values that are present in the training set but not in the test set\n",
    "missing_values('AngleOfSign')"
   ]
  },
  {
   "cell_type": "code",
   "execution_count": 21,
   "metadata": {
    "collapsed": false
   },
   "outputs": [
    {
     "name": "stdout",
     "output_type": "stream",
     "text": [
      "Number of unique values in the training set 4\n",
      "Number of unique values in the test set 4\n"
     ]
    }
   ],
   "source": [
    "# number of unique values of detected camera \n",
    "print_nunique('DetectedCamera')"
   ]
  },
  {
   "cell_type": "code",
   "execution_count": 22,
   "metadata": {
    "collapsed": false
   },
   "outputs": [
    {
     "name": "stdout",
     "output_type": "stream",
     "text": [
      "set() missing in train set but present in the test set\n"
     ]
    }
   ],
   "source": [
    "# values that are missing in the training set but present in the test set for DetectedCamera\n",
    "missing_values('DetectedCamera')"
   ]
  },
  {
   "cell_type": "code",
   "execution_count": 23,
   "metadata": {
    "collapsed": false
   },
   "outputs": [
    {
     "name": "stdout",
     "output_type": "stream",
     "text": [
      "Number of unique values in the training set 172\n",
      "Number of unique values in the test set 168\n"
     ]
    }
   ],
   "source": [
    "print_nunique('SignAspectRatio')"
   ]
  },
  {
   "cell_type": "code",
   "execution_count": 24,
   "metadata": {
    "collapsed": false
   },
   "outputs": [
    {
     "name": "stdout",
     "output_type": "stream",
     "text": [
      "{0.27000000000000002, 1.9299999999999999, 2.0, 2.1800000000000002, 2.3300000000000001, 2.5800000000000001, 1.8400000000000001, 1.9199999999999999, 2.0699999999999998} missing in train set but present in the test set\n"
     ]
    }
   ],
   "source": [
    "missing_values('SignAspectRatio')"
   ]
  },
  {
   "cell_type": "code",
   "execution_count": 25,
   "metadata": {
    "collapsed": false
   },
   "outputs": [
    {
     "name": "stdout",
     "output_type": "stream",
     "text": [
      "Number of unique values in the training set 371\n",
      "Number of unique values in the test set 349\n"
     ]
    }
   ],
   "source": [
    "print_nunique('SignHeight')"
   ]
  },
  {
   "cell_type": "code",
   "execution_count": 26,
   "metadata": {
    "collapsed": false
   },
   "outputs": [
    {
     "name": "stdout",
     "output_type": "stream",
     "text": [
      "{448, 355, 419, 325, 420, 328, 330, 299, 363, 394, 395, 335, 367, 398, 306, 400, 402, 345, 379} missing in train set but present in the test set\n"
     ]
    }
   ],
   "source": [
    "missing_values('SignHeight')"
   ]
  },
  {
   "cell_type": "code",
   "execution_count": 27,
   "metadata": {
    "collapsed": false
   },
   "outputs": [
    {
     "name": "stdout",
     "output_type": "stream",
     "text": [
      "Number of unique values in the training set 371\n",
      "Number of unique values in the test set 357\n"
     ]
    }
   ],
   "source": [
    "print_nunique('SignWidth')"
   ]
  },
  {
   "cell_type": "code",
   "execution_count": 28,
   "metadata": {
    "collapsed": false
   },
   "outputs": [
    {
     "name": "stdout",
     "output_type": "stream",
     "text": [
      "{384, 385, 397, 399, 529, 18, 428, 431, 439, 441, 314, 323, 340, 342, 344, 361, 364, 499, 375, 380, 382} missing in train set but present in the test set\n"
     ]
    }
   ],
   "source": [
    "missing_values('SignWidth')"
   ]
  },
  {
   "cell_type": "code",
   "execution_count": 29,
   "metadata": {
    "collapsed": false
   },
   "outputs": [
    {
     "data": {
      "text/html": [
       "<div>\n",
       "<table border=\"1\" class=\"dataframe\">\n",
       "  <thead>\n",
       "    <tr style=\"text-align: right;\">\n",
       "      <th>target</th>\n",
       "      <th>Front</th>\n",
       "      <th>Left</th>\n",
       "      <th>Rear</th>\n",
       "      <th>Right</th>\n",
       "    </tr>\n",
       "    <tr>\n",
       "      <th>DetectedCamera</th>\n",
       "      <th></th>\n",
       "      <th></th>\n",
       "      <th></th>\n",
       "      <th></th>\n",
       "    </tr>\n",
       "  </thead>\n",
       "  <tbody>\n",
       "    <tr>\n",
       "      <th>Front</th>\n",
       "      <td>10759</td>\n",
       "      <td>101</td>\n",
       "      <td>0</td>\n",
       "      <td>50</td>\n",
       "    </tr>\n",
       "    <tr>\n",
       "      <th>Left</th>\n",
       "      <td>1005</td>\n",
       "      <td>541</td>\n",
       "      <td>7752</td>\n",
       "      <td>0</td>\n",
       "    </tr>\n",
       "    <tr>\n",
       "      <th>Rear</th>\n",
       "      <td>0</td>\n",
       "      <td>33</td>\n",
       "      <td>7657</td>\n",
       "      <td>71</td>\n",
       "    </tr>\n",
       "    <tr>\n",
       "      <th>Right</th>\n",
       "      <td>9563</td>\n",
       "      <td>0</td>\n",
       "      <td>253</td>\n",
       "      <td>700</td>\n",
       "    </tr>\n",
       "  </tbody>\n",
       "</table>\n",
       "</div>"
      ],
      "text/plain": [
       "target          Front  Left  Rear  Right\n",
       "DetectedCamera                          \n",
       "Front           10759   101     0     50\n",
       "Left             1005   541  7752      0\n",
       "Rear                0    33  7657     71\n",
       "Right            9563     0   253    700"
      ]
     },
     "execution_count": 29,
     "metadata": {},
     "output_type": "execute_result"
    }
   ],
   "source": [
    "pd.crosstab(data.loc[train_mask, 'DetectedCamera'], data.loc[train_mask, 'target'])"
   ]
  },
  {
   "cell_type": "code",
   "execution_count": 30,
   "metadata": {
    "collapsed": false
   },
   "outputs": [
    {
     "data": {
      "image/png": "[encoded data removed]",
      "text/plain": [
       "<matplotlib.figure.Figure at 0x7f0badc57c88>"
      ]
     },
     "metadata": {},
     "output_type": "display_data"
    }
   ],
   "source": [
    "# distribution of sign aspect ratio\n",
    "sns.distplot(data.loc[train_mask, 'SignAspectRatio'], label='Train')\n",
    "sns.distplot(data.loc[~train_mask, 'SignAspectRatio'], label='Test')\n",
    "plt.legend(loc='best');"
   ]
  },
  {
   "cell_type": "code",
   "execution_count": 44,
   "metadata": {
    "collapsed": false
   },
   "outputs": [],
   "source": [
    "# sign aspect count with target variable\n",
    "sign_aspect_count = data.loc[:, :].groupby('SignAspectRatio')['SignAspectRatio'].transform(lambda x: len(x))\n",
    "data = data.assign(sign_aspect_count=sign_aspect_count)"
   ]
  },
  {
   "cell_type": "code",
   "execution_count": 36,
   "metadata": {
    "collapsed": false
   },
   "outputs": [
    {
     "data": {
      "image/png": "[encoded data removed]",
      "text/plain": [
       "<matplotlib.figure.Figure at 0x7f0bbf9d30b8>"
      ]
     },
     "metadata": {},
     "output_type": "display_data"
    }
   ],
   "source": [
    "sns.distplot(data.loc[train_mask & (data.target == 'Rear'), 'SignAspectRatio'], label='Rear')\n",
    "sns.distplot(data.loc[train_mask & (data.target == 'Front'), 'SignAspectRatio'], label='Front')\n",
    "sns.distplot(data.loc[train_mask & (data.target == 'Right'), 'SignAspectRatio'], label='Right')\n",
    "sns.distplot(data.loc[train_mask & (data.target == 'Left'), 'SignAspectRatio'], label='Left')\n",
    "plt.legend(loc='best');"
   ]
  },
  {
   "cell_type": "code",
   "execution_count": 32,
   "metadata": {
    "collapsed": false
   },
   "outputs": [
    {
     "data": {
      "image/png": "[encoded data removed]",
      "text/plain": [
       "<matplotlib.figure.Figure at 0x7f0bad9d9358>"
      ]
     },
     "metadata": {},
     "output_type": "display_data"
    }
   ],
   "source": [
    "sns.boxplot(x='target', y='SignAspectRatio', data=data.loc[train_mask, :]);"
   ]
  },
  {
   "cell_type": "code",
   "execution_count": 34,
   "metadata": {
    "collapsed": false
   },
   "outputs": [
    {
     "data": {
      "image/png": "[encoded data removed]",
      "text/plain": [
       "<matplotlib.figure.Figure at 0x7f0ba97f7438>"
      ]
     },
     "metadata": {},
     "output_type": "display_data"
    }
   ],
   "source": [
    "sns.violinplot(x='target', y='SignAspectRatio', data=data.loc[train_mask, :]);"
   ]
  },
  {
   "cell_type": "code",
   "execution_count": 48,
   "metadata": {
    "collapsed": false
   },
   "outputs": [
    {
     "data": {
      "text/html": [
       "<div>\n",
       "<table border=\"1\" class=\"dataframe\">\n",
       "  <thead>\n",
       "    <tr style=\"text-align: right;\">\n",
       "      <th>target</th>\n",
       "      <th>Front</th>\n",
       "      <th>Left</th>\n",
       "      <th>Rear</th>\n",
       "      <th>Right</th>\n",
       "    </tr>\n",
       "    <tr>\n",
       "      <th>DetectedCamera</th>\n",
       "      <th></th>\n",
       "      <th></th>\n",
       "      <th></th>\n",
       "      <th></th>\n",
       "    </tr>\n",
       "  </thead>\n",
       "  <tbody>\n",
       "    <tr>\n",
       "      <th>Front</th>\n",
       "      <td>0.978286</td>\n",
       "      <td>1.213069</td>\n",
       "      <td>NaN</td>\n",
       "      <td>1.155400</td>\n",
       "    </tr>\n",
       "    <tr>\n",
       "      <th>Left</th>\n",
       "      <td>0.741701</td>\n",
       "      <td>0.938078</td>\n",
       "      <td>0.788595</td>\n",
       "      <td>NaN</td>\n",
       "    </tr>\n",
       "    <tr>\n",
       "      <th>Rear</th>\n",
       "      <td>NaN</td>\n",
       "      <td>1.172424</td>\n",
       "      <td>1.002412</td>\n",
       "      <td>1.215070</td>\n",
       "    </tr>\n",
       "    <tr>\n",
       "      <th>Right</th>\n",
       "      <td>0.826725</td>\n",
       "      <td>NaN</td>\n",
       "      <td>0.924901</td>\n",
       "      <td>0.960114</td>\n",
       "    </tr>\n",
       "  </tbody>\n",
       "</table>\n",
       "</div>"
      ],
      "text/plain": [
       "target             Front      Left      Rear     Right\n",
       "DetectedCamera                                        \n",
       "Front           0.978286  1.213069       NaN  1.155400\n",
       "Left            0.741701  0.938078  0.788595       NaN\n",
       "Rear                 NaN  1.172424  1.002412  1.215070\n",
       "Right           0.826725       NaN  0.924901  0.960114"
      ]
     },
     "execution_count": 48,
     "metadata": {},
     "output_type": "execute_result"
    }
   ],
   "source": [
    "data.loc[train_mask, :].pivot_table(index='DetectedCamera', \n",
    "                                    columns='target', \n",
    "                                    values='SignAspectRatio',\n",
    "                                    aggfunc=np.mean,\n",
    "                                   )"
   ]
  },
  {
   "cell_type": "code",
   "execution_count": 50,
   "metadata": {
    "collapsed": false
   },
   "outputs": [
    {
     "data": {
      "image/png": "[encoded data removed]",
      "text/plain": [
       "<matplotlib.figure.Figure at 0x7f0b51b4df28>"
      ]
     },
     "metadata": {},
     "output_type": "display_data"
    }
   ],
   "source": [
    "sns.factorplot(x='DetectedCamera', y='SignAspectRatio', \n",
    "               hue='target', data=data.loc[train_mask, :]);"
   ]
  },
  {
   "cell_type": "markdown",
   "metadata": {},
   "source": [
    "** Basic Pipeline **"
   ]
  },
  {
   "cell_type": "markdown",
   "metadata": {},
   "source": [
    "* Data Processing\n",
    "* Featue Generation"
   ]
  },
  {
   "cell_type": "code",
   "execution_count": 68,
   "metadata": {
    "collapsed": true
   },
   "outputs": [],
   "source": [
    "class DataProcessing(BaseEstimator, TransformerMixin):\n",
    "    \"\"\"\n",
    "    Preprocessing Tasks\n",
    "    \"\"\"\n",
    "    \n",
    "    def fit(self, X, y):\n",
    "        pass\n",
    "    \n",
    "    def fit_transform(self, X, y=None):\n",
    "        pass\n",
    "    \n",
    "class FeatureGeneration(BaseEstimator, TransformerMixin):\n",
    "    \"\"\"\n",
    "    Feature Generation Ideas\n",
    "    ========================\n",
    "    1. Deviation of SignAspectRatio from 1.\n",
    "    2. Whether detected camera is in front or rear position or not.\n",
    "    \"\"\"\n",
    "    def __init__(self):\n",
    "        return None\n",
    "    \n",
    "    def fit(self, X, y):\n",
    "        X['deviation'] = 1 - X['SignAspectRatio']\n",
    "        \n",
    "        detected_camera_position = X['DetectedCamera'].isin([0, 1]).astype(np.int)\n",
    "        X = X.assign(detected_camera_position=detected_camera_position)\n",
    "        \n",
    "        return self\n",
    "    \n",
    "    def transform(self, X, y=None):\n",
    "        X['deviation'] = 1 - X['SignAspectRatio']\n",
    "        \n",
    "        detected_camera_position = X['DetectedCamera'].isin([0, 1]).astype(np.int)\n",
    "        X = X.assign(detected_camera_position=detected_camera_position)\n",
    "        \n",
    "        return X\n",
    "    \n",
    "class VarSelect(BaseEstimator, TransformerMixin):\n",
    "    def __init__(self, features):\n",
    "        self.features = features\n",
    "    \n",
    "    def fit(self, X, y):\n",
    "        return self\n",
    "    \n",
    "    def transform(self, X, y=None):\n",
    "        return X[self.features]"
   ]
  },
  {
   "cell_type": "markdown",
   "metadata": {},
   "source": [
    "** Create X and y **"
   ]
  },
  {
   "cell_type": "code",
   "execution_count": 92,
   "metadata": {
    "collapsed": true
   },
   "outputs": [],
   "source": [
    "target_map = {\n",
    "    'Front': 0,\n",
    "    'Rear' : 1,\n",
    "    'Left' : 2,\n",
    "    'Right': 3\n",
    "}"
   ]
  },
  {
   "cell_type": "code",
   "execution_count": 93,
   "metadata": {
    "collapsed": true
   },
   "outputs": [],
   "source": [
    "X                   = data.loc[train_mask, ['AngleOfSign', 'DetectedCamera', 'SignAspectRatio']]\n",
    "X['DetectedCamera'] = X.DetectedCamera.map(target_map)\n",
    "\n",
    "y = data.loc[train_mask, 'target'].map(target_map)\n",
    "\n",
    "Xtest = data.loc[~train_mask, ['AngleOfSign', 'DetectedCamera', 'SignAspectRatio']]\n",
    "Xtest['DetectedCamera'] = Xtest.DetectedCamera.map(target_map)"
   ]
  },
  {
   "cell_type": "markdown",
   "metadata": {},
   "source": [
    "** split data into training and test set **"
   ]
  },
  {
   "cell_type": "code",
   "execution_count": 94,
   "metadata": {
    "collapsed": false
   },
   "outputs": [],
   "source": [
    "X_train, X_test, y_train, y_test = train_test_split(X, y, stratify=y, test_size=.3, random_state=SEED)"
   ]
  },
  {
   "cell_type": "markdown",
   "metadata": {},
   "source": [
    "** Define a model **"
   ]
  },
  {
   "cell_type": "code",
   "execution_count": 106,
   "metadata": {
    "collapsed": true
   },
   "outputs": [],
   "source": [
    "model = RandomForestClassifier(n_estimators=500,\n",
    "                               max_depth=10,\n",
    "                               min_samples_split=3,\n",
    "                               n_jobs=-1,\n",
    "                               random_state=SEED)"
   ]
  },
  {
   "cell_type": "code",
   "execution_count": 31,
   "metadata": {
    "collapsed": false
   },
   "outputs": [],
   "source": [
    "model = xgb.XGBClassifier(max_depth=2, learning_rate=.05, n_estimators=708, min_child_weight=3.0, \n",
    "                          subsample=.85, gamma=.9)"
   ]
  },
  {
   "cell_type": "markdown",
   "metadata": {},
   "source": [
    "** Define Pipeline **"
   ]
  },
  {
   "cell_type": "code",
   "execution_count": 107,
   "metadata": {
    "collapsed": false
   },
   "outputs": [
    {
     "name": "stdout",
     "output_type": "stream",
     "text": [
      "Log loss: 0.11322442842106473\n"
     ]
    }
   ],
   "source": [
    "pipeline = Pipeline(steps=[\n",
    "    ('feature_generation', FeatureGeneration()),\n",
    "    ('select', VarSelect(['AngleOfSign',\n",
    "                          'deviation'])),\n",
    "    ('model', model)\n",
    "])\n",
    "\n",
    "pipeline.fit(X_train, y_train)\n",
    "preds = pipeline.predict_proba(X_test)\n",
    "print('Log loss: {}'.format(log_loss(y_test, preds)))"
   ]
  },
  {
   "cell_type": "code",
   "execution_count": 109,
   "metadata": {
    "collapsed": false
   },
   "outputs": [
    {
     "data": {
      "text/plain": [
       "99.88678"
      ]
     },
     "execution_count": 109,
     "metadata": {},
     "output_type": "execute_result"
    }
   ],
   "source": [
    "100 - .11322"
   ]
  },
  {
   "cell_type": "markdown",
   "metadata": {},
   "source": [
    "** Full Training **"
   ]
  },
  {
   "cell_type": "code",
   "execution_count": 108,
   "metadata": {
    "collapsed": false
   },
   "outputs": [],
   "source": [
    "pipeline.fit(X, y)\n",
    "final_preds = pipeline.predict_proba(Xtest)"
   ]
  },
  {
   "cell_type": "code",
   "execution_count": 104,
   "metadata": {
    "collapsed": false
   },
   "outputs": [],
   "source": [
    "sub.iloc[:, 1:] = final_preds"
   ]
  },
  {
   "cell_type": "code",
   "execution_count": 105,
   "metadata": {
    "collapsed": false
   },
   "outputs": [],
   "source": [
    "sub.to_csv('../submissions/predict_sign/rf_experiment_14.csv', index=False)"
   ]
  }
 ],
 "metadata": {
  "kernelspec": {
   "display_name": "Python 3",
   "language": "python",
   "name": "python3"
  },
  "language_info": {
   "codemirror_mode": {
    "name": "ipython",
    "version": 3
   },
   "file_extension": ".py",
   "mimetype": "text/x-python",
   "name": "python",
   "nbconvert_exporter": "python",
   "pygments_lexer": "ipython3",
   "version": "3.6.0"
  }
 },
 "nbformat": 4,
 "nbformat_minor": 2
}
