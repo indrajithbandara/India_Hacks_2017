{
 "cells": [
  {
   "cell_type": "markdown",
   "metadata": {},
   "source": [
    "** Experiment 4 **\n",
    "\n",
    "* Exploratory Data Analysis of the problem\n",
    "* What is the nature of the data ?\n",
    "* How is the data laid out ?\n",
    "* Feature Generation Ideas"
   ]
  },
  {
   "cell_type": "code",
   "execution_count": 1,
   "metadata": {
    "collapsed": true
   },
   "outputs": [],
   "source": [
    "%matplotlib inline\n",
    "\n",
    "import pandas as pd\n",
    "import numpy as np\n",
    "import scipy as sp\n",
    "import gc\n",
    "\n",
    "import matplotlib.pyplot as plt\n",
    "import seaborn as sns\n",
    "\n",
    "from natsort import natsorted\n",
    "from collections import defaultdict\n",
    "from sklearn.feature_extraction import DictVectorizer\n",
    "\n",
    "from itertools import combinations\n",
    "\n",
    "sns.set_style('dark')\n",
    "pd.set_option('max_columns', None)\n",
    "\n",
    "from tqdm import tqdm_notebook\n",
    "import time\n",
    "\n",
    "SEED = 131341\n",
    "np.random.seed(SEED)\n",
    "\n",
    "import warnings\n",
    "warnings.filterwarnings('ignore')\n",
    "\n",
    "%run ../src/data/HotstarDataset.py\n",
    "%run ../src/features/categorical_features.py"
   ]
  },
  {
   "cell_type": "code",
   "execution_count": 2,
   "metadata": {
    "collapsed": false
   },
   "outputs": [],
   "source": [
    "dataset = Hotstar('../data/raw/5f828822-4--4-hotstar_dataset/')\n",
    "dataset.load_data('../data/processed/hotstar_processed.feather')\n",
    "\n",
    "data       = dataset.data\n",
    "train_mask = dataset.get_train_mask() "
   ]
  },
  {
   "cell_type": "markdown",
   "metadata": {},
   "source": [
    "** Similarities between train and test set **"
   ]
  },
  {
   "cell_type": "code",
   "execution_count": 36,
   "metadata": {
    "collapsed": false
   },
   "outputs": [],
   "source": [
    "# cities involved in training set\n",
    "cities_train = set([])\n",
    "cities_test  = set([])\n",
    "\n",
    "def add_to_train_set(cities):\n",
    "    for city in cities.split(','):\n",
    "        cities_train.add(city)\n",
    "\n",
    "def add_to_test_set(cities):\n",
    "    for city in cities.split(','):\n",
    "        cities_test.add(city)\n",
    "\n",
    "data.loc[train_mask, 'cities'].str.replace('[:](\\d+)', '')\\\n",
    "    .map(add_to_train_set)\n",
    "    \n",
    "data.loc[~train_mask, 'cities'].str.replace('[:](\\d+)', '')\\\n",
    "    .map(add_to_test_set);"
   ]
  },
  {
   "cell_type": "code",
   "execution_count": 37,
   "metadata": {
    "collapsed": false
   },
   "outputs": [
    {
     "name": "stdout",
     "output_type": "stream",
     "text": [
      "Cities that are in training set but not in test set \n",
      " {'kokrajhar', 'bien hoa', 'tomelloso', 'ballerup', 'higashi', 'campulung', 'saskatoon', 'cancun', 'sehore', 'windhoek', 'satara', 'montfermeil', 'tumkur', 'kuala dungun', 'kuppam', 'poissy', 'silkeborg', 'weehawken', 'gent', 'tauranga', 'norwich', 'lake forest', 'vishakhapatnam', 'jind', 'albuquerque', 'phuket', 'tardeo', 'kota pinang', 'yojna vihar', 'lubumbashi', 'baton rouge', 'sunnyvale', 'vientiane', 'cachan', 'kuala pilah', 'small heath', 'university of new south wales', 'betul', 'ongole', 'waltham', 'grafton', 'sunshine', 'quanzhou', 'vilvoorde', 'timisoara', 'mahwa', 'aubonne', 'bedok', 'pali', 'semarang', 'ilford', 'mount gambier', 'logrono', 'fort-de-france', 'sungai petani', 'alexandria', 'racine', 'stapleford', \"lower prince's quarter\", 'exeter', 'west bromwich', 'yiwu', 'hahira', 'massy', 'jagadhri', 'rzeszow', 'bari', 'guayaquil', 'norrkoping', 'vittal nagar', 'thornhill', 'clichy', 'kuala belait', 'hampton', 'albury', 'faisalabad', 'tallinn', 'morbi', 'chelmsford', 'pradnik bialy', 'lille', 'campbell', 'horsens', 'charlotte', 'reykjavik', 'mainz', 'chiba-shi', 'gentofte', 'rancho santa margarita', 'southampton', 'immigrath', 'wadala', 'hassan', 'harare', 'schaffhausen', 'rodgau', 'leiden', 'monza', 'karur', 'krasnodar', 'cheltenham', 'zimnicea', 'parel', 'quetta', 'ladner', 'nagoya', 'kortrijk', 'henderson', 'sri ganganagar', 'tunis', 'settimo milanese', 'edison', 'srirangam', 'orel', 'woodstock', 'kwai chung', 'leidschendam', 'brandon', 'hajipur', 'odell', 'appingedam', 'karad', 'sartrouville', 'annecy', 'west palm beach', 'jakarta barat', 'anekal', 'bommanahalli', 'rimini', 'neuss', 'mahwah', 'oklahoma city', 'seehausen (leipzig)', 'paderborn', 'surbiton', 'kunming', 'lappeenranta', 'matunga', \"podol'sk\", 'khambhat', 'thrissur', 'bhor', 'stokmarknes', 'monmouth junction', 'dayton', 'pune cantonment', 'venkateshpuram', 'burgessville', 'washington', 'belo horizonte', 'ashgabat', 'sint-lambrechts-woluwe', 'bhadrachalam', 'burroway', 'tyreso strand', 'beziers', 'metz', 'friedrichshain', 'northampton', 'buchs', 'nantes', 'new city', 'pattukkottai', 'wallingford', 'bathinda', 'vantaa', 'grafenberg (duesseldorf)', 'peterborough', 'nantong', 'newbury', 'kinshasa', 'schwabing-freimann', 'valcourt', 'addlestone', 'ufa', 'atakoy', 'dortmund', 'lublin', 'porirua', 'rieti', 'sivasagar', 'eschborn', 'sankt leon-rot', 'fort lauderdale', 'palakkad', 'sakura', 'hoorn', 'west chester', 'jamui', 'bournemouth', 'takapuna', 'yeola', 'orebro', 'nedumangad', 'state college', 'mito', 'owen sound', 'kirtipur', 'charleroi', 'thoothukudi', 'guildford', 'umea', 'montabaur', 'medellin', 'stuttgart-mitte', 'rio de janeiro', 'deoli', 'nelson', 'dindigul', 'nabadwip', 'moratuwa', 'saint catharines', 'apeldoorn', 'port-au-prince', 'djibouti', 'sterling', 'athina', 'augsburg', 'plano', 'temerloh', 'saraburi', 'sambalpur', 'hsinchu', 'uzhhorod', 'tianjin', 'pingtung', 'tsuen wan', 'cotonou', 'lake city', 'salford', 'fontainebleau', 'sahiwal', 'dushanbe', 'maroussi', 'east kolkata township', 'hemel hempstead', 'ashburn', 'bell', 'mandi', 'barueri', 'werribee south', 'eksjo', 'kannur', 'manacor', 'sanderstead', 'bowmanville', 'lviv', 'saratov', 'gwangmyeong', 'hicksville', 'samara', 'aarhus', 'fort worth', 'dunedin', 'rajula', 'montreux', 'lincoln', 'kodaikanal', 'acton', 'pattaya', 'arezzo', 'toshima-ku', 'rudrapur', 'saransk', 'rabat', 'janakpuri', 'thiagarajar college', 'neyveli', 'marathahalli', 'laval', 'federal way', 'rohini', 'vejstrup (svendborg)', 'poitiers', 'basel', 'yokohama', 'tumba', 'bentong', 'douala', 'cypress', 'pori', 'mussoorie', 'duque de caxias', 'champs-sur-marne', 'canterbury', 'herouville-saint-clair', 'milwaukee', 'kerkrade', 'kingstown', 'tremblay-en-france', 'san donato milanese', 'perambalur', 'kreuzberg', 'kuala terengganu', 'mckinney', 'midnapore', 'cambridge', 'framingham', 'doos (muggenhof)', 'gandhidham', 'harrogate', 'dispur', 'samastipur', 'pescara', 'puttur', 'torbali', 'haridwar', 'solna', 'jinshazhen', 'suwon', 'cuddapah', 'udupi', \"ryazan'\", 'nanchang', 'bergen', 'kristianstad', 'san vendemiano', 'narpio', 'buraydah', \"homyel'\", 'alvesta kommun', 'saijo', 'sorigherio', 'ghazipur', 'sandgate', 'port huron', 'burwood east', 'balzan', 'mangalagiri', 'taplow', 'barbil', 'modena', 'new addington', 'ahmadnagar', 'tokushima-shi', 'yuxi', 'cankaya', 'queretaro', 'una', 'antalya', 'miryalaguda', 'uxbridge', 'bekasi', 'yogyakarta', 'haverford', 'vejalpur', 'saitama-shi', 'kasturibai nagar', 'bidhannagar', 'amreli', 'quito', 'hermitage', 'halmstad', 'kista', 'karlskrona', 'sofiya', 'kristinehamn', 'zhenruzhen', 'volgograd', 'los mochis', 'alipurduar', 'seremban', 'sale', 'ceske budejovice', 'kobe', 'evry', 'bacau', 'sarnia', 'vianen', 'vaasa', 'markham', 'aachen-mitte', 'madikeri', 'boulogne-billancourt', 'nijmegen', 'soborg', 'udhampur', 'jhajjar', 'lundby (vordingborg)', 'derby', 'truro', 'ulan-ude', 'wimbledon', 'kapurthala', 'kunigal', 'avenel', 'agartala', 'penza', 'mudhol', 'mallorytown', 'aoba-ku', 'tiruvannamalai', 'sansad marg', 'muenster', 'torre', 'tangerang', 'koblenz', 'jakarta utara', 'nanning', 'geneve', 'davangere', 'diu', 'kishanganj', 'hrodna', 'yelahanka', 'yamaguchi-shi', 'kongsberg', 'geromina', 'chuo-ku (tokyo)', 'srikakulam', 'marseille', 'niagara falls', 'barrie', 'whitefield', 'uddevalla', 'chantilly', 'mahilyow', 'wadi', 'san salvador', 'townsville', 'poway', 'trieste', 'hackensack', 'yanam', 'kigali', 'conegliano', 'toulouse', 'newcastle', 'sakinaka', 'ara', 'palaiseau', 'wesel', 'delft', 'surabaya', 'tiruvettipuram', 'jorhat', 'brockport', 'chesterfield', 'shahpur', 'mechelen', 'sewri', 'jitra', 'wah', 'courbevoie', 'huntsville', 'hoganas', 'yoshkar-ola', 'sangamner', 'cuenca', 'sha tin', 'ramnicu valcea', 'haifa', 'brest', 'yulin', 'barpeta', 'hoboken', 'east brunswick', 'jakarta selatan', 'parnell', 'port blair', 'osnabrueck', 'tirane', 'paramus', 'dresden', 'licheng', 'ettlingen', 'clifton', 'jharsuguda', 'lausanne', 'tharamani', 'gunzenhausen', 'victoria', 'gibraltar', 'pudong xinqu', 'aurangabad', 'keeranatham', 'sabinov', 'maidstone', 'minsk', 'langeskov', 'uppsala', 'cupertino', 'bankstown', 'hasselt', 'glasgow', 'lodz', 'orland park', 'yong peng', 'leicester', 'vitsyebsk', 'jinhua', 'vnukovo', 'dandenong', 'andheri west', 'gudalur', 'ferraz de vasconcelos', 'virginia beach', 'herzogenaurach', 'tiptur', 'kadugodi', 'wuhan', 'saharanpur', 'busto arsizio', 'taichung', 'university of wollongong', 'frankfurt-fechenheim', 'box (wiltshire)', 'widnes', 'paphos', 'bakhchysarai', 'schiedam', 'partur', 'nawanshahr', 'tomsk', 'drammen', 'toowoomba', 'fuerth', 'guatemala city', 'kalmar', 'tampere', 'bogenhausen', 'lajpat nagar', 'carlsbad springs', 'trappes', 'zagreb', 'salt lake city', 'sacramento', 'kuching', 'ivry-sur-seine', 'jinjiang', 'girona', 'chelsea', 'waterloo', 'irkutsk', 'vaghodia', 'adilabad', 'saint-nizier-du-moucherotte', 'shaoxing', 'orly', 'gudivada', 'southlake', 'viby sjaelland', 'izmit', 'memphis', 'avanashi', 'cabinda', 'hillsborough township', 'harvey', 'laghouat', 'banswara', 'maseru', 'yuhua', 'valbonne', 'ringwood', 'sirsa', 'peenya', 'westlinton', 'bayrut', 'almere stad', 'tel aviv-yafo', 'anantapur', 'bellville', 'zhuhai', 'shizuoka-shi', 'alesund', 'university of rajshahi', 'deoband', 'ipoh', 'hay', 'sirohi', 'kerrville', 'lacchiarella', 'canoga park', 'piaseczno', 'san antonio', 'melrose', 'canton', 'raigarh', 'gawler', 'university of sydney', 'sarlabous', 'beijing', 'ayodhya', 'pohang', 'dodaballapura', 'hangzhou', 'nottingham', 'verona', 'janakpur', 'khon kaen', 'bundang-gu (seongnam)', 'hilversum', 'angra dos reis', 'buji', 'burbank', 'maidenhead', 'chongqing', 'shenyang', 'espoo', 'antwerpen', 'eivissa', 'dhaulpur', 'gurdaspur', 'sriniwaspuri', 'geelong', 'surry hills', 'minhang qu', 'olinda', 'sankt johann (saar)', 'sandviken', 'balikpapan', 'seoni', 'waishazhen', 'saint helier', 'kutahya', 'vigo', 'pinole', 'groningen', 'forde', 'porto', 'geylegphug', 'ladnun', \"arkhangel'sk\", 'wausau', 'fontaine', 'jambi', 'haldia', 'poole', 'gajraula', 'kanchipuram', 'ermoupolis', 'belfast', 'vilnius', 'nirmal', 'chumphon'}\n"
     ]
    }
   ],
   "source": [
    "print('Cities that are in training set but not in test set \\n', cities_train - cities_test)"
   ]
  },
  {
   "cell_type": "code",
   "execution_count": 38,
   "metadata": {
    "collapsed": false
   },
   "outputs": [
    {
     "name": "stdout",
     "output_type": "stream",
     "text": [
      "Cities that are in test set but not in training set \n",
      " {'baltimore', 'asker', 'pitesti', 'merrimack', 'beaverton', \"qiu'aizhen\", 'frankfurt-innenstadt', 'monterrey', 'baki', 'aabenraa', 'sarcelles', 'cagliari', 'merrifield', 'tehri', 'yuzhno-sakhalinsk', 'rewari', 'alor setar', 'jawahar nagar', 'veenendaal', 'matawan', 'frankfurt-griesheim', 'fuzhou', 'llantwit fardre', 'jalgaon', 'paradiso', 'pithoragarh', 'wageningen', 'tranbjerg', 'regina', 'nanaimo', 'pozuelo de alarcon', 'colpalombo', 'phaltan', 'zhengzhou', 'toluca de lerdo', 'saint peter port', 'pantin', 'roxas', 'pleasanton', 'bridgetown', 'irvine', 'krabi', 'midrand', 'quebec city', 'kosice', 'fort huachuca', 'joda', 'tampa', 'gaborone', 'de hoef', 'taiping', 'chelyabinsk', 'guetersloh', '`ajman', 'bloherfelde', 'oakville', 'rostov-na-donu', 'porbandar', 'bath', 'barnaul', 'bridgeton', 'carshalton', 'perris', 'cuxhaven', 'cuddalore', 'perugia', 'angamaly', 'cirebon', 'xiamen', 'panathur', 'belize city', 'son en breugel', 'dhangadhi', 'rajarhat gopalpur', 'harefield', \"tyumen'\", 'zanzibar', 'nashville', 'as sulaymaniyah', 'valencia', 'ad dammam', 'frisco', 'stamford', 'hunedoara', 'woodbridge', 'bristol', 'angers', 'heidelberg', 'nathdwara', 'belgaum', 'hisar', 'asnieres-sur-seine', 'soderhamn', 'targowek', 'port melbourne', 'mascot', 'pereira', 'nawalgarh', 'patti', 'strovolos', 'morogoro', 'howrah', 'como', 'alpharetta', 'dausa', 'larnaca', 'chandrapur', 'nangloi jat', 'dumka', 'mannheim', 'duebendorf', 'hoofddorp', 'hamirpur', 'kajang', 'north wollongong', 'den haag', 'tekirdag', 'orkdal', 'moga', 'chuo-ku (osaka)', 'pathankot', 'gosport', 'bilecik', 'bukit mertajam', 'aliganj', 'viborg', 'menlo park', 'telford', 'shivaji nagar (bengaluru)', 'ningbo', 'central islip', 'celle', 'matola', 'suzhou', 'lonavala', 'tirunelveli', 'ujjain', 'leipzig', 'burnham', 'sandridge', 'kalyani', 'jacksonville', 'sutton courtenay', 'valparaiso', 'schiphol', 'sirsaganj', 'purmerend', 'coatesville', 'sandnes', 'butwal', 'dewas', 'innsbruck', 'la haye', 'beira', 'nanyang', 'kilpauk medical college', 'turku', 'natick', 'marsa', 'debrecen', 'trondheim', 'nalgonda', \"astrakhan'\", 'dharan', 'santa barbara', 'vaxjo', 'santa venera', 'paterson', 'bentonville', 'havant', 'orpington', 'maryville', 'basking ridge', 'jalna', 'bayreuth', 'kidlington', 'lowell', 'windsor', 'mount gilead', 'mandvi', 'fitchburg', 'karlsruhe', 'indi', 'bryan', 'goma', 'itabashi-ku', 'anand', 'versailles', 'pattani', 'matsuyama', 'lome', 'aubervilliers', 'nacka', 'a coruna', 'kayamkulam', 'pekanbaru', 'nepalganj', 'manas', 'ris-orangis', 'marietta', 'kulim', 'columbus', 'schagen', 'carrick-on-shannon', 'shijiazhuang', 'glovertown', 'dhar', 'mataram', 'heerhugowaard', 'changsha', 'borehamwood', 'oxford', 'kalaiya', 'macquarie pass', 'secaucus', 'ohrid', 'chembur', 'trollhattan', 'qingdao', 'simferopol', 'adityapur', 'elmhurst', 'fier', 'luton', 'brescia', 'muonio', 'alger', 'sunshine coast', 'hightstown', 'amersfoort', 'omaha', 'benton harbor', 'unionville', 'alappuzha', 'courtice', 'jakobsberg', 'sunbury', 'maebashi', 'san pedro', 'carnaxide', 'bronx', 'richmond town', 'gdynia', 'calgary', 'caracas', 'bogota', 'moradabad', 'jozefow', 'zhangzhou', 'dobrich', 'sint-truiden', 'salcedo', 'moti bagh', 'bondy', 'venlo', 'kurnool', 'sidhi', 'marina del rey', 'saint louis', 'glostrup', 'bariarpur', 'lima', 'rosario', 'irbil', 'kokshetau', 'sampaloc', 'ijmuiden', 'aberdeen', 'melaka', 'goulburn', 'koeln', 'fribourg', 'durg', 'kannapolis', 'palermo', 'burton upon trent', 'coniston'}\n"
     ]
    }
   ],
   "source": [
    "print('Cities that are in test set but not in training set \\n', cities_test - cities_train)"
   ]
  },
  {
   "cell_type": "code",
   "execution_count": 39,
   "metadata": {
    "collapsed": true
   },
   "outputs": [],
   "source": [
    "# cities involved in training set\n",
    "genres_train = set([])\n",
    "genres_test  = set([])\n",
    "\n",
    "def add_to_train_set(genres):\n",
    "    for genre in genres.split(','):\n",
    "        genres_train.add(genre)\n",
    "\n",
    "def add_to_test_set(genres):\n",
    "    for genre in genres.split(','):\n",
    "        genres_test.add(genre)\n",
    "\n",
    "data.loc[train_mask, 'genres'].str.replace('[:](\\d+)', '')\\\n",
    "    .map(add_to_train_set)\n",
    "    \n",
    "data.loc[~train_mask, 'genres'].str.replace('[:](\\d+)', '')\\\n",
    "    .map(add_to_test_set);"
   ]
  },
  {
   "cell_type": "code",
   "execution_count": 44,
   "metadata": {
    "collapsed": false
   },
   "outputs": [
    {
     "name": "stdout",
     "output_type": "stream",
     "text": [
      "Genres that are in training but not in test  set()\n"
     ]
    }
   ],
   "source": [
    "print('Genres that are in training but not in test ', genres_train - genres_test)"
   ]
  },
  {
   "cell_type": "code",
   "execution_count": 45,
   "metadata": {
    "collapsed": false
   },
   "outputs": [
    {
     "name": "stdout",
     "output_type": "stream",
     "text": [
      "Genres that are in the test set but not in training set  set()\n"
     ]
    }
   ],
   "source": [
    "print('Genres that are in the test set but not in training set ', genres_test - genres_train)"
   ]
  },
  {
   "cell_type": "markdown",
   "metadata": {},
   "source": [
    "** Feature Engineering **\n",
    "\n",
    "1. Number of cities\n",
    "2. Number of genres\n",
    "3. Number of titles"
   ]
  },
  {
   "cell_type": "code",
   "execution_count": 17,
   "metadata": {
    "collapsed": false
   },
   "outputs": [],
   "source": [
    "data['num_cities'] = data.cities.str.replace('[:](\\d+)', '').map(lambda x: len(x.split(',')))\n",
    "data['num_genres'] = data.genres.str.replace('[:](\\d+)', '').map(lambda x: len(x.split(',')))\n",
    "data['num_titles'] = data.titles.str.replace('[:](\\d+)', '').map(lambda x: len(x.split(',')))\n",
    "data['num_tod']    = data.tod.str.replace('[:](\\d+)', '').map(lambda x: len(x.split(',')))\n",
    "data['num_dow']    = data.dow.str.replace('[:](\\d+)', '').map(lambda x: len(x.split(',')))"
   ]
  },
  {
   "cell_type": "code",
   "execution_count": 11,
   "metadata": {
    "collapsed": false
   },
   "outputs": [
    {
     "data": {
      "image/png": "[encoded data removed]",
      "text/plain": [
       "<matplotlib.figure.Figure at 0x7f4d01c4a780>"
      ]
     },
     "metadata": {},
     "output_type": "display_data"
    }
   ],
   "source": [
    "ss = pd.crosstab(data.loc[train_mask, 'num_cities'], data.loc[train_mask, 'segment'])\n",
    "sns.heatmap(ss);"
   ]
  },
  {
   "cell_type": "code",
   "execution_count": 12,
   "metadata": {
    "collapsed": false
   },
   "outputs": [
    {
     "data": {
      "image/png": "[encoded data removed]",
      "text/plain": [
       "<matplotlib.figure.Figure at 0x7f4d01b45358>"
      ]
     },
     "metadata": {},
     "output_type": "display_data"
    }
   ],
   "source": [
    "ss = pd.crosstab(data.loc[train_mask, 'num_genres'], data.loc[train_mask, 'segment'])\n",
    "sns.heatmap(ss);"
   ]
  },
  {
   "cell_type": "code",
   "execution_count": 13,
   "metadata": {
    "collapsed": false
   },
   "outputs": [
    {
     "data": {
      "image/png": "[encoded data removed]",
      "text/plain": [
       "<matplotlib.figure.Figure at 0x7f4d01a2b438>"
      ]
     },
     "metadata": {},
     "output_type": "display_data"
    }
   ],
   "source": [
    "ss = pd.crosstab(data.loc[train_mask, 'num_titles'], data.loc[train_mask, 'segment'])\n",
    "sns.heatmap(ss);"
   ]
  },
  {
   "cell_type": "code",
   "execution_count": 18,
   "metadata": {
    "collapsed": false
   },
   "outputs": [
    {
     "data": {
      "image/png": "[encoded data removed]",
      "text/plain": [
       "<matplotlib.figure.Figure at 0x7f4cfd311518>"
      ]
     },
     "metadata": {},
     "output_type": "display_data"
    }
   ],
   "source": [
    "ss = pd.crosstab(data.loc[train_mask, 'num_tod'], data.loc[train_mask, 'segment'])\n",
    "sns.heatmap(ss);"
   ]
  },
  {
   "cell_type": "code",
   "execution_count": 19,
   "metadata": {
    "collapsed": false
   },
   "outputs": [
    {
     "data": {
      "image/png": "[encoded data removed]",
      "text/plain": [
       "<matplotlib.figure.Figure at 0x7f4cfbdb8978>"
      ]
     },
     "metadata": {},
     "output_type": "display_data"
    }
   ],
   "source": [
    "ss = pd.crosstab(data.loc[train_mask, 'num_dow'], data.loc[train_mask, 'segment'])\n",
    "sns.heatmap(ss);"
   ]
  },
  {
   "cell_type": "code",
   "execution_count": 35,
   "metadata": {
    "collapsed": true
   },
   "outputs": [],
   "source": [
    "ids = data.loc[train_mask, 'ID'].map(lambda x: x.split('-')[1]).astype(np.int)"
   ]
  },
  {
   "cell_type": "code",
   "execution_count": 40,
   "metadata": {
    "collapsed": false
   },
   "outputs": [
    {
     "data": {
      "image/png": "[encoded data removed]",
      "text/plain": [
       "<matplotlib.figure.Figure at 0x7f4ce49487b8>"
      ]
     },
     "metadata": {},
     "output_type": "display_data"
    }
   ],
   "source": [
    "sns.distplot(ids[train_mask & (data.segment == 0)]);"
   ]
  },
  {
   "cell_type": "code",
   "execution_count": 41,
   "metadata": {
    "collapsed": false
   },
   "outputs": [
    {
     "data": {
      "image/png": "[encoded data removed]",
      "text/plain": [
       "<matplotlib.figure.Figure at 0x7f4ce8338e48>"
      ]
     },
     "metadata": {},
     "output_type": "display_data"
    }
   ],
   "source": [
    "sns.distplot(ids[train_mask & (data.segment == 1)]);"
   ]
  },
  {
   "cell_type": "markdown",
   "metadata": {},
   "source": [
    "** Relationship of segment with title **"
   ]
  },
  {
   "cell_type": "code",
   "execution_count": 47,
   "metadata": {
    "collapsed": false
   },
   "outputs": [],
   "source": [
    "out_segment_titles = defaultdict(int)\n",
    "in_segment_titles  = defaultdict(int)\n",
    "\n",
    "def count_out_samples(ts):\n",
    "    titles = ts.split(',')\n",
    "    \n",
    "    for title in titles:\n",
    "        out_segment_titles[title] += 1\n",
    "\n",
    "def count_in_samples(ts):\n",
    "    titles = ts.split(',')\n",
    "    \n",
    "    for title in titles:\n",
    "        in_segment_titles[title] += 1\n",
    "        \n",
    "data.loc[train_mask & (data.segment == 0), 'titles'].str.replace('[:](\\d+)', '').map(count_out_samples)\n",
    "data.loc[train_mask & (data.segment == 1), 'titles'].str.replace('[:](\\d+)', '').map(count_in_samples);"
   ]
  },
  {
   "cell_type": "code",
   "execution_count": 61,
   "metadata": {
    "collapsed": false
   },
   "outputs": [],
   "source": [
    "in_segment_df  = pd.DataFrame.from_dict(in_segment_titles, orient='index')\n",
    "out_segment_df = pd.DataFrame.from_dict(out_segment_titles, orient='index')"
   ]
  },
  {
   "cell_type": "code",
   "execution_count": 62,
   "metadata": {
    "collapsed": false
   },
   "outputs": [],
   "source": [
    "merge_title_segments = in_segment_df.merge(out_segment_df, \n",
    "                                           left_index=True, \n",
    "                                           right_index=True,\n",
    "                                           how='left'\n",
    "                                          ).rename(columns={\n",
    "    '0_x': 'insegment_count',\n",
    "    '0_y': 'outsegment_count'\n",
    "})"
   ]
  },
  {
   "cell_type": "code",
   "execution_count": 66,
   "metadata": {
    "collapsed": false
   },
   "outputs": [],
   "source": [
    "ss = merge_title_segments.sort_values(by='outsegment_count', ascending=False)\n",
    "ss['ratio'] = ss['insegment_count'] / (ss['insegment_count'] + ss['outsegment_count'])"
   ]
  },
  {
   "cell_type": "code",
   "execution_count": 71,
   "metadata": {
    "collapsed": false
   },
   "outputs": [],
   "source": [
    "ss.sort_values(by=['outsegment_count', 'ratio'], ascending=False)\\\n",
    "  .reset_index()\\\n",
    "  .to_csv('../data/interim/title_segment_relationship.csv')"
   ]
  },
  {
   "cell_type": "markdown",
   "metadata": {},
   "source": [
    "** Relationship of genres with segments **"
   ]
  },
  {
   "cell_type": "code",
   "execution_count": 72,
   "metadata": {
    "collapsed": true
   },
   "outputs": [],
   "source": [
    "out_segment_genres = defaultdict(int)\n",
    "in_segment_genres  = defaultdict(int)\n",
    "\n",
    "def count_out_samples(gs):\n",
    "    genres = gs.split(',')\n",
    "    \n",
    "    for genre in genres:\n",
    "        out_segment_genres[genre] += 1\n",
    "\n",
    "def count_in_samples(gs):\n",
    "    genres = gs.split(',')\n",
    "    \n",
    "    for genre in genres:\n",
    "        in_segment_genres[genre] += 1\n",
    "        \n",
    "data.loc[train_mask & (data.segment == 0), 'genres'].str.replace('[:](\\d+)', '').map(count_out_samples)\n",
    "data.loc[train_mask & (data.segment == 1), 'genres'].str.replace('[:](\\d+)', '').map(count_in_samples);"
   ]
  },
  {
   "cell_type": "code",
   "execution_count": 73,
   "metadata": {
    "collapsed": true
   },
   "outputs": [],
   "source": [
    "in_segment_df  = pd.DataFrame.from_dict(in_segment_genres, orient='index')\n",
    "out_segment_df = pd.DataFrame.from_dict(out_segment_genres, orient='index')"
   ]
  },
  {
   "cell_type": "code",
   "execution_count": 74,
   "metadata": {
    "collapsed": true
   },
   "outputs": [],
   "source": [
    "merge_genres_segments = in_segment_df.merge(out_segment_df, \n",
    "                                           left_index=True, \n",
    "                                           right_index=True,\n",
    "                                           how='left'\n",
    "                                          ).rename(columns={\n",
    "    '0_x': 'insegment_count',\n",
    "    '0_y': 'outsegment_count'\n",
    "})"
   ]
  },
  {
   "cell_type": "code",
   "execution_count": 76,
   "metadata": {
    "collapsed": false
   },
   "outputs": [],
   "source": [
    "ss = merge_genres_segments.sort_values(by='outsegment_count', ascending=False)\n",
    "ss['ratio'] = ss['insegment_count'] / (ss['insegment_count'] + ss['outsegment_count'])"
   ]
  },
  {
   "cell_type": "code",
   "execution_count": 77,
   "metadata": {
    "collapsed": true
   },
   "outputs": [],
   "source": [
    "ss.reset_index()\\\n",
    "  .to_csv('../data/interim/genres_segment_relationship.csv', index=False)"
   ]
  },
  {
   "cell_type": "markdown",
   "metadata": {},
   "source": [
    "** Number of seconds watched **"
   ]
  },
  {
   "cell_type": "code",
   "execution_count": 59,
   "metadata": {
    "collapsed": false
   },
   "outputs": [],
   "source": [
    "data['watch_time_sec'] = data.genres\\\n",
    "                             .str\\\n",
    "                             .replace('.+[:]', '')\\\n",
    "                             .map(lambda x: np.sum([int(z) for z in x.split(',')]))"
   ]
  },
  {
   "cell_type": "code",
   "execution_count": 62,
   "metadata": {
    "collapsed": false
   },
   "outputs": [
    {
     "data": {
      "image/png": "[encoded data removed]",
      "text/plain": [
       "<matplotlib.figure.Figure at 0x7f6ab5251e10>"
      ]
     },
     "metadata": {},
     "output_type": "display_data"
    }
   ],
   "source": [
    "sns.distplot(data.loc[data.segment == 0, 'watch_time_sec'].map(np.log1p), label='Not Interested')\n",
    "sns.distplot(data.loc[data.segment == 1, 'watch_time_sec'].map(np.log1p), label='Interested')\n",
    "plt.legend(loc='best');"
   ]
  },
  {
   "cell_type": "code",
   "execution_count": 63,
   "metadata": {
    "collapsed": true
   },
   "outputs": [],
   "source": [
    "data['watch_time_sec_cities'] = data.cities\\\n",
    "                                 .str\\\n",
    "                                 .replace('.+[:]', '')\\\n",
    "                                 .map(lambda x: np.sum([int(z) for z in x.split(',')]))"
   ]
  },
  {
   "cell_type": "code",
   "execution_count": 64,
   "metadata": {
    "collapsed": false
   },
   "outputs": [
    {
     "data": {
      "image/png": "[encoded data removed]",
      "text/plain": [
       "<matplotlib.figure.Figure at 0x7f6ab4fe5ba8>"
      ]
     },
     "metadata": {},
     "output_type": "display_data"
    }
   ],
   "source": [
    "sns.distplot(data.loc[data.segment == 0, 'watch_time_sec_cities'].map(np.log1p), label='Not Interested')\n",
    "sns.distplot(data.loc[data.segment == 1, 'watch_time_sec_cities'].map(np.log1p), label='Interested')\n",
    "plt.legend(loc='best');"
   ]
  },
  {
   "cell_type": "code",
   "execution_count": 66,
   "metadata": {
    "collapsed": false
   },
   "outputs": [],
   "source": [
    "data['watch_time_sec_titles'] = data.titles\\\n",
    "                                 .str\\\n",
    "                                 .replace('.+[:]', '')\\\n",
    "                                 .map(lambda x: np.sum([int(z) for z in x.split(',') if len(z) > 0]))"
   ]
  },
  {
   "cell_type": "code",
   "execution_count": 67,
   "metadata": {
    "collapsed": false
   },
   "outputs": [
    {
     "data": {
      "image/png": "[encoded data removed]",
      "text/plain": [
       "<matplotlib.figure.Figure at 0x7f6aec0e8320>"
      ]
     },
     "metadata": {},
     "output_type": "display_data"
    }
   ],
   "source": [
    "sns.distplot(data.loc[data.segment == 0, 'watch_time_sec_titles'].map(np.log1p), label='Not Interested')\n",
    "sns.distplot(data.loc[data.segment == 1, 'watch_time_sec_titles'].map(np.log1p), label='Interested')\n",
    "plt.legend(loc='best');"
   ]
  },
  {
   "cell_type": "markdown",
   "metadata": {},
   "source": [
    "** Watch Patterns by Day of the week **"
   ]
  },
  {
   "cell_type": "code",
   "execution_count": 8,
   "metadata": {
    "collapsed": false
   },
   "outputs": [],
   "source": [
    "dow_dict_train = data.loc[train_mask, 'dow'].map(lambda x: x.split(','))\\\n",
    "                     .map(lambda x: dict((k.strip(), int(v.strip())) for k,v in \n",
    "                                          (item.split(':') for item in x)))\n",
    "\n",
    "dow_dict_test  = data.loc[~train_mask, 'dow'].map(lambda x: x.split(','))\\\n",
    "                     .map(lambda x: dict((k.strip(), int(v.strip())) for k,v in \n",
    "                                          (item.split(':') for item in x)))\n",
    "    \n",
    "dv    = DictVectorizer(sparse=False)\n",
    "X     = dv.fit_transform(dow_dict_train)\n",
    "Xtest = dv.transform(dow_dict_test)\n",
    "\n",
    "y     = data.loc[train_mask, 'segment']"
   ]
  },
  {
   "cell_type": "code",
   "execution_count": 12,
   "metadata": {
    "collapsed": false
   },
   "outputs": [
    {
     "data": {
      "text/plain": [
       "68"
      ]
     },
     "execution_count": 12,
     "metadata": {},
     "output_type": "execute_result"
    }
   ],
   "source": [
    "X     = pd.DataFrame(X, columns=np.arange(1, 8))\n",
    "Xtest = pd.DataFrame(Xtest, columns=np.arange(1, 8))\n",
    "\n",
    "X     = pd.concat((X, y), axis='columns')\n",
    "del y\n",
    "gc.collect()"
   ]
  },
  {
   "cell_type": "code",
   "execution_count": 28,
   "metadata": {
    "collapsed": false
   },
   "outputs": [],
   "source": [
    "X['num_days_watched'] = X[[1, 2, 3, 4, 5, 6, 7]].apply(lambda x: np.sum(x > 0), axis='columns')"
   ]
  },
  {
   "cell_type": "code",
   "execution_count": 29,
   "metadata": {
    "collapsed": false
   },
   "outputs": [
    {
     "data": {
      "text/html": [
       "<div>\n",
       "<table border=\"1\" class=\"dataframe\">\n",
       "  <thead>\n",
       "    <tr style=\"text-align: right;\">\n",
       "      <th></th>\n",
       "      <th>1</th>\n",
       "      <th>2</th>\n",
       "      <th>3</th>\n",
       "      <th>4</th>\n",
       "      <th>5</th>\n",
       "      <th>6</th>\n",
       "      <th>7</th>\n",
       "      <th>segment</th>\n",
       "      <th>num_days_watched</th>\n",
       "    </tr>\n",
       "  </thead>\n",
       "  <tbody>\n",
       "    <tr>\n",
       "      <th>0</th>\n",
       "      <td>3412.0</td>\n",
       "      <td>1737.0</td>\n",
       "      <td>15878.0</td>\n",
       "      <td>20974.0</td>\n",
       "      <td>10975.0</td>\n",
       "      <td>16580.0</td>\n",
       "      <td>17820.0</td>\n",
       "      <td>0.0</td>\n",
       "      <td>7</td>\n",
       "    </tr>\n",
       "    <tr>\n",
       "      <th>1</th>\n",
       "      <td>5745.0</td>\n",
       "      <td>3346.0</td>\n",
       "      <td>3025.0</td>\n",
       "      <td>3007.0</td>\n",
       "      <td>123.0</td>\n",
       "      <td>10.0</td>\n",
       "      <td>1108.0</td>\n",
       "      <td>0.0</td>\n",
       "      <td>7</td>\n",
       "    </tr>\n",
       "    <tr>\n",
       "      <th>2</th>\n",
       "      <td>0.0</td>\n",
       "      <td>0.0</td>\n",
       "      <td>4142.0</td>\n",
       "      <td>0.0</td>\n",
       "      <td>0.0</td>\n",
       "      <td>0.0</td>\n",
       "      <td>0.0</td>\n",
       "      <td>0.0</td>\n",
       "      <td>1</td>\n",
       "    </tr>\n",
       "    <tr>\n",
       "      <th>3</th>\n",
       "      <td>658.0</td>\n",
       "      <td>0.0</td>\n",
       "      <td>5867.0</td>\n",
       "      <td>1339.0</td>\n",
       "      <td>413.0</td>\n",
       "      <td>0.0</td>\n",
       "      <td>71.0</td>\n",
       "      <td>0.0</td>\n",
       "      <td>5</td>\n",
       "    </tr>\n",
       "    <tr>\n",
       "      <th>4</th>\n",
       "      <td>1641.0</td>\n",
       "      <td>480.0</td>\n",
       "      <td>0.0</td>\n",
       "      <td>1445.0</td>\n",
       "      <td>0.0</td>\n",
       "      <td>4900.0</td>\n",
       "      <td>1663.0</td>\n",
       "      <td>0.0</td>\n",
       "      <td>5</td>\n",
       "    </tr>\n",
       "    <tr>\n",
       "      <th>5</th>\n",
       "      <td>6707.0</td>\n",
       "      <td>3574.0</td>\n",
       "      <td>1948.0</td>\n",
       "      <td>18938.0</td>\n",
       "      <td>8525.0</td>\n",
       "      <td>7344.0</td>\n",
       "      <td>8295.0</td>\n",
       "      <td>0.0</td>\n",
       "      <td>7</td>\n",
       "    </tr>\n",
       "    <tr>\n",
       "      <th>6</th>\n",
       "      <td>1575.0</td>\n",
       "      <td>1242.0</td>\n",
       "      <td>5330.0</td>\n",
       "      <td>2007.0</td>\n",
       "      <td>0.0</td>\n",
       "      <td>0.0</td>\n",
       "      <td>0.0</td>\n",
       "      <td>0.0</td>\n",
       "      <td>4</td>\n",
       "    </tr>\n",
       "    <tr>\n",
       "      <th>7</th>\n",
       "      <td>333.0</td>\n",
       "      <td>2233.0</td>\n",
       "      <td>0.0</td>\n",
       "      <td>268.0</td>\n",
       "      <td>739.0</td>\n",
       "      <td>0.0</td>\n",
       "      <td>10727.0</td>\n",
       "      <td>0.0</td>\n",
       "      <td>5</td>\n",
       "    </tr>\n",
       "    <tr>\n",
       "      <th>8</th>\n",
       "      <td>0.0</td>\n",
       "      <td>34.0</td>\n",
       "      <td>0.0</td>\n",
       "      <td>0.0</td>\n",
       "      <td>1074.0</td>\n",
       "      <td>0.0</td>\n",
       "      <td>210.0</td>\n",
       "      <td>0.0</td>\n",
       "      <td>3</td>\n",
       "    </tr>\n",
       "    <tr>\n",
       "      <th>9</th>\n",
       "      <td>0.0</td>\n",
       "      <td>0.0</td>\n",
       "      <td>0.0</td>\n",
       "      <td>14292.0</td>\n",
       "      <td>14.0</td>\n",
       "      <td>0.0</td>\n",
       "      <td>1201.0</td>\n",
       "      <td>0.0</td>\n",
       "      <td>3</td>\n",
       "    </tr>\n",
       "    <tr>\n",
       "      <th>10</th>\n",
       "      <td>0.0</td>\n",
       "      <td>0.0</td>\n",
       "      <td>0.0</td>\n",
       "      <td>0.0</td>\n",
       "      <td>0.0</td>\n",
       "      <td>0.0</td>\n",
       "      <td>5597.0</td>\n",
       "      <td>0.0</td>\n",
       "      <td>1</td>\n",
       "    </tr>\n",
       "    <tr>\n",
       "      <th>11</th>\n",
       "      <td>0.0</td>\n",
       "      <td>21.0</td>\n",
       "      <td>0.0</td>\n",
       "      <td>0.0</td>\n",
       "      <td>0.0</td>\n",
       "      <td>0.0</td>\n",
       "      <td>0.0</td>\n",
       "      <td>0.0</td>\n",
       "      <td>1</td>\n",
       "    </tr>\n",
       "    <tr>\n",
       "      <th>12</th>\n",
       "      <td>27096.0</td>\n",
       "      <td>19751.0</td>\n",
       "      <td>29521.0</td>\n",
       "      <td>14633.0</td>\n",
       "      <td>32613.0</td>\n",
       "      <td>19149.0</td>\n",
       "      <td>20.0</td>\n",
       "      <td>1.0</td>\n",
       "      <td>7</td>\n",
       "    </tr>\n",
       "    <tr>\n",
       "      <th>13</th>\n",
       "      <td>0.0</td>\n",
       "      <td>3999.0</td>\n",
       "      <td>187.0</td>\n",
       "      <td>0.0</td>\n",
       "      <td>0.0</td>\n",
       "      <td>0.0</td>\n",
       "      <td>5242.0</td>\n",
       "      <td>0.0</td>\n",
       "      <td>3</td>\n",
       "    </tr>\n",
       "    <tr>\n",
       "      <th>14</th>\n",
       "      <td>0.0</td>\n",
       "      <td>0.0</td>\n",
       "      <td>53.0</td>\n",
       "      <td>0.0</td>\n",
       "      <td>0.0</td>\n",
       "      <td>0.0</td>\n",
       "      <td>0.0</td>\n",
       "      <td>0.0</td>\n",
       "      <td>1</td>\n",
       "    </tr>\n",
       "    <tr>\n",
       "      <th>15</th>\n",
       "      <td>3582.0</td>\n",
       "      <td>363.0</td>\n",
       "      <td>78.0</td>\n",
       "      <td>0.0</td>\n",
       "      <td>0.0</td>\n",
       "      <td>0.0</td>\n",
       "      <td>74.0</td>\n",
       "      <td>0.0</td>\n",
       "      <td>4</td>\n",
       "    </tr>\n",
       "    <tr>\n",
       "      <th>16</th>\n",
       "      <td>971.0</td>\n",
       "      <td>905.0</td>\n",
       "      <td>448.0</td>\n",
       "      <td>1159.0</td>\n",
       "      <td>1109.0</td>\n",
       "      <td>312.0</td>\n",
       "      <td>25.0</td>\n",
       "      <td>0.0</td>\n",
       "      <td>7</td>\n",
       "    </tr>\n",
       "    <tr>\n",
       "      <th>17</th>\n",
       "      <td>0.0</td>\n",
       "      <td>20.0</td>\n",
       "      <td>0.0</td>\n",
       "      <td>0.0</td>\n",
       "      <td>0.0</td>\n",
       "      <td>0.0</td>\n",
       "      <td>0.0</td>\n",
       "      <td>0.0</td>\n",
       "      <td>1</td>\n",
       "    </tr>\n",
       "    <tr>\n",
       "      <th>18</th>\n",
       "      <td>775.0</td>\n",
       "      <td>4313.0</td>\n",
       "      <td>5408.0</td>\n",
       "      <td>10619.0</td>\n",
       "      <td>7915.0</td>\n",
       "      <td>1825.0</td>\n",
       "      <td>3528.0</td>\n",
       "      <td>0.0</td>\n",
       "      <td>7</td>\n",
       "    </tr>\n",
       "    <tr>\n",
       "      <th>19</th>\n",
       "      <td>20295.0</td>\n",
       "      <td>4055.0</td>\n",
       "      <td>144.0</td>\n",
       "      <td>0.0</td>\n",
       "      <td>1359.0</td>\n",
       "      <td>0.0</td>\n",
       "      <td>1629.0</td>\n",
       "      <td>0.0</td>\n",
       "      <td>5</td>\n",
       "    </tr>\n",
       "    <tr>\n",
       "      <th>20</th>\n",
       "      <td>3187.0</td>\n",
       "      <td>3711.0</td>\n",
       "      <td>1294.0</td>\n",
       "      <td>2119.0</td>\n",
       "      <td>6913.0</td>\n",
       "      <td>1096.0</td>\n",
       "      <td>0.0</td>\n",
       "      <td>0.0</td>\n",
       "      <td>6</td>\n",
       "    </tr>\n",
       "    <tr>\n",
       "      <th>21</th>\n",
       "      <td>32082.0</td>\n",
       "      <td>26096.0</td>\n",
       "      <td>4034.0</td>\n",
       "      <td>5976.0</td>\n",
       "      <td>1738.0</td>\n",
       "      <td>4891.0</td>\n",
       "      <td>3639.0</td>\n",
       "      <td>0.0</td>\n",
       "      <td>7</td>\n",
       "    </tr>\n",
       "    <tr>\n",
       "      <th>22</th>\n",
       "      <td>285.0</td>\n",
       "      <td>0.0</td>\n",
       "      <td>0.0</td>\n",
       "      <td>710.0</td>\n",
       "      <td>0.0</td>\n",
       "      <td>0.0</td>\n",
       "      <td>192.0</td>\n",
       "      <td>0.0</td>\n",
       "      <td>3</td>\n",
       "    </tr>\n",
       "    <tr>\n",
       "      <th>23</th>\n",
       "      <td>0.0</td>\n",
       "      <td>0.0</td>\n",
       "      <td>0.0</td>\n",
       "      <td>689.0</td>\n",
       "      <td>2054.0</td>\n",
       "      <td>0.0</td>\n",
       "      <td>0.0</td>\n",
       "      <td>0.0</td>\n",
       "      <td>2</td>\n",
       "    </tr>\n",
       "    <tr>\n",
       "      <th>24</th>\n",
       "      <td>0.0</td>\n",
       "      <td>28.0</td>\n",
       "      <td>0.0</td>\n",
       "      <td>0.0</td>\n",
       "      <td>0.0</td>\n",
       "      <td>0.0</td>\n",
       "      <td>0.0</td>\n",
       "      <td>0.0</td>\n",
       "      <td>1</td>\n",
       "    </tr>\n",
       "    <tr>\n",
       "      <th>25</th>\n",
       "      <td>4101.0</td>\n",
       "      <td>0.0</td>\n",
       "      <td>0.0</td>\n",
       "      <td>0.0</td>\n",
       "      <td>0.0</td>\n",
       "      <td>495.0</td>\n",
       "      <td>6022.0</td>\n",
       "      <td>0.0</td>\n",
       "      <td>3</td>\n",
       "    </tr>\n",
       "    <tr>\n",
       "      <th>26</th>\n",
       "      <td>2.0</td>\n",
       "      <td>0.0</td>\n",
       "      <td>0.0</td>\n",
       "      <td>0.0</td>\n",
       "      <td>0.0</td>\n",
       "      <td>0.0</td>\n",
       "      <td>3261.0</td>\n",
       "      <td>0.0</td>\n",
       "      <td>2</td>\n",
       "    </tr>\n",
       "    <tr>\n",
       "      <th>27</th>\n",
       "      <td>2456.0</td>\n",
       "      <td>7700.0</td>\n",
       "      <td>3289.0</td>\n",
       "      <td>11843.0</td>\n",
       "      <td>8436.0</td>\n",
       "      <td>4259.0</td>\n",
       "      <td>13631.0</td>\n",
       "      <td>0.0</td>\n",
       "      <td>7</td>\n",
       "    </tr>\n",
       "    <tr>\n",
       "      <th>28</th>\n",
       "      <td>0.0</td>\n",
       "      <td>0.0</td>\n",
       "      <td>0.0</td>\n",
       "      <td>3902.0</td>\n",
       "      <td>0.0</td>\n",
       "      <td>0.0</td>\n",
       "      <td>0.0</td>\n",
       "      <td>1.0</td>\n",
       "      <td>1</td>\n",
       "    </tr>\n",
       "    <tr>\n",
       "      <th>29</th>\n",
       "      <td>0.0</td>\n",
       "      <td>0.0</td>\n",
       "      <td>0.0</td>\n",
       "      <td>0.0</td>\n",
       "      <td>0.0</td>\n",
       "      <td>641.0</td>\n",
       "      <td>0.0</td>\n",
       "      <td>0.0</td>\n",
       "      <td>1</td>\n",
       "    </tr>\n",
       "    <tr>\n",
       "      <th>...</th>\n",
       "      <td>...</td>\n",
       "      <td>...</td>\n",
       "      <td>...</td>\n",
       "      <td>...</td>\n",
       "      <td>...</td>\n",
       "      <td>...</td>\n",
       "      <td>...</td>\n",
       "      <td>...</td>\n",
       "      <td>...</td>\n",
       "    </tr>\n",
       "    <tr>\n",
       "      <th>199970</th>\n",
       "      <td>1.0</td>\n",
       "      <td>0.0</td>\n",
       "      <td>0.0</td>\n",
       "      <td>0.0</td>\n",
       "      <td>0.0</td>\n",
       "      <td>0.0</td>\n",
       "      <td>0.0</td>\n",
       "      <td>0.0</td>\n",
       "      <td>1</td>\n",
       "    </tr>\n",
       "    <tr>\n",
       "      <th>199971</th>\n",
       "      <td>0.0</td>\n",
       "      <td>0.0</td>\n",
       "      <td>0.0</td>\n",
       "      <td>8602.0</td>\n",
       "      <td>0.0</td>\n",
       "      <td>0.0</td>\n",
       "      <td>4992.0</td>\n",
       "      <td>0.0</td>\n",
       "      <td>2</td>\n",
       "    </tr>\n",
       "    <tr>\n",
       "      <th>199972</th>\n",
       "      <td>2066.0</td>\n",
       "      <td>359.0</td>\n",
       "      <td>2226.0</td>\n",
       "      <td>4127.0</td>\n",
       "      <td>621.0</td>\n",
       "      <td>9.0</td>\n",
       "      <td>10023.0</td>\n",
       "      <td>0.0</td>\n",
       "      <td>7</td>\n",
       "    </tr>\n",
       "    <tr>\n",
       "      <th>199973</th>\n",
       "      <td>0.0</td>\n",
       "      <td>74.0</td>\n",
       "      <td>2435.0</td>\n",
       "      <td>838.0</td>\n",
       "      <td>1685.0</td>\n",
       "      <td>195.0</td>\n",
       "      <td>0.0</td>\n",
       "      <td>0.0</td>\n",
       "      <td>5</td>\n",
       "    </tr>\n",
       "    <tr>\n",
       "      <th>199974</th>\n",
       "      <td>2366.0</td>\n",
       "      <td>4687.0</td>\n",
       "      <td>208.0</td>\n",
       "      <td>7977.0</td>\n",
       "      <td>148.0</td>\n",
       "      <td>67.0</td>\n",
       "      <td>6109.0</td>\n",
       "      <td>0.0</td>\n",
       "      <td>7</td>\n",
       "    </tr>\n",
       "    <tr>\n",
       "      <th>199975</th>\n",
       "      <td>17069.0</td>\n",
       "      <td>20497.0</td>\n",
       "      <td>28708.0</td>\n",
       "      <td>49813.0</td>\n",
       "      <td>65992.0</td>\n",
       "      <td>28012.0</td>\n",
       "      <td>10495.0</td>\n",
       "      <td>0.0</td>\n",
       "      <td>7</td>\n",
       "    </tr>\n",
       "    <tr>\n",
       "      <th>199976</th>\n",
       "      <td>0.0</td>\n",
       "      <td>0.0</td>\n",
       "      <td>0.0</td>\n",
       "      <td>0.0</td>\n",
       "      <td>1290.0</td>\n",
       "      <td>19.0</td>\n",
       "      <td>0.0</td>\n",
       "      <td>0.0</td>\n",
       "      <td>2</td>\n",
       "    </tr>\n",
       "    <tr>\n",
       "      <th>199977</th>\n",
       "      <td>0.0</td>\n",
       "      <td>0.0</td>\n",
       "      <td>17.0</td>\n",
       "      <td>0.0</td>\n",
       "      <td>0.0</td>\n",
       "      <td>0.0</td>\n",
       "      <td>1067.0</td>\n",
       "      <td>0.0</td>\n",
       "      <td>2</td>\n",
       "    </tr>\n",
       "    <tr>\n",
       "      <th>199978</th>\n",
       "      <td>0.0</td>\n",
       "      <td>0.0</td>\n",
       "      <td>0.0</td>\n",
       "      <td>0.0</td>\n",
       "      <td>0.0</td>\n",
       "      <td>107.0</td>\n",
       "      <td>0.0</td>\n",
       "      <td>0.0</td>\n",
       "      <td>1</td>\n",
       "    </tr>\n",
       "    <tr>\n",
       "      <th>199979</th>\n",
       "      <td>13014.0</td>\n",
       "      <td>9425.0</td>\n",
       "      <td>2876.0</td>\n",
       "      <td>14697.0</td>\n",
       "      <td>10474.0</td>\n",
       "      <td>8396.0</td>\n",
       "      <td>7971.0</td>\n",
       "      <td>1.0</td>\n",
       "      <td>7</td>\n",
       "    </tr>\n",
       "    <tr>\n",
       "      <th>199980</th>\n",
       "      <td>1866.0</td>\n",
       "      <td>295.0</td>\n",
       "      <td>2161.0</td>\n",
       "      <td>5213.0</td>\n",
       "      <td>3931.0</td>\n",
       "      <td>5831.0</td>\n",
       "      <td>7173.0</td>\n",
       "      <td>0.0</td>\n",
       "      <td>7</td>\n",
       "    </tr>\n",
       "    <tr>\n",
       "      <th>199981</th>\n",
       "      <td>0.0</td>\n",
       "      <td>0.0</td>\n",
       "      <td>0.0</td>\n",
       "      <td>0.0</td>\n",
       "      <td>0.0</td>\n",
       "      <td>0.0</td>\n",
       "      <td>1446.0</td>\n",
       "      <td>0.0</td>\n",
       "      <td>1</td>\n",
       "    </tr>\n",
       "    <tr>\n",
       "      <th>199982</th>\n",
       "      <td>0.0</td>\n",
       "      <td>271.0</td>\n",
       "      <td>5912.0</td>\n",
       "      <td>2.0</td>\n",
       "      <td>2.0</td>\n",
       "      <td>2.0</td>\n",
       "      <td>15.0</td>\n",
       "      <td>0.0</td>\n",
       "      <td>6</td>\n",
       "    </tr>\n",
       "    <tr>\n",
       "      <th>199983</th>\n",
       "      <td>2645.0</td>\n",
       "      <td>1300.0</td>\n",
       "      <td>0.0</td>\n",
       "      <td>5141.0</td>\n",
       "      <td>610.0</td>\n",
       "      <td>0.0</td>\n",
       "      <td>554.0</td>\n",
       "      <td>0.0</td>\n",
       "      <td>5</td>\n",
       "    </tr>\n",
       "    <tr>\n",
       "      <th>199984</th>\n",
       "      <td>0.0</td>\n",
       "      <td>0.0</td>\n",
       "      <td>4083.0</td>\n",
       "      <td>0.0</td>\n",
       "      <td>0.0</td>\n",
       "      <td>0.0</td>\n",
       "      <td>0.0</td>\n",
       "      <td>0.0</td>\n",
       "      <td>1</td>\n",
       "    </tr>\n",
       "    <tr>\n",
       "      <th>199985</th>\n",
       "      <td>2445.0</td>\n",
       "      <td>0.0</td>\n",
       "      <td>0.0</td>\n",
       "      <td>0.0</td>\n",
       "      <td>7560.0</td>\n",
       "      <td>0.0</td>\n",
       "      <td>0.0</td>\n",
       "      <td>0.0</td>\n",
       "      <td>2</td>\n",
       "    </tr>\n",
       "    <tr>\n",
       "      <th>199986</th>\n",
       "      <td>0.0</td>\n",
       "      <td>0.0</td>\n",
       "      <td>1940.0</td>\n",
       "      <td>2701.0</td>\n",
       "      <td>8047.0</td>\n",
       "      <td>3897.0</td>\n",
       "      <td>0.0</td>\n",
       "      <td>0.0</td>\n",
       "      <td>4</td>\n",
       "    </tr>\n",
       "    <tr>\n",
       "      <th>199987</th>\n",
       "      <td>372.0</td>\n",
       "      <td>17.0</td>\n",
       "      <td>0.0</td>\n",
       "      <td>0.0</td>\n",
       "      <td>0.0</td>\n",
       "      <td>0.0</td>\n",
       "      <td>147.0</td>\n",
       "      <td>0.0</td>\n",
       "      <td>3</td>\n",
       "    </tr>\n",
       "    <tr>\n",
       "      <th>199988</th>\n",
       "      <td>2601.0</td>\n",
       "      <td>5227.0</td>\n",
       "      <td>3036.0</td>\n",
       "      <td>8936.0</td>\n",
       "      <td>9024.0</td>\n",
       "      <td>1719.0</td>\n",
       "      <td>9255.0</td>\n",
       "      <td>0.0</td>\n",
       "      <td>7</td>\n",
       "    </tr>\n",
       "    <tr>\n",
       "      <th>199989</th>\n",
       "      <td>0.0</td>\n",
       "      <td>0.0</td>\n",
       "      <td>2267.0</td>\n",
       "      <td>0.0</td>\n",
       "      <td>0.0</td>\n",
       "      <td>0.0</td>\n",
       "      <td>0.0</td>\n",
       "      <td>0.0</td>\n",
       "      <td>1</td>\n",
       "    </tr>\n",
       "    <tr>\n",
       "      <th>199990</th>\n",
       "      <td>232.0</td>\n",
       "      <td>0.0</td>\n",
       "      <td>883.0</td>\n",
       "      <td>0.0</td>\n",
       "      <td>768.0</td>\n",
       "      <td>0.0</td>\n",
       "      <td>10971.0</td>\n",
       "      <td>0.0</td>\n",
       "      <td>4</td>\n",
       "    </tr>\n",
       "    <tr>\n",
       "      <th>199991</th>\n",
       "      <td>23492.0</td>\n",
       "      <td>46237.0</td>\n",
       "      <td>40535.0</td>\n",
       "      <td>29587.0</td>\n",
       "      <td>18334.0</td>\n",
       "      <td>1879.0</td>\n",
       "      <td>25976.0</td>\n",
       "      <td>0.0</td>\n",
       "      <td>7</td>\n",
       "    </tr>\n",
       "    <tr>\n",
       "      <th>199992</th>\n",
       "      <td>2563.0</td>\n",
       "      <td>0.0</td>\n",
       "      <td>2467.0</td>\n",
       "      <td>2656.0</td>\n",
       "      <td>4531.0</td>\n",
       "      <td>13502.0</td>\n",
       "      <td>1292.0</td>\n",
       "      <td>0.0</td>\n",
       "      <td>6</td>\n",
       "    </tr>\n",
       "    <tr>\n",
       "      <th>199993</th>\n",
       "      <td>62.0</td>\n",
       "      <td>1481.0</td>\n",
       "      <td>118.0</td>\n",
       "      <td>1020.0</td>\n",
       "      <td>719.0</td>\n",
       "      <td>119.0</td>\n",
       "      <td>0.0</td>\n",
       "      <td>1.0</td>\n",
       "      <td>6</td>\n",
       "    </tr>\n",
       "    <tr>\n",
       "      <th>199994</th>\n",
       "      <td>9054.0</td>\n",
       "      <td>15612.0</td>\n",
       "      <td>21827.0</td>\n",
       "      <td>23270.0</td>\n",
       "      <td>32104.0</td>\n",
       "      <td>36893.0</td>\n",
       "      <td>22045.0</td>\n",
       "      <td>0.0</td>\n",
       "      <td>7</td>\n",
       "    </tr>\n",
       "    <tr>\n",
       "      <th>199995</th>\n",
       "      <td>0.0</td>\n",
       "      <td>3901.0</td>\n",
       "      <td>0.0</td>\n",
       "      <td>0.0</td>\n",
       "      <td>0.0</td>\n",
       "      <td>0.0</td>\n",
       "      <td>0.0</td>\n",
       "      <td>0.0</td>\n",
       "      <td>1</td>\n",
       "    </tr>\n",
       "    <tr>\n",
       "      <th>199996</th>\n",
       "      <td>9072.0</td>\n",
       "      <td>21771.0</td>\n",
       "      <td>5018.0</td>\n",
       "      <td>5890.0</td>\n",
       "      <td>5001.0</td>\n",
       "      <td>988.0</td>\n",
       "      <td>0.0</td>\n",
       "      <td>0.0</td>\n",
       "      <td>6</td>\n",
       "    </tr>\n",
       "    <tr>\n",
       "      <th>199997</th>\n",
       "      <td>0.0</td>\n",
       "      <td>0.0</td>\n",
       "      <td>414.0</td>\n",
       "      <td>1480.0</td>\n",
       "      <td>0.0</td>\n",
       "      <td>0.0</td>\n",
       "      <td>44.0</td>\n",
       "      <td>0.0</td>\n",
       "      <td>3</td>\n",
       "    </tr>\n",
       "    <tr>\n",
       "      <th>199998</th>\n",
       "      <td>8514.0</td>\n",
       "      <td>3408.0</td>\n",
       "      <td>657.0</td>\n",
       "      <td>6687.0</td>\n",
       "      <td>1861.0</td>\n",
       "      <td>583.0</td>\n",
       "      <td>4474.0</td>\n",
       "      <td>0.0</td>\n",
       "      <td>7</td>\n",
       "    </tr>\n",
       "    <tr>\n",
       "      <th>199999</th>\n",
       "      <td>0.0</td>\n",
       "      <td>0.0</td>\n",
       "      <td>196.0</td>\n",
       "      <td>1892.0</td>\n",
       "      <td>497.0</td>\n",
       "      <td>0.0</td>\n",
       "      <td>1473.0</td>\n",
       "      <td>0.0</td>\n",
       "      <td>4</td>\n",
       "    </tr>\n",
       "  </tbody>\n",
       "</table>\n",
       "<p>200000 rows × 9 columns</p>\n",
       "</div>"
      ],
      "text/plain": [
       "              1        2        3        4        5        6        7  \\\n",
       "0        3412.0   1737.0  15878.0  20974.0  10975.0  16580.0  17820.0   \n",
       "1        5745.0   3346.0   3025.0   3007.0    123.0     10.0   1108.0   \n",
       "2           0.0      0.0   4142.0      0.0      0.0      0.0      0.0   \n",
       "3         658.0      0.0   5867.0   1339.0    413.0      0.0     71.0   \n",
       "4        1641.0    480.0      0.0   1445.0      0.0   4900.0   1663.0   \n",
       "5        6707.0   3574.0   1948.0  18938.0   8525.0   7344.0   8295.0   \n",
       "6        1575.0   1242.0   5330.0   2007.0      0.0      0.0      0.0   \n",
       "7         333.0   2233.0      0.0    268.0    739.0      0.0  10727.0   \n",
       "8           0.0     34.0      0.0      0.0   1074.0      0.0    210.0   \n",
       "9           0.0      0.0      0.0  14292.0     14.0      0.0   1201.0   \n",
       "10          0.0      0.0      0.0      0.0      0.0      0.0   5597.0   \n",
       "11          0.0     21.0      0.0      0.0      0.0      0.0      0.0   \n",
       "12      27096.0  19751.0  29521.0  14633.0  32613.0  19149.0     20.0   \n",
       "13          0.0   3999.0    187.0      0.0      0.0      0.0   5242.0   \n",
       "14          0.0      0.0     53.0      0.0      0.0      0.0      0.0   \n",
       "15       3582.0    363.0     78.0      0.0      0.0      0.0     74.0   \n",
       "16        971.0    905.0    448.0   1159.0   1109.0    312.0     25.0   \n",
       "17          0.0     20.0      0.0      0.0      0.0      0.0      0.0   \n",
       "18        775.0   4313.0   5408.0  10619.0   7915.0   1825.0   3528.0   \n",
       "19      20295.0   4055.0    144.0      0.0   1359.0      0.0   1629.0   \n",
       "20       3187.0   3711.0   1294.0   2119.0   6913.0   1096.0      0.0   \n",
       "21      32082.0  26096.0   4034.0   5976.0   1738.0   4891.0   3639.0   \n",
       "22        285.0      0.0      0.0    710.0      0.0      0.0    192.0   \n",
       "23          0.0      0.0      0.0    689.0   2054.0      0.0      0.0   \n",
       "24          0.0     28.0      0.0      0.0      0.0      0.0      0.0   \n",
       "25       4101.0      0.0      0.0      0.0      0.0    495.0   6022.0   \n",
       "26          2.0      0.0      0.0      0.0      0.0      0.0   3261.0   \n",
       "27       2456.0   7700.0   3289.0  11843.0   8436.0   4259.0  13631.0   \n",
       "28          0.0      0.0      0.0   3902.0      0.0      0.0      0.0   \n",
       "29          0.0      0.0      0.0      0.0      0.0    641.0      0.0   \n",
       "...         ...      ...      ...      ...      ...      ...      ...   \n",
       "199970      1.0      0.0      0.0      0.0      0.0      0.0      0.0   \n",
       "199971      0.0      0.0      0.0   8602.0      0.0      0.0   4992.0   \n",
       "199972   2066.0    359.0   2226.0   4127.0    621.0      9.0  10023.0   \n",
       "199973      0.0     74.0   2435.0    838.0   1685.0    195.0      0.0   \n",
       "199974   2366.0   4687.0    208.0   7977.0    148.0     67.0   6109.0   \n",
       "199975  17069.0  20497.0  28708.0  49813.0  65992.0  28012.0  10495.0   \n",
       "199976      0.0      0.0      0.0      0.0   1290.0     19.0      0.0   \n",
       "199977      0.0      0.0     17.0      0.0      0.0      0.0   1067.0   \n",
       "199978      0.0      0.0      0.0      0.0      0.0    107.0      0.0   \n",
       "199979  13014.0   9425.0   2876.0  14697.0  10474.0   8396.0   7971.0   \n",
       "199980   1866.0    295.0   2161.0   5213.0   3931.0   5831.0   7173.0   \n",
       "199981      0.0      0.0      0.0      0.0      0.0      0.0   1446.0   \n",
       "199982      0.0    271.0   5912.0      2.0      2.0      2.0     15.0   \n",
       "199983   2645.0   1300.0      0.0   5141.0    610.0      0.0    554.0   \n",
       "199984      0.0      0.0   4083.0      0.0      0.0      0.0      0.0   \n",
       "199985   2445.0      0.0      0.0      0.0   7560.0      0.0      0.0   \n",
       "199986      0.0      0.0   1940.0   2701.0   8047.0   3897.0      0.0   \n",
       "199987    372.0     17.0      0.0      0.0      0.0      0.0    147.0   \n",
       "199988   2601.0   5227.0   3036.0   8936.0   9024.0   1719.0   9255.0   \n",
       "199989      0.0      0.0   2267.0      0.0      0.0      0.0      0.0   \n",
       "199990    232.0      0.0    883.0      0.0    768.0      0.0  10971.0   \n",
       "199991  23492.0  46237.0  40535.0  29587.0  18334.0   1879.0  25976.0   \n",
       "199992   2563.0      0.0   2467.0   2656.0   4531.0  13502.0   1292.0   \n",
       "199993     62.0   1481.0    118.0   1020.0    719.0    119.0      0.0   \n",
       "199994   9054.0  15612.0  21827.0  23270.0  32104.0  36893.0  22045.0   \n",
       "199995      0.0   3901.0      0.0      0.0      0.0      0.0      0.0   \n",
       "199996   9072.0  21771.0   5018.0   5890.0   5001.0    988.0      0.0   \n",
       "199997      0.0      0.0    414.0   1480.0      0.0      0.0     44.0   \n",
       "199998   8514.0   3408.0    657.0   6687.0   1861.0    583.0   4474.0   \n",
       "199999      0.0      0.0    196.0   1892.0    497.0      0.0   1473.0   \n",
       "\n",
       "        segment  num_days_watched  \n",
       "0           0.0                 7  \n",
       "1           0.0                 7  \n",
       "2           0.0                 1  \n",
       "3           0.0                 5  \n",
       "4           0.0                 5  \n",
       "5           0.0                 7  \n",
       "6           0.0                 4  \n",
       "7           0.0                 5  \n",
       "8           0.0                 3  \n",
       "9           0.0                 3  \n",
       "10          0.0                 1  \n",
       "11          0.0                 1  \n",
       "12          1.0                 7  \n",
       "13          0.0                 3  \n",
       "14          0.0                 1  \n",
       "15          0.0                 4  \n",
       "16          0.0                 7  \n",
       "17          0.0                 1  \n",
       "18          0.0                 7  \n",
       "19          0.0                 5  \n",
       "20          0.0                 6  \n",
       "21          0.0                 7  \n",
       "22          0.0                 3  \n",
       "23          0.0                 2  \n",
       "24          0.0                 1  \n",
       "25          0.0                 3  \n",
       "26          0.0                 2  \n",
       "27          0.0                 7  \n",
       "28          1.0                 1  \n",
       "29          0.0                 1  \n",
       "...         ...               ...  \n",
       "199970      0.0                 1  \n",
       "199971      0.0                 2  \n",
       "199972      0.0                 7  \n",
       "199973      0.0                 5  \n",
       "199974      0.0                 7  \n",
       "199975      0.0                 7  \n",
       "199976      0.0                 2  \n",
       "199977      0.0                 2  \n",
       "199978      0.0                 1  \n",
       "199979      1.0                 7  \n",
       "199980      0.0                 7  \n",
       "199981      0.0                 1  \n",
       "199982      0.0                 6  \n",
       "199983      0.0                 5  \n",
       "199984      0.0                 1  \n",
       "199985      0.0                 2  \n",
       "199986      0.0                 4  \n",
       "199987      0.0                 3  \n",
       "199988      0.0                 7  \n",
       "199989      0.0                 1  \n",
       "199990      0.0                 4  \n",
       "199991      0.0                 7  \n",
       "199992      0.0                 6  \n",
       "199993      1.0                 6  \n",
       "199994      0.0                 7  \n",
       "199995      0.0                 1  \n",
       "199996      0.0                 6  \n",
       "199997      0.0                 3  \n",
       "199998      0.0                 7  \n",
       "199999      0.0                 4  \n",
       "\n",
       "[200000 rows x 9 columns]"
      ]
     },
     "execution_count": 29,
     "metadata": {},
     "output_type": "execute_result"
    }
   ],
   "source": [
    "X"
   ]
  },
  {
   "cell_type": "code",
   "execution_count": 19,
   "metadata": {
    "collapsed": false
   },
   "outputs": [
    {
     "data": {
      "image/png": "[encoded data removed]",
      "text/plain": [
       "<matplotlib.figure.Figure at 0x7f56ac67d9e8>"
      ]
     },
     "metadata": {},
     "output_type": "display_data"
    }
   ],
   "source": [
    "sns.distplot(X.loc[X.segment == 0, :].mean(axis='columns').map(np.log1p), label='NO')\n",
    "sns.distplot(X.loc[X.segment == 1, :].mean(axis='columns').map(np.log1p), label='YES')\n",
    "plt.legend(loc='best');"
   ]
  },
  {
   "cell_type": "code",
   "execution_count": 22,
   "metadata": {
    "collapsed": false
   },
   "outputs": [
    {
     "data": {
      "image/png": "[encoded data removed]",
      "text/plain": [
       "<matplotlib.figure.Figure at 0x7f56ac60c588>"
      ]
     },
     "metadata": {},
     "output_type": "display_data"
    }
   ],
   "source": [
    "sns.distplot(X.loc[X.segment == 0, 1].map(np.log1p), label='NO')\n",
    "sns.distplot(X.loc[X.segment == 1, 1].map(np.log1p), label='YES')\n",
    "plt.legend(loc='best');"
   ]
  },
  {
   "cell_type": "code",
   "execution_count": 25,
   "metadata": {
    "collapsed": false
   },
   "outputs": [
    {
     "data": {
      "image/png": "[encoded data removed]",
      "text/plain": [
       "<matplotlib.figure.Figure at 0x7f56ac8cfb38>"
      ]
     },
     "metadata": {},
     "output_type": "display_data"
    }
   ],
   "source": [
    "sns.distplot(X.loc[X.segment == 0, 5].map(np.log1p), label='NO')\n",
    "sns.distplot(X.loc[X.segment == 1, 5].map(np.log1p), label='YES')\n",
    "plt.legend(loc='best');"
   ]
  },
  {
   "cell_type": "code",
   "execution_count": 23,
   "metadata": {
    "collapsed": false
   },
   "outputs": [
    {
     "data": {
      "image/png": "[encoded data removed]",
      "text/plain": [
       "<matplotlib.figure.Figure at 0x7f56ab935a90>"
      ]
     },
     "metadata": {},
     "output_type": "display_data"
    }
   ],
   "source": [
    "sns.distplot(X.loc[X.segment == 0, 6].map(np.log1p), label='NO')\n",
    "sns.distplot(X.loc[X.segment == 1, 6].map(np.log1p), label='YES')\n",
    "plt.legend(loc='best');"
   ]
  },
  {
   "cell_type": "code",
   "execution_count": 35,
   "metadata": {
    "collapsed": false
   },
   "outputs": [
    {
     "data": {
      "image/png": "[encoded data removed]",
      "text/plain": [
       "<matplotlib.figure.Figure at 0x7f56ac4d5d68>"
      ]
     },
     "metadata": {},
     "output_type": "display_data"
    }
   ],
   "source": [
    "sns.distplot((X.loc[X.segment == 0, 6] + X.loc[X.segment == 0, 7]).map(np.log1p), label='NO')\n",
    "sns.distplot((X.loc[X.segment == 1, 6] + X.loc[X.segment == 1, 7]).map(np.log1p), label='YES')\n",
    "plt.legend(loc='best');"
   ]
  },
  {
   "cell_type": "code",
   "execution_count": 24,
   "metadata": {
    "collapsed": false
   },
   "outputs": [
    {
     "data": {
      "image/png": "[encoded data removed]",
      "text/plain": [
       "<matplotlib.figure.Figure at 0x7f56ac38f128>"
      ]
     },
     "metadata": {},
     "output_type": "display_data"
    }
   ],
   "source": [
    "sns.distplot(X.loc[X.segment == 0, 7].map(np.log1p), label='NO')\n",
    "sns.distplot(X.loc[X.segment == 1, 7].map(np.log1p), label='YES')\n",
    "plt.legend(loc='best');"
   ]
  },
  {
   "cell_type": "code",
   "execution_count": 31,
   "metadata": {
    "collapsed": false
   },
   "outputs": [
    {
     "data": {
      "image/png": "[encoded data removed]",
      "text/plain": [
       "<matplotlib.figure.Figure at 0x7f56ac3fae80>"
      ]
     },
     "metadata": {},
     "output_type": "display_data"
    }
   ],
   "source": [
    "sns.distplot(X.loc[X.segment == 0, 'num_days_watched'], label='NO')\n",
    "sns.distplot(X.loc[X.segment == 1, 'num_days_watched'], label='YES')\n",
    "plt.legend(loc='best');"
   ]
  },
  {
   "cell_type": "code",
   "execution_count": 75,
   "metadata": {
    "collapsed": false
   },
   "outputs": [],
   "source": [
    "def create_dict_features(feature):\n",
    "\n",
    "    train = data.loc[train_mask, feature].map(lambda x: x.split(','))\\\n",
    "                         .map(lambda x: dict((k.strip(), int(v.strip())) for k,v in \n",
    "                                              (item.split(':') for item in x)))\n",
    "        \n",
    "    dv    = DictVectorizer(sparse=False)\n",
    "    X     = pd.DataFrame(dv.fit_transform(train), columns=dv.get_feature_names())\n",
    "    y     = data.loc[train_mask, 'segment']\n",
    "    \n",
    "    return pd.concat((X, y), axis='columns')"
   ]
  },
  {
   "cell_type": "code",
   "execution_count": 51,
   "metadata": {
    "collapsed": true
   },
   "outputs": [],
   "source": [
    "tod_train = create_dict_features('tod')"
   ]
  },
  {
   "cell_type": "code",
   "execution_count": 56,
   "metadata": {
    "collapsed": false
   },
   "outputs": [
    {
     "data": {
      "image/png": "[encoded data removed]",
      "text/plain": [
       "<matplotlib.figure.Figure at 0x7f56ac235978>"
      ]
     },
     "metadata": {},
     "output_type": "display_data"
    }
   ],
   "source": [
    "cols = tod_train.columns[:-1]\n",
    "sns.distplot(tod_train.loc[tod_train.segment == 0, cols].mean(axis='columns').map(np.log1p))\n",
    "sns.distplot(tod_train.loc[tod_train.segment == 1, cols].mean(axis='columns').map(np.log1p));"
   ]
  },
  {
   "cell_type": "code",
   "execution_count": 59,
   "metadata": {
    "collapsed": false
   },
   "outputs": [
    {
     "data": {
      "image/png": "[encoded data removed]",
      "text/plain": [
       "<matplotlib.figure.Figure at 0x7f56ac862a20>"
      ]
     },
     "metadata": {},
     "output_type": "display_data"
    }
   ],
   "source": [
    "sns.distplot(tod_train.loc[tod_train.segment == 0, [0, 1, 2, 3, 4, 5]].mean(axis='columns').map(np.log1p))\n",
    "sns.distplot(tod_train.loc[tod_train.segment == 1, [0, 1, 2, 3, 4, 5]].mean(axis='columns').map(np.log1p));"
   ]
  },
  {
   "cell_type": "code",
   "execution_count": 60,
   "metadata": {
    "collapsed": false
   },
   "outputs": [
    {
     "data": {
      "image/png": "[encoded data removed]",
      "text/plain": [
       "<matplotlib.figure.Figure at 0x7f56ac8628d0>"
      ]
     },
     "metadata": {},
     "output_type": "display_data"
    }
   ],
   "source": [
    "sns.distplot(tod_train.loc[tod_train.segment == 0, [6, 7, 8, 9, 10, 11]].mean(axis='columns').map(np.log1p))\n",
    "sns.distplot(tod_train.loc[tod_train.segment == 1, [6, 7, 8, 9, 10, 11]].mean(axis='columns').map(np.log1p));"
   ]
  },
  {
   "cell_type": "code",
   "execution_count": 61,
   "metadata": {
    "collapsed": false
   },
   "outputs": [
    {
     "data": {
      "image/png": "[encoded data removed]",
      "text/plain": [
       "<matplotlib.figure.Figure at 0x7f56abee3e10>"
      ]
     },
     "metadata": {},
     "output_type": "display_data"
    }
   ],
   "source": [
    "sns.distplot(tod_train.loc[tod_train.segment == 0, [12, 13, 14, 15, 16, 17]].mean(axis='columns').map(np.log1p))\n",
    "sns.distplot(tod_train.loc[tod_train.segment == 1, [12, 13, 14, 15, 16, 17]].mean(axis='columns').map(np.log1p));"
   ]
  },
  {
   "cell_type": "code",
   "execution_count": 62,
   "metadata": {
    "collapsed": false
   },
   "outputs": [
    {
     "data": {
      "image/png": "[encoded data removed]",
      "text/plain": [
       "<matplotlib.figure.Figure at 0x7f56abde1b00>"
      ]
     },
     "metadata": {},
     "output_type": "display_data"
    }
   ],
   "source": [
    "sns.distplot(tod_train.loc[tod_train.segment == 0, [17, 18, 19, 20, 21, 22, 23]].mean(axis='columns').map(np.log1p))\n",
    "sns.distplot(tod_train.loc[tod_train.segment == 1, [17, 18, 19, 20, 21, 22, 23]].mean(axis='columns').map(np.log1p));"
   ]
  },
  {
   "cell_type": "code",
   "execution_count": 68,
   "metadata": {
    "collapsed": false
   },
   "outputs": [
    {
     "data": {
      "image/png": "[encoded data removed]",
      "text/plain": [
       "<matplotlib.figure.Figure at 0x7f56ac8392b0>"
      ]
     },
     "metadata": {},
     "output_type": "display_data"
    }
   ],
   "source": [
    "sns.distplot(X.loc[X.segment == 0, [1, 2, 3, 4, 5, 6, 7]].sum(axis='columns').map(np.log1p))\n",
    "sns.distplot(X.loc[X.segment == 1, [1, 2, 3, 4, 5, 6, 7]].sum(axis='columns').map(np.log1p));"
   ]
  },
  {
   "cell_type": "code",
   "execution_count": 76,
   "metadata": {
    "collapsed": true
   },
   "outputs": [],
   "source": [
    "genres_train = create_dict_features('genres')"
   ]
  },
  {
   "cell_type": "code",
   "execution_count": 87,
   "metadata": {
    "collapsed": false
   },
   "outputs": [
    {
     "data": {
      "image/png": "[encoded data removed]",
      "text/plain": [
       "<matplotlib.figure.Figure at 0x7f56e93ba898>"
      ]
     },
     "metadata": {},
     "output_type": "display_data"
    }
   ],
   "source": [
    "sns.boxplot(x=genres_train.segment, y=genres_train.Action);"
   ]
  },
  {
   "cell_type": "code",
   "execution_count": 89,
   "metadata": {
    "collapsed": false
   },
   "outputs": [
    {
     "data": {
      "image/png": "[encoded data removed]",
      "text/plain": [
       "<matplotlib.figure.Figure at 0x7f5677a25f60>"
      ]
     },
     "metadata": {},
     "output_type": "display_data"
    }
   ],
   "source": [
    "sns.boxplot(x=genres_train.segment, y=genres_train.Athletics);"
   ]
  },
  {
   "cell_type": "code",
   "execution_count": 93,
   "metadata": {
    "collapsed": false
   },
   "outputs": [
    {
     "data": {
      "image/png": "[encoded data removed]",
      "text/plain": [
       "<matplotlib.figure.Figure at 0x7f56ac570b38>"
      ]
     },
     "metadata": {},
     "output_type": "display_data"
    }
   ],
   "source": [
    "sns.boxplot(x=genres_train.segment, y=genres_train.Cricket);"
   ]
  },
  {
   "cell_type": "code",
   "execution_count": 92,
   "metadata": {
    "collapsed": false
   },
   "outputs": [
    {
     "data": {
      "image/png": "[encoded data removed]",
      "text/plain": [
       "<matplotlib.figure.Figure at 0x7f5688d96978>"
      ]
     },
     "metadata": {},
     "output_type": "display_data"
    }
   ],
   "source": [
    "sns.boxplot(x=genres_train.segment, y=genres_train.Family);"
   ]
  },
  {
   "cell_type": "code",
   "execution_count": 94,
   "metadata": {
    "collapsed": false
   },
   "outputs": [
    {
     "data": {
      "image/png": "[encoded data removed]",
      "text/plain": [
       "<matplotlib.figure.Figure at 0x7f5688db6438>"
      ]
     },
     "metadata": {},
     "output_type": "display_data"
    }
   ],
   "source": [
    "sns.boxplot(x=genres_train.segment, y=genres_train.Romance);"
   ]
  },
  {
   "cell_type": "markdown",
   "metadata": {
    "collapsed": true
   },
   "source": [
    "** Relationship between cities and segment **"
   ]
  },
  {
   "cell_type": "code",
   "execution_count": 56,
   "metadata": {
    "collapsed": false
   },
   "outputs": [],
   "source": [
    "def get_watch_time_by_feature(train, feature_name):\n",
    "    watch_time_map = defaultdict(list)\n",
    "    \n",
    "    for i in tqdm_notebook(range(len(train))):\n",
    "        fs       = train.iloc[i][feature_name]\n",
    "        segment  = train.iloc[i]['segment'] \n",
    "        \n",
    "        elem    = fs.split(',')\n",
    "        \n",
    "        for e in elem:\n",
    "            f, watch_time = e.split(':')\n",
    "            watch_time = int(watch_time)\n",
    "            \n",
    "            watch_time_map[f].append([watch_time, segment])\n",
    "    \n",
    "    return watch_time_map"
   ]
  },
  {
   "cell_type": "code",
   "execution_count": 16,
   "metadata": {
    "collapsed": false
   },
   "outputs": [
    {
     "name": "stdout",
     "output_type": "stream",
     "text": [
      "\n"
     ]
    }
   ],
   "source": [
    "watch_time_map = get_watch_time_by_cities(data.loc[train_mask, ['cities', 'segment']],\n",
    "                                          'cities'\n",
    "                                         )"
   ]
  },
  {
   "cell_type": "code",
   "execution_count": 32,
   "metadata": {
    "collapsed": false
   },
   "outputs": [
    {
     "data": {
      "image/png": "[encoded data removed]",
      "text/plain": [
       "<matplotlib.figure.Figure at 0x7f7cedf64f98>"
      ]
     },
     "metadata": {},
     "output_type": "display_data"
    }
   ],
   "source": [
    "ss = pd.DataFrame(watch_time_map['chennai'], \n",
    "             columns=['watch_time', 'segment'])\n",
    "\n",
    "sns.distplot(ss.loc[ss.segment == 0, 'watch_time'].map(np.log1p), label='NO')\n",
    "sns.distplot(ss.loc[ss.segment == 1, 'watch_time'].map(np.log1p), label='YES')\n",
    "plt.legend(loc='best');"
   ]
  },
  {
   "cell_type": "markdown",
   "metadata": {},
   "source": [
    "** For most of the cities as watch time increaseas, chances of getting included in a segment also increases **"
   ]
  },
  {
   "cell_type": "code",
   "execution_count": 37,
   "metadata": {
    "collapsed": true
   },
   "outputs": [],
   "source": [
    "def get_count_by_cities(train):\n",
    "    city_count_map = defaultdict(list)\n",
    "    \n",
    "    for i in tqdm_notebook(range(len(train))):\n",
    "        cities  = train.iloc[i]['cities']\n",
    "        segment = train.iloc[i]['segment'] \n",
    "        \n",
    "        elem    = cities.split(',')\n",
    "        \n",
    "        for e in elem:\n",
    "            city, watch_time = e.split(':')\n",
    "            city_count = len(elem)\n",
    "            \n",
    "            city_count_map[city].append([city_count, segment])\n",
    "    \n",
    "    return city_count_map"
   ]
  },
  {
   "cell_type": "code",
   "execution_count": 38,
   "metadata": {
    "collapsed": false
   },
   "outputs": [
    {
     "name": "stdout",
     "output_type": "stream",
     "text": [
      "\n"
     ]
    }
   ],
   "source": [
    "city_count_map = get_count_by_cities(data.loc[train_mask, ['cities', 'segment']])"
   ]
  },
  {
   "cell_type": "code",
   "execution_count": 41,
   "metadata": {
    "collapsed": false
   },
   "outputs": [
    {
     "data": {
      "image/png": "[encoded data removed]",
      "text/plain": [
       "<matplotlib.figure.Figure at 0x7f7cd2f49080>"
      ]
     },
     "metadata": {},
     "output_type": "display_data"
    }
   ],
   "source": [
    "plt.figure(figsize=(15, 10))\n",
    "ss = pd.DataFrame(city_count_map['chennai'], \n",
    "             columns=['city_count', 'segment'])\n",
    "\n",
    "sns.distplot(ss.loc[ss.segment == 0, 'city_count'], label='NO')\n",
    "sns.distplot(ss.loc[ss.segment == 1, 'city_count'], label='YES')\n",
    "plt.legend(loc='best');"
   ]
  },
  {
   "cell_type": "code",
   "execution_count": 57,
   "metadata": {
    "collapsed": false
   },
   "outputs": [
    {
     "name": "stdout",
     "output_type": "stream",
     "text": [
      "\n"
     ]
    }
   ],
   "source": [
    "dow_watch_time_map = get_watch_time_by_feature(data.loc[train_mask, ['dow', 'segment']],\n",
    "                                               'dow'\n",
    "                                              )"
   ]
  },
  {
   "cell_type": "code",
   "execution_count": 65,
   "metadata": {
    "collapsed": false
   },
   "outputs": [
    {
     "data": {
      "image/png": "[encoded data removed]",
      "text/plain": [
       "<matplotlib.figure.Figure at 0x7f7cc100f358>"
      ]
     },
     "metadata": {},
     "output_type": "display_data"
    }
   ],
   "source": [
    "ss = pd.DataFrame(dow_watch_time_map['2'], \n",
    "             columns=['watch_time', 'segment'])\n",
    "\n",
    "sns.distplot(ss.loc[ss.segment == 0, 'watch_time'].map(np.log1p), label='NO')\n",
    "sns.distplot(ss.loc[ss.segment == 1, 'watch_time'].map(np.log1p), label='YES')\n",
    "plt.legend(loc='best');"
   ]
  },
  {
   "cell_type": "code",
   "execution_count": 66,
   "metadata": {
    "collapsed": false
   },
   "outputs": [
    {
     "name": "stdout",
     "output_type": "stream",
     "text": [
      "\n"
     ]
    }
   ],
   "source": [
    "tod_watch_time_map = get_watch_time_by_feature(data.loc[train_mask, ['tod', 'segment']],\n",
    "                                               'tod'\n",
    "                                              )"
   ]
  },
  {
   "cell_type": "code",
   "execution_count": 92,
   "metadata": {
    "collapsed": false
   },
   "outputs": [
    {
     "data": {
      "text/html": [
       "<div>\n",
       "<table border=\"1\" class=\"dataframe\">\n",
       "  <thead>\n",
       "    <tr style=\"text-align: right;\">\n",
       "      <th></th>\n",
       "      <th>ID</th>\n",
       "      <th>cities</th>\n",
       "      <th>dow</th>\n",
       "      <th>genres</th>\n",
       "      <th>segment</th>\n",
       "      <th>titles</th>\n",
       "      <th>tod</th>\n",
       "    </tr>\n",
       "  </thead>\n",
       "  <tbody>\n",
       "    <tr>\n",
       "      <th>0</th>\n",
       "      <td>train-1</td>\n",
       "      <td>gurgaon:55494,delhi:31892</td>\n",
       "      <td>1:3412,3:15878,2:1737,5:10975,4:20974,7:17820,...</td>\n",
       "      <td>Cricket:82379,Kabaddi:255,Reality:4751</td>\n",
       "      <td>0.0</td>\n",
       "      <td>Top Raids: Haryana vs Services SCB:103,Day 4: ...</td>\n",
       "      <td>10:26,13:331,12:323,20:21864,21:16233,17:7953,...</td>\n",
       "    </tr>\n",
       "    <tr>\n",
       "      <th>1</th>\n",
       "      <td>train-10</td>\n",
       "      <td>delhi:5862,nagar:8916,mumbai:1593</td>\n",
       "      <td>1:5745,3:3025,2:3346,5:123,4:3007,7:1108,6:10</td>\n",
       "      <td>Cricket:15640,Wildlife:730</td>\n",
       "      <td>0.0</td>\n",
       "      <td>Dhoni Quits Captaincy:148,Day 4: India Move in...</td>\n",
       "      <td>11:1661,10:384,20:401,21:798,22:221,16:525,19:...</td>\n",
       "    </tr>\n",
       "    <tr>\n",
       "      <th>2</th>\n",
       "      <td>train-100</td>\n",
       "      <td>navi mumbai:4142</td>\n",
       "      <td>3:4142</td>\n",
       "      <td>LiveTV:13,Football:4129</td>\n",
       "      <td>0.0</td>\n",
       "      <td>Star Sports 4:13,Manchester United vs Everton:...</td>\n",
       "      <td>1:1207,0:2406,2:529</td>\n",
       "    </tr>\n",
       "    <tr>\n",
       "      <th>3</th>\n",
       "      <td>train-1000</td>\n",
       "      <td>new delhi:4131,chennai:2878,navi mumbai:1339</td>\n",
       "      <td>1:658,3:5867,5:413,4:1339,7:71</td>\n",
       "      <td>TalkShow:658,Cricket:7690</td>\n",
       "      <td>0.0</td>\n",
       "      <td>SRH vs RCB:701,KKR vs KXIP:1042,MI vs SRH:2288...</td>\n",
       "      <td>11:71,20:2417,21:1042,23:2288,19:1872,8:658</td>\n",
       "    </tr>\n",
       "    <tr>\n",
       "      <th>4</th>\n",
       "      <td>train-10000</td>\n",
       "      <td>gurgaon:6077,chennai:4055</td>\n",
       "      <td>1:1641,2:480,4:1445,7:1663,6:4900</td>\n",
       "      <td>Drama:5503,Cricket:3283,Reality:1345</td>\n",
       "      <td>0.0</td>\n",
       "      <td>MI vs KKR:304,Yeh Rishta Kya Kehlata Hai:5449,...</td>\n",
       "      <td>20:158,22:4139,17:67,23:1510,19:288,18:56,0:23...</td>\n",
       "    </tr>\n",
       "  </tbody>\n",
       "</table>\n",
       "</div>"
      ],
      "text/plain": [
       "            ID                                        cities  \\\n",
       "0      train-1                     gurgaon:55494,delhi:31892   \n",
       "1     train-10             delhi:5862,nagar:8916,mumbai:1593   \n",
       "2    train-100                              navi mumbai:4142   \n",
       "3   train-1000  new delhi:4131,chennai:2878,navi mumbai:1339   \n",
       "4  train-10000                     gurgaon:6077,chennai:4055   \n",
       "\n",
       "                                                 dow  \\\n",
       "0  1:3412,3:15878,2:1737,5:10975,4:20974,7:17820,...   \n",
       "1      1:5745,3:3025,2:3346,5:123,4:3007,7:1108,6:10   \n",
       "2                                             3:4142   \n",
       "3                     1:658,3:5867,5:413,4:1339,7:71   \n",
       "4                  1:1641,2:480,4:1445,7:1663,6:4900   \n",
       "\n",
       "                                   genres  segment  \\\n",
       "0  Cricket:82379,Kabaddi:255,Reality:4751      0.0   \n",
       "1              Cricket:15640,Wildlife:730      0.0   \n",
       "2                 LiveTV:13,Football:4129      0.0   \n",
       "3               TalkShow:658,Cricket:7690      0.0   \n",
       "4    Drama:5503,Cricket:3283,Reality:1345      0.0   \n",
       "\n",
       "                                              titles  \\\n",
       "0  Top Raids: Haryana vs Services SCB:103,Day 4: ...   \n",
       "1  Dhoni Quits Captaincy:148,Day 4: India Move in...   \n",
       "2  Star Sports 4:13,Manchester United vs Everton:...   \n",
       "3  SRH vs RCB:701,KKR vs KXIP:1042,MI vs SRH:2288...   \n",
       "4  MI vs KKR:304,Yeh Rishta Kya Kehlata Hai:5449,...   \n",
       "\n",
       "                                                 tod  \n",
       "0  10:26,13:331,12:323,20:21864,21:16233,17:7953,...  \n",
       "1  11:1661,10:384,20:401,21:798,22:221,16:525,19:...  \n",
       "2                                1:1207,0:2406,2:529  \n",
       "3        11:71,20:2417,21:1042,23:2288,19:1872,8:658  \n",
       "4  20:158,22:4139,17:67,23:1510,19:288,18:56,0:23...  "
      ]
     },
     "execution_count": 92,
     "metadata": {},
     "output_type": "execute_result"
    }
   ],
   "source": [
    "data.head()"
   ]
  },
  {
   "cell_type": "code",
   "execution_count": 91,
   "metadata": {
    "collapsed": false
   },
   "outputs": [
    {
     "data": {
      "image/png": "[encoded data removed]",
      "text/plain": [
       "<matplotlib.figure.Figure at 0x7f7cb46e77f0>"
      ]
     },
     "metadata": {},
     "output_type": "display_data"
    }
   ],
   "source": [
    "ss = pd.DataFrame(tod_watch_time_map['18'], \n",
    "             columns=['watch_time', 'segment'])\n",
    "\n",
    "sns.distplot(ss.loc[ss.segment == 0, 'watch_time'].map(np.log1p), label='NO')\n",
    "sns.distplot(ss.loc[ss.segment == 1, 'watch_time'].map(np.log1p), label='YES')\n",
    "plt.legend(loc='best');"
   ]
  },
  {
   "cell_type": "markdown",
   "metadata": {},
   "source": [
    "** Unique Genres **"
   ]
  },
  {
   "cell_type": "code",
   "execution_count": 173,
   "metadata": {
    "collapsed": false
   },
   "outputs": [
    {
     "name": "stdout",
     "output_type": "stream",
     "text": [
      "Took: 0.07325863838195801 seconds\n"
     ]
    }
   ],
   "source": [
    "ug = defaultdict(int)\n",
    "\n",
    "start = time.time()\n",
    "\n",
    "def update(genres):\n",
    "    genres = genres.split(',')\n",
    "    \n",
    "    for genre in genres:\n",
    "        ug[genre] += 1\n",
    "    \n",
    "    return None\n",
    "\n",
    "data.loc[train_mask & data.segment == 1, :]\\\n",
    "    .genres.str.replace(':\\d+', '')\\\n",
    "    .map(update)\n",
    "\n",
    "end = time.time()\n",
    "print('Took: {} seconds'.format(end - start))"
   ]
  },
  {
   "cell_type": "code",
   "execution_count": 174,
   "metadata": {
    "collapsed": true
   },
   "outputs": [],
   "source": [
    "ss = pd.Series(ug).sort_values(ascending=False)"
   ]
  },
  {
   "cell_type": "code",
   "execution_count": 177,
   "metadata": {
    "collapsed": false
   },
   "outputs": [
    {
     "data": {
      "text/plain": [
       "Drama           9600\n",
       "Romance         8337\n",
       "Family          5912\n",
       "TalkShow        5526\n",
       "Reality         3903\n",
       "Comedy          3428\n",
       "Cricket         3129\n",
       "Thriller        1891\n",
       "Action          1773\n",
       "Crime           1342\n",
       "Awards           891\n",
       "LiveTV           834\n",
       "Mythology        762\n",
       "Kids             504\n",
       "Horror           501\n",
       "Teen             234\n",
       "Badminton        188\n",
       "Travel           182\n",
       "Football         158\n",
       "Wildlife         146\n",
       "Sport             98\n",
       "Science           74\n",
       "Documentary       53\n",
       "Kabaddi           28\n",
       "Hockey            22\n",
       "Tennis             7\n",
       "Formula1           6\n",
       "Athletics          5\n",
       "Table Tennis       2\n",
       "NA                 1\n",
       "dtype: int64"
      ]
     },
     "execution_count": 177,
     "metadata": {},
     "output_type": "execute_result"
    }
   ],
   "source": [
    "ss"
   ]
  },
  {
   "cell_type": "code",
   "execution_count": 178,
   "metadata": {
    "collapsed": false
   },
   "outputs": [
    {
     "name": "stdout",
     "output_type": "stream",
     "text": [
      "Took: 1.045381784439087 seconds\n"
     ]
    }
   ],
   "source": [
    "ug = defaultdict(int)\n",
    "\n",
    "start = time.time()\n",
    "\n",
    "def update(genres):\n",
    "    genres = genres.split(',')\n",
    "    \n",
    "    for genre in genres:\n",
    "        ug[genre] += 1\n",
    "    \n",
    "    return None\n",
    "\n",
    "data.loc[train_mask & data.segment == 0, :]\\\n",
    "    .genres.str.replace(':\\d+', '')\\\n",
    "    .map(update)\n",
    "\n",
    "end = time.time()\n",
    "print('Took: {} seconds'.format(end - start))"
   ]
  },
  {
   "cell_type": "code",
   "execution_count": 179,
   "metadata": {
    "collapsed": false
   },
   "outputs": [],
   "source": [
    "zz = pd.Series(ug).sort_values(ascending=False)"
   ]
  },
  {
   "cell_type": "code",
   "execution_count": 180,
   "metadata": {
    "collapsed": false
   },
   "outputs": [
    {
     "data": {
      "text/plain": [
       "Cricket         165875\n",
       "Drama           138486\n",
       "Romance          98251\n",
       "Reality          82453\n",
       "TalkShow         73895\n",
       "Comedy           67087\n",
       "Family           60557\n",
       "Action           52088\n",
       "LiveTV           41023\n",
       "Crime            33777\n",
       "Thriller         32675\n",
       "Mythology        18148\n",
       "Awards           17631\n",
       "Football         11270\n",
       "Badminton        10085\n",
       "Horror            9484\n",
       "Sport             8990\n",
       "Kids              6860\n",
       "Travel            6260\n",
       "Wildlife          5832\n",
       "Teen              2903\n",
       "Science           2683\n",
       "Hockey            2520\n",
       "Kabaddi           1330\n",
       "Documentary       1322\n",
       "Formula1           529\n",
       "Tennis             420\n",
       "Athletics          386\n",
       "Table Tennis       321\n",
       "FormulaE            45\n",
       "Volleyball          42\n",
       "Boxing              41\n",
       "NA                  16\n",
       "Swimming            10\n",
       "IndiaVsSa            2\n",
       "dtype: int64"
      ]
     },
     "execution_count": 180,
     "metadata": {},
     "output_type": "execute_result"
    }
   ],
   "source": [
    "zz"
   ]
  },
  {
   "cell_type": "code",
   "execution_count": 113,
   "metadata": {
    "collapsed": false
   },
   "outputs": [
    {
     "data": {
      "text/plain": [
       "Family          0.088944\n",
       "Romance         0.078217\n",
       "Teen            0.074594\n",
       "TalkShow        0.069579\n",
       "Kids            0.068441\n",
       "Drama           0.064827\n",
       "NA              0.058824\n",
       "Thriller        0.054707\n",
       "Horror          0.050175\n",
       "Comedy          0.048614\n",
       "Awards          0.048105\n",
       "Reality         0.045197\n",
       "Mythology       0.040296\n",
       "Documentary     0.038545\n",
       "Crime           0.038213\n",
       "Action          0.032918\n",
       "Travel          0.028252\n",
       "Science         0.026841\n",
       "Wildlife        0.024423\n",
       "Kabaddi         0.020619\n",
       "LiveTV          0.019925\n",
       "Cricket         0.018514\n",
       "Badminton       0.018300\n",
       "Tennis          0.016393\n",
       "Football        0.013826\n",
       "Athletics       0.012788\n",
       "Formula1        0.011215\n",
       "Sport           0.010783\n",
       "Hockey          0.008655\n",
       "Table Tennis    0.006192\n",
       "Boxing               NaN\n",
       "FormulaE             NaN\n",
       "IndiaVsSa            NaN\n",
       "Swimming             NaN\n",
       "Volleyball           NaN\n",
       "dtype: float64"
      ]
     },
     "execution_count": 113,
     "metadata": {},
     "output_type": "execute_result"
    }
   ],
   "source": [
    "(ss / (ss + zz)).sort_values(ascending=False)"
   ]
  },
  {
   "cell_type": "markdown",
   "metadata": {},
   "source": [
    "** Check for pair of genres. **"
   ]
  },
  {
   "cell_type": "code",
   "execution_count": 190,
   "metadata": {
    "collapsed": false
   },
   "outputs": [
    {
     "name": "stdout",
     "output_type": "stream",
     "text": [
      "Took: 2.9267194271087646 seconds\n"
     ]
    }
   ],
   "source": [
    "ug = defaultdict(int)\n",
    "\n",
    "def update_pairs(genres):\n",
    "    genres = genres.split(',')\n",
    "    \n",
    "    for p in combinations(genres, 2):\n",
    "        p = tuple(natsorted(list(p)))\n",
    "        ug[p] += 1\n",
    "    \n",
    "    return None\n",
    "\n",
    "\n",
    "start = time.time()\n",
    "\n",
    "data.loc[train_mask & (data.segment == 1), 'genres']\\\n",
    "    .str.replace(r':\\d+', '').map(update_pairs)\n",
    "    \n",
    "end = time.time()\n",
    "\n",
    "print('Took: {} seconds'.format(end - start))\n",
    "zz = pd.Series(ug)"
   ]
  },
  {
   "cell_type": "code",
   "execution_count": 191,
   "metadata": {
    "collapsed": false
   },
   "outputs": [
    {
     "data": {
      "text/plain": [
       "Drama         Romance         6082\n",
       "              Family          4542\n",
       "Family        Romance         4425\n",
       "Drama         TalkShow        3143\n",
       "Romance       TalkShow        2847\n",
       "Drama         Reality         2737\n",
       "Reality       Romance         2563\n",
       "Comedy        Drama           2460\n",
       "              Romance         2172\n",
       "Cricket       Drama           2142\n",
       "Comedy        TalkShow        1872\n",
       "Family        Reality         1863\n",
       "              TalkShow        1809\n",
       "Reality       TalkShow        1795\n",
       "Cricket       Romance         1755\n",
       "Drama         Thriller        1527\n",
       "Romance       Thriller        1396\n",
       "Comedy        Family          1362\n",
       "Action        Drama           1347\n",
       "Cricket       Family          1285\n",
       "Comedy        Reality         1208\n",
       "Cricket       Reality         1176\n",
       "              TalkShow        1154\n",
       "Action        Romance         1131\n",
       "Crime         Drama           1006\n",
       "Family        Thriller         957\n",
       "Comedy        Cricket          917\n",
       "Crime         Romance          841\n",
       "TalkShow      Thriller         781\n",
       "Action        TalkShow         772\n",
       "                              ... \n",
       "Athletics     Science            1\n",
       "Crime         Tennis             1\n",
       "Kabaddi       Teen               1\n",
       "Comedy        Table Tennis       1\n",
       "Table Tennis  TalkShow           1\n",
       "Athletics     Tennis             1\n",
       "Formula1      Sport              1\n",
       "              Reality            1\n",
       "Tennis        Thriller           1\n",
       "              Travel             1\n",
       "Formula1      Thriller           1\n",
       "Badminton     Table Tennis       1\n",
       "Athletics     Horror             1\n",
       "Hockey        Table Tennis       1\n",
       "Athletics     Hockey             1\n",
       "              LiveTV             1\n",
       "Drama         NA                 1\n",
       "              Table Tennis       1\n",
       "Athletics     Mythology          1\n",
       "Kabaddi       Kids               1\n",
       "Horror        Tennis             1\n",
       "Cricket       NA                 1\n",
       "Badminton     Documentary        1\n",
       "Crime         Formula1           1\n",
       "Hockey        Tennis             1\n",
       "Family        Tennis             1\n",
       "Documentary   Sport              1\n",
       "Hockey        Teen               1\n",
       "NA            Romance            1\n",
       "Comedy        NA                 1\n",
       "dtype: int64"
      ]
     },
     "execution_count": 191,
     "metadata": {},
     "output_type": "execute_result"
    }
   ],
   "source": [
    "zz.sort_values(ascending=False)"
   ]
  },
  {
   "cell_type": "code",
   "execution_count": 192,
   "metadata": {
    "collapsed": false
   },
   "outputs": [
    {
     "name": "stdout",
     "output_type": "stream",
     "text": [
      "Took: 34.37349987030029 seconds\n"
     ]
    }
   ],
   "source": [
    "ug = defaultdict(int)\n",
    "\n",
    "def update_pairs(genres):\n",
    "    genres = genres.split(',')\n",
    "    \n",
    "    for p in combinations(genres, 2):\n",
    "        p = tuple(natsorted(list(p)))\n",
    "        ug[p] += 1\n",
    "    \n",
    "    return None\n",
    "\n",
    "\n",
    "start = time.time()\n",
    "\n",
    "data.loc[train_mask & (data.segment == 0), 'genres']\\\n",
    "    .str.replace(r':\\d+', '').map(update_pairs)\n",
    "    \n",
    "end = time.time()\n",
    "\n",
    "print('Took: {} seconds'.format(end - start))\n",
    "ss = pd.Series(ug)"
   ]
  },
  {
   "cell_type": "code",
   "execution_count": 193,
   "metadata": {
    "collapsed": false
   },
   "outputs": [
    {
     "data": {
      "text/plain": [
       "Cricket      Drama           52879\n",
       "             Reality         40231\n",
       "Drama        Romance         38788\n",
       "Cricket      Romance         33903\n",
       "             TalkShow        28409\n",
       "Comedy       Cricket         27308\n",
       "Drama        Reality         26416\n",
       "             Family          24712\n",
       "Comedy       Drama           23731\n",
       "Action       Cricket         23678\n",
       "Family       Romance         23146\n",
       "Cricket      LiveTV          22213\n",
       "Drama        TalkShow        21257\n",
       "Reality      Romance         20052\n",
       "Action       Drama           20038\n",
       "Cricket      Family          18103\n",
       "Comedy       Romance         17607\n",
       "Reality      TalkShow        16317\n",
       "Romance      TalkShow        15933\n",
       "Comedy       TalkShow        15170\n",
       "             Reality         15081\n",
       "Cricket      Crime           14509\n",
       "             Thriller        14508\n",
       "Drama        Thriller        14356\n",
       "Action       Romance         13944\n",
       "Drama        LiveTV          12862\n",
       "Action       Comedy          12756\n",
       "Family       Reality         12097\n",
       "Crime        Drama           12070\n",
       "Action       Reality         11855\n",
       "                             ...  \n",
       "Drama        IndiaVsSa           1\n",
       "Hockey       Volleyball          1\n",
       "Cricket      IndiaVsSa           1\n",
       "Science      Swimming            1\n",
       "Boxing       Table Tennis        1\n",
       "Swimming     Thriller            1\n",
       "Hockey       Swimming            1\n",
       "FormulaE     Tennis              1\n",
       "Badminton    IndiaVsSa           1\n",
       "FormulaE     Table Tennis        1\n",
       "Awards       Swimming            1\n",
       "Science      Volleyball          1\n",
       "Awards       NA                  1\n",
       "Family       NA                  1\n",
       "Sport        Swimming            1\n",
       "Badminton    Swimming            1\n",
       "FormulaE     NA                  1\n",
       "Documentary  FormulaE            1\n",
       "NA           Teen                1\n",
       "Football     Volleyball          1\n",
       "Awards       Boxing              1\n",
       "Boxing       Horror              1\n",
       "             Kabaddi             1\n",
       "             Wildlife            1\n",
       "Athletics    FormulaE            1\n",
       "NA           Wildlife            1\n",
       "             Travel              1\n",
       "             Tennis              1\n",
       "Kabaddi      Swimming            1\n",
       "Kids         Volleyball          1\n",
       "dtype: int64"
      ]
     },
     "execution_count": 193,
     "metadata": {},
     "output_type": "execute_result"
    }
   ],
   "source": [
    "ss.sort_values(ascending=False)"
   ]
  },
  {
   "cell_type": "code",
   "execution_count": 128,
   "metadata": {
    "collapsed": false
   },
   "outputs": [
    {
     "data": {
      "text/plain": [
       "221"
      ]
     },
     "execution_count": 128,
     "metadata": {},
     "output_type": "execute_result"
    }
   ],
   "source": [
    "ss.loc[ss > 700].ix[('TalkShow', 'Kids')]"
   ]
  },
  {
   "cell_type": "code",
   "execution_count": 194,
   "metadata": {
    "collapsed": false
   },
   "outputs": [
    {
     "data": {
      "text/plain": [
       "Family        TalkShow    0.166268\n",
       "              Romance     0.160495\n",
       "Drama         Family      0.155261\n",
       "Family        Teen        0.152196\n",
       "Romance       TalkShow    0.151597\n",
       "Family        Kids        0.142470\n",
       "Kids          TalkShow    0.142403\n",
       "Family        Thriller    0.141673\n",
       "TalkShow      Teen        0.141291\n",
       "Romance       Teen        0.138239\n",
       "Family        Horror      0.136106\n",
       "Drama         Romance     0.135547\n",
       "Family        Reality     0.133453\n",
       "Drama         Teen        0.131684\n",
       "              TalkShow    0.128811\n",
       "Comedy        Family      0.123672\n",
       "Awards        Family      0.123356\n",
       "Kids          Romance     0.122095\n",
       "Horror        TalkShow    0.117797\n",
       "Reality       Teen        0.117386\n",
       "Drama         Kids        0.116638\n",
       "Comedy        Kids        0.115297\n",
       "Romance       Thriller    0.115210\n",
       "Reality       Romance     0.113332\n",
       "Comedy        TalkShow    0.109846\n",
       "              Romance     0.109813\n",
       "Awards        Romance     0.108079\n",
       "Horror        Romance     0.107579\n",
       "TalkShow      Thriller    0.107192\n",
       "Crime         Family      0.105153\n",
       "                            ...   \n",
       "LiveTV        Science          NaN\n",
       "              Teen             NaN\n",
       "              Wildlife         NaN\n",
       "Mythology     Science          NaN\n",
       "              Sport            NaN\n",
       "              Teen             NaN\n",
       "              Tennis           NaN\n",
       "              Travel           NaN\n",
       "              Wildlife         NaN\n",
       "NA            Romance          NaN\n",
       "Reality       Tennis           NaN\n",
       "Romance       Tennis           NaN\n",
       "Science       Sport            NaN\n",
       "              TalkShow         NaN\n",
       "              Teen             NaN\n",
       "              Tennis           NaN\n",
       "              Thriller         NaN\n",
       "              Travel           NaN\n",
       "              Wildlife         NaN\n",
       "Sport         Teen             NaN\n",
       "              Travel           NaN\n",
       "              Wildlife         NaN\n",
       "Table Tennis  TalkShow         NaN\n",
       "TalkShow      Tennis           NaN\n",
       "Teen          Thriller         NaN\n",
       "              Travel           NaN\n",
       "              Wildlife         NaN\n",
       "Tennis        Thriller         NaN\n",
       "              Travel           NaN\n",
       "Travel        Wildlife         NaN\n",
       "dtype: float64"
      ]
     },
     "execution_count": 194,
     "metadata": {},
     "output_type": "execute_result"
    }
   ],
   "source": [
    "(zz / (ss.loc[ss > 700] + zz)).sort_values(ascending=False)"
   ]
  },
  {
   "cell_type": "markdown",
   "metadata": {},
   "source": [
    "** Feature Interaction **"
   ]
  },
  {
   "cell_type": "code",
   "execution_count": 169,
   "metadata": {
    "collapsed": true
   },
   "outputs": [],
   "source": [
    "sample = pd.DataFrame({\n",
    "    'a': [0, 1, 2, 3, 4],\n",
    "    'b': [4, 5, 6, 6, 7],\n",
    "    'c': [1231, 12323, 2131, 186813, 1232],\n",
    "    'd': ['1', 'a', 'b', 'c', 'd']\n",
    "})"
   ]
  },
  {
   "cell_type": "code",
   "execution_count": 170,
   "metadata": {
    "collapsed": false
   },
   "outputs": [],
   "source": [
    "def group_data(dd, degree=2):\n",
    "    new_data = []\n",
    "    m, n = dd.shape\n",
    "    \n",
    "    for indices in combinations(dd.columns, degree):\n",
    "        print('indices ', list(indices))\n",
    "        new_data.append([hash(tuple(v)) for v in dd.loc[:, list(indices)].values])\n",
    "        \n",
    "    return np.array(new_data).T"
   ]
  },
  {
   "cell_type": "code",
   "execution_count": 171,
   "metadata": {
    "collapsed": false
   },
   "outputs": [
    {
     "name": "stdout",
     "output_type": "stream",
     "text": [
      "indices  ['a', 'b']\n",
      "indices  ['a', 'c']\n",
      "indices  ['a', 'd']\n",
      "indices  ['b', 'c']\n",
      "indices  ['b', 'd']\n",
      "indices  ['c', 'd']\n"
     ]
    },
    {
     "data": {
      "text/plain": [
       "array([[ 3713080549412658231,  3713080550585032806, -2964044259052896873,\n",
       "         3713084880706683306, -2964039933936841973, -2961888136276091048],\n",
       "       [ 3713081631939823281,  3713081636332709731, -3867616707576071619,\n",
       "         3713085966445700031, -3867620889677583719, -3872017817295166069],\n",
       "       [ 3713082714458328131,  3713082716628790756,   676073585345615148,\n",
       "         3713087042273117856,   676068687149485448,   678572767032556573],\n",
       "       [ 3713083796999566006,  3713083666565046231, -2645688372481534680,\n",
       "         3713087233107120006, -2645684808279879955, -2896925619311346930],\n",
       "       [ 3713084879520235906,  3713084880681785231, -8792479809743199992,\n",
       "         3713088128405091156, -8792480863023787117, -8789544870582910492]])"
      ]
     },
     "execution_count": 171,
     "metadata": {},
     "output_type": "execute_result"
    }
   ],
   "source": [
    "group_data(sample)"
   ]
  },
  {
   "cell_type": "markdown",
   "metadata": {
    "collapsed": true
   },
   "source": [
    "** Are certain genres indicative of user being part of a segment ? **"
   ]
  },
  {
   "cell_type": "code",
   "execution_count": 23,
   "metadata": {
    "collapsed": false
   },
   "outputs": [
    {
     "name": "stdout",
     "output_type": "stream",
     "text": [
      "Took: 13.696777820587158 seconds\n"
     ]
    }
   ],
   "source": [
    "start = time.time()\n",
    "ohe_genres = data.genres.str.replace(r':\\d+', '').str.get_dummies(sep=',')\n",
    "tod_genres = data.tod.str.replace(r':\\d+', '').str.get_dummies(sep=',')\n",
    "end   = time.time()\n",
    "\n",
    "print('Took: {} seconds'.format(end - start))"
   ]
  },
  {
   "cell_type": "code",
   "execution_count": 24,
   "metadata": {
    "collapsed": false
   },
   "outputs": [],
   "source": [
    "ohe_f = pd.concat((ohe_genres, tod_genres, data.segment), axis='columns')"
   ]
  },
  {
   "cell_type": "code",
   "execution_count": 27,
   "metadata": {
    "collapsed": false
   },
   "outputs": [
    {
     "data": {
      "text/html": [
       "<div>\n",
       "<table border=\"1\" class=\"dataframe\">\n",
       "  <thead>\n",
       "    <tr>\n",
       "      <th></th>\n",
       "      <th></th>\n",
       "      <th></th>\n",
       "      <th></th>\n",
       "      <th></th>\n",
       "      <th></th>\n",
       "      <th></th>\n",
       "      <th></th>\n",
       "      <th></th>\n",
       "      <th></th>\n",
       "      <th></th>\n",
       "      <th></th>\n",
       "      <th></th>\n",
       "      <th></th>\n",
       "      <th></th>\n",
       "      <th></th>\n",
       "      <th></th>\n",
       "      <th></th>\n",
       "      <th></th>\n",
       "      <th></th>\n",
       "      <th></th>\n",
       "      <th></th>\n",
       "      <th></th>\n",
       "      <th>Drama</th>\n",
       "      <th colspan=\"4\" halign=\"left\">0</th>\n",
       "      <th colspan=\"4\" halign=\"left\">1</th>\n",
       "    </tr>\n",
       "    <tr>\n",
       "      <th></th>\n",
       "      <th></th>\n",
       "      <th></th>\n",
       "      <th></th>\n",
       "      <th></th>\n",
       "      <th></th>\n",
       "      <th></th>\n",
       "      <th></th>\n",
       "      <th></th>\n",
       "      <th></th>\n",
       "      <th></th>\n",
       "      <th></th>\n",
       "      <th></th>\n",
       "      <th></th>\n",
       "      <th></th>\n",
       "      <th></th>\n",
       "      <th></th>\n",
       "      <th></th>\n",
       "      <th></th>\n",
       "      <th></th>\n",
       "      <th></th>\n",
       "      <th></th>\n",
       "      <th></th>\n",
       "      <th>Comedy</th>\n",
       "      <th colspan=\"2\" halign=\"left\">0</th>\n",
       "      <th colspan=\"2\" halign=\"left\">1</th>\n",
       "      <th colspan=\"2\" halign=\"left\">0</th>\n",
       "      <th colspan=\"2\" halign=\"left\">1</th>\n",
       "    </tr>\n",
       "    <tr>\n",
       "      <th></th>\n",
       "      <th></th>\n",
       "      <th></th>\n",
       "      <th></th>\n",
       "      <th></th>\n",
       "      <th></th>\n",
       "      <th></th>\n",
       "      <th></th>\n",
       "      <th></th>\n",
       "      <th></th>\n",
       "      <th></th>\n",
       "      <th></th>\n",
       "      <th></th>\n",
       "      <th></th>\n",
       "      <th></th>\n",
       "      <th></th>\n",
       "      <th></th>\n",
       "      <th></th>\n",
       "      <th></th>\n",
       "      <th></th>\n",
       "      <th></th>\n",
       "      <th></th>\n",
       "      <th></th>\n",
       "      <th>Family</th>\n",
       "      <th>0</th>\n",
       "      <th>1</th>\n",
       "      <th>0</th>\n",
       "      <th>1</th>\n",
       "      <th>0</th>\n",
       "      <th>1</th>\n",
       "      <th>0</th>\n",
       "      <th>1</th>\n",
       "    </tr>\n",
       "    <tr>\n",
       "      <th>0</th>\n",
       "      <th>1</th>\n",
       "      <th>10</th>\n",
       "      <th>11</th>\n",
       "      <th>12</th>\n",
       "      <th>13</th>\n",
       "      <th>14</th>\n",
       "      <th>15</th>\n",
       "      <th>16</th>\n",
       "      <th>17</th>\n",
       "      <th>18</th>\n",
       "      <th>19</th>\n",
       "      <th>2</th>\n",
       "      <th>20</th>\n",
       "      <th>21</th>\n",
       "      <th>22</th>\n",
       "      <th>23</th>\n",
       "      <th>3</th>\n",
       "      <th>4</th>\n",
       "      <th>5</th>\n",
       "      <th>6</th>\n",
       "      <th>7</th>\n",
       "      <th>8</th>\n",
       "      <th>9</th>\n",
       "      <th></th>\n",
       "      <th></th>\n",
       "      <th></th>\n",
       "      <th></th>\n",
       "      <th></th>\n",
       "      <th></th>\n",
       "      <th></th>\n",
       "      <th></th>\n",
       "    </tr>\n",
       "  </thead>\n",
       "  <tbody>\n",
       "    <tr>\n",
       "      <th rowspan=\"30\" valign=\"top\">0</th>\n",
       "      <th rowspan=\"30\" valign=\"top\">0</th>\n",
       "      <th rowspan=\"30\" valign=\"top\">0</th>\n",
       "      <th rowspan=\"30\" valign=\"top\">0</th>\n",
       "      <th rowspan=\"30\" valign=\"top\">0</th>\n",
       "      <th rowspan=\"30\" valign=\"top\">0</th>\n",
       "      <th rowspan=\"30\" valign=\"top\">0</th>\n",
       "      <th rowspan=\"30\" valign=\"top\">0</th>\n",
       "      <th rowspan=\"30\" valign=\"top\">0</th>\n",
       "      <th rowspan=\"30\" valign=\"top\">0</th>\n",
       "      <th rowspan=\"30\" valign=\"top\">0</th>\n",
       "      <th rowspan=\"30\" valign=\"top\">0</th>\n",
       "      <th rowspan=\"30\" valign=\"top\">0</th>\n",
       "      <th rowspan=\"30\" valign=\"top\">0</th>\n",
       "      <th rowspan=\"30\" valign=\"top\">0</th>\n",
       "      <th rowspan=\"30\" valign=\"top\">0</th>\n",
       "      <th rowspan=\"30\" valign=\"top\">0</th>\n",
       "      <th rowspan=\"30\" valign=\"top\">0</th>\n",
       "      <th rowspan=\"30\" valign=\"top\">0</th>\n",
       "      <th rowspan=\"15\" valign=\"top\">0</th>\n",
       "      <th rowspan=\"7\" valign=\"top\">0</th>\n",
       "      <th rowspan=\"3\" valign=\"top\">0</th>\n",
       "      <th>0</th>\n",
       "      <th>1</th>\n",
       "      <td>0.041139</td>\n",
       "      <td>0.055556</td>\n",
       "      <td>0.018868</td>\n",
       "      <td>0.000000</td>\n",
       "      <td>0.067568</td>\n",
       "      <td>0.000000</td>\n",
       "      <td>0.125000</td>\n",
       "      <td>NaN</td>\n",
       "    </tr>\n",
       "    <tr>\n",
       "      <th rowspan=\"2\" valign=\"top\">1</th>\n",
       "      <th>0</th>\n",
       "      <td>0.055147</td>\n",
       "      <td>0.055556</td>\n",
       "      <td>0.065217</td>\n",
       "      <td>NaN</td>\n",
       "      <td>0.040323</td>\n",
       "      <td>0.000000</td>\n",
       "      <td>0.000000</td>\n",
       "      <td>NaN</td>\n",
       "    </tr>\n",
       "    <tr>\n",
       "      <th>1</th>\n",
       "      <td>0.111111</td>\n",
       "      <td>0.105263</td>\n",
       "      <td>0.058824</td>\n",
       "      <td>0.000000</td>\n",
       "      <td>0.076923</td>\n",
       "      <td>0.166667</td>\n",
       "      <td>0.000000</td>\n",
       "      <td>0.000000</td>\n",
       "    </tr>\n",
       "    <tr>\n",
       "      <th rowspan=\"4\" valign=\"top\">1</th>\n",
       "      <th rowspan=\"2\" valign=\"top\">0</th>\n",
       "      <th>0</th>\n",
       "      <td>0.029703</td>\n",
       "      <td>0.058824</td>\n",
       "      <td>0.080000</td>\n",
       "      <td>0.000000</td>\n",
       "      <td>0.057143</td>\n",
       "      <td>0.000000</td>\n",
       "      <td>0.000000</td>\n",
       "      <td>0.000000</td>\n",
       "    </tr>\n",
       "    <tr>\n",
       "      <th>1</th>\n",
       "      <td>0.000000</td>\n",
       "      <td>0.000000</td>\n",
       "      <td>0.500000</td>\n",
       "      <td>0.000000</td>\n",
       "      <td>0.000000</td>\n",
       "      <td>0.000000</td>\n",
       "      <td>NaN</td>\n",
       "      <td>NaN</td>\n",
       "    </tr>\n",
       "    <tr>\n",
       "      <th rowspan=\"2\" valign=\"top\">1</th>\n",
       "      <th>0</th>\n",
       "      <td>0.039216</td>\n",
       "      <td>0.083333</td>\n",
       "      <td>0.000000</td>\n",
       "      <td>NaN</td>\n",
       "      <td>0.137931</td>\n",
       "      <td>0.100000</td>\n",
       "      <td>NaN</td>\n",
       "      <td>NaN</td>\n",
       "    </tr>\n",
       "    <tr>\n",
       "      <th>1</th>\n",
       "      <td>0.111111</td>\n",
       "      <td>0.500000</td>\n",
       "      <td>0.000000</td>\n",
       "      <td>NaN</td>\n",
       "      <td>0.000000</td>\n",
       "      <td>0.000000</td>\n",
       "      <td>0.000000</td>\n",
       "      <td>NaN</td>\n",
       "    </tr>\n",
       "    <tr>\n",
       "      <th rowspan=\"8\" valign=\"top\">1</th>\n",
       "      <th rowspan=\"4\" valign=\"top\">0</th>\n",
       "      <th rowspan=\"2\" valign=\"top\">0</th>\n",
       "      <th>0</th>\n",
       "      <td>0.026549</td>\n",
       "      <td>0.080000</td>\n",
       "      <td>0.000000</td>\n",
       "      <td>NaN</td>\n",
       "      <td>0.135593</td>\n",
       "      <td>0.250000</td>\n",
       "      <td>0.166667</td>\n",
       "      <td>0.000000</td>\n",
       "    </tr>\n",
       "    <tr>\n",
       "      <th>1</th>\n",
       "      <td>0.000000</td>\n",
       "      <td>0.000000</td>\n",
       "      <td>NaN</td>\n",
       "      <td>NaN</td>\n",
       "      <td>0.000000</td>\n",
       "      <td>NaN</td>\n",
       "      <td>NaN</td>\n",
       "      <td>NaN</td>\n",
       "    </tr>\n",
       "    <tr>\n",
       "      <th rowspan=\"2\" valign=\"top\">1</th>\n",
       "      <th>0</th>\n",
       "      <td>0.000000</td>\n",
       "      <td>0.000000</td>\n",
       "      <td>NaN</td>\n",
       "      <td>NaN</td>\n",
       "      <td>0.000000</td>\n",
       "      <td>1.000000</td>\n",
       "      <td>NaN</td>\n",
       "      <td>NaN</td>\n",
       "    </tr>\n",
       "    <tr>\n",
       "      <th>1</th>\n",
       "      <td>NaN</td>\n",
       "      <td>NaN</td>\n",
       "      <td>NaN</td>\n",
       "      <td>NaN</td>\n",
       "      <td>NaN</td>\n",
       "      <td>NaN</td>\n",
       "      <td>0.000000</td>\n",
       "      <td>NaN</td>\n",
       "    </tr>\n",
       "    <tr>\n",
       "      <th rowspan=\"4\" valign=\"top\">1</th>\n",
       "      <th rowspan=\"2\" valign=\"top\">0</th>\n",
       "      <th>0</th>\n",
       "      <td>0.102564</td>\n",
       "      <td>0.142857</td>\n",
       "      <td>0.000000</td>\n",
       "      <td>NaN</td>\n",
       "      <td>0.043478</td>\n",
       "      <td>0.000000</td>\n",
       "      <td>0.000000</td>\n",
       "      <td>0.000000</td>\n",
       "    </tr>\n",
       "    <tr>\n",
       "      <th>1</th>\n",
       "      <td>0.000000</td>\n",
       "      <td>NaN</td>\n",
       "      <td>NaN</td>\n",
       "      <td>NaN</td>\n",
       "      <td>0.000000</td>\n",
       "      <td>0.000000</td>\n",
       "      <td>NaN</td>\n",
       "      <td>NaN</td>\n",
       "    </tr>\n",
       "    <tr>\n",
       "      <th rowspan=\"2\" valign=\"top\">1</th>\n",
       "      <th>0</th>\n",
       "      <td>0.142857</td>\n",
       "      <td>NaN</td>\n",
       "      <td>0.000000</td>\n",
       "      <td>NaN</td>\n",
       "      <td>0.100000</td>\n",
       "      <td>0.500000</td>\n",
       "      <td>NaN</td>\n",
       "      <td>NaN</td>\n",
       "    </tr>\n",
       "    <tr>\n",
       "      <th>1</th>\n",
       "      <td>0.200000</td>\n",
       "      <td>0.000000</td>\n",
       "      <td>0.000000</td>\n",
       "      <td>0.000000</td>\n",
       "      <td>0.000000</td>\n",
       "      <td>0.000000</td>\n",
       "      <td>0.000000</td>\n",
       "      <td>NaN</td>\n",
       "    </tr>\n",
       "    <tr>\n",
       "      <th rowspan=\"15\" valign=\"top\">1</th>\n",
       "      <th rowspan=\"7\" valign=\"top\">0</th>\n",
       "      <th rowspan=\"4\" valign=\"top\">0</th>\n",
       "      <th rowspan=\"2\" valign=\"top\">0</th>\n",
       "      <th>0</th>\n",
       "      <td>0.095890</td>\n",
       "      <td>0.000000</td>\n",
       "      <td>0.000000</td>\n",
       "      <td>NaN</td>\n",
       "      <td>0.093750</td>\n",
       "      <td>0.000000</td>\n",
       "      <td>0.000000</td>\n",
       "      <td>NaN</td>\n",
       "    </tr>\n",
       "    <tr>\n",
       "      <th>1</th>\n",
       "      <td>0.000000</td>\n",
       "      <td>NaN</td>\n",
       "      <td>NaN</td>\n",
       "      <td>NaN</td>\n",
       "      <td>0.000000</td>\n",
       "      <td>NaN</td>\n",
       "      <td>NaN</td>\n",
       "      <td>NaN</td>\n",
       "    </tr>\n",
       "    <tr>\n",
       "      <th rowspan=\"2\" valign=\"top\">1</th>\n",
       "      <th>0</th>\n",
       "      <td>NaN</td>\n",
       "      <td>0.000000</td>\n",
       "      <td>NaN</td>\n",
       "      <td>NaN</td>\n",
       "      <td>NaN</td>\n",
       "      <td>NaN</td>\n",
       "      <td>NaN</td>\n",
       "      <td>NaN</td>\n",
       "    </tr>\n",
       "    <tr>\n",
       "      <th>1</th>\n",
       "      <td>NaN</td>\n",
       "      <td>NaN</td>\n",
       "      <td>NaN</td>\n",
       "      <td>NaN</td>\n",
       "      <td>0.000000</td>\n",
       "      <td>NaN</td>\n",
       "      <td>NaN</td>\n",
       "      <td>NaN</td>\n",
       "    </tr>\n",
       "    <tr>\n",
       "      <th rowspan=\"3\" valign=\"top\">1</th>\n",
       "      <th>0</th>\n",
       "      <th>0</th>\n",
       "      <td>0.000000</td>\n",
       "      <td>0.333333</td>\n",
       "      <td>0.000000</td>\n",
       "      <td>NaN</td>\n",
       "      <td>NaN</td>\n",
       "      <td>NaN</td>\n",
       "      <td>NaN</td>\n",
       "      <td>NaN</td>\n",
       "    </tr>\n",
       "    <tr>\n",
       "      <th rowspan=\"2\" valign=\"top\">1</th>\n",
       "      <th>0</th>\n",
       "      <td>NaN</td>\n",
       "      <td>NaN</td>\n",
       "      <td>0.000000</td>\n",
       "      <td>NaN</td>\n",
       "      <td>0.000000</td>\n",
       "      <td>0.000000</td>\n",
       "      <td>NaN</td>\n",
       "      <td>NaN</td>\n",
       "    </tr>\n",
       "    <tr>\n",
       "      <th>1</th>\n",
       "      <td>1.000000</td>\n",
       "      <td>0.000000</td>\n",
       "      <td>NaN</td>\n",
       "      <td>NaN</td>\n",
       "      <td>NaN</td>\n",
       "      <td>NaN</td>\n",
       "      <td>NaN</td>\n",
       "      <td>NaN</td>\n",
       "    </tr>\n",
       "    <tr>\n",
       "      <th rowspan=\"8\" valign=\"top\">1</th>\n",
       "      <th rowspan=\"4\" valign=\"top\">0</th>\n",
       "      <th rowspan=\"2\" valign=\"top\">0</th>\n",
       "      <th>0</th>\n",
       "      <td>0.166667</td>\n",
       "      <td>0.166667</td>\n",
       "      <td>0.000000</td>\n",
       "      <td>0.000000</td>\n",
       "      <td>0.000000</td>\n",
       "      <td>0.500000</td>\n",
       "      <td>0.000000</td>\n",
       "      <td>0.000000</td>\n",
       "    </tr>\n",
       "    <tr>\n",
       "      <th>1</th>\n",
       "      <td>0.000000</td>\n",
       "      <td>NaN</td>\n",
       "      <td>NaN</td>\n",
       "      <td>NaN</td>\n",
       "      <td>0.000000</td>\n",
       "      <td>1.000000</td>\n",
       "      <td>NaN</td>\n",
       "      <td>NaN</td>\n",
       "    </tr>\n",
       "    <tr>\n",
       "      <th rowspan=\"2\" valign=\"top\">1</th>\n",
       "      <th>0</th>\n",
       "      <td>1.000000</td>\n",
       "      <td>NaN</td>\n",
       "      <td>0.000000</td>\n",
       "      <td>NaN</td>\n",
       "      <td>0.500000</td>\n",
       "      <td>NaN</td>\n",
       "      <td>NaN</td>\n",
       "      <td>NaN</td>\n",
       "    </tr>\n",
       "    <tr>\n",
       "      <th>1</th>\n",
       "      <td>NaN</td>\n",
       "      <td>0.000000</td>\n",
       "      <td>NaN</td>\n",
       "      <td>NaN</td>\n",
       "      <td>1.000000</td>\n",
       "      <td>NaN</td>\n",
       "      <td>NaN</td>\n",
       "      <td>NaN</td>\n",
       "    </tr>\n",
       "    <tr>\n",
       "      <th rowspan=\"4\" valign=\"top\">1</th>\n",
       "      <th rowspan=\"2\" valign=\"top\">0</th>\n",
       "      <th>0</th>\n",
       "      <td>0.000000</td>\n",
       "      <td>0.000000</td>\n",
       "      <td>0.000000</td>\n",
       "      <td>NaN</td>\n",
       "      <td>0.000000</td>\n",
       "      <td>0.000000</td>\n",
       "      <td>0.000000</td>\n",
       "      <td>NaN</td>\n",
       "    </tr>\n",
       "    <tr>\n",
       "      <th>1</th>\n",
       "      <td>NaN</td>\n",
       "      <td>NaN</td>\n",
       "      <td>1.000000</td>\n",
       "      <td>NaN</td>\n",
       "      <td>NaN</td>\n",
       "      <td>NaN</td>\n",
       "      <td>NaN</td>\n",
       "      <td>NaN</td>\n",
       "    </tr>\n",
       "    <tr>\n",
       "      <th rowspan=\"2\" valign=\"top\">1</th>\n",
       "      <th>0</th>\n",
       "      <td>0.000000</td>\n",
       "      <td>0.000000</td>\n",
       "      <td>NaN</td>\n",
       "      <td>NaN</td>\n",
       "      <td>NaN</td>\n",
       "      <td>0.000000</td>\n",
       "      <td>NaN</td>\n",
       "      <td>NaN</td>\n",
       "    </tr>\n",
       "    <tr>\n",
       "      <th>1</th>\n",
       "      <td>0.000000</td>\n",
       "      <td>0.000000</td>\n",
       "      <td>0.000000</td>\n",
       "      <td>NaN</td>\n",
       "      <td>0.000000</td>\n",
       "      <td>NaN</td>\n",
       "      <td>0.000000</td>\n",
       "      <td>0.000000</td>\n",
       "    </tr>\n",
       "    <tr>\n",
       "      <th>...</th>\n",
       "      <th>...</th>\n",
       "      <th>...</th>\n",
       "      <th>...</th>\n",
       "      <th>...</th>\n",
       "      <th>...</th>\n",
       "      <th>...</th>\n",
       "      <th>...</th>\n",
       "      <th>...</th>\n",
       "      <th>...</th>\n",
       "      <th>...</th>\n",
       "      <th>...</th>\n",
       "      <th>...</th>\n",
       "      <th>...</th>\n",
       "      <th>...</th>\n",
       "      <th>...</th>\n",
       "      <th>...</th>\n",
       "      <th>...</th>\n",
       "      <th>...</th>\n",
       "      <th>...</th>\n",
       "      <th>...</th>\n",
       "      <th>...</th>\n",
       "      <th>...</th>\n",
       "      <th>...</th>\n",
       "      <td>...</td>\n",
       "      <td>...</td>\n",
       "      <td>...</td>\n",
       "      <td>...</td>\n",
       "      <td>...</td>\n",
       "      <td>...</td>\n",
       "      <td>...</td>\n",
       "      <td>...</td>\n",
       "    </tr>\n",
       "    <tr>\n",
       "      <th rowspan=\"30\" valign=\"top\">1</th>\n",
       "      <th rowspan=\"30\" valign=\"top\">1</th>\n",
       "      <th rowspan=\"30\" valign=\"top\">1</th>\n",
       "      <th rowspan=\"30\" valign=\"top\">1</th>\n",
       "      <th rowspan=\"30\" valign=\"top\">1</th>\n",
       "      <th rowspan=\"30\" valign=\"top\">1</th>\n",
       "      <th rowspan=\"30\" valign=\"top\">1</th>\n",
       "      <th rowspan=\"30\" valign=\"top\">1</th>\n",
       "      <th rowspan=\"30\" valign=\"top\">1</th>\n",
       "      <th rowspan=\"30\" valign=\"top\">1</th>\n",
       "      <th rowspan=\"30\" valign=\"top\">1</th>\n",
       "      <th rowspan=\"30\" valign=\"top\">1</th>\n",
       "      <th rowspan=\"30\" valign=\"top\">1</th>\n",
       "      <th rowspan=\"30\" valign=\"top\">1</th>\n",
       "      <th rowspan=\"30\" valign=\"top\">1</th>\n",
       "      <th rowspan=\"30\" valign=\"top\">1</th>\n",
       "      <th rowspan=\"30\" valign=\"top\">1</th>\n",
       "      <th rowspan=\"30\" valign=\"top\">1</th>\n",
       "      <th rowspan=\"30\" valign=\"top\">1</th>\n",
       "      <th rowspan=\"14\" valign=\"top\">0</th>\n",
       "      <th rowspan=\"6\" valign=\"top\">0</th>\n",
       "      <th rowspan=\"2\" valign=\"top\">0</th>\n",
       "      <th rowspan=\"2\" valign=\"top\">1</th>\n",
       "      <th>0</th>\n",
       "      <td>NaN</td>\n",
       "      <td>NaN</td>\n",
       "      <td>0.000000</td>\n",
       "      <td>NaN</td>\n",
       "      <td>0.000000</td>\n",
       "      <td>0.000000</td>\n",
       "      <td>0.000000</td>\n",
       "      <td>NaN</td>\n",
       "    </tr>\n",
       "    <tr>\n",
       "      <th>1</th>\n",
       "      <td>0.000000</td>\n",
       "      <td>0.000000</td>\n",
       "      <td>0.000000</td>\n",
       "      <td>0.000000</td>\n",
       "      <td>0.214286</td>\n",
       "      <td>0.250000</td>\n",
       "      <td>0.086957</td>\n",
       "      <td>0.260870</td>\n",
       "    </tr>\n",
       "    <tr>\n",
       "      <th rowspan=\"4\" valign=\"top\">1</th>\n",
       "      <th rowspan=\"2\" valign=\"top\">0</th>\n",
       "      <th>0</th>\n",
       "      <td>NaN</td>\n",
       "      <td>NaN</td>\n",
       "      <td>NaN</td>\n",
       "      <td>NaN</td>\n",
       "      <td>NaN</td>\n",
       "      <td>0.000000</td>\n",
       "      <td>0.500000</td>\n",
       "      <td>0.000000</td>\n",
       "    </tr>\n",
       "    <tr>\n",
       "      <th>1</th>\n",
       "      <td>NaN</td>\n",
       "      <td>0.000000</td>\n",
       "      <td>0.000000</td>\n",
       "      <td>NaN</td>\n",
       "      <td>0.000000</td>\n",
       "      <td>0.666667</td>\n",
       "      <td>0.000000</td>\n",
       "      <td>0.000000</td>\n",
       "    </tr>\n",
       "    <tr>\n",
       "      <th rowspan=\"2\" valign=\"top\">1</th>\n",
       "      <th>0</th>\n",
       "      <td>0.000000</td>\n",
       "      <td>0.000000</td>\n",
       "      <td>NaN</td>\n",
       "      <td>NaN</td>\n",
       "      <td>0.000000</td>\n",
       "      <td>NaN</td>\n",
       "      <td>0.000000</td>\n",
       "      <td>0.333333</td>\n",
       "    </tr>\n",
       "    <tr>\n",
       "      <th>1</th>\n",
       "      <td>0.000000</td>\n",
       "      <td>1.000000</td>\n",
       "      <td>0.000000</td>\n",
       "      <td>0.500000</td>\n",
       "      <td>0.000000</td>\n",
       "      <td>0.350000</td>\n",
       "      <td>0.000000</td>\n",
       "      <td>0.296296</td>\n",
       "    </tr>\n",
       "    <tr>\n",
       "      <th rowspan=\"8\" valign=\"top\">1</th>\n",
       "      <th rowspan=\"4\" valign=\"top\">0</th>\n",
       "      <th rowspan=\"2\" valign=\"top\">0</th>\n",
       "      <th>0</th>\n",
       "      <td>0.000000</td>\n",
       "      <td>0.000000</td>\n",
       "      <td>NaN</td>\n",
       "      <td>NaN</td>\n",
       "      <td>0.000000</td>\n",
       "      <td>NaN</td>\n",
       "      <td>0.000000</td>\n",
       "      <td>NaN</td>\n",
       "    </tr>\n",
       "    <tr>\n",
       "      <th>1</th>\n",
       "      <td>NaN</td>\n",
       "      <td>0.000000</td>\n",
       "      <td>0.000000</td>\n",
       "      <td>NaN</td>\n",
       "      <td>0.000000</td>\n",
       "      <td>0.000000</td>\n",
       "      <td>0.000000</td>\n",
       "      <td>0.000000</td>\n",
       "    </tr>\n",
       "    <tr>\n",
       "      <th rowspan=\"2\" valign=\"top\">1</th>\n",
       "      <th>0</th>\n",
       "      <td>NaN</td>\n",
       "      <td>0.000000</td>\n",
       "      <td>NaN</td>\n",
       "      <td>NaN</td>\n",
       "      <td>NaN</td>\n",
       "      <td>NaN</td>\n",
       "      <td>NaN</td>\n",
       "      <td>NaN</td>\n",
       "    </tr>\n",
       "    <tr>\n",
       "      <th>1</th>\n",
       "      <td>NaN</td>\n",
       "      <td>NaN</td>\n",
       "      <td>0.000000</td>\n",
       "      <td>NaN</td>\n",
       "      <td>0.000000</td>\n",
       "      <td>0.250000</td>\n",
       "      <td>0.000000</td>\n",
       "      <td>0.000000</td>\n",
       "    </tr>\n",
       "    <tr>\n",
       "      <th rowspan=\"4\" valign=\"top\">1</th>\n",
       "      <th rowspan=\"2\" valign=\"top\">0</th>\n",
       "      <th>0</th>\n",
       "      <td>0.000000</td>\n",
       "      <td>1.000000</td>\n",
       "      <td>NaN</td>\n",
       "      <td>NaN</td>\n",
       "      <td>NaN</td>\n",
       "      <td>1.000000</td>\n",
       "      <td>NaN</td>\n",
       "      <td>NaN</td>\n",
       "    </tr>\n",
       "    <tr>\n",
       "      <th>1</th>\n",
       "      <td>NaN</td>\n",
       "      <td>NaN</td>\n",
       "      <td>NaN</td>\n",
       "      <td>NaN</td>\n",
       "      <td>0.000000</td>\n",
       "      <td>NaN</td>\n",
       "      <td>0.333333</td>\n",
       "      <td>0.500000</td>\n",
       "    </tr>\n",
       "    <tr>\n",
       "      <th rowspan=\"2\" valign=\"top\">1</th>\n",
       "      <th>0</th>\n",
       "      <td>NaN</td>\n",
       "      <td>NaN</td>\n",
       "      <td>1.000000</td>\n",
       "      <td>NaN</td>\n",
       "      <td>0.000000</td>\n",
       "      <td>0.500000</td>\n",
       "      <td>NaN</td>\n",
       "      <td>0.000000</td>\n",
       "    </tr>\n",
       "    <tr>\n",
       "      <th>1</th>\n",
       "      <td>0.000000</td>\n",
       "      <td>0.000000</td>\n",
       "      <td>0.000000</td>\n",
       "      <td>0.000000</td>\n",
       "      <td>0.000000</td>\n",
       "      <td>0.217391</td>\n",
       "      <td>0.190476</td>\n",
       "      <td>0.250000</td>\n",
       "    </tr>\n",
       "    <tr>\n",
       "      <th rowspan=\"16\" valign=\"top\">1</th>\n",
       "      <th rowspan=\"8\" valign=\"top\">0</th>\n",
       "      <th rowspan=\"4\" valign=\"top\">0</th>\n",
       "      <th rowspan=\"2\" valign=\"top\">0</th>\n",
       "      <th>0</th>\n",
       "      <td>0.000000</td>\n",
       "      <td>NaN</td>\n",
       "      <td>0.000000</td>\n",
       "      <td>0.000000</td>\n",
       "      <td>0.285714</td>\n",
       "      <td>0.000000</td>\n",
       "      <td>0.071429</td>\n",
       "      <td>0.000000</td>\n",
       "    </tr>\n",
       "    <tr>\n",
       "      <th>1</th>\n",
       "      <td>0.000000</td>\n",
       "      <td>0.000000</td>\n",
       "      <td>0.000000</td>\n",
       "      <td>NaN</td>\n",
       "      <td>0.142857</td>\n",
       "      <td>0.133333</td>\n",
       "      <td>0.052632</td>\n",
       "      <td>0.250000</td>\n",
       "    </tr>\n",
       "    <tr>\n",
       "      <th rowspan=\"2\" valign=\"top\">1</th>\n",
       "      <th>0</th>\n",
       "      <td>NaN</td>\n",
       "      <td>NaN</td>\n",
       "      <td>0.000000</td>\n",
       "      <td>NaN</td>\n",
       "      <td>0.000000</td>\n",
       "      <td>0.000000</td>\n",
       "      <td>0.000000</td>\n",
       "      <td>0.000000</td>\n",
       "    </tr>\n",
       "    <tr>\n",
       "      <th>1</th>\n",
       "      <td>0.000000</td>\n",
       "      <td>0.000000</td>\n",
       "      <td>0.000000</td>\n",
       "      <td>0.000000</td>\n",
       "      <td>0.000000</td>\n",
       "      <td>0.400000</td>\n",
       "      <td>0.250000</td>\n",
       "      <td>0.071429</td>\n",
       "    </tr>\n",
       "    <tr>\n",
       "      <th rowspan=\"4\" valign=\"top\">1</th>\n",
       "      <th rowspan=\"2\" valign=\"top\">0</th>\n",
       "      <th>0</th>\n",
       "      <td>NaN</td>\n",
       "      <td>NaN</td>\n",
       "      <td>1.000000</td>\n",
       "      <td>NaN</td>\n",
       "      <td>1.000000</td>\n",
       "      <td>0.000000</td>\n",
       "      <td>NaN</td>\n",
       "      <td>NaN</td>\n",
       "    </tr>\n",
       "    <tr>\n",
       "      <th>1</th>\n",
       "      <td>NaN</td>\n",
       "      <td>0.000000</td>\n",
       "      <td>NaN</td>\n",
       "      <td>NaN</td>\n",
       "      <td>0.666667</td>\n",
       "      <td>0.000000</td>\n",
       "      <td>0.000000</td>\n",
       "      <td>0.333333</td>\n",
       "    </tr>\n",
       "    <tr>\n",
       "      <th rowspan=\"2\" valign=\"top\">1</th>\n",
       "      <th>0</th>\n",
       "      <td>NaN</td>\n",
       "      <td>NaN</td>\n",
       "      <td>NaN</td>\n",
       "      <td>NaN</td>\n",
       "      <td>NaN</td>\n",
       "      <td>NaN</td>\n",
       "      <td>NaN</td>\n",
       "      <td>0.000000</td>\n",
       "    </tr>\n",
       "    <tr>\n",
       "      <th>1</th>\n",
       "      <td>0.000000</td>\n",
       "      <td>0.000000</td>\n",
       "      <td>0.000000</td>\n",
       "      <td>0.333333</td>\n",
       "      <td>0.111111</td>\n",
       "      <td>0.105263</td>\n",
       "      <td>0.062500</td>\n",
       "      <td>0.107143</td>\n",
       "    </tr>\n",
       "    <tr>\n",
       "      <th rowspan=\"8\" valign=\"top\">1</th>\n",
       "      <th rowspan=\"4\" valign=\"top\">0</th>\n",
       "      <th rowspan=\"2\" valign=\"top\">0</th>\n",
       "      <th>0</th>\n",
       "      <td>0.000000</td>\n",
       "      <td>NaN</td>\n",
       "      <td>0.000000</td>\n",
       "      <td>0.000000</td>\n",
       "      <td>0.000000</td>\n",
       "      <td>0.200000</td>\n",
       "      <td>0.200000</td>\n",
       "      <td>0.000000</td>\n",
       "    </tr>\n",
       "    <tr>\n",
       "      <th>1</th>\n",
       "      <td>0.000000</td>\n",
       "      <td>0.500000</td>\n",
       "      <td>0.000000</td>\n",
       "      <td>0.000000</td>\n",
       "      <td>0.000000</td>\n",
       "      <td>0.000000</td>\n",
       "      <td>0.083333</td>\n",
       "      <td>0.066667</td>\n",
       "    </tr>\n",
       "    <tr>\n",
       "      <th rowspan=\"2\" valign=\"top\">1</th>\n",
       "      <th>0</th>\n",
       "      <td>NaN</td>\n",
       "      <td>NaN</td>\n",
       "      <td>NaN</td>\n",
       "      <td>0.000000</td>\n",
       "      <td>NaN</td>\n",
       "      <td>0.250000</td>\n",
       "      <td>0.000000</td>\n",
       "      <td>0.000000</td>\n",
       "    </tr>\n",
       "    <tr>\n",
       "      <th>1</th>\n",
       "      <td>0.000000</td>\n",
       "      <td>0.000000</td>\n",
       "      <td>0.000000</td>\n",
       "      <td>0.000000</td>\n",
       "      <td>0.000000</td>\n",
       "      <td>0.181818</td>\n",
       "      <td>0.125000</td>\n",
       "      <td>0.000000</td>\n",
       "    </tr>\n",
       "    <tr>\n",
       "      <th rowspan=\"4\" valign=\"top\">1</th>\n",
       "      <th rowspan=\"2\" valign=\"top\">0</th>\n",
       "      <th>0</th>\n",
       "      <td>NaN</td>\n",
       "      <td>NaN</td>\n",
       "      <td>0.000000</td>\n",
       "      <td>NaN</td>\n",
       "      <td>0.000000</td>\n",
       "      <td>0.600000</td>\n",
       "      <td>0.250000</td>\n",
       "      <td>0.000000</td>\n",
       "    </tr>\n",
       "    <tr>\n",
       "      <th>1</th>\n",
       "      <td>0.000000</td>\n",
       "      <td>0.000000</td>\n",
       "      <td>0.166667</td>\n",
       "      <td>NaN</td>\n",
       "      <td>0.166667</td>\n",
       "      <td>0.250000</td>\n",
       "      <td>0.000000</td>\n",
       "      <td>0.416667</td>\n",
       "    </tr>\n",
       "    <tr>\n",
       "      <th rowspan=\"2\" valign=\"top\">1</th>\n",
       "      <th>0</th>\n",
       "      <td>NaN</td>\n",
       "      <td>NaN</td>\n",
       "      <td>0.000000</td>\n",
       "      <td>NaN</td>\n",
       "      <td>0.000000</td>\n",
       "      <td>0.250000</td>\n",
       "      <td>0.000000</td>\n",
       "      <td>0.200000</td>\n",
       "    </tr>\n",
       "    <tr>\n",
       "      <th>1</th>\n",
       "      <td>0.100000</td>\n",
       "      <td>0.333333</td>\n",
       "      <td>0.133333</td>\n",
       "      <td>0.222222</td>\n",
       "      <td>0.100000</td>\n",
       "      <td>0.194286</td>\n",
       "      <td>0.083333</td>\n",
       "      <td>0.198113</td>\n",
       "    </tr>\n",
       "  </tbody>\n",
       "</table>\n",
       "<p>67445 rows × 8 columns</p>\n",
       "</div>"
      ],
      "text/plain": [
       "Drama                                                                 0  \\\n",
       "Comedy                                                                0   \n",
       "Family                                                                0   \n",
       "0 1 10 11 12 13 14 15 16 17 18 19 2 20 21 22 23 3 4 5 6 7 8 9             \n",
       "0 0 0  0  0  0  0  0  0  0  0  0  0 0  0  0  0  0 0 0 0 0 0 1  0.041139   \n",
       "                                                          1 0  0.055147   \n",
       "                                                            1  0.111111   \n",
       "                                                        1 0 0  0.029703   \n",
       "                                                            1  0.000000   \n",
       "                                                          1 0  0.039216   \n",
       "                                                            1  0.111111   \n",
       "                                                      1 0 0 0  0.026549   \n",
       "                                                            1  0.000000   \n",
       "                                                          1 0  0.000000   \n",
       "                                                            1       NaN   \n",
       "                                                        1 0 0  0.102564   \n",
       "                                                            1  0.000000   \n",
       "                                                          1 0  0.142857   \n",
       "                                                            1  0.200000   \n",
       "                                                    1 0 0 0 0  0.095890   \n",
       "                                                            1  0.000000   \n",
       "                                                          1 0       NaN   \n",
       "                                                            1       NaN   \n",
       "                                                        1 0 0  0.000000   \n",
       "                                                          1 0       NaN   \n",
       "                                                            1  1.000000   \n",
       "                                                      1 0 0 0  0.166667   \n",
       "                                                            1  0.000000   \n",
       "                                                          1 0  1.000000   \n",
       "                                                            1       NaN   \n",
       "                                                        1 0 0  0.000000   \n",
       "                                                            1       NaN   \n",
       "                                                          1 0  0.000000   \n",
       "                                                            1  0.000000   \n",
       "...                                                                 ...   \n",
       "1 1 1  1  1  1  1  1  1  1  1  1  1 1  1  1  1  1 1 0 0 0 1 0       NaN   \n",
       "                                                            1  0.000000   \n",
       "                                                        1 0 0       NaN   \n",
       "                                                            1       NaN   \n",
       "                                                          1 0  0.000000   \n",
       "                                                            1  0.000000   \n",
       "                                                      1 0 0 0  0.000000   \n",
       "                                                            1       NaN   \n",
       "                                                          1 0       NaN   \n",
       "                                                            1       NaN   \n",
       "                                                        1 0 0  0.000000   \n",
       "                                                            1       NaN   \n",
       "                                                          1 0       NaN   \n",
       "                                                            1  0.000000   \n",
       "                                                    1 0 0 0 0  0.000000   \n",
       "                                                            1  0.000000   \n",
       "                                                          1 0       NaN   \n",
       "                                                            1  0.000000   \n",
       "                                                        1 0 0       NaN   \n",
       "                                                            1       NaN   \n",
       "                                                          1 0       NaN   \n",
       "                                                            1  0.000000   \n",
       "                                                      1 0 0 0  0.000000   \n",
       "                                                            1  0.000000   \n",
       "                                                          1 0       NaN   \n",
       "                                                            1  0.000000   \n",
       "                                                        1 0 0       NaN   \n",
       "                                                            1  0.000000   \n",
       "                                                          1 0       NaN   \n",
       "                                                            1  0.100000   \n",
       "\n",
       "Drama                                                                    \\\n",
       "Comedy                                                                    \n",
       "Family                                                                1   \n",
       "0 1 10 11 12 13 14 15 16 17 18 19 2 20 21 22 23 3 4 5 6 7 8 9             \n",
       "0 0 0  0  0  0  0  0  0  0  0  0  0 0  0  0  0  0 0 0 0 0 0 1  0.055556   \n",
       "                                                          1 0  0.055556   \n",
       "                                                            1  0.105263   \n",
       "                                                        1 0 0  0.058824   \n",
       "                                                            1  0.000000   \n",
       "                                                          1 0  0.083333   \n",
       "                                                            1  0.500000   \n",
       "                                                      1 0 0 0  0.080000   \n",
       "                                                            1  0.000000   \n",
       "                                                          1 0  0.000000   \n",
       "                                                            1       NaN   \n",
       "                                                        1 0 0  0.142857   \n",
       "                                                            1       NaN   \n",
       "                                                          1 0       NaN   \n",
       "                                                            1  0.000000   \n",
       "                                                    1 0 0 0 0  0.000000   \n",
       "                                                            1       NaN   \n",
       "                                                          1 0  0.000000   \n",
       "                                                            1       NaN   \n",
       "                                                        1 0 0  0.333333   \n",
       "                                                          1 0       NaN   \n",
       "                                                            1  0.000000   \n",
       "                                                      1 0 0 0  0.166667   \n",
       "                                                            1       NaN   \n",
       "                                                          1 0       NaN   \n",
       "                                                            1  0.000000   \n",
       "                                                        1 0 0  0.000000   \n",
       "                                                            1       NaN   \n",
       "                                                          1 0  0.000000   \n",
       "                                                            1  0.000000   \n",
       "...                                                                 ...   \n",
       "1 1 1  1  1  1  1  1  1  1  1  1  1 1  1  1  1  1 1 0 0 0 1 0       NaN   \n",
       "                                                            1  0.000000   \n",
       "                                                        1 0 0       NaN   \n",
       "                                                            1  0.000000   \n",
       "                                                          1 0  0.000000   \n",
       "                                                            1  1.000000   \n",
       "                                                      1 0 0 0  0.000000   \n",
       "                                                            1  0.000000   \n",
       "                                                          1 0  0.000000   \n",
       "                                                            1       NaN   \n",
       "                                                        1 0 0  1.000000   \n",
       "                                                            1       NaN   \n",
       "                                                          1 0       NaN   \n",
       "                                                            1  0.000000   \n",
       "                                                    1 0 0 0 0       NaN   \n",
       "                                                            1  0.000000   \n",
       "                                                          1 0       NaN   \n",
       "                                                            1  0.000000   \n",
       "                                                        1 0 0       NaN   \n",
       "                                                            1  0.000000   \n",
       "                                                          1 0       NaN   \n",
       "                                                            1  0.000000   \n",
       "                                                      1 0 0 0       NaN   \n",
       "                                                            1  0.500000   \n",
       "                                                          1 0       NaN   \n",
       "                                                            1  0.000000   \n",
       "                                                        1 0 0       NaN   \n",
       "                                                            1  0.000000   \n",
       "                                                          1 0       NaN   \n",
       "                                                            1  0.333333   \n",
       "\n",
       "Drama                                                                    \\\n",
       "Comedy                                                                1   \n",
       "Family                                                                0   \n",
       "0 1 10 11 12 13 14 15 16 17 18 19 2 20 21 22 23 3 4 5 6 7 8 9             \n",
       "0 0 0  0  0  0  0  0  0  0  0  0  0 0  0  0  0  0 0 0 0 0 0 1  0.018868   \n",
       "                                                          1 0  0.065217   \n",
       "                                                            1  0.058824   \n",
       "                                                        1 0 0  0.080000   \n",
       "                                                            1  0.500000   \n",
       "                                                          1 0  0.000000   \n",
       "                                                            1  0.000000   \n",
       "                                                      1 0 0 0  0.000000   \n",
       "                                                            1       NaN   \n",
       "                                                          1 0       NaN   \n",
       "                                                            1       NaN   \n",
       "                                                        1 0 0  0.000000   \n",
       "                                                            1       NaN   \n",
       "                                                          1 0  0.000000   \n",
       "                                                            1  0.000000   \n",
       "                                                    1 0 0 0 0  0.000000   \n",
       "                                                            1       NaN   \n",
       "                                                          1 0       NaN   \n",
       "                                                            1       NaN   \n",
       "                                                        1 0 0  0.000000   \n",
       "                                                          1 0  0.000000   \n",
       "                                                            1       NaN   \n",
       "                                                      1 0 0 0  0.000000   \n",
       "                                                            1       NaN   \n",
       "                                                          1 0  0.000000   \n",
       "                                                            1       NaN   \n",
       "                                                        1 0 0  0.000000   \n",
       "                                                            1  1.000000   \n",
       "                                                          1 0       NaN   \n",
       "                                                            1  0.000000   \n",
       "...                                                                 ...   \n",
       "1 1 1  1  1  1  1  1  1  1  1  1  1 1  1  1  1  1 1 0 0 0 1 0  0.000000   \n",
       "                                                            1  0.000000   \n",
       "                                                        1 0 0       NaN   \n",
       "                                                            1  0.000000   \n",
       "                                                          1 0       NaN   \n",
       "                                                            1  0.000000   \n",
       "                                                      1 0 0 0       NaN   \n",
       "                                                            1  0.000000   \n",
       "                                                          1 0       NaN   \n",
       "                                                            1  0.000000   \n",
       "                                                        1 0 0       NaN   \n",
       "                                                            1       NaN   \n",
       "                                                          1 0  1.000000   \n",
       "                                                            1  0.000000   \n",
       "                                                    1 0 0 0 0  0.000000   \n",
       "                                                            1  0.000000   \n",
       "                                                          1 0  0.000000   \n",
       "                                                            1  0.000000   \n",
       "                                                        1 0 0  1.000000   \n",
       "                                                            1       NaN   \n",
       "                                                          1 0       NaN   \n",
       "                                                            1  0.000000   \n",
       "                                                      1 0 0 0  0.000000   \n",
       "                                                            1  0.000000   \n",
       "                                                          1 0       NaN   \n",
       "                                                            1  0.000000   \n",
       "                                                        1 0 0  0.000000   \n",
       "                                                            1  0.166667   \n",
       "                                                          1 0  0.000000   \n",
       "                                                            1  0.133333   \n",
       "\n",
       "Drama                                                                    \\\n",
       "Comedy                                                                    \n",
       "Family                                                                1   \n",
       "0 1 10 11 12 13 14 15 16 17 18 19 2 20 21 22 23 3 4 5 6 7 8 9             \n",
       "0 0 0  0  0  0  0  0  0  0  0  0  0 0  0  0  0  0 0 0 0 0 0 1  0.000000   \n",
       "                                                          1 0       NaN   \n",
       "                                                            1  0.000000   \n",
       "                                                        1 0 0  0.000000   \n",
       "                                                            1  0.000000   \n",
       "                                                          1 0       NaN   \n",
       "                                                            1       NaN   \n",
       "                                                      1 0 0 0       NaN   \n",
       "                                                            1       NaN   \n",
       "                                                          1 0       NaN   \n",
       "                                                            1       NaN   \n",
       "                                                        1 0 0       NaN   \n",
       "                                                            1       NaN   \n",
       "                                                          1 0       NaN   \n",
       "                                                            1  0.000000   \n",
       "                                                    1 0 0 0 0       NaN   \n",
       "                                                            1       NaN   \n",
       "                                                          1 0       NaN   \n",
       "                                                            1       NaN   \n",
       "                                                        1 0 0       NaN   \n",
       "                                                          1 0       NaN   \n",
       "                                                            1       NaN   \n",
       "                                                      1 0 0 0  0.000000   \n",
       "                                                            1       NaN   \n",
       "                                                          1 0       NaN   \n",
       "                                                            1       NaN   \n",
       "                                                        1 0 0       NaN   \n",
       "                                                            1       NaN   \n",
       "                                                          1 0       NaN   \n",
       "                                                            1       NaN   \n",
       "...                                                                 ...   \n",
       "1 1 1  1  1  1  1  1  1  1  1  1  1 1  1  1  1  1 1 0 0 0 1 0       NaN   \n",
       "                                                            1  0.000000   \n",
       "                                                        1 0 0       NaN   \n",
       "                                                            1       NaN   \n",
       "                                                          1 0       NaN   \n",
       "                                                            1  0.500000   \n",
       "                                                      1 0 0 0       NaN   \n",
       "                                                            1       NaN   \n",
       "                                                          1 0       NaN   \n",
       "                                                            1       NaN   \n",
       "                                                        1 0 0       NaN   \n",
       "                                                            1       NaN   \n",
       "                                                          1 0       NaN   \n",
       "                                                            1  0.000000   \n",
       "                                                    1 0 0 0 0  0.000000   \n",
       "                                                            1       NaN   \n",
       "                                                          1 0       NaN   \n",
       "                                                            1  0.000000   \n",
       "                                                        1 0 0       NaN   \n",
       "                                                            1       NaN   \n",
       "                                                          1 0       NaN   \n",
       "                                                            1  0.333333   \n",
       "                                                      1 0 0 0  0.000000   \n",
       "                                                            1  0.000000   \n",
       "                                                          1 0  0.000000   \n",
       "                                                            1  0.000000   \n",
       "                                                        1 0 0       NaN   \n",
       "                                                            1       NaN   \n",
       "                                                          1 0       NaN   \n",
       "                                                            1  0.222222   \n",
       "\n",
       "Drama                                                                 1  \\\n",
       "Comedy                                                                0   \n",
       "Family                                                                0   \n",
       "0 1 10 11 12 13 14 15 16 17 18 19 2 20 21 22 23 3 4 5 6 7 8 9             \n",
       "0 0 0  0  0  0  0  0  0  0  0  0  0 0  0  0  0  0 0 0 0 0 0 1  0.067568   \n",
       "                                                          1 0  0.040323   \n",
       "                                                            1  0.076923   \n",
       "                                                        1 0 0  0.057143   \n",
       "                                                            1  0.000000   \n",
       "                                                          1 0  0.137931   \n",
       "                                                            1  0.000000   \n",
       "                                                      1 0 0 0  0.135593   \n",
       "                                                            1  0.000000   \n",
       "                                                          1 0  0.000000   \n",
       "                                                            1       NaN   \n",
       "                                                        1 0 0  0.043478   \n",
       "                                                            1  0.000000   \n",
       "                                                          1 0  0.100000   \n",
       "                                                            1  0.000000   \n",
       "                                                    1 0 0 0 0  0.093750   \n",
       "                                                            1  0.000000   \n",
       "                                                          1 0       NaN   \n",
       "                                                            1  0.000000   \n",
       "                                                        1 0 0       NaN   \n",
       "                                                          1 0  0.000000   \n",
       "                                                            1       NaN   \n",
       "                                                      1 0 0 0  0.000000   \n",
       "                                                            1  0.000000   \n",
       "                                                          1 0  0.500000   \n",
       "                                                            1  1.000000   \n",
       "                                                        1 0 0  0.000000   \n",
       "                                                            1       NaN   \n",
       "                                                          1 0       NaN   \n",
       "                                                            1  0.000000   \n",
       "...                                                                 ...   \n",
       "1 1 1  1  1  1  1  1  1  1  1  1  1 1  1  1  1  1 1 0 0 0 1 0  0.000000   \n",
       "                                                            1  0.214286   \n",
       "                                                        1 0 0       NaN   \n",
       "                                                            1  0.000000   \n",
       "                                                          1 0  0.000000   \n",
       "                                                            1  0.000000   \n",
       "                                                      1 0 0 0  0.000000   \n",
       "                                                            1  0.000000   \n",
       "                                                          1 0       NaN   \n",
       "                                                            1  0.000000   \n",
       "                                                        1 0 0       NaN   \n",
       "                                                            1  0.000000   \n",
       "                                                          1 0  0.000000   \n",
       "                                                            1  0.000000   \n",
       "                                                    1 0 0 0 0  0.285714   \n",
       "                                                            1  0.142857   \n",
       "                                                          1 0  0.000000   \n",
       "                                                            1  0.000000   \n",
       "                                                        1 0 0  1.000000   \n",
       "                                                            1  0.666667   \n",
       "                                                          1 0       NaN   \n",
       "                                                            1  0.111111   \n",
       "                                                      1 0 0 0  0.000000   \n",
       "                                                            1  0.000000   \n",
       "                                                          1 0       NaN   \n",
       "                                                            1  0.000000   \n",
       "                                                        1 0 0  0.000000   \n",
       "                                                            1  0.166667   \n",
       "                                                          1 0  0.000000   \n",
       "                                                            1  0.100000   \n",
       "\n",
       "Drama                                                                    \\\n",
       "Comedy                                                                    \n",
       "Family                                                                1   \n",
       "0 1 10 11 12 13 14 15 16 17 18 19 2 20 21 22 23 3 4 5 6 7 8 9             \n",
       "0 0 0  0  0  0  0  0  0  0  0  0  0 0  0  0  0  0 0 0 0 0 0 1  0.000000   \n",
       "                                                          1 0  0.000000   \n",
       "                                                            1  0.166667   \n",
       "                                                        1 0 0  0.000000   \n",
       "                                                            1  0.000000   \n",
       "                                                          1 0  0.100000   \n",
       "                                                            1  0.000000   \n",
       "                                                      1 0 0 0  0.250000   \n",
       "                                                            1       NaN   \n",
       "                                                          1 0  1.000000   \n",
       "                                                            1       NaN   \n",
       "                                                        1 0 0  0.000000   \n",
       "                                                            1  0.000000   \n",
       "                                                          1 0  0.500000   \n",
       "                                                            1  0.000000   \n",
       "                                                    1 0 0 0 0  0.000000   \n",
       "                                                            1       NaN   \n",
       "                                                          1 0       NaN   \n",
       "                                                            1       NaN   \n",
       "                                                        1 0 0       NaN   \n",
       "                                                          1 0  0.000000   \n",
       "                                                            1       NaN   \n",
       "                                                      1 0 0 0  0.500000   \n",
       "                                                            1  1.000000   \n",
       "                                                          1 0       NaN   \n",
       "                                                            1       NaN   \n",
       "                                                        1 0 0  0.000000   \n",
       "                                                            1       NaN   \n",
       "                                                          1 0  0.000000   \n",
       "                                                            1       NaN   \n",
       "...                                                                 ...   \n",
       "1 1 1  1  1  1  1  1  1  1  1  1  1 1  1  1  1  1 1 0 0 0 1 0  0.000000   \n",
       "                                                            1  0.250000   \n",
       "                                                        1 0 0  0.000000   \n",
       "                                                            1  0.666667   \n",
       "                                                          1 0       NaN   \n",
       "                                                            1  0.350000   \n",
       "                                                      1 0 0 0       NaN   \n",
       "                                                            1  0.000000   \n",
       "                                                          1 0       NaN   \n",
       "                                                            1  0.250000   \n",
       "                                                        1 0 0  1.000000   \n",
       "                                                            1       NaN   \n",
       "                                                          1 0  0.500000   \n",
       "                                                            1  0.217391   \n",
       "                                                    1 0 0 0 0  0.000000   \n",
       "                                                            1  0.133333   \n",
       "                                                          1 0  0.000000   \n",
       "                                                            1  0.400000   \n",
       "                                                        1 0 0  0.000000   \n",
       "                                                            1  0.000000   \n",
       "                                                          1 0       NaN   \n",
       "                                                            1  0.105263   \n",
       "                                                      1 0 0 0  0.200000   \n",
       "                                                            1  0.000000   \n",
       "                                                          1 0  0.250000   \n",
       "                                                            1  0.181818   \n",
       "                                                        1 0 0  0.600000   \n",
       "                                                            1  0.250000   \n",
       "                                                          1 0  0.250000   \n",
       "                                                            1  0.194286   \n",
       "\n",
       "Drama                                                                    \\\n",
       "Comedy                                                                1   \n",
       "Family                                                                0   \n",
       "0 1 10 11 12 13 14 15 16 17 18 19 2 20 21 22 23 3 4 5 6 7 8 9             \n",
       "0 0 0  0  0  0  0  0  0  0  0  0  0 0  0  0  0  0 0 0 0 0 0 1  0.125000   \n",
       "                                                          1 0  0.000000   \n",
       "                                                            1  0.000000   \n",
       "                                                        1 0 0  0.000000   \n",
       "                                                            1       NaN   \n",
       "                                                          1 0       NaN   \n",
       "                                                            1  0.000000   \n",
       "                                                      1 0 0 0  0.166667   \n",
       "                                                            1       NaN   \n",
       "                                                          1 0       NaN   \n",
       "                                                            1  0.000000   \n",
       "                                                        1 0 0  0.000000   \n",
       "                                                            1       NaN   \n",
       "                                                          1 0       NaN   \n",
       "                                                            1  0.000000   \n",
       "                                                    1 0 0 0 0  0.000000   \n",
       "                                                            1       NaN   \n",
       "                                                          1 0       NaN   \n",
       "                                                            1       NaN   \n",
       "                                                        1 0 0       NaN   \n",
       "                                                          1 0       NaN   \n",
       "                                                            1       NaN   \n",
       "                                                      1 0 0 0  0.000000   \n",
       "                                                            1       NaN   \n",
       "                                                          1 0       NaN   \n",
       "                                                            1       NaN   \n",
       "                                                        1 0 0  0.000000   \n",
       "                                                            1       NaN   \n",
       "                                                          1 0       NaN   \n",
       "                                                            1  0.000000   \n",
       "...                                                                 ...   \n",
       "1 1 1  1  1  1  1  1  1  1  1  1  1 1  1  1  1  1 1 0 0 0 1 0  0.000000   \n",
       "                                                            1  0.086957   \n",
       "                                                        1 0 0  0.500000   \n",
       "                                                            1  0.000000   \n",
       "                                                          1 0  0.000000   \n",
       "                                                            1  0.000000   \n",
       "                                                      1 0 0 0  0.000000   \n",
       "                                                            1  0.000000   \n",
       "                                                          1 0       NaN   \n",
       "                                                            1  0.000000   \n",
       "                                                        1 0 0       NaN   \n",
       "                                                            1  0.333333   \n",
       "                                                          1 0       NaN   \n",
       "                                                            1  0.190476   \n",
       "                                                    1 0 0 0 0  0.071429   \n",
       "                                                            1  0.052632   \n",
       "                                                          1 0  0.000000   \n",
       "                                                            1  0.250000   \n",
       "                                                        1 0 0       NaN   \n",
       "                                                            1  0.000000   \n",
       "                                                          1 0       NaN   \n",
       "                                                            1  0.062500   \n",
       "                                                      1 0 0 0  0.200000   \n",
       "                                                            1  0.083333   \n",
       "                                                          1 0  0.000000   \n",
       "                                                            1  0.125000   \n",
       "                                                        1 0 0  0.250000   \n",
       "                                                            1  0.000000   \n",
       "                                                          1 0  0.000000   \n",
       "                                                            1  0.083333   \n",
       "\n",
       "Drama                                                                    \n",
       "Comedy                                                                   \n",
       "Family                                                                1  \n",
       "0 1 10 11 12 13 14 15 16 17 18 19 2 20 21 22 23 3 4 5 6 7 8 9            \n",
       "0 0 0  0  0  0  0  0  0  0  0  0  0 0  0  0  0  0 0 0 0 0 0 1       NaN  \n",
       "                                                          1 0       NaN  \n",
       "                                                            1  0.000000  \n",
       "                                                        1 0 0  0.000000  \n",
       "                                                            1       NaN  \n",
       "                                                          1 0       NaN  \n",
       "                                                            1       NaN  \n",
       "                                                      1 0 0 0  0.000000  \n",
       "                                                            1       NaN  \n",
       "                                                          1 0       NaN  \n",
       "                                                            1       NaN  \n",
       "                                                        1 0 0  0.000000  \n",
       "                                                            1       NaN  \n",
       "                                                          1 0       NaN  \n",
       "                                                            1       NaN  \n",
       "                                                    1 0 0 0 0       NaN  \n",
       "                                                            1       NaN  \n",
       "                                                          1 0       NaN  \n",
       "                                                            1       NaN  \n",
       "                                                        1 0 0       NaN  \n",
       "                                                          1 0       NaN  \n",
       "                                                            1       NaN  \n",
       "                                                      1 0 0 0  0.000000  \n",
       "                                                            1       NaN  \n",
       "                                                          1 0       NaN  \n",
       "                                                            1       NaN  \n",
       "                                                        1 0 0       NaN  \n",
       "                                                            1       NaN  \n",
       "                                                          1 0       NaN  \n",
       "                                                            1  0.000000  \n",
       "...                                                                 ...  \n",
       "1 1 1  1  1  1  1  1  1  1  1  1  1 1  1  1  1  1 1 0 0 0 1 0       NaN  \n",
       "                                                            1  0.260870  \n",
       "                                                        1 0 0  0.000000  \n",
       "                                                            1  0.000000  \n",
       "                                                          1 0  0.333333  \n",
       "                                                            1  0.296296  \n",
       "                                                      1 0 0 0       NaN  \n",
       "                                                            1  0.000000  \n",
       "                                                          1 0       NaN  \n",
       "                                                            1  0.000000  \n",
       "                                                        1 0 0       NaN  \n",
       "                                                            1  0.500000  \n",
       "                                                          1 0  0.000000  \n",
       "                                                            1  0.250000  \n",
       "                                                    1 0 0 0 0  0.000000  \n",
       "                                                            1  0.250000  \n",
       "                                                          1 0  0.000000  \n",
       "                                                            1  0.071429  \n",
       "                                                        1 0 0       NaN  \n",
       "                                                            1  0.333333  \n",
       "                                                          1 0  0.000000  \n",
       "                                                            1  0.107143  \n",
       "                                                      1 0 0 0  0.000000  \n",
       "                                                            1  0.066667  \n",
       "                                                          1 0  0.000000  \n",
       "                                                            1  0.000000  \n",
       "                                                        1 0 0  0.000000  \n",
       "                                                            1  0.416667  \n",
       "                                                          1 0  0.200000  \n",
       "                                                            1  0.198113  \n",
       "\n",
       "[67445 rows x 8 columns]"
      ]
     },
     "execution_count": 27,
     "metadata": {},
     "output_type": "execute_result"
    }
   ],
   "source": [
    "ohe_f.loc[train_mask, :].pivot_table(columns=['Drama', 'Comedy', 'Family'],\n",
    "                                          index=tod_genres.columns.tolist(),\n",
    "                                          values='segment',\n",
    "                                          aggfunc='mean'\n",
    "                                         )"
   ]
  },
  {
   "cell_type": "code",
   "execution_count": null,
   "metadata": {
    "collapsed": true
   },
   "outputs": [],
   "source": []
  },
  {
   "cell_type": "code",
   "execution_count": null,
   "metadata": {
    "collapsed": true
   },
   "outputs": [],
   "source": []
  },
  {
   "cell_type": "code",
   "execution_count": null,
   "metadata": {
    "collapsed": true
   },
   "outputs": [],
   "source": []
  },
  {
   "cell_type": "code",
   "execution_count": null,
   "metadata": {
    "collapsed": true
   },
   "outputs": [],
   "source": []
  },
  {
   "cell_type": "code",
   "execution_count": null,
   "metadata": {
    "collapsed": true
   },
   "outputs": [],
   "source": []
  }
 ],
 "metadata": {
  "kernelspec": {
   "display_name": "Python 3",
   "language": "python",
   "name": "python3"
  },
  "language_info": {
   "codemirror_mode": {
    "name": "ipython",
    "version": 3
   },
   "file_extension": ".py",
   "mimetype": "text/x-python",
   "name": "python",
   "nbconvert_exporter": "python",
   "pygments_lexer": "ipython3",
   "version": "3.6.0"
  }
 },
 "nbformat": 4,
 "nbformat_minor": 2
}
