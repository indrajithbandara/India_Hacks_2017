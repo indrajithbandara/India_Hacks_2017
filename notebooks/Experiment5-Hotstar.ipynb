{
 "cells": [
  {
   "cell_type": "markdown",
   "metadata": {},
   "source": [
    "** Experiment - 5 **\n",
    "\n",
    "1. OHE of cities and genres\n",
    "2. Total watch time\n",
    "3. Random Forest Model\n",
    "4. Hyperparameter Tuning"
   ]
  },
  {
   "cell_type": "code",
   "execution_count": 16,
   "metadata": {
    "collapsed": true
   },
   "outputs": [],
   "source": [
    "%matplotlib inline\n",
    "\n",
    "import pandas as pd\n",
    "import numpy as np\n",
    "import scipy as sp\n",
    "import gc\n",
    "import time\n",
    "\n",
    "import matplotlib.pyplot as plt\n",
    "import seaborn as sns\n",
    "sns.set_style('dark')\n",
    "\n",
    "from sklearn.metrics import roc_auc_score\n",
    "from sklearn.model_selection import StratifiedKFold\n",
    "from sklearn.ensemble import RandomForestClassifier\n",
    "from sklearn.linear_model import LogisticRegression\n",
    "from sklearn.model_selection import cross_val_score\n",
    "from sklearn.externals import joblib\n",
    "\n",
    "from bayes_opt import BayesianOptimization\n",
    "\n",
    "pd.set_option('max_columns', None)\n",
    "\n",
    "SEED = 2131\n",
    "np.random.seed(SEED)\n",
    "\n",
    "import warnings\n",
    "warnings.filterwarnings('ignore')\n",
    "\n",
    "%run ../src/data/HotstarDataset.py\n",
    "%run ../src/features/categorical_features.py\n",
    "%run ../src/features/util.py\n",
    "%run ../src/models/cross_validation.py"
   ]
  },
  {
   "cell_type": "code",
   "execution_count": 2,
   "metadata": {
    "collapsed": false
   },
   "outputs": [
    {
     "data": {
      "text/plain": [
       "<__main__.Hotstar at 0x7f50f0310e80>"
      ]
     },
     "execution_count": 2,
     "metadata": {},
     "output_type": "execute_result"
    }
   ],
   "source": [
    "dataset = Hotstar('../data/raw/5f828822-4--4-hotstar_dataset/')\n",
    "dataset.load_data('../data/processed/hotstar_processed.feather')"
   ]
  },
  {
   "cell_type": "code",
   "execution_count": 3,
   "metadata": {
    "collapsed": true
   },
   "outputs": [],
   "source": [
    "data_processed = dataset.data\n",
    "train_mask     = dataset.get_train_mask() "
   ]
  },
  {
   "cell_type": "code",
   "execution_count": 4,
   "metadata": {
    "collapsed": false
   },
   "outputs": [],
   "source": [
    "data = load_file('../data/processed/ohe_genres.feather')"
   ]
  },
  {
   "cell_type": "markdown",
   "metadata": {},
   "source": [
    "** Save processed file **"
   ]
  },
  {
   "cell_type": "code",
   "execution_count": 38,
   "metadata": {
    "collapsed": false
   },
   "outputs": [],
   "source": [
    "save_file(data_processed.loc[:, ['ID'] + data_processed.columns[7:].tolist()], \\\n",
    "          '../data/processed/ohe_genres.feather')"
   ]
  },
  {
   "cell_type": "code",
   "execution_count": 18,
   "metadata": {
    "collapsed": true
   },
   "outputs": [],
   "source": [
    "X = data.loc[train_mask, data.columns.drop('ID', 'Action')]\n",
    "y = data_processed.loc[train_mask, 'segment']\n",
    "Xtest = data.loc[~train_mask, data.columns.drop('ID', 'Action')]"
   ]
  },
  {
   "cell_type": "markdown",
   "metadata": {},
   "source": [
    "** Train, Val, Test Split **"
   ]
  },
  {
   "cell_type": "code",
   "execution_count": 6,
   "metadata": {
    "collapsed": false
   },
   "outputs": [],
   "source": [
    "params = {\n",
    "    'stratify': y,\n",
    "    'test_size': .3,\n",
    "    'random_state': SEED\n",
    "}\n",
    "\n",
    "X_train, X_test, y_train, y_test = get_train_test_split(X, y, **params)"
   ]
  },
  {
   "cell_type": "code",
   "execution_count": 7,
   "metadata": {
    "collapsed": false
   },
   "outputs": [
    {
     "data": {
      "text/plain": [
       "((140000, 35), (60000, 35))"
      ]
     },
     "execution_count": 7,
     "metadata": {},
     "output_type": "execute_result"
    }
   ],
   "source": [
    "X_train.shape, X_test.shape"
   ]
  },
  {
   "cell_type": "markdown",
   "metadata": {},
   "source": [
    "** Model Creation **"
   ]
  },
  {
   "cell_type": "code",
   "execution_count": 8,
   "metadata": {
    "collapsed": false
   },
   "outputs": [
    {
     "name": "stdout",
     "output_type": "stream",
     "text": [
      "AUC: 0.7745496076842832\n"
     ]
    }
   ],
   "source": [
    "rf = RandomForestClassifier(n_estimators=100, max_depth=5, random_state=SEED)\n",
    "rf.fit(X_train, y_train)\n",
    "preds = rf.predict_proba(X_test)[:, 1]\n",
    "\n",
    "print('AUC: {}'.format(roc_auc_score(y_test, preds)))"
   ]
  },
  {
   "cell_type": "markdown",
   "metadata": {},
   "source": [
    "** Hyper-parameter Tuning **"
   ]
  },
  {
   "cell_type": "code",
   "execution_count": 9,
   "metadata": {
    "collapsed": true
   },
   "outputs": [],
   "source": [
    "def rfccv(n_estimators, min_samples_split, max_depth, max_features):\n",
    "    skf = StratifiedKFold(n_splits=3, random_state=SEED)\n",
    "    val = cross_val_score(\n",
    "        RandomForestClassifier(n_estimators=int(n_estimators),\n",
    "                               min_samples_split=int(min_samples_split),\n",
    "                               max_depth=int(max_depth),\n",
    "                               max_features=min(max_features, 1),\n",
    "                               random_state=SEED,\n",
    "                               class_weight='balanced'\n",
    "                              ),\n",
    "        X_train, y_train, scoring='roc_auc', cv=skf\n",
    "    ).mean()\n",
    "\n",
    "    return val\n",
    "\n",
    "def logccv(C):\n",
    "    skf = StratifiedKFold(n_splits=3, random_state=SEED)\n",
    "\n",
    "    val = cross_val_score(\n",
    "        LogisticRegression(C=C,\n",
    "        n_jobs=2,\n",
    "        class_weight='balanced',\n",
    "        random_state=SEED\n",
    "                          ),\n",
    "        X_train, y_train, scoring='roc_auc', cv=skf\n",
    "    ).mean()\n",
    "\n",
    "    return val"
   ]
  },
  {
   "cell_type": "code",
   "execution_count": 10,
   "metadata": {
    "collapsed": true
   },
   "outputs": [],
   "source": [
    "def parameter_search(params, rf):\n",
    "    gp_params = {\n",
    "        'alpha': 1e-5\n",
    "    }\n",
    "\n",
    "    if rf:\n",
    "        rfcBO = BayesianOptimization(\n",
    "            rfccv,\n",
    "            params\n",
    "        )\n",
    "        rfcBO.maximize(n_iter=10, **gp_params)\n",
    "        print('RFC: %f' % rfcBO.res['max']['max_val'])\n",
    "\n",
    "    else:\n",
    "        logcBO = BayesianOptimization(\n",
    "            logccv,\n",
    "            {\n",
    "                'C': (.01, 100)\n",
    "            }\n",
    "        )\n",
    "\n",
    "        logcBO.maximize(n_iter=10, **gp_params)\n",
    "        print('Logistic Regression: %f' % logcBO.res['max']['max_val'])"
   ]
  },
  {
   "cell_type": "code",
   "execution_count": 11,
   "metadata": {
    "collapsed": false
   },
   "outputs": [
    {
     "name": "stdout",
     "output_type": "stream",
     "text": [
      "\u001b[31mInitialization\u001b[0m\n",
      "\u001b[94m---------------------------------------------------------------------------------------------------\u001b[0m\n",
      " Step |   Time |      Value |   max_depth |   max_features |   min_samples_split |   n_estimators | \n",
      "    1 | 01m17s | \u001b[35m   0.77672\u001b[0m | \u001b[32m    10.5134\u001b[0m | \u001b[32m        0.7362\u001b[0m | \u001b[32m             4.3129\u001b[0m | \u001b[32m      220.1397\u001b[0m | \n",
      "    2 | 01m18s | \u001b[35m   0.77911\u001b[0m | \u001b[32m     8.4456\u001b[0m | \u001b[32m        0.9248\u001b[0m | \u001b[32m             5.2475\u001b[0m | \u001b[32m      201.2883\u001b[0m | \n",
      "    3 | 01m19s |    0.73948 |     28.1288 |         0.5666 |              5.2100 |       189.1249 | \n",
      "    4 | 00m11s | \u001b[35m   0.77961\u001b[0m | \u001b[32m     7.1602\u001b[0m | \u001b[32m        0.7216\u001b[0m | \u001b[32m            18.0646\u001b[0m | \u001b[32m       41.0869\u001b[0m | \n",
      "    5 | 00m35s | \u001b[35m   0.77974\u001b[0m | \u001b[32m    13.9344\u001b[0m | \u001b[32m        0.1934\u001b[0m | \u001b[32m            13.0437\u001b[0m | \u001b[32m      195.9890\u001b[0m | \n",
      "\u001b[31mBayesian Optimization\u001b[0m\n",
      "\u001b[94m---------------------------------------------------------------------------------------------------\u001b[0m\n",
      " Step |   Time |      Value |   max_depth |   max_features |   min_samples_split |   n_estimators | \n",
      "    6 | 01m17s |    0.77743 |      5.0000 |         0.9900 |             25.0000 |       250.0000 | \n",
      "    7 | 00m31s |    0.77767 |      5.0870 |         0.8825 |             24.9458 |       109.2877 | \n",
      "    8 | 00m06s |    0.77707 |      5.1877 |         0.6065 |             24.7930 |        10.9874 | \n",
      "    9 | 00m06s |    0.76649 |      5.0000 |         0.1000 |              2.0000 |        10.0000 | \n",
      "   10 | 00m17s |    0.77928 |      5.0000 |         0.1000 |             25.0000 |       186.9136 | \n",
      "   11 | 00m24s | \u001b[35m   0.78049\u001b[0m | \u001b[32m     5.0426\u001b[0m | \u001b[32m        0.1703\u001b[0m | \u001b[32m             2.9215\u001b[0m | \u001b[32m      248.2044\u001b[0m | \n",
      "   12 | 00m17s |    0.77925 |      5.1513 |         0.4098 |             24.2967 |        63.9690 | \n",
      "   13 | 00m53s |    0.77743 |      5.0000 |         0.9900 |              2.0000 |       163.7689 | \n",
      "   14 | 01m08s |    0.77742 |      5.0000 |         0.9900 |             24.0120 |       210.8910 | \n",
      "   15 | 00m30s |    0.77952 |      5.0167 |         0.2422 |              2.3708 |       203.5085 | \n",
      "RFC: 0.780489\n"
     ]
    }
   ],
   "source": [
    "rf_params = {\n",
    "                'n_estimators': (10, 250),\n",
    "                'min_samples_split': (2, 25),\n",
    "                'max_depth': (5, 30),\n",
    "                'max_features': (0.1, 0.99)\n",
    "            }\n",
    "\n",
    "parameter_search(rf_params, rf=True)"
   ]
  },
  {
   "cell_type": "code",
   "execution_count": 12,
   "metadata": {
    "collapsed": true
   },
   "outputs": [],
   "source": [
    "def test_model(X_train, y_train, X_test, y_test, model):\n",
    "    model.fit(X_train, y_train)\n",
    "    preds = model.predict_proba(X_test)[:, 1]\n",
    "    print('AUC on test set: {}'.format(roc_auc_score(y_test, preds)))"
   ]
  },
  {
   "cell_type": "code",
   "execution_count": 14,
   "metadata": {
    "collapsed": false
   },
   "outputs": [
    {
     "name": "stdout",
     "output_type": "stream",
     "text": [
      "AUC on test set: 0.7741882208888831\n"
     ]
    }
   ],
   "source": [
    "# train this model\n",
    "rf = RandomForestClassifier(n_estimators=248, \n",
    "                            class_weight='balanced', \n",
    "                            max_depth=5, \n",
    "                            min_samples_split=2,\n",
    "                            max_features=.1703,\n",
    "                            random_state=SEED,\n",
    "                            n_jobs=3\n",
    "                           )\n",
    "\n",
    "test_model(X_train, y_train, X_test, y_test, rf)"
   ]
  },
  {
   "cell_type": "code",
   "execution_count": 15,
   "metadata": {
    "collapsed": true
   },
   "outputs": [],
   "source": [
    "def full_training(X, y, Xtest, model, model_name, save=True):\n",
    "    model.fit(X, y)\n",
    "    final_preds = model.predict_proba(Xtest)[:, 1]\n",
    "    \n",
    "    if save:\n",
    "        joblib.dump(model, '../models/%s'%(model_name))\n",
    "        \n",
    "    return final_preds"
   ]
  },
  {
   "cell_type": "code",
   "execution_count": 19,
   "metadata": {
    "collapsed": false
   },
   "outputs": [],
   "source": [
    "final_preds = full_training(X, y, Xtest, rf, 'rf_genres_ohe.pkl')"
   ]
  },
  {
   "cell_type": "code",
   "execution_count": 20,
   "metadata": {
    "collapsed": true
   },
   "outputs": [],
   "source": [
    "sub            = pd.read_csv('../data/raw/5f828822-4--4-hotstar_dataset/sample_submission.csv')\n",
    "sub['segment'] = final_preds\n",
    "sub.to_csv('../submissions/hotstar/rf_genres_ohe.csv', index=False)"
   ]
  },
  {
   "cell_type": "code",
   "execution_count": null,
   "metadata": {
    "collapsed": true
   },
   "outputs": [],
   "source": []
  }
 ],
 "metadata": {
  "kernelspec": {
   "display_name": "Python 3",
   "language": "python",
   "name": "python3"
  },
  "language_info": {
   "codemirror_mode": {
    "name": "ipython",
    "version": 3
   },
   "file_extension": ".py",
   "mimetype": "text/x-python",
   "name": "python",
   "nbconvert_exporter": "python",
   "pygments_lexer": "ipython3",
   "version": "3.6.0"
  }
 },
 "nbformat": 4,
 "nbformat_minor": 2
}
