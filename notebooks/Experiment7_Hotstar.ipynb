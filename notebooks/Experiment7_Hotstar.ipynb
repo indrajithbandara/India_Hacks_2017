{
 "cells": [
  {
   "cell_type": "markdown",
   "metadata": {},
   "source": [
    "** Experiment - 7 **\n",
    "\n",
    "1. Merge Cricket, Football, Badminton, Hockey, Football etc. to Sports"
   ]
  },
  {
   "cell_type": "code",
   "execution_count": 21,
   "metadata": {
    "collapsed": false
   },
   "outputs": [
    {
     "name": "stderr",
     "output_type": "stream",
     "text": [
      "/home/abhishek/anaconda3/lib/python3.6/site-packages/sklearn/cross_validation.py:44: DeprecationWarning: This module was deprecated in version 0.18 in favor of the model_selection module into which all the refactored classes and functions are moved. Also note that the interface of the new CV iterators are different from that of this module. This module will be removed in 0.20.\n",
      "  \"This module will be removed in 0.20.\", DeprecationWarning)\n"
     ]
    }
   ],
   "source": [
    "%matplotlib inline\n",
    "\n",
    "import pandas as pd\n",
    "import numpy as np\n",
    "import scipy as sp\n",
    "import time\n",
    "import gc\n",
    "\n",
    "import matplotlib.pyplot as plt\n",
    "import seaborn as sns\n",
    "import xgboost as xgb\n",
    "\n",
    "sns.set_style('dark')\n",
    "\n",
    "SEED = 31314\n",
    "np.random.seed(SEED)\n",
    "\n",
    "import warnings\n",
    "warnings.filterwarnings('ignore')\n",
    "\n",
    "%run ../src/data/HotstarDataset.py\n",
    "%run ../src/features/categorical_features.py\n",
    "%run ../src/features/util.py\n",
    "%run ../src/models/cross_validation.py"
   ]
  },
  {
   "cell_type": "code",
   "execution_count": 42,
   "metadata": {
    "collapsed": true
   },
   "outputs": [],
   "source": [
    "dataset = Hotstar('../data/raw/5f828822-4--4-hotstar_dataset/')\n",
    "dataset.load_data('../data/processed/hotstar_processed.feather')\n",
    "\n",
    "data_processed = dataset.data\n",
    "train_mask     = dataset.get_train_mask() "
   ]
  },
  {
   "cell_type": "code",
   "execution_count": 43,
   "metadata": {
    "collapsed": false
   },
   "outputs": [],
   "source": [
    "# replace cricket, football, badminton, hocket with sports\n",
    "data_processed['genres'] = data_processed.genres\\\n",
    "                                        .str\\\n",
    "                                        .replace('Cricket|Football|Badminton|Hockey|Volleyball|Swimming|Table Tennis|Tennis|Athletics|Boxing|Formula1|FormulaE|IndiaVsSa|Kabaddi', 'Sport')"
   ]
  },
  {
   "cell_type": "code",
   "execution_count": 44,
   "metadata": {
    "collapsed": true
   },
   "outputs": [],
   "source": [
    "# ohe genres\n",
    "genres_ohe_encoded = encode_ohe(data_processed.genres)"
   ]
  },
  {
   "cell_type": "code",
   "execution_count": 45,
   "metadata": {
    "collapsed": true
   },
   "outputs": [],
   "source": [
    "# count based features\n",
    "\n",
    "data_processed['num_cities'] = count_feature(data_processed.cities)\n",
    "data_processed['num_genres'] = count_feature(data_processed.genres)\n",
    "data_processed['num_titles'] = count_feature(data_processed.titles)\n",
    "data_processed['num_tod']    = count_feature(data_processed.tod)\n",
    "data_processed['num_dow']    = count_feature(data_processed.dow)"
   ]
  },
  {
   "cell_type": "code",
   "execution_count": 46,
   "metadata": {
    "collapsed": true
   },
   "outputs": [],
   "source": [
    "# watch time by genres\n",
    "data_processed['watch_time_sec'] = num_seconds_watched(data_processed.genres)"
   ]
  },
  {
   "cell_type": "code",
   "execution_count": 47,
   "metadata": {
    "collapsed": true
   },
   "outputs": [],
   "source": [
    "features = pd.concat((data_processed[['num_cities', 'num_genres',\n",
    "                'num_titles', 'num_tod',\n",
    "                'num_dow', 'watch_time_sec',\n",
    "                'segment'\n",
    "               ]], genres_ohe_encoded), axis='columns')\n",
    "\n",
    "save_file(features, '../data/processed/hotstar_processed_exp_7.feather')"
   ]
  },
  {
   "cell_type": "code",
   "execution_count": 48,
   "metadata": {
    "collapsed": false
   },
   "outputs": [
    {
     "data": {
      "text/plain": [
       "Index(['num_cities', 'num_genres', 'num_titles', 'num_tod', 'num_dow',\n",
       "       'watch_time_sec', 'segment', 'Action', 'Awards', 'Comedy', 'Crime',\n",
       "       'Documentary', 'Drama', 'Family', 'Horror', 'Kids', 'LiveTV',\n",
       "       'Mythology', 'NA', 'Reality', 'Romance', 'Science', 'Sport', 'TalkShow',\n",
       "       'Teen', 'Thriller', 'Travel', 'Wildlife'],\n",
       "      dtype='object')"
      ]
     },
     "execution_count": 48,
     "metadata": {},
     "output_type": "execute_result"
    }
   ],
   "source": [
    "features.columns"
   ]
  },
  {
   "cell_type": "code",
   "execution_count": 41,
   "metadata": {
    "collapsed": false
   },
   "outputs": [
    {
     "data": {
      "text/plain": [
       "Index(['num_cities', 'num_genres', 'num_titles', 'num_tod', 'num_dow',\n",
       "       'watch_time_sec', 'segment', 'Action', 'Athletics', 'Awards', 'Boxing',\n",
       "       'Comedy', 'Crime', 'Documentary', 'Drama', 'Family', 'Formula1',\n",
       "       'FormulaE', 'Horror', 'IndiaVsSa', 'Kabaddi', 'Kids', 'LiveTV',\n",
       "       'Mythology', 'NA', 'Reality', 'Romance', 'Science', 'Sport', 'TalkShow',\n",
       "       'Teen', 'Thriller', 'Travel', 'Wildlife'],\n",
       "      dtype='object')"
      ]
     },
     "execution_count": 41,
     "metadata": {},
     "output_type": "execute_result"
    }
   ],
   "source": [
    "features.columns"
   ]
  },
  {
   "cell_type": "markdown",
   "metadata": {},
   "source": [
    "** Train Test Split **"
   ]
  },
  {
   "cell_type": "code",
   "execution_count": 49,
   "metadata": {
    "collapsed": true
   },
   "outputs": [],
   "source": [
    "X = features.loc[train_mask, features.columns.drop('segment')]\n",
    "y = features.loc[train_mask, 'segment']\n",
    "Xtest = features.loc[~train_mask, features.columns.drop('segment')]"
   ]
  },
  {
   "cell_type": "code",
   "execution_count": 50,
   "metadata": {
    "collapsed": true
   },
   "outputs": [],
   "source": [
    "params = {\n",
    "    'stratify': y,\n",
    "    'test_size': .3,\n",
    "    'random_state': SEED\n",
    "}\n",
    "\n",
    "X_train, X_test, y_train, y_test = get_train_test_split(X, y, **params)"
   ]
  },
  {
   "cell_type": "code",
   "execution_count": 51,
   "metadata": {
    "collapsed": true
   },
   "outputs": [],
   "source": [
    "# further split train set into train and validation set\n",
    "params = {\n",
    "    'stratify': y_train,\n",
    "    'test_size': .2,\n",
    "    'random_state': SEED\n",
    "}\n",
    "\n",
    "Xtr, Xte, ytr, yte = get_train_test_split(X_train, y_train, **params)"
   ]
  },
  {
   "cell_type": "code",
   "execution_count": 59,
   "metadata": {
    "collapsed": false
   },
   "outputs": [
    {
     "name": "stdout",
     "output_type": "stream",
     "text": [
      "[0]\ttrain-auc:0.771607\tval-auc:0.760746\n",
      "[10]\ttrain-auc:0.799447\tval-auc:0.788333\n",
      "[20]\ttrain-auc:0.803408\tval-auc:0.791523\n",
      "[30]\ttrain-auc:0.807451\tval-auc:0.794378\n",
      "[40]\ttrain-auc:0.809682\tval-auc:0.795346\n",
      "[50]\ttrain-auc:0.812329\tval-auc:0.796456\n",
      "[60]\ttrain-auc:0.814387\tval-auc:0.797144\n",
      "[70]\ttrain-auc:0.816436\tval-auc:0.79782\n",
      "[80]\ttrain-auc:0.818278\tval-auc:0.798162\n",
      "[90]\ttrain-auc:0.819676\tval-auc:0.798296\n",
      "[100]\ttrain-auc:0.820919\tval-auc:0.798363\n",
      "[110]\ttrain-auc:0.822162\tval-auc:0.79861\n",
      "[120]\ttrain-auc:0.82321\tval-auc:0.798515\n",
      "[130]\ttrain-auc:0.824423\tval-auc:0.798588\n",
      "[140]\ttrain-auc:0.825335\tval-auc:0.798735\n",
      "[150]\ttrain-auc:0.826472\tval-auc:0.798877\n",
      "[160]\ttrain-auc:0.827754\tval-auc:0.798863\n",
      "[170]\ttrain-auc:0.828462\tval-auc:0.798879\n",
      "[180]\ttrain-auc:0.82973\tval-auc:0.799037\n",
      "[190]\ttrain-auc:0.830491\tval-auc:0.799079\n",
      "[200]\ttrain-auc:0.831482\tval-auc:0.799044\n",
      "[210]\ttrain-auc:0.832284\tval-auc:0.798969\n",
      "[220]\ttrain-auc:0.832953\tval-auc:0.798974\n",
      "[230]\ttrain-auc:0.833652\tval-auc:0.79898\n",
      "[240]\ttrain-auc:0.834355\tval-auc:0.798873\n",
      "[250]\ttrain-auc:0.835207\tval-auc:0.798905\n",
      "[260]\ttrain-auc:0.835933\tval-auc:0.798887\n",
      "[270]\ttrain-auc:0.836417\tval-auc:0.798878\n",
      "[280]\ttrain-auc:0.837063\tval-auc:0.798915\n",
      "[290]\ttrain-auc:0.837632\tval-auc:0.798843\n",
      "[300]\ttrain-auc:0.838443\tval-auc:0.798879\n",
      "[310]\ttrain-auc:0.838986\tval-auc:0.798914\n",
      "[320]\ttrain-auc:0.83957\tval-auc:0.799108\n",
      "[330]\ttrain-auc:0.839682\tval-auc:0.799086\n",
      "[340]\ttrain-auc:0.839908\tval-auc:0.799061\n",
      "[350]\ttrain-auc:0.839969\tval-auc:0.799083\n",
      "[360]\ttrain-auc:0.839969\tval-auc:0.799081\n",
      "[370]\ttrain-auc:0.840203\tval-auc:0.798993\n",
      "[380]\ttrain-auc:0.840302\tval-auc:0.79899\n",
      "[390]\ttrain-auc:0.840415\tval-auc:0.798972\n",
      "[400]\ttrain-auc:0.840788\tval-auc:0.798965\n",
      "[410]\ttrain-auc:0.840954\tval-auc:0.799\n",
      "[420]\ttrain-auc:0.841034\tval-auc:0.799014\n",
      "[430]\ttrain-auc:0.841052\tval-auc:0.799004\n",
      "[440]\ttrain-auc:0.841076\tval-auc:0.799004\n",
      "[450]\ttrain-auc:0.841141\tval-auc:0.798981\n",
      "[460]\ttrain-auc:0.841146\tval-auc:0.798978\n",
      "[470]\ttrain-auc:0.841352\tval-auc:0.799061\n",
      "[480]\ttrain-auc:0.841738\tval-auc:0.799044\n",
      "[490]\ttrain-auc:0.841843\tval-auc:0.799066\n"
     ]
    }
   ],
   "source": [
    "dtrain = xgb.DMatrix(Xtr, ytr, missing=np.nan, feature_names=features.columns.drop('segment'))\n",
    "dval   = xgb.DMatrix(Xte, yte, missing=np.nan, feature_names=features.columns.drop('segment'))\n",
    "\n",
    "xgb_params = {\n",
    "    'eta': 0.1,\n",
    "    'max_depth': 5,\n",
    "    'gamma': 1,\n",
    "    'colsample_bytree': .7,\n",
    "    'min_child_weight': 3.,\n",
    "    'subsample': 1.,\n",
    "    'objective': 'binary:logistic',\n",
    "    'eval_metric': 'auc',\n",
    "    'nthread': 8,\n",
    "    'seed': SEED,\n",
    "    'silent': 1\n",
    "}\n",
    "\n",
    "n_estimators = 500\n",
    "\n",
    "watchlist = [(dtrain, 'train'), (dval, 'val')]\n",
    "\n",
    "model = xgb.train(xgb_params, dtrain, num_boost_round=n_estimators, verbose_eval=10,\n",
    "                  evals=watchlist\n",
    "                 )"
   ]
  },
  {
   "cell_type": "markdown",
   "metadata": {},
   "source": [
    "** Not showing particular good performance on the validation set **"
   ]
  },
  {
   "cell_type": "code",
   "execution_count": null,
   "metadata": {
    "collapsed": true
   },
   "outputs": [],
   "source": []
  },
  {
   "cell_type": "code",
   "execution_count": null,
   "metadata": {
    "collapsed": true
   },
   "outputs": [],
   "source": []
  },
  {
   "cell_type": "code",
   "execution_count": null,
   "metadata": {
    "collapsed": true
   },
   "outputs": [],
   "source": []
  },
  {
   "cell_type": "code",
   "execution_count": null,
   "metadata": {
    "collapsed": true
   },
   "outputs": [],
   "source": []
  }
 ],
 "metadata": {
  "kernelspec": {
   "display_name": "Python 3",
   "language": "python",
   "name": "python3"
  },
  "language_info": {
   "codemirror_mode": {
    "name": "ipython",
    "version": 3
   },
   "file_extension": ".py",
   "mimetype": "text/x-python",
   "name": "python",
   "nbconvert_exporter": "python",
   "pygments_lexer": "ipython3",
   "version": "3.6.0"
  }
 },
 "nbformat": 4,
 "nbformat_minor": 2
}
