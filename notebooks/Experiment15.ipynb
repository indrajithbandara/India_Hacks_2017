{
 "cells": [
  {
   "cell_type": "markdown",
   "metadata": {},
   "source": [
    "** Aim: **\n",
    "\n",
    "* Ensemble of different models\n",
    "* Feature Engineering"
   ]
  },
  {
   "cell_type": "code",
   "execution_count": 57,
   "metadata": {
    "collapsed": false
   },
   "outputs": [],
   "source": [
    "%matplotlib inline\n",
    "\n",
    "import pandas as pd\n",
    "import numpy as np\n",
    "import gc\n",
    "\n",
    "import matplotlib.pyplot as plt\n",
    "import seaborn as sns\n",
    "\n",
    "from sklearn.model_selection import StratifiedKFold\n",
    "from sklearn.metrics import log_loss\n",
    "from sklearn.preprocessing import LabelEncoder\n",
    "from sklearn.ensemble import RandomForestClassifier, ExtraTreesClassifier\n",
    "from sklearn.linear_model import LogisticRegression\n",
    "from sklearn.neighbors import KNeighborsClassifier\n",
    "from sklearn.preprocessing import StandardScaler\n",
    "\n",
    "\n",
    "from tqdm import tqdm_notebook\n",
    "\n",
    "import time\n",
    "import xgboost as xgb\n",
    "import xgbfir\n",
    "\n",
    "sns.set_style('dark')\n",
    "\n",
    "SEED = 53525\n",
    "np.random.seed(SEED)\n",
    "\n",
    "%run ../src/data/make_dataset.py\n",
    "%run ../src/features/util.py\n",
    "%run ../src/models/cross_validation.py"
   ]
  },
  {
   "cell_type": "code",
   "execution_count": 2,
   "metadata": {
    "collapsed": true
   },
   "outputs": [],
   "source": [
    "# map for detected camera\n",
    "\n",
    "detected_camera_map = {\n",
    "    'Front': 0,\n",
    "    'Left': 1,\n",
    "    'Rear': 2,\n",
    "    'Right':3\n",
    "}"
   ]
  },
  {
   "cell_type": "code",
   "execution_count": 3,
   "metadata": {
    "collapsed": true
   },
   "outputs": [],
   "source": [
    "data = load_file('../data/processed/processed.feather')\n",
    "data['DetectedCamera'] = data.DetectedCamera.map(detected_camera_map)\n",
    "\n",
    "train_mask = data.Target.notnull()"
   ]
  },
  {
   "cell_type": "markdown",
   "metadata": {},
   "source": [
    "** Boxplot of angle between direction of vehicle and sign based on camera which detected it first. **"
   ]
  },
  {
   "cell_type": "code",
   "execution_count": 20,
   "metadata": {
    "collapsed": false
   },
   "outputs": [
    {
     "data": {
      "image/png": "[encoded data removed]",
      "text/plain": [
       "<matplotlib.figure.Figure at 0x7f48e20735f8>"
      ]
     },
     "metadata": {},
     "output_type": "display_data"
    }
   ],
   "source": [
    "sns.boxplot(x='Target', y='AngleOfSign', data=data.loc[train_mask, :]);"
   ]
  },
  {
   "cell_type": "markdown",
   "metadata": {},
   "source": [
    "** Let's figure out how angle of sign relates with Detected Camera and target **"
   ]
  },
  {
   "cell_type": "code",
   "execution_count": 10,
   "metadata": {
    "collapsed": false
   },
   "outputs": [],
   "source": [
    "ss = data.loc[train_mask & (data.Target == 0.0), ['AngleOfSign', 'DetectedCamera']]"
   ]
  },
  {
   "cell_type": "code",
   "execution_count": 11,
   "metadata": {
    "collapsed": false
   },
   "outputs": [
    {
     "data": {
      "text/plain": [
       "Front    10759\n",
       "Right     9563\n",
       "Left      1005\n",
       "Name: DetectedCamera, dtype: int64"
      ]
     },
     "execution_count": 11,
     "metadata": {},
     "output_type": "execute_result"
    }
   ],
   "source": [
    "ss.DetectedCamera.value_counts()"
   ]
  },
  {
   "cell_type": "markdown",
   "metadata": {},
   "source": [
    "** It says the sign that is to be put on front road geometry is captured by only front, right or left facing cameras. **"
   ]
  },
  {
   "cell_type": "code",
   "execution_count": 19,
   "metadata": {
    "collapsed": false
   },
   "outputs": [
    {
     "data": {
      "image/png": "[encoded data removed]",
      "text/plain": [
       "<matplotlib.figure.Figure at 0x7f48e2126860>"
      ]
     },
     "metadata": {},
     "output_type": "display_data"
    }
   ],
   "source": [
    "ss.loc[ss.DetectedCamera == 'Front', 'AngleOfSign'].hist();"
   ]
  },
  {
   "cell_type": "markdown",
   "metadata": {},
   "source": [
    "** This makes perfect sense that theta lies between 0 and 90 and 270 and 360 **"
   ]
  },
  {
   "cell_type": "code",
   "execution_count": 17,
   "metadata": {
    "collapsed": false
   },
   "outputs": [
    {
     "data": {
      "text/plain": [
       "count    9563.000000\n",
       "mean       64.024678\n",
       "std        11.943280\n",
       "min        41.000000\n",
       "25%        55.000000\n",
       "50%        65.000000\n",
       "75%        72.000000\n",
       "max       141.000000\n",
       "Name: AngleOfSign, dtype: float64"
      ]
     },
     "execution_count": 17,
     "metadata": {},
     "output_type": "execute_result"
    }
   ],
   "source": [
    "ss.loc[ss.DetectedCamera == 'Right', 'AngleOfSign'].describe()"
   ]
  },
  {
   "cell_type": "code",
   "execution_count": 15,
   "metadata": {
    "collapsed": false
   },
   "outputs": [
    {
     "data": {
      "image/png": "[encoded data removed]",
      "text/plain": [
       "<matplotlib.figure.Figure at 0x7f48e6b901d0>"
      ]
     },
     "metadata": {},
     "output_type": "display_data"
    }
   ],
   "source": [
    "ss.loc[ss.DetectedCamera == 'Right', 'AngleOfSign'].hist();"
   ]
  },
  {
   "cell_type": "code",
   "execution_count": 18,
   "metadata": {
    "collapsed": false
   },
   "outputs": [
    {
     "data": {
      "text/plain": [
       "count    1005.000000\n",
       "mean      280.385075\n",
       "std        19.197495\n",
       "min       222.000000\n",
       "25%       265.000000\n",
       "50%       279.000000\n",
       "75%       295.000000\n",
       "max       330.000000\n",
       "Name: AngleOfSign, dtype: float64"
      ]
     },
     "execution_count": 18,
     "metadata": {},
     "output_type": "execute_result"
    }
   ],
   "source": [
    "ss.loc[ss.DetectedCamera == 'Left', 'AngleOfSign'].describe()"
   ]
  },
  {
   "cell_type": "code",
   "execution_count": 16,
   "metadata": {
    "collapsed": false
   },
   "outputs": [
    {
     "data": {
      "image/png": "[encoded data removed]",
      "text/plain": [
       "<matplotlib.figure.Figure at 0x7f48e592e6a0>"
      ]
     },
     "metadata": {},
     "output_type": "display_data"
    }
   ],
   "source": [
    "ss.loc[ss.DetectedCamera == 'Left', 'AngleOfSign'].hist();"
   ]
  },
  {
   "cell_type": "markdown",
   "metadata": {},
   "source": [
    "** Left sign **"
   ]
  },
  {
   "cell_type": "code",
   "execution_count": null,
   "metadata": {
    "collapsed": true
   },
   "outputs": [],
   "source": [
    "0 - Front, 1 - Left, 2 - Rear, 3 - Right"
   ]
  },
  {
   "cell_type": "code",
   "execution_count": 143,
   "metadata": {
    "collapsed": true
   },
   "outputs": [],
   "source": [
    "ss = data.loc[train_mask & (data.Target == 3.0), ['AngleOfSign', 'DetectedCamera']]"
   ]
  },
  {
   "cell_type": "code",
   "execution_count": 144,
   "metadata": {
    "collapsed": false
   },
   "outputs": [
    {
     "data": {
      "text/plain": [
       "Right    700\n",
       "Rear      71\n",
       "Front     50\n",
       "Name: DetectedCamera, dtype: int64"
      ]
     },
     "execution_count": 144,
     "metadata": {},
     "output_type": "execute_result"
    }
   ],
   "source": [
    "ss.DetectedCamera.value_counts()"
   ]
  },
  {
   "cell_type": "code",
   "execution_count": 30,
   "metadata": {
    "collapsed": true
   },
   "outputs": [],
   "source": [
    "ss = data.loc[train_mask & (data.Target == 1.0), ['AngleOfSign', 'DetectedCamera']]"
   ]
  },
  {
   "cell_type": "code",
   "execution_count": 31,
   "metadata": {
    "collapsed": false
   },
   "outputs": [
    {
     "data": {
      "text/plain": [
       "Left     541\n",
       "Front    101\n",
       "Rear      33\n",
       "Name: DetectedCamera, dtype: int64"
      ]
     },
     "execution_count": 31,
     "metadata": {},
     "output_type": "execute_result"
    }
   ],
   "source": [
    "ss.DetectedCamera.value_counts()"
   ]
  },
  {
   "cell_type": "code",
   "execution_count": 33,
   "metadata": {
    "collapsed": false
   },
   "outputs": [
    {
     "data": {
      "image/png": "[encoded data removed]",
      "text/plain": [
       "<matplotlib.figure.Figure at 0x7f48e2045748>"
      ]
     },
     "metadata": {},
     "output_type": "display_data"
    }
   ],
   "source": [
    "ss.loc[ss.DetectedCamera == 'Left', 'AngleOfSign'].hist();"
   ]
  },
  {
   "cell_type": "code",
   "execution_count": 34,
   "metadata": {
    "collapsed": false
   },
   "outputs": [
    {
     "data": {
      "image/png": "[encoded data removed]",
      "text/plain": [
       "<matplotlib.figure.Figure at 0x7f48e2112198>"
      ]
     },
     "metadata": {},
     "output_type": "display_data"
    }
   ],
   "source": [
    "ss.loc[ss.DetectedCamera == 'Front', 'AngleOfSign'].hist();"
   ]
  },
  {
   "cell_type": "code",
   "execution_count": 35,
   "metadata": {
    "collapsed": false
   },
   "outputs": [
    {
     "data": {
      "image/png": "[encoded data removed]",
      "text/plain": [
       "<matplotlib.figure.Figure at 0x7f48e1f2f550>"
      ]
     },
     "metadata": {},
     "output_type": "display_data"
    }
   ],
   "source": [
    "ss.loc[ss.DetectedCamera == 'Rear', 'AngleOfSign'].hist();"
   ]
  },
  {
   "cell_type": "code",
   "execution_count": 37,
   "metadata": {
    "collapsed": false
   },
   "outputs": [],
   "source": [
    "ss = data.loc[train_mask & (data.Target == 1.0), ['AngleOfSign', 'DetectedCamera', 'SignAspectRatio']]"
   ]
  },
  {
   "cell_type": "code",
   "execution_count": 39,
   "metadata": {
    "collapsed": false
   },
   "outputs": [
    {
     "data": {
      "image/png": "[encoded data removed]",
      "text/plain": [
       "<matplotlib.figure.Figure at 0x7f48e1fbe400>"
      ]
     },
     "metadata": {},
     "output_type": "display_data"
    }
   ],
   "source": [
    "ss.loc[ss.DetectedCamera == 'Left', 'SignAspectRatio'].hist();"
   ]
  },
  {
   "cell_type": "code",
   "execution_count": 40,
   "metadata": {
    "collapsed": false
   },
   "outputs": [
    {
     "data": {
      "image/png": "[encoded data removed]",
      "text/plain": [
       "<matplotlib.figure.Figure at 0x7f48e21bd588>"
      ]
     },
     "metadata": {},
     "output_type": "display_data"
    }
   ],
   "source": [
    "ss.loc[ss.DetectedCamera == 'Front', 'SignAspectRatio'].hist();"
   ]
  },
  {
   "cell_type": "code",
   "execution_count": 41,
   "metadata": {
    "collapsed": false
   },
   "outputs": [
    {
     "data": {
      "image/png": "[encoded data removed]",
      "text/plain": [
       "<matplotlib.figure.Figure at 0x7f48e1f19400>"
      ]
     },
     "metadata": {},
     "output_type": "display_data"
    }
   ],
   "source": [
    "ss.loc[ss.DetectedCamera == 'Rear', 'SignAspectRatio'].hist();"
   ]
  },
  {
   "cell_type": "markdown",
   "metadata": {},
   "source": [
    "** Relationship between detected camera and target **"
   ]
  },
  {
   "cell_type": "code",
   "execution_count": 8,
   "metadata": {
    "collapsed": false
   },
   "outputs": [
    {
     "data": {
      "text/plain": [
       "(19657, 7)"
      ]
     },
     "execution_count": 8,
     "metadata": {},
     "output_type": "execute_result"
    }
   ],
   "source": [
    "data.loc[train_mask & (data.DetectedCamera == data.Target)].shape"
   ]
  },
  {
   "cell_type": "code",
   "execution_count": 9,
   "metadata": {
    "collapsed": false
   },
   "outputs": [
    {
     "data": {
      "text/plain": [
       "(18828, 7)"
      ]
     },
     "execution_count": 9,
     "metadata": {},
     "output_type": "execute_result"
    }
   ],
   "source": [
    "data.loc[train_mask & (data.DetectedCamera != data.Target)].shape"
   ]
  },
  {
   "cell_type": "code",
   "execution_count": 10,
   "metadata": {
    "collapsed": false
   },
   "outputs": [
    {
     "data": {
      "text/plain": [
       "(38485, 7)"
      ]
     },
     "execution_count": 10,
     "metadata": {},
     "output_type": "execute_result"
    }
   ],
   "source": [
    "data.loc[train_mask].shape"
   ]
  },
  {
   "cell_type": "code",
   "execution_count": 11,
   "metadata": {
    "collapsed": false
   },
   "outputs": [
    {
     "data": {
      "text/html": [
       "<div>\n",
       "<table border=\"1\" class=\"dataframe\">\n",
       "  <thead>\n",
       "    <tr style=\"text-align: right;\">\n",
       "      <th></th>\n",
       "      <th>AngleOfSign</th>\n",
       "      <th>DetectedCamera</th>\n",
       "      <th>Id</th>\n",
       "      <th>SignAspectRatio</th>\n",
       "      <th>SignHeight</th>\n",
       "      <th>SignWidth</th>\n",
       "      <th>Target</th>\n",
       "    </tr>\n",
       "  </thead>\n",
       "  <tbody>\n",
       "    <tr>\n",
       "      <th>6</th>\n",
       "      <td>245</td>\n",
       "      <td>1</td>\n",
       "      <td>2c9180975a056a64015a1e01fd466f56</td>\n",
       "      <td>0.93</td>\n",
       "      <td>117</td>\n",
       "      <td>109</td>\n",
       "      <td>2.0</td>\n",
       "    </tr>\n",
       "    <tr>\n",
       "      <th>9</th>\n",
       "      <td>74</td>\n",
       "      <td>3</td>\n",
       "      <td>2c9180975a056a64015a1e01fd466f51</td>\n",
       "      <td>0.51</td>\n",
       "      <td>103</td>\n",
       "      <td>53</td>\n",
       "      <td>0.0</td>\n",
       "    </tr>\n",
       "    <tr>\n",
       "      <th>14</th>\n",
       "      <td>258</td>\n",
       "      <td>1</td>\n",
       "      <td>2c9180975a056a64015a1e04ad9f6f8b</td>\n",
       "      <td>0.48</td>\n",
       "      <td>81</td>\n",
       "      <td>39</td>\n",
       "      <td>2.0</td>\n",
       "    </tr>\n",
       "    <tr>\n",
       "      <th>21</th>\n",
       "      <td>49</td>\n",
       "      <td>3</td>\n",
       "      <td>2c9180975a056a64015a1e04ad9f6f83</td>\n",
       "      <td>1.04</td>\n",
       "      <td>122</td>\n",
       "      <td>127</td>\n",
       "      <td>0.0</td>\n",
       "    </tr>\n",
       "    <tr>\n",
       "      <th>27</th>\n",
       "      <td>76</td>\n",
       "      <td>3</td>\n",
       "      <td>2c9180975a056a64015a1e1d735c7293</td>\n",
       "      <td>0.64</td>\n",
       "      <td>102</td>\n",
       "      <td>65</td>\n",
       "      <td>0.0</td>\n",
       "    </tr>\n",
       "    <tr>\n",
       "      <th>29</th>\n",
       "      <td>253</td>\n",
       "      <td>1</td>\n",
       "      <td>2c9180975a056a64015a1e41bbc2775f</td>\n",
       "      <td>0.69</td>\n",
       "      <td>54</td>\n",
       "      <td>37</td>\n",
       "      <td>2.0</td>\n",
       "    </tr>\n",
       "    <tr>\n",
       "      <th>30</th>\n",
       "      <td>248</td>\n",
       "      <td>1</td>\n",
       "      <td>2c9180975a056a64015a1e41bbc27758</td>\n",
       "      <td>0.75</td>\n",
       "      <td>59</td>\n",
       "      <td>44</td>\n",
       "      <td>2.0</td>\n",
       "    </tr>\n",
       "    <tr>\n",
       "      <th>31</th>\n",
       "      <td>72</td>\n",
       "      <td>3</td>\n",
       "      <td>2c9180975a056a64015a1e41bbc27756</td>\n",
       "      <td>0.55</td>\n",
       "      <td>94</td>\n",
       "      <td>52</td>\n",
       "      <td>0.0</td>\n",
       "    </tr>\n",
       "    <tr>\n",
       "      <th>33</th>\n",
       "      <td>253</td>\n",
       "      <td>1</td>\n",
       "      <td>2c9180975a056a64015a1e13b6c7713e</td>\n",
       "      <td>0.43</td>\n",
       "      <td>87</td>\n",
       "      <td>37</td>\n",
       "      <td>2.0</td>\n",
       "    </tr>\n",
       "    <tr>\n",
       "      <th>37</th>\n",
       "      <td>43</td>\n",
       "      <td>3</td>\n",
       "      <td>2c9180975a056a64015a1dceefde69de</td>\n",
       "      <td>1.20</td>\n",
       "      <td>167</td>\n",
       "      <td>200</td>\n",
       "      <td>0.0</td>\n",
       "    </tr>\n",
       "    <tr>\n",
       "      <th>39</th>\n",
       "      <td>244</td>\n",
       "      <td>1</td>\n",
       "      <td>2c9180975a056a64015a1dee86696cda</td>\n",
       "      <td>0.82</td>\n",
       "      <td>88</td>\n",
       "      <td>72</td>\n",
       "      <td>2.0</td>\n",
       "    </tr>\n",
       "    <tr>\n",
       "      <th>40</th>\n",
       "      <td>55</td>\n",
       "      <td>3</td>\n",
       "      <td>2c9180975a056a64015a1dee86696cd9</td>\n",
       "      <td>0.87</td>\n",
       "      <td>126</td>\n",
       "      <td>109</td>\n",
       "      <td>0.0</td>\n",
       "    </tr>\n",
       "    <tr>\n",
       "      <th>41</th>\n",
       "      <td>78</td>\n",
       "      <td>3</td>\n",
       "      <td>2c9180975a056a64015a1e01db306f44</td>\n",
       "      <td>0.59</td>\n",
       "      <td>127</td>\n",
       "      <td>75</td>\n",
       "      <td>0.0</td>\n",
       "    </tr>\n",
       "    <tr>\n",
       "      <th>44</th>\n",
       "      <td>70</td>\n",
       "      <td>3</td>\n",
       "      <td>2c9180975a056a64015a1df843fd6dbd</td>\n",
       "      <td>0.50</td>\n",
       "      <td>119</td>\n",
       "      <td>59</td>\n",
       "      <td>0.0</td>\n",
       "    </tr>\n",
       "    <tr>\n",
       "      <th>45</th>\n",
       "      <td>261</td>\n",
       "      <td>1</td>\n",
       "      <td>2c9180975a056a64015a1e58c1407a8d</td>\n",
       "      <td>0.33</td>\n",
       "      <td>79</td>\n",
       "      <td>26</td>\n",
       "      <td>2.0</td>\n",
       "    </tr>\n",
       "    <tr>\n",
       "      <th>51</th>\n",
       "      <td>59</td>\n",
       "      <td>3</td>\n",
       "      <td>2c9180975a056a64015a1e630c227b80</td>\n",
       "      <td>0.86</td>\n",
       "      <td>195</td>\n",
       "      <td>167</td>\n",
       "      <td>0.0</td>\n",
       "    </tr>\n",
       "    <tr>\n",
       "      <th>64</th>\n",
       "      <td>248</td>\n",
       "      <td>1</td>\n",
       "      <td>2c91809e5aba7d25015acd6875ca2097</td>\n",
       "      <td>0.76</td>\n",
       "      <td>92</td>\n",
       "      <td>70</td>\n",
       "      <td>2.0</td>\n",
       "    </tr>\n",
       "    <tr>\n",
       "      <th>66</th>\n",
       "      <td>72</td>\n",
       "      <td>3</td>\n",
       "      <td>2c9180845aba7d30015acd98669002cf</td>\n",
       "      <td>1.02</td>\n",
       "      <td>112</td>\n",
       "      <td>114</td>\n",
       "      <td>0.0</td>\n",
       "    </tr>\n",
       "    <tr>\n",
       "      <th>69</th>\n",
       "      <td>67</td>\n",
       "      <td>3</td>\n",
       "      <td>2c91808e5aba7da4015acd3f993557d2</td>\n",
       "      <td>0.93</td>\n",
       "      <td>124</td>\n",
       "      <td>115</td>\n",
       "      <td>0.0</td>\n",
       "    </tr>\n",
       "    <tr>\n",
       "      <th>70</th>\n",
       "      <td>67</td>\n",
       "      <td>3</td>\n",
       "      <td>2c9180935b853a2d015b8b9b42525151</td>\n",
       "      <td>0.93</td>\n",
       "      <td>124</td>\n",
       "      <td>115</td>\n",
       "      <td>0.0</td>\n",
       "    </tr>\n",
       "    <tr>\n",
       "      <th>74</th>\n",
       "      <td>245</td>\n",
       "      <td>1</td>\n",
       "      <td>2c91808e5aba7da4015acd3f655a57bc</td>\n",
       "      <td>0.94</td>\n",
       "      <td>111</td>\n",
       "      <td>104</td>\n",
       "      <td>2.0</td>\n",
       "    </tr>\n",
       "    <tr>\n",
       "      <th>80</th>\n",
       "      <td>62</td>\n",
       "      <td>3</td>\n",
       "      <td>2c9180975a056a64015a1e4bc3fa78f2</td>\n",
       "      <td>0.98</td>\n",
       "      <td>117</td>\n",
       "      <td>115</td>\n",
       "      <td>0.0</td>\n",
       "    </tr>\n",
       "    <tr>\n",
       "      <th>84</th>\n",
       "      <td>78</td>\n",
       "      <td>3</td>\n",
       "      <td>2c9180975a056a64015a1e6ed9d67c4c</td>\n",
       "      <td>0.44</td>\n",
       "      <td>132</td>\n",
       "      <td>58</td>\n",
       "      <td>0.0</td>\n",
       "    </tr>\n",
       "    <tr>\n",
       "      <th>85</th>\n",
       "      <td>245</td>\n",
       "      <td>1</td>\n",
       "      <td>2c9180975a056a64015a1e6ed9d67c4b</td>\n",
       "      <td>0.73</td>\n",
       "      <td>77</td>\n",
       "      <td>56</td>\n",
       "      <td>2.0</td>\n",
       "    </tr>\n",
       "    <tr>\n",
       "      <th>88</th>\n",
       "      <td>263</td>\n",
       "      <td>1</td>\n",
       "      <td>2c9180975a056a64015a1e627fb17b5e</td>\n",
       "      <td>0.64</td>\n",
       "      <td>72</td>\n",
       "      <td>46</td>\n",
       "      <td>0.0</td>\n",
       "    </tr>\n",
       "    <tr>\n",
       "      <th>89</th>\n",
       "      <td>234</td>\n",
       "      <td>1</td>\n",
       "      <td>2c9180975a056a64015a1e627fb17b56</td>\n",
       "      <td>1.33</td>\n",
       "      <td>33</td>\n",
       "      <td>44</td>\n",
       "      <td>2.0</td>\n",
       "    </tr>\n",
       "    <tr>\n",
       "      <th>91</th>\n",
       "      <td>42</td>\n",
       "      <td>3</td>\n",
       "      <td>2c91809659f86230015a0a2596bb2eb7</td>\n",
       "      <td>1.03</td>\n",
       "      <td>99</td>\n",
       "      <td>102</td>\n",
       "      <td>0.0</td>\n",
       "    </tr>\n",
       "    <tr>\n",
       "      <th>94</th>\n",
       "      <td>45</td>\n",
       "      <td>3</td>\n",
       "      <td>2c91809659f86230015a0886ce2a682c</td>\n",
       "      <td>1.24</td>\n",
       "      <td>196</td>\n",
       "      <td>244</td>\n",
       "      <td>0.0</td>\n",
       "    </tr>\n",
       "    <tr>\n",
       "      <th>95</th>\n",
       "      <td>75</td>\n",
       "      <td>3</td>\n",
       "      <td>2c91809659f86230015a099b02860d6e</td>\n",
       "      <td>0.55</td>\n",
       "      <td>74</td>\n",
       "      <td>41</td>\n",
       "      <td>0.0</td>\n",
       "    </tr>\n",
       "    <tr>\n",
       "      <th>96</th>\n",
       "      <td>44</td>\n",
       "      <td>3</td>\n",
       "      <td>2c91809659f86230015a0864733f6529</td>\n",
       "      <td>1.22</td>\n",
       "      <td>201</td>\n",
       "      <td>245</td>\n",
       "      <td>0.0</td>\n",
       "    </tr>\n",
       "    <tr>\n",
       "      <th>...</th>\n",
       "      <td>...</td>\n",
       "      <td>...</td>\n",
       "      <td>...</td>\n",
       "      <td>...</td>\n",
       "      <td>...</td>\n",
       "      <td>...</td>\n",
       "      <td>...</td>\n",
       "    </tr>\n",
       "    <tr>\n",
       "      <th>38422</th>\n",
       "      <td>250</td>\n",
       "      <td>1</td>\n",
       "      <td>2c91809659f86230015a0afbbda76462</td>\n",
       "      <td>0.57</td>\n",
       "      <td>61</td>\n",
       "      <td>35</td>\n",
       "      <td>2.0</td>\n",
       "    </tr>\n",
       "    <tr>\n",
       "      <th>38423</th>\n",
       "      <td>59</td>\n",
       "      <td>3</td>\n",
       "      <td>2c91809659f86230015a0afbbda76461</td>\n",
       "      <td>0.86</td>\n",
       "      <td>161</td>\n",
       "      <td>139</td>\n",
       "      <td>0.0</td>\n",
       "    </tr>\n",
       "    <tr>\n",
       "      <th>38424</th>\n",
       "      <td>247</td>\n",
       "      <td>1</td>\n",
       "      <td>2c91809659f86230015a0bcbca9c0a6b</td>\n",
       "      <td>0.74</td>\n",
       "      <td>69</td>\n",
       "      <td>51</td>\n",
       "      <td>2.0</td>\n",
       "    </tr>\n",
       "    <tr>\n",
       "      <th>38426</th>\n",
       "      <td>71</td>\n",
       "      <td>3</td>\n",
       "      <td>2c91809659f86230015a0b31d87a6f5b</td>\n",
       "      <td>0.69</td>\n",
       "      <td>137</td>\n",
       "      <td>95</td>\n",
       "      <td>0.0</td>\n",
       "    </tr>\n",
       "    <tr>\n",
       "      <th>38429</th>\n",
       "      <td>253</td>\n",
       "      <td>1</td>\n",
       "      <td>2c91809659f86230015a0a357b6c3330</td>\n",
       "      <td>0.56</td>\n",
       "      <td>139</td>\n",
       "      <td>78</td>\n",
       "      <td>2.0</td>\n",
       "    </tr>\n",
       "    <tr>\n",
       "      <th>38430</th>\n",
       "      <td>230</td>\n",
       "      <td>1</td>\n",
       "      <td>2c91809659f86230015a0b577119766d</td>\n",
       "      <td>1.07</td>\n",
       "      <td>76</td>\n",
       "      <td>81</td>\n",
       "      <td>2.0</td>\n",
       "    </tr>\n",
       "    <tr>\n",
       "      <th>38431</th>\n",
       "      <td>250</td>\n",
       "      <td>1</td>\n",
       "      <td>2c91809659f86230015a0b6a86de79b4</td>\n",
       "      <td>0.68</td>\n",
       "      <td>90</td>\n",
       "      <td>61</td>\n",
       "      <td>2.0</td>\n",
       "    </tr>\n",
       "    <tr>\n",
       "      <th>38433</th>\n",
       "      <td>251</td>\n",
       "      <td>1</td>\n",
       "      <td>2c91809659f86230015a0b8b5d297e5b</td>\n",
       "      <td>0.78</td>\n",
       "      <td>59</td>\n",
       "      <td>46</td>\n",
       "      <td>2.0</td>\n",
       "    </tr>\n",
       "    <tr>\n",
       "      <th>38437</th>\n",
       "      <td>71</td>\n",
       "      <td>3</td>\n",
       "      <td>2c91809659f86230015a09f7eae123f9</td>\n",
       "      <td>0.77</td>\n",
       "      <td>124</td>\n",
       "      <td>96</td>\n",
       "      <td>0.0</td>\n",
       "    </tr>\n",
       "    <tr>\n",
       "      <th>38438</th>\n",
       "      <td>254</td>\n",
       "      <td>1</td>\n",
       "      <td>2c91809659f86230015a0a6cf95541ed</td>\n",
       "      <td>0.68</td>\n",
       "      <td>72</td>\n",
       "      <td>49</td>\n",
       "      <td>2.0</td>\n",
       "    </tr>\n",
       "    <tr>\n",
       "      <th>38440</th>\n",
       "      <td>62</td>\n",
       "      <td>3</td>\n",
       "      <td>2c91809659f86230015a01fc0b7a23f7</td>\n",
       "      <td>1.05</td>\n",
       "      <td>197</td>\n",
       "      <td>206</td>\n",
       "      <td>0.0</td>\n",
       "    </tr>\n",
       "    <tr>\n",
       "      <th>38443</th>\n",
       "      <td>258</td>\n",
       "      <td>1</td>\n",
       "      <td>2c91809659f86230015a0bb534d00690</td>\n",
       "      <td>0.41</td>\n",
       "      <td>70</td>\n",
       "      <td>29</td>\n",
       "      <td>2.0</td>\n",
       "    </tr>\n",
       "    <tr>\n",
       "      <th>38444</th>\n",
       "      <td>253</td>\n",
       "      <td>1</td>\n",
       "      <td>2c91809659f86230015a0a7eddf147af</td>\n",
       "      <td>0.64</td>\n",
       "      <td>85</td>\n",
       "      <td>54</td>\n",
       "      <td>2.0</td>\n",
       "    </tr>\n",
       "    <tr>\n",
       "      <th>38445</th>\n",
       "      <td>76</td>\n",
       "      <td>3</td>\n",
       "      <td>2c91809659f86230015a0a7eddf147aa</td>\n",
       "      <td>0.63</td>\n",
       "      <td>177</td>\n",
       "      <td>111</td>\n",
       "      <td>0.0</td>\n",
       "    </tr>\n",
       "    <tr>\n",
       "      <th>38446</th>\n",
       "      <td>55</td>\n",
       "      <td>3</td>\n",
       "      <td>2c91809659f86230015a01aa41581598</td>\n",
       "      <td>1.28</td>\n",
       "      <td>100</td>\n",
       "      <td>128</td>\n",
       "      <td>0.0</td>\n",
       "    </tr>\n",
       "    <tr>\n",
       "      <th>38449</th>\n",
       "      <td>250</td>\n",
       "      <td>1</td>\n",
       "      <td>2c91809659f86230015a0b4417e672b3</td>\n",
       "      <td>0.75</td>\n",
       "      <td>87</td>\n",
       "      <td>65</td>\n",
       "      <td>2.0</td>\n",
       "    </tr>\n",
       "    <tr>\n",
       "      <th>38450</th>\n",
       "      <td>63</td>\n",
       "      <td>3</td>\n",
       "      <td>2c91809659f86230015a01dc83461e1a</td>\n",
       "      <td>1.04</td>\n",
       "      <td>142</td>\n",
       "      <td>148</td>\n",
       "      <td>0.0</td>\n",
       "    </tr>\n",
       "    <tr>\n",
       "      <th>38451</th>\n",
       "      <td>80</td>\n",
       "      <td>3</td>\n",
       "      <td>2c91809659f86230015a0b0eb5266898</td>\n",
       "      <td>0.59</td>\n",
       "      <td>145</td>\n",
       "      <td>86</td>\n",
       "      <td>0.0</td>\n",
       "    </tr>\n",
       "    <tr>\n",
       "      <th>38452</th>\n",
       "      <td>62</td>\n",
       "      <td>3</td>\n",
       "      <td>2c91809659f86230015a0a9217214c41</td>\n",
       "      <td>0.88</td>\n",
       "      <td>103</td>\n",
       "      <td>91</td>\n",
       "      <td>0.0</td>\n",
       "    </tr>\n",
       "    <tr>\n",
       "      <th>38455</th>\n",
       "      <td>82</td>\n",
       "      <td>3</td>\n",
       "      <td>2c91809659f86230015a0acd2b7f5aee</td>\n",
       "      <td>0.45</td>\n",
       "      <td>121</td>\n",
       "      <td>54</td>\n",
       "      <td>0.0</td>\n",
       "    </tr>\n",
       "    <tr>\n",
       "      <th>38457</th>\n",
       "      <td>83</td>\n",
       "      <td>3</td>\n",
       "      <td>2c91809659f86230015a0acd2b7f5aea</td>\n",
       "      <td>0.37</td>\n",
       "      <td>100</td>\n",
       "      <td>37</td>\n",
       "      <td>0.0</td>\n",
       "    </tr>\n",
       "    <tr>\n",
       "      <th>38458</th>\n",
       "      <td>81</td>\n",
       "      <td>3</td>\n",
       "      <td>2c91809659f86230015a0b75c8347b95</td>\n",
       "      <td>0.45</td>\n",
       "      <td>179</td>\n",
       "      <td>81</td>\n",
       "      <td>0.0</td>\n",
       "    </tr>\n",
       "    <tr>\n",
       "      <th>38459</th>\n",
       "      <td>67</td>\n",
       "      <td>3</td>\n",
       "      <td>2c91809659f86230015a0b0bd6bc6817</td>\n",
       "      <td>0.63</td>\n",
       "      <td>178</td>\n",
       "      <td>112</td>\n",
       "      <td>0.0</td>\n",
       "    </tr>\n",
       "    <tr>\n",
       "      <th>38460</th>\n",
       "      <td>67</td>\n",
       "      <td>3</td>\n",
       "      <td>2c91809659f86230015a0b0bd6bc681d</td>\n",
       "      <td>0.68</td>\n",
       "      <td>117</td>\n",
       "      <td>79</td>\n",
       "      <td>0.0</td>\n",
       "    </tr>\n",
       "    <tr>\n",
       "      <th>38464</th>\n",
       "      <td>231</td>\n",
       "      <td>1</td>\n",
       "      <td>2c91809659f86230015a0a4cfd433945</td>\n",
       "      <td>1.11</td>\n",
       "      <td>73</td>\n",
       "      <td>81</td>\n",
       "      <td>2.0</td>\n",
       "    </tr>\n",
       "    <tr>\n",
       "      <th>38466</th>\n",
       "      <td>71</td>\n",
       "      <td>3</td>\n",
       "      <td>2c91809659f86230015a0aefffcc622d</td>\n",
       "      <td>0.70</td>\n",
       "      <td>97</td>\n",
       "      <td>68</td>\n",
       "      <td>0.0</td>\n",
       "    </tr>\n",
       "    <tr>\n",
       "      <th>38472</th>\n",
       "      <td>254</td>\n",
       "      <td>1</td>\n",
       "      <td>2c91809659f86230015a0b07645166e9</td>\n",
       "      <td>0.47</td>\n",
       "      <td>78</td>\n",
       "      <td>37</td>\n",
       "      <td>2.0</td>\n",
       "    </tr>\n",
       "    <tr>\n",
       "      <th>38475</th>\n",
       "      <td>246</td>\n",
       "      <td>1</td>\n",
       "      <td>2c91809659f86230015a09e35c531e4e</td>\n",
       "      <td>0.64</td>\n",
       "      <td>102</td>\n",
       "      <td>65</td>\n",
       "      <td>2.0</td>\n",
       "    </tr>\n",
       "    <tr>\n",
       "      <th>38478</th>\n",
       "      <td>245</td>\n",
       "      <td>1</td>\n",
       "      <td>2c91809659f86230015a0aa9793c5262</td>\n",
       "      <td>0.86</td>\n",
       "      <td>117</td>\n",
       "      <td>101</td>\n",
       "      <td>2.0</td>\n",
       "    </tr>\n",
       "    <tr>\n",
       "      <th>38479</th>\n",
       "      <td>48</td>\n",
       "      <td>3</td>\n",
       "      <td>2c91809659f86230015a0b2330ae6d00</td>\n",
       "      <td>1.21</td>\n",
       "      <td>132</td>\n",
       "      <td>160</td>\n",
       "      <td>0.0</td>\n",
       "    </tr>\n",
       "  </tbody>\n",
       "</table>\n",
       "<p>18828 rows × 7 columns</p>\n",
       "</div>"
      ],
      "text/plain": [
       "       AngleOfSign  DetectedCamera                                Id  \\\n",
       "6              245               1  2c9180975a056a64015a1e01fd466f56   \n",
       "9               74               3  2c9180975a056a64015a1e01fd466f51   \n",
       "14             258               1  2c9180975a056a64015a1e04ad9f6f8b   \n",
       "21              49               3  2c9180975a056a64015a1e04ad9f6f83   \n",
       "27              76               3  2c9180975a056a64015a1e1d735c7293   \n",
       "29             253               1  2c9180975a056a64015a1e41bbc2775f   \n",
       "30             248               1  2c9180975a056a64015a1e41bbc27758   \n",
       "31              72               3  2c9180975a056a64015a1e41bbc27756   \n",
       "33             253               1  2c9180975a056a64015a1e13b6c7713e   \n",
       "37              43               3  2c9180975a056a64015a1dceefde69de   \n",
       "39             244               1  2c9180975a056a64015a1dee86696cda   \n",
       "40              55               3  2c9180975a056a64015a1dee86696cd9   \n",
       "41              78               3  2c9180975a056a64015a1e01db306f44   \n",
       "44              70               3  2c9180975a056a64015a1df843fd6dbd   \n",
       "45             261               1  2c9180975a056a64015a1e58c1407a8d   \n",
       "51              59               3  2c9180975a056a64015a1e630c227b80   \n",
       "64             248               1  2c91809e5aba7d25015acd6875ca2097   \n",
       "66              72               3  2c9180845aba7d30015acd98669002cf   \n",
       "69              67               3  2c91808e5aba7da4015acd3f993557d2   \n",
       "70              67               3  2c9180935b853a2d015b8b9b42525151   \n",
       "74             245               1  2c91808e5aba7da4015acd3f655a57bc   \n",
       "80              62               3  2c9180975a056a64015a1e4bc3fa78f2   \n",
       "84              78               3  2c9180975a056a64015a1e6ed9d67c4c   \n",
       "85             245               1  2c9180975a056a64015a1e6ed9d67c4b   \n",
       "88             263               1  2c9180975a056a64015a1e627fb17b5e   \n",
       "89             234               1  2c9180975a056a64015a1e627fb17b56   \n",
       "91              42               3  2c91809659f86230015a0a2596bb2eb7   \n",
       "94              45               3  2c91809659f86230015a0886ce2a682c   \n",
       "95              75               3  2c91809659f86230015a099b02860d6e   \n",
       "96              44               3  2c91809659f86230015a0864733f6529   \n",
       "...            ...             ...                               ...   \n",
       "38422          250               1  2c91809659f86230015a0afbbda76462   \n",
       "38423           59               3  2c91809659f86230015a0afbbda76461   \n",
       "38424          247               1  2c91809659f86230015a0bcbca9c0a6b   \n",
       "38426           71               3  2c91809659f86230015a0b31d87a6f5b   \n",
       "38429          253               1  2c91809659f86230015a0a357b6c3330   \n",
       "38430          230               1  2c91809659f86230015a0b577119766d   \n",
       "38431          250               1  2c91809659f86230015a0b6a86de79b4   \n",
       "38433          251               1  2c91809659f86230015a0b8b5d297e5b   \n",
       "38437           71               3  2c91809659f86230015a09f7eae123f9   \n",
       "38438          254               1  2c91809659f86230015a0a6cf95541ed   \n",
       "38440           62               3  2c91809659f86230015a01fc0b7a23f7   \n",
       "38443          258               1  2c91809659f86230015a0bb534d00690   \n",
       "38444          253               1  2c91809659f86230015a0a7eddf147af   \n",
       "38445           76               3  2c91809659f86230015a0a7eddf147aa   \n",
       "38446           55               3  2c91809659f86230015a01aa41581598   \n",
       "38449          250               1  2c91809659f86230015a0b4417e672b3   \n",
       "38450           63               3  2c91809659f86230015a01dc83461e1a   \n",
       "38451           80               3  2c91809659f86230015a0b0eb5266898   \n",
       "38452           62               3  2c91809659f86230015a0a9217214c41   \n",
       "38455           82               3  2c91809659f86230015a0acd2b7f5aee   \n",
       "38457           83               3  2c91809659f86230015a0acd2b7f5aea   \n",
       "38458           81               3  2c91809659f86230015a0b75c8347b95   \n",
       "38459           67               3  2c91809659f86230015a0b0bd6bc6817   \n",
       "38460           67               3  2c91809659f86230015a0b0bd6bc681d   \n",
       "38464          231               1  2c91809659f86230015a0a4cfd433945   \n",
       "38466           71               3  2c91809659f86230015a0aefffcc622d   \n",
       "38472          254               1  2c91809659f86230015a0b07645166e9   \n",
       "38475          246               1  2c91809659f86230015a09e35c531e4e   \n",
       "38478          245               1  2c91809659f86230015a0aa9793c5262   \n",
       "38479           48               3  2c91809659f86230015a0b2330ae6d00   \n",
       "\n",
       "       SignAspectRatio  SignHeight  SignWidth  Target  \n",
       "6                 0.93         117        109     2.0  \n",
       "9                 0.51         103         53     0.0  \n",
       "14                0.48          81         39     2.0  \n",
       "21                1.04         122        127     0.0  \n",
       "27                0.64         102         65     0.0  \n",
       "29                0.69          54         37     2.0  \n",
       "30                0.75          59         44     2.0  \n",
       "31                0.55          94         52     0.0  \n",
       "33                0.43          87         37     2.0  \n",
       "37                1.20         167        200     0.0  \n",
       "39                0.82          88         72     2.0  \n",
       "40                0.87         126        109     0.0  \n",
       "41                0.59         127         75     0.0  \n",
       "44                0.50         119         59     0.0  \n",
       "45                0.33          79         26     2.0  \n",
       "51                0.86         195        167     0.0  \n",
       "64                0.76          92         70     2.0  \n",
       "66                1.02         112        114     0.0  \n",
       "69                0.93         124        115     0.0  \n",
       "70                0.93         124        115     0.0  \n",
       "74                0.94         111        104     2.0  \n",
       "80                0.98         117        115     0.0  \n",
       "84                0.44         132         58     0.0  \n",
       "85                0.73          77         56     2.0  \n",
       "88                0.64          72         46     0.0  \n",
       "89                1.33          33         44     2.0  \n",
       "91                1.03          99        102     0.0  \n",
       "94                1.24         196        244     0.0  \n",
       "95                0.55          74         41     0.0  \n",
       "96                1.22         201        245     0.0  \n",
       "...                ...         ...        ...     ...  \n",
       "38422             0.57          61         35     2.0  \n",
       "38423             0.86         161        139     0.0  \n",
       "38424             0.74          69         51     2.0  \n",
       "38426             0.69         137         95     0.0  \n",
       "38429             0.56         139         78     2.0  \n",
       "38430             1.07          76         81     2.0  \n",
       "38431             0.68          90         61     2.0  \n",
       "38433             0.78          59         46     2.0  \n",
       "38437             0.77         124         96     0.0  \n",
       "38438             0.68          72         49     2.0  \n",
       "38440             1.05         197        206     0.0  \n",
       "38443             0.41          70         29     2.0  \n",
       "38444             0.64          85         54     2.0  \n",
       "38445             0.63         177        111     0.0  \n",
       "38446             1.28         100        128     0.0  \n",
       "38449             0.75          87         65     2.0  \n",
       "38450             1.04         142        148     0.0  \n",
       "38451             0.59         145         86     0.0  \n",
       "38452             0.88         103         91     0.0  \n",
       "38455             0.45         121         54     0.0  \n",
       "38457             0.37         100         37     0.0  \n",
       "38458             0.45         179         81     0.0  \n",
       "38459             0.63         178        112     0.0  \n",
       "38460             0.68         117         79     0.0  \n",
       "38464             1.11          73         81     2.0  \n",
       "38466             0.70          97         68     0.0  \n",
       "38472             0.47          78         37     2.0  \n",
       "38475             0.64         102         65     2.0  \n",
       "38478             0.86         117        101     2.0  \n",
       "38479             1.21         132        160     0.0  \n",
       "\n",
       "[18828 rows x 7 columns]"
      ]
     },
     "execution_count": 11,
     "metadata": {},
     "output_type": "execute_result"
    }
   ],
   "source": [
    "data.loc[train_mask & (data.DetectedCamera != data.Target)]"
   ]
  },
  {
   "cell_type": "markdown",
   "metadata": {},
   "source": [
    "** Relationship between Sign Area and Target **"
   ]
  },
  {
   "cell_type": "code",
   "execution_count": 4,
   "metadata": {
    "collapsed": true
   },
   "outputs": [],
   "source": [
    "sign_area = data.SignHeight * data.SignWidth\n",
    "\n",
    "data = data.assign(sign_area=sign_area)"
   ]
  },
  {
   "cell_type": "code",
   "execution_count": 18,
   "metadata": {
    "collapsed": false
   },
   "outputs": [
    {
     "name": "stderr",
     "output_type": "stream",
     "text": [
      "/home/abhishek/anaconda3/lib/python3.6/site-packages/statsmodels/nonparametric/kdetools.py:20: VisibleDeprecationWarning: using a non-integer number instead of an integer will result in an error in the future\n",
      "  y = X[:m/2+1] + np.r_[0,X[m/2+1:],0]*1j\n"
     ]
    },
    {
     "data": {
      "image/png": "[encoded data removed]",
      "text/plain": [
       "<matplotlib.figure.Figure at 0x7f53a6514518>"
      ]
     },
     "metadata": {},
     "output_type": "display_data"
    }
   ],
   "source": [
    "sns.distplot(data.loc[train_mask & (data.Target == 0.0), 'sign_area'].map(np.log10), label='Front')\n",
    "sns.distplot(data.loc[train_mask & (data.Target == 1.0), 'sign_area'].map(np.log10), label='Left')\n",
    "sns.distplot(data.loc[train_mask & (data.Target == 2.0), 'sign_area'].map(np.log10), label='Rear')\n",
    "sns.distplot(data.loc[train_mask & (data.Target == 3.0), 'sign_area'].map(np.log10), label='Right')\n",
    "plt.legend(loc='best');"
   ]
  },
  {
   "cell_type": "code",
   "execution_count": 5,
   "metadata": {
    "collapsed": true
   },
   "outputs": [],
   "source": [
    "sign_perimeter = 2 * (data.SignHeight + data.SignWidth)\n",
    "\n",
    "data = data.assign(sign_perimeter=sign_perimeter)"
   ]
  },
  {
   "cell_type": "code",
   "execution_count": 117,
   "metadata": {
    "collapsed": false
   },
   "outputs": [
    {
     "name": "stderr",
     "output_type": "stream",
     "text": [
      "/home/abhishek/anaconda3/lib/python3.6/site-packages/statsmodels/nonparametric/kdetools.py:20: VisibleDeprecationWarning: using a non-integer number instead of an integer will result in an error in the future\n",
      "  y = X[:m/2+1] + np.r_[0,X[m/2+1:],0]*1j\n"
     ]
    },
    {
     "data": {
      "image/png": "[encoded data removed]",
      "text/plain": [
       "<matplotlib.figure.Figure at 0x7f53a50ce6a0>"
      ]
     },
     "metadata": {},
     "output_type": "display_data"
    }
   ],
   "source": [
    "sns.distplot(data.loc[train_mask & (data.Target == 0.0), 'sign_perimeter'].map(np.log10), label='Front')\n",
    "sns.distplot(data.loc[train_mask & (data.Target == 1.0), 'sign_perimeter'].map(np.log10), label='Left')\n",
    "sns.distplot(data.loc[train_mask & (data.Target == 2.0), 'sign_perimeter'].map(np.log10), label='Rear')\n",
    "sns.distplot(data.loc[train_mask & (data.Target == 3.0), 'sign_perimeter'].map(np.log10), label='Right')\n",
    "\n",
    "plt.legend(loc='best');"
   ]
  },
  {
   "cell_type": "code",
   "execution_count": 6,
   "metadata": {
    "collapsed": true
   },
   "outputs": [],
   "source": [
    "diff_height_width = data.SignHeight - data.SignWidth\n",
    "\n",
    "data = data.assign(diff_height_width=diff_height_width)"
   ]
  },
  {
   "cell_type": "code",
   "execution_count": 154,
   "metadata": {
    "collapsed": false
   },
   "outputs": [
    {
     "name": "stderr",
     "output_type": "stream",
     "text": [
      "/home/abhishek/anaconda3/lib/python3.6/site-packages/statsmodels/nonparametric/kdetools.py:20: VisibleDeprecationWarning: using a non-integer number instead of an integer will result in an error in the future\n",
      "  y = X[:m/2+1] + np.r_[0,X[m/2+1:],0]*1j\n"
     ]
    },
    {
     "data": {
      "image/png": "[encoded data removed]",
      "text/plain": [
       "<matplotlib.figure.Figure at 0x7f53a58322b0>"
      ]
     },
     "metadata": {},
     "output_type": "display_data"
    }
   ],
   "source": [
    "sns.distplot(data.loc[train_mask & (data.Target == 0.0), 'diff_height_width'], label='Front')\n",
    "sns.distplot(data.loc[train_mask & (data.Target == 1.0), 'diff_height_width'], label='Left')\n",
    "sns.distplot(data.loc[train_mask & (data.Target == 2.0), 'diff_height_width'], label='Rear')\n",
    "sns.distplot(data.loc[train_mask & (data.Target == 3.0), 'diff_height_width'], label='Right')\n",
    "\n",
    "plt.legend(loc='best');"
   ]
  },
  {
   "cell_type": "markdown",
   "metadata": {},
   "source": [
    "** Relationship between Sign, other features and target **"
   ]
  },
  {
   "cell_type": "code",
   "execution_count": 33,
   "metadata": {
    "collapsed": false
   },
   "outputs": [],
   "source": [
    "sar_labels = pd.cut(data.SignAspectRatio, bins=5, labels=np.arange(1, 6))\n",
    "\n",
    "data = data.assign(sar_labels=sar_labels)"
   ]
  },
  {
   "cell_type": "code",
   "execution_count": 47,
   "metadata": {
    "collapsed": false
   },
   "outputs": [],
   "source": [
    "mean_target_by_sar_labels = data.loc[train_mask, :]\\\n",
    "                              .groupby(['DetectedCamera', 'sar_labels'])['Target']\\\n",
    "                              .mean()\n",
    "\n",
    "data = data.assign(mean_target_by_sar=data[['DetectedCamera', 'sar_labels']]\\\n",
    "           .apply(lambda x: mean_target_by_sar_labels.ix[x[0], x[1]] if (x[0], x[1]) in mean_target_by_sar_labels else -1, axis=1))"
   ]
  },
  {
   "cell_type": "code",
   "execution_count": 48,
   "metadata": {
    "collapsed": false
   },
   "outputs": [
    {
     "data": {
      "text/plain": [
       "AngleOfSign                                        195\n",
       "DetectedCamera                                       2\n",
       "Id                    2c9180975a056a64015a1e0a52e57021\n",
       "SignAspectRatio                                   1.02\n",
       "SignHeight                                          45\n",
       "SignWidth                                           46\n",
       "Target                                               2\n",
       "sign_area                                         2070\n",
       "sign_perimeter                                     182\n",
       "diff_height_width                                   -1\n",
       "closest_quadrant                                   180\n",
       "mean_target                                    2.00439\n",
       "sar_labels                                           2\n",
       "mean_target_by_sar                             2.00056\n",
       "Name: 0, dtype: object"
      ]
     },
     "execution_count": 48,
     "metadata": {},
     "output_type": "execute_result"
    }
   ],
   "source": [
    "data.iloc[0]"
   ]
  },
  {
   "cell_type": "markdown",
   "metadata": {},
   "source": [
    "** Feature Engineering **"
   ]
  },
  {
   "cell_type": "markdown",
   "metadata": {},
   "source": [
    "** Closest quadrant line **"
   ]
  },
  {
   "cell_type": "code",
   "execution_count": 7,
   "metadata": {
    "collapsed": false
   },
   "outputs": [],
   "source": [
    "def get_closest_qudrant(angle):\n",
    "    if angle >= 0 and angle <= 90:\n",
    "        diff_from_0  = angle - 0\n",
    "        diff_from_90 = 90 - angle\n",
    "        \n",
    "        if diff_from_0 < diff_from_90:\n",
    "            return 0\n",
    "        else:\n",
    "            return 90\n",
    "    \n",
    "    elif angle > 90 and angle <= 180:\n",
    "        diff_from_90  = angle - 90\n",
    "        diff_from_180 = 180 - angle\n",
    "        \n",
    "        if diff_from_90 < diff_from_180:\n",
    "            return 90\n",
    "        else:\n",
    "            return 180\n",
    "    \n",
    "    elif angle > 180 and angle <= 270:\n",
    "        diff_from_180 = angle - 180\n",
    "        diff_from_270 = 270 - angle\n",
    "        \n",
    "        if diff_from_180 < diff_from_270:\n",
    "            return 180\n",
    "        else:\n",
    "            return 270\n",
    "    \n",
    "    else:\n",
    "        diff_from_270 = angle - 270\n",
    "        diff_from_360 = 360 - angle\n",
    "        \n",
    "        if diff_from_270 < diff_from_360:\n",
    "            return 270\n",
    "        else:\n",
    "            return 360\n",
    "    \n",
    "data = data.assign(closest_quadrant=data.AngleOfSign.map(get_closest_qudrant))"
   ]
  },
  {
   "cell_type": "markdown",
   "metadata": {},
   "source": [
    "** Mean Target **"
   ]
  },
  {
   "cell_type": "code",
   "execution_count": 8,
   "metadata": {
    "collapsed": false
   },
   "outputs": [],
   "source": [
    "mean_target_by_quadrant = data.loc[train_mask, :]\\\n",
    "                              .groupby(['DetectedCamera', 'closest_quadrant'])['Target']\\\n",
    "                              .mean()\n",
    "\n",
    "data = data.assign(mean_target=data[['DetectedCamera', 'closest_quadrant']]\\\n",
    "                              .apply(lambda x: mean_target_by_quadrant.ix[x[0], x[1]], axis=1))"
   ]
  },
  {
   "cell_type": "markdown",
   "metadata": {},
   "source": [
    "** Sign Area and Detected Camera looks very promising features to discriminate between different target labels. **"
   ]
  },
  {
   "cell_type": "code",
   "execution_count": 9,
   "metadata": {
    "collapsed": true
   },
   "outputs": [],
   "source": [
    "def cross_validate_single_model_sign(X, y, model, ret_fold_preds=False,\n",
    "                   save_folds=False, plot_cv_scores=False):\n",
    "    \"\"\"\n",
    "    Stratified K-Fold with 10 splits and then save each fold\n",
    "    and analyze the performance of the model on each fold\n",
    "    \"\"\"\n",
    "    \n",
    "    skf = StratifiedKFold(n_splits=10, random_state=SEED)\n",
    "    fold_counter = 0\n",
    "    \n",
    "    cv_scores = []\n",
    "    preds     = []\n",
    "    \n",
    "    for (itr, ite) in tqdm_notebook(skf.split(X, y)):\n",
    "        Xtr = X.iloc[itr]\n",
    "        ytr = y.iloc[itr]\n",
    "        \n",
    "        Xte = X.iloc[ite]\n",
    "        yte = y.iloc[ite]\n",
    "        \n",
    "        if save_folds:\n",
    "            save_file(pd.concat((Xtr, ytr), axis='columns'), '../data/processed/train_fold%s.feather'%(fold_counter))\n",
    "            save_file(pd.concat((Xte, yte), axis='columns'), '../data/processed/test_fold%s.feather'%(fold_counter))\n",
    "        \n",
    "        print('Training model')\n",
    "        start_time = time.time()\n",
    "        model.fit(Xtr, ytr)\n",
    "        end_time   = time.time()\n",
    "        \n",
    "        print('Took: {} seconds to train model'.format(end_time - start_time))\n",
    "        \n",
    "        start_time  = time.time()\n",
    "        fold_preds  = model.predict_proba(Xte)\n",
    "        end_time    = time.time()\n",
    "        \n",
    "#         # platt - scaling\n",
    "#         fold_train_preds = model.predict_proba(Xtr) # generate predictions for training fold\n",
    "        \n",
    "#         lr = LogisticRegression(C=.1, random_state=SEED)\n",
    "#         lr.fit(fold_train_preds, ytr) # train a lr on predicted probs and true labels\n",
    "        \n",
    "#         calibrated = lr.predict_proba(fold_preds) # generate calibrated prob\n",
    "        \n",
    "        if ret_fold_preds:\n",
    "            preds.append(fold_preds)\n",
    "        \n",
    "        print('Took: {} seconds to generate predictions'.format(end_time - start_time))\n",
    "        \n",
    "        fold_score = log_loss(yte, fold_preds)\n",
    "        print('Fold log loss score: {}'.format(fold_score))\n",
    "        \n",
    "        cv_scores.append(fold_score)\n",
    "        print('='*75)\n",
    "        print('\\n')\n",
    "        \n",
    "    if plot_cv_scores:\n",
    "        plt.scatter(np.arange(0, len(cv_scores)), cv_scores)\n",
    "    \n",
    "    print('Mean cv score: {} \\n Std cv score: {}'.format(np.mean(cv_scores), np.std(cv_scores)))\n",
    "    \n",
    "    return preds"
   ]
  },
  {
   "cell_type": "code",
   "execution_count": 53,
   "metadata": {
    "collapsed": true
   },
   "outputs": [],
   "source": [
    "ff = ['AngleOfSign', 'DetectedCamera',\n",
    "      'mean_target', 'sign_area', 'sign_perimeter',\n",
    "      'diff_height_width', 'SignAspectRatio'\n",
    "     ]\n",
    "\n",
    "X = data.loc[train_mask, ff]\n",
    "y = data.loc[train_mask, 'Target']\n",
    "\n",
    "Xtest = data.loc[~train_mask, ff]"
   ]
  },
  {
   "cell_type": "code",
   "execution_count": 54,
   "metadata": {
    "collapsed": true
   },
   "outputs": [],
   "source": [
    "params = {\n",
    "    'stratify': y,\n",
    "    'test_size': .2,\n",
    "    'random_state': SEED\n",
    "}\n",
    "\n",
    "X_train, X_test, y_train, y_test = get_train_test_split(X, y, **params)"
   ]
  },
  {
   "cell_type": "code",
   "execution_count": 55,
   "metadata": {
    "collapsed": true
   },
   "outputs": [],
   "source": [
    "model = xgb.XGBClassifier(n_estimators=300, learning_rate=.1, max_depth=2, seed=SEED)\n",
    "# model = RandomForestClassifier(n_estimators=1000, max_depth=10, random_state=SEED, n_jobs=-1)\n",
    "# model = ExtraTreesClassifier(n_estimators=1000, max_depth=15, random_state=SEED)\n",
    "# model = KNeighborsClassifier(n_neighbors=10, n_jobs=-1)"
   ]
  },
  {
   "cell_type": "code",
   "execution_count": 56,
   "metadata": {
    "collapsed": false
   },
   "outputs": [
    {
     "name": "stdout",
     "output_type": "stream",
     "text": [
      "Training model\n",
      "Took: 3.275162935256958 seconds to train model\n",
      "Took: 0.041495323181152344 seconds to generate predictions\n",
      "Fold log loss score: 0.10217235047931389\n",
      "===========================================================================\n",
      "\n",
      "\n",
      "Training model\n",
      "Took: 3.2509641647338867 seconds to train model\n",
      "Took: 0.037377357482910156 seconds to generate predictions\n",
      "Fold log loss score: 0.11459530713230619\n",
      "===========================================================================\n",
      "\n",
      "\n",
      "Training model\n",
      "Took: 3.245255470275879 seconds to train model\n",
      "Took: 0.041985511779785156 seconds to generate predictions\n",
      "Fold log loss score: 0.10228470807479577\n",
      "===========================================================================\n",
      "\n",
      "\n",
      "Training model\n",
      "Took: 3.24623966217041 seconds to train model\n",
      "Took: 0.03735232353210449 seconds to generate predictions\n",
      "Fold log loss score: 0.10730814367994232\n",
      "===========================================================================\n",
      "\n",
      "\n",
      "Training model\n",
      "Took: 3.887350082397461 seconds to train model\n",
      "Took: 0.09739851951599121 seconds to generate predictions\n",
      "Fold log loss score: 0.10606337718999514\n",
      "===========================================================================\n",
      "\n",
      "\n",
      "Training model\n",
      "Took: 3.2943713665008545 seconds to train model\n",
      "Took: 0.03731203079223633 seconds to generate predictions\n",
      "Fold log loss score: 0.10247149355823265\n",
      "===========================================================================\n",
      "\n",
      "\n",
      "Training model\n",
      "Took: 3.5334079265594482 seconds to train model\n",
      "Took: 0.041478633880615234 seconds to generate predictions\n",
      "Fold log loss score: 0.08354516764056273\n",
      "===========================================================================\n",
      "\n",
      "\n",
      "Training model\n",
      "Took: 3.252201795578003 seconds to train model\n",
      "Took: 0.03779101371765137 seconds to generate predictions\n",
      "Fold log loss score: 0.10335771046072773\n",
      "===========================================================================\n",
      "\n",
      "\n",
      "Training model\n",
      "Took: 3.2585463523864746 seconds to train model\n",
      "Took: 0.04138612747192383 seconds to generate predictions\n",
      "Fold log loss score: 0.10984062537775739\n",
      "===========================================================================\n",
      "\n",
      "\n",
      "Training model\n",
      "Took: 4.17667818069458 seconds to train model\n",
      "Took: 0.036949872970581055 seconds to generate predictions\n",
      "Fold log loss score: 0.11546021161604143\n",
      "===========================================================================\n",
      "\n",
      "\n",
      "\n",
      "Mean cv score: 0.10470990952096752 \n",
      " Std cv score: 0.008457559203919203\n"
     ]
    }
   ],
   "source": [
    "params = {\n",
    "    'ret_fold_preds': True,\n",
    "    'save_folds': False,\n",
    "    'plot_cv_scores': False\n",
    "}\n",
    "\n",
    "cv_scores = cross_validate_single_model_sign(X_train, y_train, model, **params)"
   ]
  },
  {
   "cell_type": "code",
   "execution_count": 67,
   "metadata": {
    "collapsed": false
   },
   "outputs": [],
   "source": [
    "def cv_multiple_models(X, y, feature_sets, models):\n",
    "    skf = StratifiedKFold(n_splits=10, random_state=SEED)\n",
    "    \n",
    "    model_scores = [[] for _ in models]\n",
    "    cv_scores    = []\n",
    "    fold_index   = 0\n",
    "    \n",
    "    for (itr, ite) in tqdm_notebook(skf.split(X, y)):\n",
    "        Xtr = X.iloc[itr]\n",
    "        ytr = y.iloc[itr]\n",
    "        \n",
    "        Xte = X.iloc[ite]\n",
    "        yte = y.iloc[ite]\n",
    "        \n",
    "        predictions       = []\n",
    "#         train_predictions = [] # for platt scaling\n",
    "        \n",
    "        for i, model in enumerate(models):\n",
    "            print('Training model: {}'.format(i))\n",
    "            curr_model = model.fit(Xtr.loc[:, feature_sets[i]], ytr)    \n",
    "            model_pred = curr_model.predict_proba(Xte.loc[:, feature_sets[i]])\n",
    "#             train_pred = curr_model.predict_proba(Xtr.loc[:, feature_sets[i]])\n",
    "            predictions.append(model_pred)\n",
    "#             train_predictions.append(train_pred)\n",
    "            model_scores[i].append(log_loss(yte, model_pred))\n",
    "        \n",
    "        predictions = np.array(predictions)\n",
    "        weights = [.15 , .15, .7]\n",
    "        \n",
    "        vot = predictions[0] * weights[0]\n",
    "#         train_vot = train_predictions[0] * weights[0]\n",
    "        \n",
    "        for i in range(1, len(predictions)):\n",
    "            vot = vot + predictions[i] * weights[i]\n",
    "            \n",
    "#         vot /= len(predictions)\n",
    "\n",
    "#         # platt scaling\n",
    "#         lr = LogisticRegression()\n",
    "#         lr.fit(train_vot, ytr)\n",
    "        \n",
    "#         calibrated_preds = lr.predict_proba(vot)\n",
    "\n",
    "        curr_metric = log_loss(yte, vot)\n",
    "        cv_scores.append(curr_metric)\n",
    "        print('split # {}, score = {}, models scores std = {}'\\\n",
    "            .format(fold_index, curr_metric,\n",
    "            np.std([scr[fold_index] for scr in model_scores])))\n",
    "        \n",
    "        fold_index += 1\n",
    "        \n",
    "        print('=' * 75)\n",
    "        \n",
    "    print()\n",
    "    print(cv_scores)\n",
    "    print(np.mean(cv_scores), np.std(cv_scores))\n",
    "    print()"
   ]
  },
  {
   "cell_type": "code",
   "execution_count": 65,
   "metadata": {
    "collapsed": true
   },
   "outputs": [],
   "source": [
    "model_etc = ExtraTreesClassifier(n_estimators=1000, max_depth=15, n_jobs=-1, random_state=SEED)\n",
    "model_rf  = RandomForestClassifier(n_estimators=1000, n_jobs=-1, max_depth=10, min_samples_split=2, random_state=SEED)\n",
    "model_xgb = xgb.XGBClassifier(n_estimators=300, learning_rate=.1, max_depth=2, seed=SEED)"
   ]
  },
  {
   "cell_type": "code",
   "execution_count": 68,
   "metadata": {
    "collapsed": false
   },
   "outputs": [
    {
     "name": "stdout",
     "output_type": "stream",
     "text": [
      "Training model: 0\n",
      "Training model: 1\n",
      "\n",
      "Training model: 2\n",
      "split # 0, score = 0.10146852689848208, models scores std = 0.0035633376421670836\n",
      "===========================================================================\n",
      "Training model: 0\n",
      "Training model: 1\n",
      "Training model: 2\n",
      "split # 1, score = 0.11514402643604853, models scores std = 0.006730205279735578\n",
      "===========================================================================\n",
      "Training model: 0\n",
      "Training model: 1\n",
      "Training model: 2\n",
      "split # 2, score = 0.10169664057884359, models scores std = 0.005294100040983342\n",
      "===========================================================================\n",
      "Training model: 0\n",
      "Training model: 1\n",
      "Training model: 2\n",
      "split # 3, score = 0.10765175038602737, models scores std = 0.005709739554674102\n",
      "===========================================================================\n",
      "Training model: 0\n",
      "Training model: 1\n",
      "Training model: 2\n",
      "split # 4, score = 0.10585047734380808, models scores std = 0.006307093011912594\n",
      "===========================================================================\n",
      "Training model: 0\n",
      "Training model: 1\n",
      "Training model: 2\n",
      "split # 5, score = 0.10115567522202892, models scores std = 0.004309100178589876\n",
      "===========================================================================\n",
      "Training model: 0\n",
      "Training model: 1\n",
      "Training model: 2\n",
      "split # 6, score = 0.08384663599644165, models scores std = 0.006524311745391059\n",
      "===========================================================================\n",
      "Training model: 0\n",
      "Training model: 1\n",
      "Training model: 2\n",
      "split # 7, score = 0.10450362135716108, models scores std = 0.005678932848411433\n",
      "===========================================================================\n",
      "Training model: 0\n",
      "Training model: 1\n",
      "Training model: 2\n",
      "split # 8, score = 0.11019154147199518, models scores std = 0.008135902902010508\n",
      "===========================================================================\n",
      "Training model: 0\n",
      "Training model: 1\n",
      "Training model: 2\n",
      "split # 9, score = 0.11305930705533013, models scores std = 0.004446436385556705\n",
      "===========================================================================\n",
      "\n",
      "\n",
      "[0.10146852689848208, 0.11514402643604853, 0.10169664057884359, 0.10765175038602737, 0.10585047734380808, 0.10115567522202892, 0.083846635996441654, 0.10450362135716108, 0.11019154147199518, 0.11305930705533013]\n",
      "0.104456820275 0.00827939595767\n",
      "\n"
     ]
    }
   ],
   "source": [
    "feature_sets = [ff, ff, ff]\n",
    "\n",
    "cv_multiple_models(X_train, y_train, feature_sets, [model_etc, model_rf, model_xgb])"
   ]
  },
  {
   "cell_type": "markdown",
   "metadata": {},
   "source": [
    "** Analyzing mistakes **"
   ]
  },
  {
   "cell_type": "code",
   "execution_count": 81,
   "metadata": {
    "collapsed": true
   },
   "outputs": [],
   "source": [
    "labels = ['Front', 'Left', 'Rear', 'Right']"
   ]
  },
  {
   "cell_type": "code",
   "execution_count": 137,
   "metadata": {
    "collapsed": false
   },
   "outputs": [],
   "source": [
    "model_xgb.fit(X_train, y_train)\n",
    "\n",
    "rt_probs    = model_rf.predict_proba(X_test)\n",
    "rt_labels   = pd.Series(list(map(lambda x: labels[int(np.argmax(x))], rt_probs)))\n",
    "true_labels = pd.Series(list(map(lambda x: labels[int(x)], y_test)))"
   ]
  },
  {
   "cell_type": "code",
   "execution_count": 138,
   "metadata": {
    "collapsed": false
   },
   "outputs": [],
   "source": [
    "mistakes    = X_test.loc[(rt_labels != true_labels).values, :]\n",
    "mistakes    = mistakes.assign(rt_label=rt_labels.loc[(rt_labels != true_labels)\\\n",
    "                                                                       .values].values)\n",
    "mistakes    = mistakes.assign(true_label=true_labels.loc[(rt_labels != true_labels).values].values) "
   ]
  },
  {
   "cell_type": "code",
   "execution_count": 142,
   "metadata": {
    "collapsed": false
   },
   "outputs": [
    {
     "data": {
      "text/html": [
       "<div>\n",
       "<table border=\"1\" class=\"dataframe\">\n",
       "  <thead>\n",
       "    <tr style=\"text-align: right;\">\n",
       "      <th></th>\n",
       "      <th>AngleOfSign</th>\n",
       "      <th>DetectedCamera</th>\n",
       "      <th>mean_target</th>\n",
       "      <th>sign_area</th>\n",
       "      <th>sign_perimeter</th>\n",
       "      <th>rt_label</th>\n",
       "      <th>true_label</th>\n",
       "    </tr>\n",
       "  </thead>\n",
       "  <tbody>\n",
       "    <tr>\n",
       "      <th>22924</th>\n",
       "      <td>257</td>\n",
       "      <td>1</td>\n",
       "      <td>1.725445</td>\n",
       "      <td>2112</td>\n",
       "      <td>184</td>\n",
       "      <td>Rear</td>\n",
       "      <td>Left</td>\n",
       "    </tr>\n",
       "    <tr>\n",
       "      <th>38152</th>\n",
       "      <td>252</td>\n",
       "      <td>1</td>\n",
       "      <td>1.725445</td>\n",
       "      <td>1332</td>\n",
       "      <td>146</td>\n",
       "      <td>Rear</td>\n",
       "      <td>Left</td>\n",
       "    </tr>\n",
       "    <tr>\n",
       "      <th>1690</th>\n",
       "      <td>266</td>\n",
       "      <td>1</td>\n",
       "      <td>1.725445</td>\n",
       "      <td>1677</td>\n",
       "      <td>164</td>\n",
       "      <td>Front</td>\n",
       "      <td>Rear</td>\n",
       "    </tr>\n",
       "    <tr>\n",
       "      <th>32611</th>\n",
       "      <td>103</td>\n",
       "      <td>3</td>\n",
       "      <td>0.250322</td>\n",
       "      <td>3712</td>\n",
       "      <td>244</td>\n",
       "      <td>Right</td>\n",
       "      <td>Front</td>\n",
       "    </tr>\n",
       "    <tr>\n",
       "      <th>21611</th>\n",
       "      <td>270</td>\n",
       "      <td>1</td>\n",
       "      <td>1.725445</td>\n",
       "      <td>3477</td>\n",
       "      <td>236</td>\n",
       "      <td>Front</td>\n",
       "      <td>Left</td>\n",
       "    </tr>\n",
       "  </tbody>\n",
       "</table>\n",
       "</div>"
      ],
      "text/plain": [
       "       AngleOfSign  DetectedCamera  mean_target  sign_area  sign_perimeter  \\\n",
       "22924          257               1     1.725445       2112             184   \n",
       "38152          252               1     1.725445       1332             146   \n",
       "1690           266               1     1.725445       1677             164   \n",
       "32611          103               3     0.250322       3712             244   \n",
       "21611          270               1     1.725445       3477             236   \n",
       "\n",
       "      rt_label true_label  \n",
       "22924     Rear       Left  \n",
       "38152     Rear       Left  \n",
       "1690     Front       Rear  \n",
       "32611    Right      Front  \n",
       "21611    Front       Left  "
      ]
     },
     "execution_count": 142,
     "metadata": {},
     "output_type": "execute_result"
    }
   ],
   "source": [
    "mistakes.head()"
   ]
  },
  {
   "cell_type": "code",
   "execution_count": 146,
   "metadata": {
    "collapsed": false
   },
   "outputs": [
    {
     "data": {
      "text/html": [
       "<div>\n",
       "<table border=\"1\" class=\"dataframe\">\n",
       "  <thead>\n",
       "    <tr style=\"text-align: right;\">\n",
       "      <th></th>\n",
       "      <th>AngleOfSign</th>\n",
       "      <th>DetectedCamera</th>\n",
       "      <th>Id</th>\n",
       "      <th>SignAspectRatio</th>\n",
       "      <th>SignHeight</th>\n",
       "      <th>SignWidth</th>\n",
       "      <th>Target</th>\n",
       "      <th>sign_area</th>\n",
       "      <th>closest_quadrant</th>\n",
       "      <th>mean_target</th>\n",
       "      <th>sign_perimeter</th>\n",
       "    </tr>\n",
       "  </thead>\n",
       "  <tbody>\n",
       "    <tr>\n",
       "      <th>22924</th>\n",
       "      <td>257</td>\n",
       "      <td>1</td>\n",
       "      <td>8a5e950953317c9d01534a56159b0a59</td>\n",
       "      <td>1.09</td>\n",
       "      <td>44</td>\n",
       "      <td>48</td>\n",
       "      <td>1.0</td>\n",
       "      <td>2112</td>\n",
       "      <td>270</td>\n",
       "      <td>1.725445</td>\n",
       "      <td>184</td>\n",
       "    </tr>\n",
       "    <tr>\n",
       "      <th>38152</th>\n",
       "      <td>252</td>\n",
       "      <td>1</td>\n",
       "      <td>2c91809659f86230015a01b096ee165b</td>\n",
       "      <td>0.97</td>\n",
       "      <td>37</td>\n",
       "      <td>36</td>\n",
       "      <td>1.0</td>\n",
       "      <td>1332</td>\n",
       "      <td>270</td>\n",
       "      <td>1.725445</td>\n",
       "      <td>146</td>\n",
       "    </tr>\n",
       "    <tr>\n",
       "      <th>1690</th>\n",
       "      <td>266</td>\n",
       "      <td>1</td>\n",
       "      <td>2c91808b58e456050159341ab99a5a4f</td>\n",
       "      <td>0.91</td>\n",
       "      <td>43</td>\n",
       "      <td>39</td>\n",
       "      <td>2.0</td>\n",
       "      <td>1677</td>\n",
       "      <td>270</td>\n",
       "      <td>1.725445</td>\n",
       "      <td>164</td>\n",
       "    </tr>\n",
       "    <tr>\n",
       "      <th>32611</th>\n",
       "      <td>103</td>\n",
       "      <td>3</td>\n",
       "      <td>2c9180935a71a2bb015aa6be27ed27f8</td>\n",
       "      <td>1.10</td>\n",
       "      <td>58</td>\n",
       "      <td>64</td>\n",
       "      <td>0.0</td>\n",
       "      <td>3712</td>\n",
       "      <td>90</td>\n",
       "      <td>0.250322</td>\n",
       "      <td>244</td>\n",
       "    </tr>\n",
       "    <tr>\n",
       "      <th>21611</th>\n",
       "      <td>270</td>\n",
       "      <td>1</td>\n",
       "      <td>2c91808b564673aa0156481d6e0c0708</td>\n",
       "      <td>0.93</td>\n",
       "      <td>61</td>\n",
       "      <td>57</td>\n",
       "      <td>1.0</td>\n",
       "      <td>3477</td>\n",
       "      <td>270</td>\n",
       "      <td>1.725445</td>\n",
       "      <td>236</td>\n",
       "    </tr>\n",
       "  </tbody>\n",
       "</table>\n",
       "</div>"
      ],
      "text/plain": [
       "       AngleOfSign  DetectedCamera                                Id  \\\n",
       "22924          257               1  8a5e950953317c9d01534a56159b0a59   \n",
       "38152          252               1  2c91809659f86230015a01b096ee165b   \n",
       "1690           266               1  2c91808b58e456050159341ab99a5a4f   \n",
       "32611          103               3  2c9180935a71a2bb015aa6be27ed27f8   \n",
       "21611          270               1  2c91808b564673aa0156481d6e0c0708   \n",
       "\n",
       "       SignAspectRatio  SignHeight  SignWidth  Target  sign_area  \\\n",
       "22924             1.09          44         48     1.0       2112   \n",
       "38152             0.97          37         36     1.0       1332   \n",
       "1690              0.91          43         39     2.0       1677   \n",
       "32611             1.10          58         64     0.0       3712   \n",
       "21611             0.93          61         57     1.0       3477   \n",
       "\n",
       "       closest_quadrant  mean_target  sign_perimeter  \n",
       "22924               270     1.725445             184  \n",
       "38152               270     1.725445             146  \n",
       "1690                270     1.725445             164  \n",
       "32611                90     0.250322             244  \n",
       "21611               270     1.725445             236  "
      ]
     },
     "execution_count": 146,
     "metadata": {},
     "output_type": "execute_result"
    }
   ],
   "source": [
    "data.iloc[mistakes.head().index]"
   ]
  },
  {
   "cell_type": "markdown",
   "metadata": {},
   "source": [
    "** Test on holdout set **"
   ]
  },
  {
   "cell_type": "code",
   "execution_count": 15,
   "metadata": {
    "collapsed": false
   },
   "outputs": [
    {
     "name": "stdout",
     "output_type": "stream",
     "text": [
      "Took: 3.778808116912842 seconds to train all 2 models \n",
      "Score on holdout set: 0.10799784935790852\n"
     ]
    }
   ],
   "source": [
    "st = time.time()\n",
    "\n",
    "# model_rf.fit(X_train, y_train)\n",
    "model.fit(X_train, y_train)\n",
    "\n",
    "et = time.time()\n",
    "\n",
    "# rf_preds  = model_rf.predict_proba(X_test)\n",
    "xgb_preds = model.predict_proba(X_test)\n",
    "\n",
    "# preds = .40 * rf_preds + .60 * xgb_preds\n",
    "\n",
    "print('Took: {} seconds to train all 2 models '.format(et - st))\n",
    "print('Score on holdout set: {}'.format(log_loss(y_test, xgb_preds)))"
   ]
  },
  {
   "cell_type": "markdown",
   "metadata": {},
   "source": [
    "** Feature Importance **"
   ]
  },
  {
   "cell_type": "code",
   "execution_count": 16,
   "metadata": {
    "collapsed": true
   },
   "outputs": [],
   "source": [
    "xgbfir.saveXgbFI(model, feature_names=ff, OutputXlsxFile = '../data/interim/FI_sign.xlsx')"
   ]
  },
  {
   "cell_type": "markdown",
   "metadata": {},
   "source": [
    "** Full Training **"
   ]
  },
  {
   "cell_type": "code",
   "execution_count": 173,
   "metadata": {
    "collapsed": false
   },
   "outputs": [
    {
     "name": "stdout",
     "output_type": "stream",
     "text": [
      "Took: 16.01654362678528 seconds to train all 2 models \n"
     ]
    }
   ],
   "source": [
    "st = time.time()\n",
    "\n",
    "model_rf.fit(X, y)\n",
    "model_xgb.fit(X, y)\n",
    "\n",
    "et = time.time()\n",
    "\n",
    "rf_preds  = model_rf.predict_proba(Xtest)\n",
    "xgb_preds = model_xgb.predict_proba(Xtest)\n",
    "\n",
    "preds = .40 * rf_preds + .60 * xgb_preds\n",
    "\n",
    "print('Took: {} seconds to train all 2 models '.format(et - st))"
   ]
  },
  {
   "cell_type": "code",
   "execution_count": 174,
   "metadata": {
    "collapsed": true
   },
   "outputs": [],
   "source": [
    "sub = pd.read_csv('../data/raw/4b699168-4-here_dataset/sample_submission.csv')\n",
    "sub.loc[:, ['Front', 'Left', 'Rear', 'Right']] = preds\n",
    "sub.to_csv('../submissions/predict_sign/ensemble_experiment15_diff_height_width.csv', index=False)"
   ]
  }
 ],
 "metadata": {
  "kernelspec": {
   "display_name": "Python 3",
   "language": "python",
   "name": "python3"
  },
  "language_info": {
   "codemirror_mode": {
    "name": "ipython",
    "version": 3
   },
   "file_extension": ".py",
   "mimetype": "text/x-python",
   "name": "python",
   "nbconvert_exporter": "python",
   "pygments_lexer": "ipython3",
   "version": "3.6.0"
  },
  "widgets": {
   "state": {
    "13009d005e4c4d3e95d5444a4ba0b5f1": {
     "views": [
      {
       "cell_index": 58
      }
     ]
    },
    "1a4f8ce50ff3422996a62a1973210dc4": {
     "views": [
      {
       "cell_index": 55
      }
     ]
    }
   },
   "version": "1.2.0"
  }
 },
 "nbformat": 4,
 "nbformat_minor": 2
}
