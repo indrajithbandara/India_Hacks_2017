{
 "cells": [
  {
   "cell_type": "code",
   "execution_count": 1,
   "metadata": {
    "collapsed": false
   },
   "outputs": [
    {
     "name": "stderr",
     "output_type": "stream",
     "text": [
      "/home/abhishek/anaconda3/lib/python3.6/site-packages/sklearn/cross_validation.py:44: DeprecationWarning: This module was deprecated in version 0.18 in favor of the model_selection module into which all the refactored classes and functions are moved. Also note that the interface of the new CV iterators are different from that of this module. This module will be removed in 0.20.\n",
      "  \"This module will be removed in 0.20.\", DeprecationWarning)\n"
     ]
    }
   ],
   "source": [
    "%matplotlib inline\n",
    "\n",
    "import pandas as pd\n",
    "import numpy as np\n",
    "import gc\n",
    "\n",
    "import matplotlib.pyplot as plt\n",
    "import seaborn as sns\n",
    "\n",
    "from sklearn.model_selection import StratifiedKFold\n",
    "from sklearn.metrics import log_loss\n",
    "from sklearn.preprocessing import LabelEncoder\n",
    "from sklearn.ensemble import RandomForestClassifier, ExtraTreesClassifier\n",
    "from sklearn.linear_model import LogisticRegression\n",
    "from sklearn.neighbors import KNeighborsClassifier\n",
    "\n",
    "\n",
    "from tqdm import tqdm_notebook\n",
    "\n",
    "import time\n",
    "import xgboost as xgb\n",
    "\n",
    "sns.set_style('dark')\n",
    "\n",
    "SEED = 53525\n",
    "np.random.seed(SEED)\n",
    "\n",
    "%run ../src/data/make_dataset.py\n",
    "%run ../src/features/util.py\n",
    "%run ../src/models/cross_validation.py"
   ]
  },
  {
   "cell_type": "code",
   "execution_count": 2,
   "metadata": {
    "collapsed": true
   },
   "outputs": [],
   "source": [
    "# map for detected camera\n",
    "\n",
    "detected_camera_map = {\n",
    "    'Front': 0,\n",
    "    'Left': 1,\n",
    "    'Rear': 2,\n",
    "    'Right':3\n",
    "}"
   ]
  },
  {
   "cell_type": "code",
   "execution_count": 3,
   "metadata": {
    "collapsed": true
   },
   "outputs": [],
   "source": [
    "def reload_data():\n",
    "    data = load_file('../data/processed/processed.feather')\n",
    "    data['DetectedCamera'] = data.DetectedCamera.map(detected_camera_map)\n",
    "\n",
    "    train_mask = data.Target.notnull()\n",
    "    \n",
    "    return data, train_mask"
   ]
  },
  {
   "cell_type": "code",
   "execution_count": 4,
   "metadata": {
    "collapsed": true
   },
   "outputs": [],
   "source": [
    "def prepare_data(data):\n",
    "    \n",
    "    def get_closest_qudrant(angle):\n",
    "        if angle >= 0 and angle <= 90:\n",
    "            diff_from_0  = angle - 0\n",
    "            diff_from_90 = 90 - angle\n",
    "\n",
    "            if diff_from_0 < diff_from_90:\n",
    "                return 0\n",
    "            else:\n",
    "                return 90\n",
    "\n",
    "        elif angle > 90 and angle <= 180:\n",
    "            diff_from_90  = angle - 90\n",
    "            diff_from_180 = 180 - angle\n",
    "\n",
    "            if diff_from_90 < diff_from_180:\n",
    "                return 90\n",
    "            else:\n",
    "                return 180\n",
    "\n",
    "        elif angle > 180 and angle <= 270:\n",
    "            diff_from_180 = angle - 180\n",
    "            diff_from_270 = 270 - angle\n",
    "\n",
    "            if diff_from_180 < diff_from_270:\n",
    "                return 180\n",
    "            else:\n",
    "                return 270\n",
    "\n",
    "        else:\n",
    "            diff_from_270 = angle - 270\n",
    "            diff_from_360 = 360 - angle\n",
    "\n",
    "            if diff_from_270 < diff_from_360:\n",
    "                return 270\n",
    "            else:\n",
    "                return 360\n",
    "    \n",
    "    st = time.time()\n",
    "    \n",
    "    sign_area = data.SignHeight * data.SignWidth\n",
    "    data      = data.assign(sign_area=sign_area)\n",
    "    \n",
    "    sign_perimeter = 2 * (data.SignHeight + data.SignWidth)\n",
    "    data           = data.assign(sign_perimeter=sign_perimeter)\n",
    "    \n",
    "    diff_height_width = data.SignHeight - data.SignWidth\n",
    "    data              = data.assign(diff_height_width=diff_height_width)\n",
    "    \n",
    "    data = data.assign(closest_quadrant=data.AngleOfSign.map(get_closest_qudrant))\n",
    "    mean_target_by_quadrant = data.loc[train_mask, :]\\\n",
    "                              .groupby(['DetectedCamera', 'closest_quadrant'])['Target']\\\n",
    "                              .mean()\n",
    "\n",
    "    data = data.assign(mean_target=data[['DetectedCamera', 'closest_quadrant']]\\\n",
    "                              .apply(lambda x: mean_target_by_quadrant.ix[x[0], x[1]], axis=1))\n",
    "    \n",
    "    et = time.time()\n",
    "    print('Took: {} seconds to prepare data'.format((et - st)))\n",
    "    \n",
    "    return data"
   ]
  },
  {
   "cell_type": "code",
   "execution_count": 5,
   "metadata": {
    "collapsed": false
   },
   "outputs": [
    {
     "name": "stdout",
     "output_type": "stream",
     "text": [
      "Took: 8.300810098648071 seconds to prepare data\n"
     ]
    }
   ],
   "source": [
    "data, train_mask = reload_data()\n",
    "data = prepare_data(data)"
   ]
  },
  {
   "cell_type": "code",
   "execution_count": 6,
   "metadata": {
    "collapsed": true
   },
   "outputs": [],
   "source": [
    "def get_rf_predictions(X_train, y_train, X_test, params=None, ntrees=1000):\n",
    "    if not 'n_estimators' in params:\n",
    "        params['n_estimators'] = ntrees\n",
    "        \n",
    "    clf = RandomForestClassifier(**params)\n",
    "    clf.fit(X_train, y_train)\n",
    "    \n",
    "    return clf.predict_proba(X_test)\n",
    "\n",
    "def get_xgb_predictions(X_train, y_train, X_test, params=None, ntrees=1000):\n",
    "    if not 'n_estimators' in params:\n",
    "        params['n_estimators'] = ntrees\n",
    "    \n",
    "    clf = xgb.XGBClassifier(**params)\n",
    "    clf.fit(X_train, y_train)\n",
    "    \n",
    "    return clf.predict_proba(X_test)\n",
    "\n",
    "def get_etc_predictions(X_train, y_train, X_test, params=None, ntrees=1000):\n",
    "    if not 'n_estimators' in params:\n",
    "        params['n_estimators'] = ntrees\n",
    "        \n",
    "    clf = ExtraTreesClassifier(**params)\n",
    "    clf.fit(X_train, y_train)\n",
    "    \n",
    "    return clf.predict_proba(X_test)"
   ]
  },
  {
   "cell_type": "code",
   "execution_count": 7,
   "metadata": {
    "collapsed": true
   },
   "outputs": [],
   "source": [
    "def predict_out_of_folds(X, y, Xtest=None, params=None, func_name='rf', n_splits=10):\n",
    "    if Xtest is None:\n",
    "        kf = StratifiedKFold(n_splits=n_splits)\n",
    "        y_pred = np.zeros(shape=(len(y), 4))\n",
    "        \n",
    "        for train_inds, test_inds in tqdm_notebook(kf.split(X, y)):\n",
    "            if func_name == 'rf':\n",
    "                y_pred[test_inds, :] = get_rf_predictions(X.iloc[train_inds], y.iloc[train_inds],\n",
    "                                                       X.iloc[test_inds], params\n",
    "                                                      )\n",
    "            elif func_name == 'xgb':\n",
    "                y_pred[test_inds, :] = get_xgb_predictions(X.iloc[train_inds], y.iloc[train_inds],\n",
    "                                                       X.iloc[test_inds], params\n",
    "                                                      )\n",
    "                \n",
    "            else:\n",
    "                y_pred[test_inds, :] = get_etc_predictions(X.iloc[train_inds], y.iloc[train_inds],\n",
    "                                                       X.iloc[test_inds], params\n",
    "                                                      )\n",
    "                \n",
    "        return y_pred\n",
    "    else:\n",
    "        if func_name == 'rf':\n",
    "            return get_rf_predictions(X, y, Xtest, params)\n",
    "        elif func_name == 'xgb':\n",
    "            return get_xgb_predictions(X, y, Xtest, params)\n",
    "        else:\n",
    "            return get_etc_predictions(X, y, Xtest, params)"
   ]
  },
  {
   "cell_type": "code",
   "execution_count": 8,
   "metadata": {
    "collapsed": true
   },
   "outputs": [],
   "source": [
    "ff = ['AngleOfSign', 'DetectedCamera',\n",
    "      'mean_target', 'sign_area', 'sign_perimeter',\n",
    "      'diff_height_width'\n",
    "     ]\n",
    "\n",
    "X = data.loc[train_mask, ff]\n",
    "y = data.loc[train_mask, 'Target']\n",
    "\n",
    "Xtest = data.loc[~train_mask, ff]"
   ]
  },
  {
   "cell_type": "code",
   "execution_count": 9,
   "metadata": {
    "collapsed": true
   },
   "outputs": [],
   "source": [
    "params = {\n",
    "    'stratify': y,\n",
    "    'test_size': .2,\n",
    "    'random_state': SEED\n",
    "}\n",
    "\n",
    "X_train, X_test, y_train, y_test = get_train_test_split(X, y, **params)"
   ]
  },
  {
   "cell_type": "code",
   "execution_count": 20,
   "metadata": {
    "collapsed": false
   },
   "outputs": [
    {
     "name": "stdout",
     "output_type": "stream",
     "text": [
      "\n",
      "\n",
      "\n",
      "Took: 233.0376102924347 seconds to create out of fold predictions\n"
     ]
    }
   ],
   "source": [
    "st = time.time()\n",
    "\n",
    "train_stack = pd.DataFrame(index=X_train.index, \n",
    "                           columns=['y_xgb_0', 'y_xgb_1', 'y_xgb_2', 'y_xgb_3', \n",
    "                                    'y_rf_0', 'y_rf_1', 'y_rf_2', 'y_rf_3',\n",
    "                                    'y_etc_0', 'y_etc_1', 'y_etc_2', 'y_etc_3'\n",
    "                                   ])\n",
    "\n",
    "test_stack  = pd.DataFrame(index=X_test.index, \n",
    "                           columns=['y_xgb_0', 'y_xgb_1', 'y_xgb_2', 'y_xgb_3', \n",
    "                                    'y_rf_0', 'y_rf_1', 'y_rf_2', 'y_rf_3',\n",
    "                                    'y_etc_0', 'y_etc_1', 'y_etc_2', 'y_etc_3'\n",
    "                                   ])\n",
    "\n",
    "params_xgb = {\n",
    "    'n_estimators': 300, \n",
    "    'learning_rate': .1, \n",
    "    'max_depth': 2, \n",
    "    'seed': SEED\n",
    "}\n",
    "\n",
    "train_stack.loc[:, ['y_xgb_0', 'y_xgb_1', 'y_xgb_2', 'y_xgb_3']] = predict_out_of_folds(X_train, y_train, Xtest=None, \n",
    "                                            params=params_xgb, func_name='xgb')\n",
    "\n",
    "test_stack.loc[:, ['y_xgb_0', 'y_xgb_1', 'y_xgb_2', 'y_xgb_3']] = predict_out_of_folds(X_train, y_train, Xtest=X_test, \n",
    "                                            params=params_xgb, func_name='xgb')\n",
    "\n",
    "params_rf = {\n",
    "    'n_estimators': 1000, \n",
    "    'max_depth': 10, \n",
    "    'min_samples_split': 2, \n",
    "    'random_state': SEED,\n",
    "    'n_jobs': -1\n",
    "}\n",
    "\n",
    "train_stack.loc[:, ['y_rf_0', 'y_rf_1', 'y_rf_2', 'y_rf_3']] = predict_out_of_folds(X_train, y_train, Xtest=None, \n",
    "                                            params=params_rf, func_name='rf')\n",
    "\n",
    "test_stack.loc[:, ['y_rf_0', 'y_rf_1', 'y_rf_2', 'y_rf_3']]  = predict_out_of_folds(X_train, y_train, Xtest=X_test, \n",
    "                                            params=params_rf, func_name='rf')\n",
    "\n",
    "params_etc = {\n",
    "    'n_estimators': 1000, \n",
    "    'max_depth': 15, \n",
    "    'min_samples_split': 2, \n",
    "    'random_state': SEED,\n",
    "    'n_jobs': -1\n",
    "}\n",
    "\n",
    "train_stack.loc[:, ['y_etc_0', 'y_etc_1', 'y_etc_2', 'y_etc_3']] = predict_out_of_folds(X_train, y_train, Xtest=None, \n",
    "                                            params=params_etc, func_name='etc')\n",
    "\n",
    "test_stack.loc[:, ['y_etc_0', 'y_etc_1', 'y_etc_2', 'y_etc_3']]  = predict_out_of_folds(X_train, y_train, Xtest=X_test, \n",
    "                                            params=params_etc, func_name='etc')\n",
    "\n",
    "\n",
    "et = time.time()\n",
    "\n",
    "print('Took: {} seconds to create out of fold predictions'.format((et - st)))"
   ]
  },
  {
   "cell_type": "code",
   "execution_count": 21,
   "metadata": {
    "collapsed": false
   },
   "outputs": [
    {
     "name": "stdout",
     "output_type": "stream",
     "text": [
      "XGB:  0.104972179347\n",
      "RF:  0.106489975217\n",
      "ETC:  0.116166066104\n"
     ]
    }
   ],
   "source": [
    "print('XGB: ', log_loss(y_train, train_stack[['y_xgb_0', 'y_xgb_1', 'y_xgb_2', 'y_xgb_3']]))\n",
    "print('RF: ', log_loss(y_train, train_stack[['y_rf_0', 'y_rf_1', 'y_rf_2', 'y_rf_3']]))\n",
    "print('ETC: ', log_loss(y_train, train_stack[['y_etc_0','y_etc_1','y_etc_2','y_etc_3']]))"
   ]
  },
  {
   "cell_type": "markdown",
   "metadata": {},
   "source": [
    "** Fit a linear model **"
   ]
  },
  {
   "cell_type": "code",
   "execution_count": 22,
   "metadata": {
    "collapsed": false
   },
   "outputs": [
    {
     "name": "stdout",
     "output_type": "stream",
     "text": [
      "0.120741755188\n"
     ]
    }
   ],
   "source": [
    "lr = LogisticRegression(C=1.)\n",
    "lr.fit(train_stack, y_train)\n",
    "y_pred = lr.predict_proba(test_stack)\n",
    "print(log_loss(y_test, y_pred))"
   ]
  },
  {
   "cell_type": "code",
   "execution_count": 13,
   "metadata": {
    "collapsed": false
   },
   "outputs": [
    {
     "data": {
      "text/html": [
       "<div>\n",
       "<table border=\"1\" class=\"dataframe\">\n",
       "  <thead>\n",
       "    <tr style=\"text-align: right;\">\n",
       "      <th></th>\n",
       "      <th>0</th>\n",
       "      <th>1</th>\n",
       "      <th>2</th>\n",
       "      <th>3</th>\n",
       "      <th>4</th>\n",
       "      <th>5</th>\n",
       "      <th>6</th>\n",
       "      <th>7</th>\n",
       "      <th>8</th>\n",
       "      <th>9</th>\n",
       "      <th>10</th>\n",
       "      <th>11</th>\n",
       "    </tr>\n",
       "  </thead>\n",
       "  <tbody>\n",
       "    <tr>\n",
       "      <th>0</th>\n",
       "      <td>1.382144</td>\n",
       "      <td>-0.750422</td>\n",
       "      <td>-1.741581</td>\n",
       "      <td>-0.119068</td>\n",
       "      <td>2.321783</td>\n",
       "      <td>-0.356215</td>\n",
       "      <td>-2.517021</td>\n",
       "      <td>-0.677472</td>\n",
       "      <td>2.176221</td>\n",
       "      <td>-1.482651</td>\n",
       "      <td>0.247159</td>\n",
       "      <td>-2.169655</td>\n",
       "    </tr>\n",
       "    <tr>\n",
       "      <th>1</th>\n",
       "      <td>-0.074880</td>\n",
       "      <td>3.354511</td>\n",
       "      <td>-3.261247</td>\n",
       "      <td>-1.543044</td>\n",
       "      <td>-1.437488</td>\n",
       "      <td>0.869907</td>\n",
       "      <td>0.204865</td>\n",
       "      <td>-1.161944</td>\n",
       "      <td>-2.728959</td>\n",
       "      <td>2.748042</td>\n",
       "      <td>-0.255869</td>\n",
       "      <td>-1.287874</td>\n",
       "    </tr>\n",
       "    <tr>\n",
       "      <th>2</th>\n",
       "      <td>-0.719547</td>\n",
       "      <td>-2.156341</td>\n",
       "      <td>2.610192</td>\n",
       "      <td>-1.071820</td>\n",
       "      <td>-1.200954</td>\n",
       "      <td>-0.230935</td>\n",
       "      <td>0.440337</td>\n",
       "      <td>-0.345965</td>\n",
       "      <td>-2.897556</td>\n",
       "      <td>-1.287473</td>\n",
       "      <td>2.829013</td>\n",
       "      <td>0.018500</td>\n",
       "    </tr>\n",
       "    <tr>\n",
       "      <th>3</th>\n",
       "      <td>-0.526299</td>\n",
       "      <td>-1.739988</td>\n",
       "      <td>-1.251682</td>\n",
       "      <td>1.923614</td>\n",
       "      <td>-1.297479</td>\n",
       "      <td>-0.896975</td>\n",
       "      <td>-1.200650</td>\n",
       "      <td>1.800749</td>\n",
       "      <td>-1.617711</td>\n",
       "      <td>-0.862720</td>\n",
       "      <td>-1.921488</td>\n",
       "      <td>2.807564</td>\n",
       "    </tr>\n",
       "  </tbody>\n",
       "</table>\n",
       "</div>"
      ],
      "text/plain": [
       "         0         1         2         3         4         5         6   \\\n",
       "0  1.382144 -0.750422 -1.741581 -0.119068  2.321783 -0.356215 -2.517021   \n",
       "1 -0.074880  3.354511 -3.261247 -1.543044 -1.437488  0.869907  0.204865   \n",
       "2 -0.719547 -2.156341  2.610192 -1.071820 -1.200954 -0.230935  0.440337   \n",
       "3 -0.526299 -1.739988 -1.251682  1.923614 -1.297479 -0.896975 -1.200650   \n",
       "\n",
       "         7         8         9         10        11  \n",
       "0 -0.677472  2.176221 -1.482651  0.247159 -2.169655  \n",
       "1 -1.161944 -2.728959  2.748042 -0.255869 -1.287874  \n",
       "2 -0.345965 -2.897556 -1.287473  2.829013  0.018500  \n",
       "3  1.800749 -1.617711 -0.862720 -1.921488  2.807564  "
      ]
     },
     "execution_count": 13,
     "metadata": {},
     "output_type": "execute_result"
    }
   ],
   "source": [
    "pd.DataFrame(lr.coef_)"
   ]
  },
  {
   "cell_type": "markdown",
   "metadata": {},
   "source": [
    "** Fit a non-linear model **\n",
    "\n",
    "Concatenate meta-features with original features"
   ]
  },
  {
   "cell_type": "code",
   "execution_count": 23,
   "metadata": {
    "collapsed": false
   },
   "outputs": [
    {
     "name": "stdout",
     "output_type": "stream",
     "text": [
      "Fold score: 0.10056597830125966\n",
      "===========================================================================\n",
      "Fold score: 0.11535855715345521\n",
      "===========================================================================\n",
      "Fold score: 0.10128152306944334\n",
      "===========================================================================\n",
      "Fold score: 0.10899580670367157\n",
      "===========================================================================\n",
      "Fold score: 0.10754092219528026\n",
      "===========================================================================\n",
      "Fold score: 0.10225083642317764\n",
      "===========================================================================\n",
      "Fold score: 0.08325148095708303\n",
      "===========================================================================\n",
      "Fold score: 0.10357332693210478\n",
      "===========================================================================\n",
      "Fold score: 0.10788029757200646\n",
      "===========================================================================\n",
      "Fold score: 0.11120837921647114\n",
      "===========================================================================\n",
      "\n",
      "Mean cv score: 0.10419071085239531, std cv score: 0.008283067406186981\n"
     ]
    }
   ],
   "source": [
    "_train = pd.concat((X_train, train_stack.astype(np.float)), axis='columns')\n",
    "_test  = pd.concat((X_test,  test_stack.astype(np.float)), axis='columns')\n",
    "\n",
    "skf = StratifiedKFold(n_splits=10, random_state=SEED)\n",
    "\n",
    "fold_scores = []\n",
    "for itr, ite in tqdm_notebook(skf.split(_train, y_train)):\n",
    "#     model = RandomForestClassifier(n_estimators=300, n_jobs=-1, max_depth=7)\n",
    "    model = xgb.XGBClassifier(n_estimators=100, max_depth=2, seed=SEED)\n",
    "    model.fit(_train.iloc[itr], y_train.iloc[itr])\n",
    "    y_pred = model.predict_proba(_train.iloc[ite])\n",
    "    \n",
    "    fold_score = log_loss(y_train.iloc[ite], y_pred)\n",
    "    print('Fold score: {}'.format(fold_score))\n",
    "    fold_scores.append(fold_score)\n",
    "    print('='*75)\n",
    "\n",
    "print('Mean cv score: {0}, std cv score: {1}'.format(np.mean(fold_scores), np.std(fold_scores)))"
   ]
  },
  {
   "cell_type": "code",
   "execution_count": 24,
   "metadata": {
    "collapsed": false
   },
   "outputs": [
    {
     "name": "stdout",
     "output_type": "stream",
     "text": [
      "Log loss on hold out set: 0.10685389464947592\n"
     ]
    }
   ],
   "source": [
    "# model = RandomForestClassifier(n_estimators=300, max_depth=7, random_state=SEED)\n",
    "model = xgb.XGBClassifier(max_depth=2, seed=SEED)\n",
    "model.fit(_train, y_train)\n",
    "y_pred = model.predict_proba(_test)\n",
    "\n",
    "print('Log loss on hold out set: {}'.format(log_loss(y_test, y_pred)))"
   ]
  },
  {
   "cell_type": "markdown",
   "metadata": {},
   "source": [
    "** Full Training **"
   ]
  },
  {
   "cell_type": "code",
   "execution_count": 25,
   "metadata": {
    "collapsed": false
   },
   "outputs": [
    {
     "name": "stdout",
     "output_type": "stream",
     "text": [
      "\n",
      "\n",
      "\n",
      "Took: 276.25753140449524 seconds to create out of fold predictions\n"
     ]
    }
   ],
   "source": [
    "st = time.time()\n",
    "\n",
    "train_stack = pd.DataFrame(index=X.index, columns=['y_xgb_0', 'y_xgb_1', 'y_xgb_2', 'y_xgb_3', \n",
    "                                                   'y_rf_0', 'y_rf_1', 'y_rf_2', 'y_rf_3',\n",
    "                                                   'y_etc_0', 'y_etc_1', 'y_etc_2', 'y_etc_3'\n",
    "                                                  ])\n",
    "test_stack  = pd.DataFrame(index=Xtest.index, columns=['y_xgb_0', 'y_xgb_1', 'y_xgb_2', 'y_xgb_3', \n",
    "                                                       'y_rf_0', 'y_rf_1', 'y_rf_2', 'y_rf_3',\n",
    "                                                       'y_etc_0', 'y_etc_1', 'y_etc_2', 'y_etc_3'\n",
    "                                                      ])\n",
    "\n",
    "params_xgb = {\n",
    "    'n_estimators': 300, \n",
    "    'learning_rate': .1, \n",
    "    'max_depth': 2, \n",
    "    'seed': SEED\n",
    "}\n",
    "\n",
    "train_stack.loc[:, ['y_xgb_0', 'y_xgb_1', 'y_xgb_2', 'y_xgb_3']] = predict_out_of_folds(X, y, Xtest=None, \n",
    "                                            params=params_xgb, func_name='xgb')\n",
    "\n",
    "test_stack.loc[:, ['y_xgb_0', 'y_xgb_1', 'y_xgb_2', 'y_xgb_3']] = predict_out_of_folds(X, y, Xtest=Xtest, \n",
    "                                            params=params_xgb, func_name='xgb')\n",
    "\n",
    "params_rf = {\n",
    "    'n_estimators': 1000, \n",
    "    'max_depth': 10, \n",
    "    'min_samples_split': 2, \n",
    "    'random_state': SEED,\n",
    "    'n_jobs': -1\n",
    "}\n",
    "\n",
    "train_stack.loc[:, ['y_rf_0', 'y_rf_1', 'y_rf_2', 'y_rf_3']] = predict_out_of_folds(X, y, Xtest=None, \n",
    "                                            params=params_rf, func_name='rf')\n",
    "\n",
    "test_stack.loc[:, ['y_rf_0', 'y_rf_1', 'y_rf_2', 'y_rf_3']]  = predict_out_of_folds(X, y, Xtest=Xtest, \n",
    "                                            params=params_rf, func_name='rf')\n",
    "\n",
    "params_etc = {\n",
    "    'n_estimators': 1000, \n",
    "    'max_depth': 15, \n",
    "    'min_samples_split': 2, \n",
    "    'random_state': SEED,\n",
    "    'n_jobs': -1\n",
    "}\n",
    "\n",
    "train_stack.loc[:, ['y_etc_0', 'y_etc_1', 'y_etc_2', 'y_etc_3']] = predict_out_of_folds(X, y, Xtest=None, \n",
    "                                            params=params_etc, func_name='etc')\n",
    "\n",
    "test_stack.loc[:, ['y_etc_0', 'y_etc_1', 'y_etc_2', 'y_etc_3']]  = predict_out_of_folds(X, y, Xtest=Xtest, \n",
    "                                            params=params_etc, func_name='etc')\n",
    "\n",
    "\n",
    "et = time.time()\n",
    "\n",
    "print('Took: {} seconds to create out of fold predictions'.format((et - st)))"
   ]
  },
  {
   "cell_type": "code",
   "execution_count": 26,
   "metadata": {
    "collapsed": true
   },
   "outputs": [],
   "source": [
    "_train = pd.concat((X, train_stack.astype(np.float)), axis='columns')\n",
    "_test  = pd.concat((Xtest,  test_stack.astype(np.float)), axis='columns')\n",
    "\n",
    "# model = RandomForestClassifier(n_estimators=300, max_depth=7, random_state=SEED)\n",
    "model = xgb.XGBClassifier(max_depth=2, seed=SEED)\n",
    "model.fit(_train, y)\n",
    "y_pred = model.predict_proba(_test)"
   ]
  },
  {
   "cell_type": "code",
   "execution_count": 27,
   "metadata": {
    "collapsed": true
   },
   "outputs": [],
   "source": [
    "sub = pd.read_csv('../data/raw/4b699168-4-here_dataset/sample_submission.csv')\n",
    "sub.loc[:, ['Front', 'Left', 'Rear', 'Right']] = y_pred\n",
    "sub.to_csv('../submissions/predict_sign/xgb_stacking_1.csv', index=False)"
   ]
  }
 ],
 "metadata": {
  "kernelspec": {
   "display_name": "Python 3",
   "language": "python",
   "name": "python3"
  },
  "language_info": {
   "codemirror_mode": {
    "name": "ipython",
    "version": 3
   },
   "file_extension": ".py",
   "mimetype": "text/x-python",
   "name": "python",
   "nbconvert_exporter": "python",
   "pygments_lexer": "ipython3",
   "version": "3.6.0"
  },
  "widgets": {
   "state": {
    "1fd704b725e44f729c27870695becccb": {
     "views": [
      {
       "cell_index": 9
      }
     ]
    },
    "75bd17f38af8499e87cabf2171f1b32b": {
     "views": [
      {
       "cell_index": 18
      }
     ]
    },
    "91c58370e9844bcbbca9ccc562e03292": {
     "views": [
      {
       "cell_index": 9
      }
     ]
    },
    "b0016d10b89246aaa34279afe35ee631": {
     "views": [
      {
       "cell_index": 15
      }
     ]
    },
    "b3782b03b5224b13a01ca06067736e8a": {
     "views": [
      {
       "cell_index": 9
      }
     ]
    },
    "b6d88d4637934430b4be20182b37f542": {
     "views": [
      {
       "cell_index": 18
      }
     ]
    },
    "c53dabb40b1f4a05892613e6364108c3": {
     "views": [
      {
       "cell_index": 9
      }
     ]
    },
    "d242a90bca184ea0871be92a857e780a": {
     "views": [
      {
       "cell_index": 9
      }
     ]
    },
    "e633ff8d73e247ce8c9fa65bc8ee01f2": {
     "views": [
      {
       "cell_index": 18
      }
     ]
    },
    "f2e8463e43a244f29bc1fefca0aa49fc": {
     "views": [
      {
       "cell_index": 9
      }
     ]
    }
   },
   "version": "1.2.0"
  }
 },
 "nbformat": 4,
 "nbformat_minor": 2
}
