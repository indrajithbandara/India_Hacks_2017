{
 "cells": [
  {
   "cell_type": "markdown",
   "metadata": {},
   "source": [
    "** Experiment - 6 **\n",
    "\n",
    "1. Create OHE feature for genres\n",
    "2. Count features for ( Num cities, Num genres, Num titles, Num tod, Num dow )\n",
    "3. Feature for watch time ( Watch Time by genre )\n",
    "4. Create a xgboost model\n",
    "5. Print out feature importance and feature interaction\n",
    "6. Tune Model."
   ]
  },
  {
   "cell_type": "code",
   "execution_count": 28,
   "metadata": {
    "collapsed": true
   },
   "outputs": [],
   "source": [
    "%matplotlib inline\n",
    "\n",
    "import pandas as pd\n",
    "import numpy as np\n",
    "import scipy as sp\n",
    "import gc\n",
    "import time\n",
    "\n",
    "import matplotlib.pyplot as plt\n",
    "import seaborn as sns\n",
    "\n",
    "import xgboost as xgb\n",
    "\n",
    "sns.set_style('dark')\n",
    "\n",
    "import warnings\n",
    "warnings.filterwarnings('ignore')\n",
    "\n",
    "%run ../src/data/HotstarDataset.py\n",
    "%run ../src/features/categorical_features.py\n",
    "%run ../src/features/util.py\n",
    "%run ../src/models/cross_validation.py\n",
    "\n",
    "SEED = 12313\n",
    "np.random.seed(SEED)"
   ]
  },
  {
   "cell_type": "code",
   "execution_count": 29,
   "metadata": {
    "collapsed": true
   },
   "outputs": [],
   "source": [
    "del xgdd"
   ]
  },
  {
   "cell_type": "code",
   "execution_count": 2,
   "metadata": {
    "collapsed": true
   },
   "outputs": [],
   "source": [
    "dataset = Hotstar('../data/raw/5f828822-4--4-hotstar_dataset/')\n",
    "dataset.load_data('../data/processed/hotstar_processed.feather')\n",
    "\n",
    "data_processed = dataset.data\n",
    "train_mask     = dataset.get_train_mask() "
   ]
  },
  {
   "cell_type": "code",
   "execution_count": 5,
   "metadata": {
    "collapsed": false
   },
   "outputs": [],
   "source": [
    "# ohe genres\n",
    "genres_ohe_encoded = encode_ohe(data_processed.genres)"
   ]
  },
  {
   "cell_type": "code",
   "execution_count": 9,
   "metadata": {
    "collapsed": false
   },
   "outputs": [],
   "source": [
    "# count based features\n",
    "\n",
    "data_processed['num_cities'] = count_feature(data_processed.cities)\n",
    "data_processed['num_genres'] = count_feature(data_processed.genres)\n",
    "data_processed['num_titles'] = count_feature(data_processed.titles)\n",
    "data_processed['num_tod']    = count_feature(data_processed.tod)\n",
    "data_processed['num_dow']    = count_feature(data_processed.dow)"
   ]
  },
  {
   "cell_type": "code",
   "execution_count": 10,
   "metadata": {
    "collapsed": true
   },
   "outputs": [],
   "source": [
    "# watch time by genres\n",
    "data_processed['watch_time_sec'] = num_seconds_watched(data_processed.genres)"
   ]
  },
  {
   "cell_type": "code",
   "execution_count": 14,
   "metadata": {
    "collapsed": false
   },
   "outputs": [],
   "source": [
    "features = pd.concat((data_processed[['num_cities', 'num_genres',\n",
    "                'num_titles', 'num_tod',\n",
    "                'num_dow', 'watch_time_sec',\n",
    "                'segment'\n",
    "               ]], genres_ohe_encoded), axis='columns')\n",
    "\n",
    "save_file(features, '../data/processed/hotstar_processed_1.feather')"
   ]
  },
  {
   "cell_type": "markdown",
   "metadata": {},
   "source": [
    "** Train and Test Split **"
   ]
  },
  {
   "cell_type": "code",
   "execution_count": 23,
   "metadata": {
    "collapsed": true
   },
   "outputs": [],
   "source": [
    "X = features.loc[train_mask, features.columns.drop('segment')]\n",
    "y = features.loc[train_mask, 'segment']\n",
    "Xtest = features.loc[~train_mask, features.columns.drop('segment')]"
   ]
  },
  {
   "cell_type": "code",
   "execution_count": 24,
   "metadata": {
    "collapsed": false
   },
   "outputs": [],
   "source": [
    "params = {\n",
    "    'stratify': y,\n",
    "    'test_size': .3,\n",
    "    'random_state': SEED\n",
    "}\n",
    "\n",
    "X_train, X_test, y_train, y_test = get_train_test_split(X, y, **params)"
   ]
  },
  {
   "cell_type": "code",
   "execution_count": 31,
   "metadata": {
    "collapsed": false
   },
   "outputs": [],
   "source": [
    "# further split train set into train and validation set\n",
    "params = {\n",
    "    'stratify': y_train,\n",
    "    'test_size': .2,\n",
    "    'random_state': SEED\n",
    "}\n",
    "\n",
    "Xtr, Xte, ytr, yte = get_train_test_split(X_train, y_train, **params)"
   ]
  },
  {
   "cell_type": "code",
   "execution_count": 36,
   "metadata": {
    "collapsed": false
   },
   "outputs": [
    {
     "name": "stdout",
     "output_type": "stream",
     "text": [
      "[0]\ttrain-auc:0.766258\tval-auc:0.775591\n",
      "[10]\ttrain-auc:0.78031\tval-auc:0.786849\n",
      "[20]\ttrain-auc:0.785043\tval-auc:0.79127\n",
      "[30]\ttrain-auc:0.790028\tval-auc:0.794607\n",
      "[40]\ttrain-auc:0.794624\tval-auc:0.798239\n",
      "[50]\ttrain-auc:0.797991\tval-auc:0.800191\n",
      "[60]\ttrain-auc:0.800029\tval-auc:0.801088\n",
      "[70]\ttrain-auc:0.801597\tval-auc:0.801593\n",
      "[80]\ttrain-auc:0.803262\tval-auc:0.802013\n",
      "[90]\ttrain-auc:0.80449\tval-auc:0.802211\n",
      "[100]\ttrain-auc:0.805712\tval-auc:0.802262\n",
      "[110]\ttrain-auc:0.806949\tval-auc:0.802467\n"
     ]
    }
   ],
   "source": [
    "dtrain = xgb.DMatrix(Xtr, ytr, missing=np.nan, feature_names=features.columns.drop('segment'))\n",
    "dval   = xgb.DMatrix(Xte, yte, missing=np.nan, feature_names=features.columns.drop('segment'))\n",
    "\n",
    "xgb_params = {\n",
    "    'eta': 0.1,\n",
    "    'max_depth': 4,\n",
    "    'gamma': 1,\n",
    "    'colsample_bytree': 1.,\n",
    "    'min_child_weight': 10,\n",
    "    'subsample': 1.,\n",
    "    'objective': 'binary:logistic',\n",
    "    'eval_metric': 'auc',\n",
    "    'nthread': 8,\n",
    "    'seed': SEED,\n",
    "    'silent': 1\n",
    "}\n",
    "\n",
    "n_estimators = 120\n",
    "\n",
    "watchlist = [(dtrain, 'train'), (dval, 'val')]\n",
    "\n",
    "model = xgb.train(xgb_params, dtrain, num_boost_round=n_estimators, verbose_eval=10,\n",
    "                  evals=watchlist\n",
    "                 )"
   ]
  },
  {
   "cell_type": "markdown",
   "metadata": {},
   "source": [
    "** Feature Imporatance **"
   ]
  },
  {
   "cell_type": "code",
   "execution_count": 37,
   "metadata": {
    "collapsed": false
   },
   "outputs": [
    {
     "data": {
      "text/plain": [
       "[('Cricket', 373.5899093650793),\n",
       " ('Family', 35.90457671641791),\n",
       " ('num_dow', 30.53529867469879),\n",
       " ('LiveTV', 28.951437499999997),\n",
       " ('Romance', 28.130577638888887),\n",
       " ('num_tod', 27.74805718120805),\n",
       " ('TalkShow', 22.997877528089887),\n",
       " ('Action', 22.99130448979592),\n",
       " ('Drama', 21.95580166666667),\n",
       " ('Football', 13.84148136363636),\n",
       " ('num_cities', 12.815120236111113),\n",
       " ('Crime', 12.016978260869564),\n",
       " ('Mythology', 11.715943846153843),\n",
       " ('num_titles', 11.405313466135471),\n",
       " ('Sport', 10.66834785714286),\n",
       " ('watch_time_sec', 9.61585368864469),\n",
       " ('Comedy', 9.210640624999998),\n",
       " ('Kids', 8.4128216),\n",
       " ('Awards', 8.053647647058824),\n",
       " ('Travel', 7.952873846153848),\n",
       " ('Teen', 6.1760850000000005),\n",
       " ('Thriller', 5.750470000000001),\n",
       " ('num_genres', 5.588814385964912),\n",
       " ('Science', 5.449479),\n",
       " ('Horror', 5.0525139999999995),\n",
       " ('Badminton', 4.6202000000000005),\n",
       " ('Wildlife', 4.3635842857142855),\n",
       " ('Reality', 3.9744425),\n",
       " ('Hockey', 3.6322525)]"
      ]
     },
     "execution_count": 37,
     "metadata": {},
     "output_type": "execute_result"
    }
   ],
   "source": [
    "scores = model.get_score(importance_type='gain')\n",
    "sorted(scores.items(), key=lambda x: -x[1])"
   ]
  },
  {
   "cell_type": "markdown",
   "metadata": {},
   "source": [
    "** Test score on test set **"
   ]
  },
  {
   "cell_type": "code",
   "execution_count": 40,
   "metadata": {
    "collapsed": false
   },
   "outputs": [
    {
     "name": "stdout",
     "output_type": "stream",
     "text": [
      "AUC score: 0.8035808150942052\n"
     ]
    }
   ],
   "source": [
    "dtrain = xgb.DMatrix(X_train, y_train, missing=np.nan, feature_names=features.columns.drop('segment'))\n",
    "dtest  = xgb.DMatrix(X_test, y_test, missing=np.nan, feature_names=features.columns.drop('segment'))\n",
    "\n",
    "model = xgb.train(xgb_params, dtrain=dtrain, num_boost_round=150)\n",
    "preds = model.predict(dtest)\n",
    "\n",
    "print('AUC score: {}'.format(roc_auc_score(y_test, preds)))"
   ]
  },
  {
   "cell_type": "markdown",
   "metadata": {},
   "source": [
    "** Full Training **"
   ]
  },
  {
   "cell_type": "code",
   "execution_count": 42,
   "metadata": {
    "collapsed": false
   },
   "outputs": [],
   "source": [
    "dtrain = xgb.DMatrix(X, y, missing=np.nan, feature_names=features.columns.drop('segment'))\n",
    "dtest  = xgb.DMatrix(Xtest, missing=np.nan, feature_names=features.columns.drop('segment'))\n",
    "\n",
    "model = xgb.train(xgb_params, dtrain, num_boost_round=150)\n",
    "preds = model.predict(dtest)"
   ]
  },
  {
   "cell_type": "markdown",
   "metadata": {},
   "source": [
    "** Plot Prediction Probabilities that would serve as ranks **"
   ]
  },
  {
   "cell_type": "code",
   "execution_count": 43,
   "metadata": {
    "collapsed": false
   },
   "outputs": [
    {
     "data": {
      "image/png": "[encoded data removed]",
      "text/plain": [
       "<matplotlib.figure.Figure at 0x7f39943dd7b8>"
      ]
     },
     "metadata": {},
     "output_type": "display_data"
    }
   ],
   "source": [
    "sns.distplot(preds);"
   ]
  },
  {
   "cell_type": "code",
   "execution_count": 47,
   "metadata": {
    "collapsed": false
   },
   "outputs": [
    {
     "data": {
      "text/plain": [
       "200000         test-1\n",
       "200001        test-10\n",
       "200002       test-100\n",
       "200003      test-1000\n",
       "200004     test-10000\n",
       "200005    test-100000\n",
       "200006     test-10001\n",
       "200007     test-10002\n",
       "200008     test-10003\n",
       "200009     test-10004\n",
       "Name: ID, dtype: object"
      ]
     },
     "execution_count": 47,
     "metadata": {},
     "output_type": "execute_result"
    }
   ],
   "source": [
    "data_processed.loc[~train_mask, 'ID'].head(10)"
   ]
  },
  {
   "cell_type": "code",
   "execution_count": 48,
   "metadata": {
    "collapsed": false
   },
   "outputs": [
    {
     "data": {
      "text/html": [
       "<div>\n",
       "<table border=\"1\" class=\"dataframe\">\n",
       "  <thead>\n",
       "    <tr style=\"text-align: right;\">\n",
       "      <th></th>\n",
       "      <th>ID</th>\n",
       "      <th>segment</th>\n",
       "    </tr>\n",
       "  </thead>\n",
       "  <tbody>\n",
       "    <tr>\n",
       "      <th>0</th>\n",
       "      <td>test-23855</td>\n",
       "      <td>0.023505</td>\n",
       "    </tr>\n",
       "    <tr>\n",
       "      <th>1</th>\n",
       "      <td>test-23854</td>\n",
       "      <td>0.054431</td>\n",
       "    </tr>\n",
       "    <tr>\n",
       "      <th>2</th>\n",
       "      <td>test-23857</td>\n",
       "      <td>0.206844</td>\n",
       "    </tr>\n",
       "    <tr>\n",
       "      <th>3</th>\n",
       "      <td>test-23856</td>\n",
       "      <td>0.154665</td>\n",
       "    </tr>\n",
       "    <tr>\n",
       "      <th>4</th>\n",
       "      <td>test-23851</td>\n",
       "      <td>0.130384</td>\n",
       "    </tr>\n",
       "    <tr>\n",
       "      <th>5</th>\n",
       "      <td>test-23850</td>\n",
       "      <td>0.077402</td>\n",
       "    </tr>\n",
       "    <tr>\n",
       "      <th>6</th>\n",
       "      <td>test-23853</td>\n",
       "      <td>0.040778</td>\n",
       "    </tr>\n",
       "    <tr>\n",
       "      <th>7</th>\n",
       "      <td>test-23852</td>\n",
       "      <td>0.073175</td>\n",
       "    </tr>\n",
       "    <tr>\n",
       "      <th>8</th>\n",
       "      <td>test-23859</td>\n",
       "      <td>0.008348</td>\n",
       "    </tr>\n",
       "    <tr>\n",
       "      <th>9</th>\n",
       "      <td>test-23858</td>\n",
       "      <td>0.031081</td>\n",
       "    </tr>\n",
       "    <tr>\n",
       "      <th>10</th>\n",
       "      <td>test-611</td>\n",
       "      <td>0.032624</td>\n",
       "    </tr>\n",
       "    <tr>\n",
       "      <th>11</th>\n",
       "      <td>test-9038</td>\n",
       "      <td>0.086228</td>\n",
       "    </tr>\n",
       "    <tr>\n",
       "      <th>12</th>\n",
       "      <td>test-9039</td>\n",
       "      <td>0.241756</td>\n",
       "    </tr>\n",
       "    <tr>\n",
       "      <th>13</th>\n",
       "      <td>test-9032</td>\n",
       "      <td>0.079053</td>\n",
       "    </tr>\n",
       "    <tr>\n",
       "      <th>14</th>\n",
       "      <td>test-9033</td>\n",
       "      <td>0.146694</td>\n",
       "    </tr>\n",
       "    <tr>\n",
       "      <th>15</th>\n",
       "      <td>test-9030</td>\n",
       "      <td>0.300568</td>\n",
       "    </tr>\n",
       "    <tr>\n",
       "      <th>16</th>\n",
       "      <td>test-9031</td>\n",
       "      <td>0.181550</td>\n",
       "    </tr>\n",
       "    <tr>\n",
       "      <th>17</th>\n",
       "      <td>test-9036</td>\n",
       "      <td>0.052179</td>\n",
       "    </tr>\n",
       "    <tr>\n",
       "      <th>18</th>\n",
       "      <td>test-9037</td>\n",
       "      <td>0.015809</td>\n",
       "    </tr>\n",
       "    <tr>\n",
       "      <th>19</th>\n",
       "      <td>test-9034</td>\n",
       "      <td>0.049698</td>\n",
       "    </tr>\n",
       "    <tr>\n",
       "      <th>20</th>\n",
       "      <td>test-9035</td>\n",
       "      <td>0.399735</td>\n",
       "    </tr>\n",
       "    <tr>\n",
       "      <th>21</th>\n",
       "      <td>test-67729</td>\n",
       "      <td>0.025236</td>\n",
       "    </tr>\n",
       "    <tr>\n",
       "      <th>22</th>\n",
       "      <td>test-57532</td>\n",
       "      <td>0.014469</td>\n",
       "    </tr>\n",
       "    <tr>\n",
       "      <th>23</th>\n",
       "      <td>test-50747</td>\n",
       "      <td>0.010256</td>\n",
       "    </tr>\n",
       "    <tr>\n",
       "      <th>24</th>\n",
       "      <td>test-50746</td>\n",
       "      <td>0.015158</td>\n",
       "    </tr>\n",
       "    <tr>\n",
       "      <th>25</th>\n",
       "      <td>test-50745</td>\n",
       "      <td>0.159154</td>\n",
       "    </tr>\n",
       "    <tr>\n",
       "      <th>26</th>\n",
       "      <td>test-50744</td>\n",
       "      <td>0.028534</td>\n",
       "    </tr>\n",
       "    <tr>\n",
       "      <th>27</th>\n",
       "      <td>test-50743</td>\n",
       "      <td>0.154297</td>\n",
       "    </tr>\n",
       "    <tr>\n",
       "      <th>28</th>\n",
       "      <td>test-50742</td>\n",
       "      <td>0.009644</td>\n",
       "    </tr>\n",
       "    <tr>\n",
       "      <th>29</th>\n",
       "      <td>test-50741</td>\n",
       "      <td>0.018936</td>\n",
       "    </tr>\n",
       "    <tr>\n",
       "      <th>...</th>\n",
       "      <td>...</td>\n",
       "      <td>...</td>\n",
       "    </tr>\n",
       "    <tr>\n",
       "      <th>99970</th>\n",
       "      <td>test-28170</td>\n",
       "      <td>0.060481</td>\n",
       "    </tr>\n",
       "    <tr>\n",
       "      <th>99971</th>\n",
       "      <td>test-22209</td>\n",
       "      <td>0.023095</td>\n",
       "    </tr>\n",
       "    <tr>\n",
       "      <th>99972</th>\n",
       "      <td>test-22208</td>\n",
       "      <td>0.010937</td>\n",
       "    </tr>\n",
       "    <tr>\n",
       "      <th>99973</th>\n",
       "      <td>test-94025</td>\n",
       "      <td>0.007886</td>\n",
       "    </tr>\n",
       "    <tr>\n",
       "      <th>99974</th>\n",
       "      <td>test-11810</td>\n",
       "      <td>0.028326</td>\n",
       "    </tr>\n",
       "    <tr>\n",
       "      <th>99975</th>\n",
       "      <td>test-11811</td>\n",
       "      <td>0.333044</td>\n",
       "    </tr>\n",
       "    <tr>\n",
       "      <th>99976</th>\n",
       "      <td>test-11812</td>\n",
       "      <td>0.096453</td>\n",
       "    </tr>\n",
       "    <tr>\n",
       "      <th>99977</th>\n",
       "      <td>test-11813</td>\n",
       "      <td>0.046193</td>\n",
       "    </tr>\n",
       "    <tr>\n",
       "      <th>99978</th>\n",
       "      <td>test-11814</td>\n",
       "      <td>0.028376</td>\n",
       "    </tr>\n",
       "    <tr>\n",
       "      <th>99979</th>\n",
       "      <td>test-11815</td>\n",
       "      <td>0.042302</td>\n",
       "    </tr>\n",
       "    <tr>\n",
       "      <th>99980</th>\n",
       "      <td>test-11816</td>\n",
       "      <td>0.013266</td>\n",
       "    </tr>\n",
       "    <tr>\n",
       "      <th>99981</th>\n",
       "      <td>test-11817</td>\n",
       "      <td>0.019695</td>\n",
       "    </tr>\n",
       "    <tr>\n",
       "      <th>99982</th>\n",
       "      <td>test-11818</td>\n",
       "      <td>0.078947</td>\n",
       "    </tr>\n",
       "    <tr>\n",
       "      <th>99983</th>\n",
       "      <td>test-11819</td>\n",
       "      <td>0.020073</td>\n",
       "    </tr>\n",
       "    <tr>\n",
       "      <th>99984</th>\n",
       "      <td>test-28177</td>\n",
       "      <td>0.018330</td>\n",
       "    </tr>\n",
       "    <tr>\n",
       "      <th>99985</th>\n",
       "      <td>test-28176</td>\n",
       "      <td>0.073242</td>\n",
       "    </tr>\n",
       "    <tr>\n",
       "      <th>99986</th>\n",
       "      <td>test-28175</td>\n",
       "      <td>0.009559</td>\n",
       "    </tr>\n",
       "    <tr>\n",
       "      <th>99987</th>\n",
       "      <td>test-28174</td>\n",
       "      <td>0.006889</td>\n",
       "    </tr>\n",
       "    <tr>\n",
       "      <th>99988</th>\n",
       "      <td>test-28173</td>\n",
       "      <td>0.122111</td>\n",
       "    </tr>\n",
       "    <tr>\n",
       "      <th>99989</th>\n",
       "      <td>test-28172</td>\n",
       "      <td>0.032924</td>\n",
       "    </tr>\n",
       "    <tr>\n",
       "      <th>99990</th>\n",
       "      <td>test-63699</td>\n",
       "      <td>0.039904</td>\n",
       "    </tr>\n",
       "    <tr>\n",
       "      <th>99991</th>\n",
       "      <td>test-63698</td>\n",
       "      <td>0.267183</td>\n",
       "    </tr>\n",
       "    <tr>\n",
       "      <th>99992</th>\n",
       "      <td>test-63697</td>\n",
       "      <td>0.018996</td>\n",
       "    </tr>\n",
       "    <tr>\n",
       "      <th>99993</th>\n",
       "      <td>test-63696</td>\n",
       "      <td>0.022346</td>\n",
       "    </tr>\n",
       "    <tr>\n",
       "      <th>99994</th>\n",
       "      <td>test-63695</td>\n",
       "      <td>0.007150</td>\n",
       "    </tr>\n",
       "    <tr>\n",
       "      <th>99995</th>\n",
       "      <td>test-63694</td>\n",
       "      <td>0.064631</td>\n",
       "    </tr>\n",
       "    <tr>\n",
       "      <th>99996</th>\n",
       "      <td>test-63693</td>\n",
       "      <td>0.009607</td>\n",
       "    </tr>\n",
       "    <tr>\n",
       "      <th>99997</th>\n",
       "      <td>test-63692</td>\n",
       "      <td>0.007401</td>\n",
       "    </tr>\n",
       "    <tr>\n",
       "      <th>99998</th>\n",
       "      <td>test-63691</td>\n",
       "      <td>0.015343</td>\n",
       "    </tr>\n",
       "    <tr>\n",
       "      <th>99999</th>\n",
       "      <td>test-63690</td>\n",
       "      <td>0.063827</td>\n",
       "    </tr>\n",
       "  </tbody>\n",
       "</table>\n",
       "<p>100000 rows × 2 columns</p>\n",
       "</div>"
      ],
      "text/plain": [
       "               ID   segment\n",
       "0      test-23855  0.023505\n",
       "1      test-23854  0.054431\n",
       "2      test-23857  0.206844\n",
       "3      test-23856  0.154665\n",
       "4      test-23851  0.130384\n",
       "5      test-23850  0.077402\n",
       "6      test-23853  0.040778\n",
       "7      test-23852  0.073175\n",
       "8      test-23859  0.008348\n",
       "9      test-23858  0.031081\n",
       "10       test-611  0.032624\n",
       "11      test-9038  0.086228\n",
       "12      test-9039  0.241756\n",
       "13      test-9032  0.079053\n",
       "14      test-9033  0.146694\n",
       "15      test-9030  0.300568\n",
       "16      test-9031  0.181550\n",
       "17      test-9036  0.052179\n",
       "18      test-9037  0.015809\n",
       "19      test-9034  0.049698\n",
       "20      test-9035  0.399735\n",
       "21     test-67729  0.025236\n",
       "22     test-57532  0.014469\n",
       "23     test-50747  0.010256\n",
       "24     test-50746  0.015158\n",
       "25     test-50745  0.159154\n",
       "26     test-50744  0.028534\n",
       "27     test-50743  0.154297\n",
       "28     test-50742  0.009644\n",
       "29     test-50741  0.018936\n",
       "...           ...       ...\n",
       "99970  test-28170  0.060481\n",
       "99971  test-22209  0.023095\n",
       "99972  test-22208  0.010937\n",
       "99973  test-94025  0.007886\n",
       "99974  test-11810  0.028326\n",
       "99975  test-11811  0.333044\n",
       "99976  test-11812  0.096453\n",
       "99977  test-11813  0.046193\n",
       "99978  test-11814  0.028376\n",
       "99979  test-11815  0.042302\n",
       "99980  test-11816  0.013266\n",
       "99981  test-11817  0.019695\n",
       "99982  test-11818  0.078947\n",
       "99983  test-11819  0.020073\n",
       "99984  test-28177  0.018330\n",
       "99985  test-28176  0.073242\n",
       "99986  test-28175  0.009559\n",
       "99987  test-28174  0.006889\n",
       "99988  test-28173  0.122111\n",
       "99989  test-28172  0.032924\n",
       "99990  test-63699  0.039904\n",
       "99991  test-63698  0.267183\n",
       "99992  test-63697  0.018996\n",
       "99993  test-63696  0.022346\n",
       "99994  test-63695  0.007150\n",
       "99995  test-63694  0.064631\n",
       "99996  test-63693  0.009607\n",
       "99997  test-63692  0.007401\n",
       "99998  test-63691  0.015343\n",
       "99999  test-63690  0.063827\n",
       "\n",
       "[100000 rows x 2 columns]"
      ]
     },
     "execution_count": 48,
     "metadata": {},
     "output_type": "execute_result"
    }
   ],
   "source": [
    "sub"
   ]
  },
  {
   "cell_type": "code",
   "execution_count": 56,
   "metadata": {
    "collapsed": true
   },
   "outputs": [],
   "source": [
    "sub            = pd.read_csv('../data/raw/5f828822-4--4-hotstar_dataset/sample_submission.csv')\n",
    "sub['segment'] = preds\n",
    "sub['ID']      = data_processed.loc[~train_mask, 'ID'].values\n",
    "sub.to_csv('../submissions/hotstar/xgb_processed_dataset_1.csv', index=False)"
   ]
  }
 ],
 "metadata": {
  "kernelspec": {
   "display_name": "Python 3",
   "language": "python",
   "name": "python3"
  },
  "language_info": {
   "codemirror_mode": {
    "name": "ipython",
    "version": 3
   },
   "file_extension": ".py",
   "mimetype": "text/x-python",
   "name": "python",
   "nbconvert_exporter": "python",
   "pygments_lexer": "ipython3",
   "version": "3.6.0"
  }
 },
 "nbformat": 4,
 "nbformat_minor": 2
}
