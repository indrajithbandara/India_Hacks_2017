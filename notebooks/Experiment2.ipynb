{
 "cells": [
  {
   "cell_type": "markdown",
   "metadata": {},
   "source": [
    "** Experiment - 2**\n",
    "\n",
    "Goal of this experiment is to see how far off can we go with RandomForest Model with only a single predictor.\n",
    "\n",
    "1. Set up cross-validation scheme\n",
    "2. Grid search to find out optimal values ( hyperopt or bayes opt )\n",
    "3. Report results."
   ]
  },
  {
   "cell_type": "code",
   "execution_count": 38,
   "metadata": {
    "collapsed": false
   },
   "outputs": [],
   "source": [
    "%matplotlib inline\n",
    "\n",
    "import pandas as pd\n",
    "import numpy as np\n",
    "import gc\n",
    "import scipy as sp\n",
    "\n",
    "import matplotlib.pyplot as plt\n",
    "import seaborn as sns\n",
    "\n",
    "from sklearn.ensemble import RandomForestClassifier\n",
    "from sklearn.model_selection import cross_val_score\n",
    "from sklearn.externals import joblib\n",
    "\n",
    "from bayes_opt import BayesianOptimization\n",
    "\n",
    "pd.set_option('max_columns', None)\n",
    "\n",
    "sns.set_style('dark')\n",
    "\n",
    "SEED = 213123\n",
    "np.random.seed(SEED)\n",
    "\n",
    "import warnings\n",
    "warnings.filterwarnings('ignore')\n",
    "\n",
    "%run ../src/data/make_dataset.py\n",
    "%run ../src/models/cross_validation.py"
   ]
  },
  {
   "cell_type": "code",
   "execution_count": 5,
   "metadata": {
    "collapsed": false
   },
   "outputs": [
    {
     "data": {
      "text/plain": [
       "<__main__.Dataset at 0x7f8a02d65518>"
      ]
     },
     "execution_count": 5,
     "metadata": {},
     "output_type": "execute_result"
    }
   ],
   "source": [
    "dataset = Dataset('../data/raw/4b699168-4-here_dataset/')\n",
    "\n",
    "dataset.load_files()\\\n",
    "       .encode_target()\\\n",
    "       .rename_target()\\\n",
    "       .concat_data()\\\n",
    "       .save_data('../data/processed/processed.feather')"
   ]
  },
  {
   "cell_type": "code",
   "execution_count": 6,
   "metadata": {
    "collapsed": true
   },
   "outputs": [],
   "source": [
    "data       = dataset.data\n",
    "train_mask = dataset.get_train_mask() "
   ]
  },
  {
   "cell_type": "code",
   "execution_count": 10,
   "metadata": {
    "collapsed": true
   },
   "outputs": [],
   "source": [
    "features = ['AngleOfSign']\n",
    "label    = 'Target'\n",
    "\n",
    "X = data.loc[train_mask, features]\n",
    "y = data.loc[train_mask, label]\n",
    "\n",
    "Xtest = data.loc[~train_mask, features]"
   ]
  },
  {
   "cell_type": "code",
   "execution_count": 11,
   "metadata": {
    "collapsed": false
   },
   "outputs": [],
   "source": [
    "params = {\n",
    "    'stratify': y,\n",
    "    'test_size': .3,\n",
    "    'random_state': SEED\n",
    "}\n",
    "\n",
    "X_train, X_test, y_train, y_test = get_train_test_split(X, y, **params)"
   ]
  },
  {
   "cell_type": "code",
   "execution_count": 19,
   "metadata": {
    "collapsed": false
   },
   "outputs": [
    {
     "data": {
      "text/plain": [
       "0.0    0.554178\n",
       "2.0    0.406956\n",
       "3.0    0.021345\n",
       "1.0    0.017521\n",
       "Name: Target, dtype: float64"
      ]
     },
     "execution_count": 19,
     "metadata": {},
     "output_type": "execute_result"
    }
   ],
   "source": [
    "y_train.value_counts(normalize=True)"
   ]
  },
  {
   "cell_type": "code",
   "execution_count": 21,
   "metadata": {
    "collapsed": false
   },
   "outputs": [
    {
     "name": "stdout",
     "output_type": "stream",
     "text": [
      "\n"
     ]
    }
   ],
   "source": [
    "rf = RandomForestClassifier(n_estimators=100, n_jobs=2, random_state=SEED)\n",
    "ll_scores = cross_validation(X_train, y_train, rf, SEED)"
   ]
  },
  {
   "cell_type": "code",
   "execution_count": 22,
   "metadata": {
    "collapsed": false
   },
   "outputs": [
    {
     "name": "stdout",
     "output_type": "stream",
     "text": [
      "Mean ll score: 0.29389675048673886 and std: 0.0019488475691916876\n"
     ]
    }
   ],
   "source": [
    "print('Mean ll score: {0} and std: {1}'.format(np.mean(ll_scores), np.std(ll_scores)))"
   ]
  },
  {
   "cell_type": "code",
   "execution_count": 36,
   "metadata": {
    "collapsed": false
   },
   "outputs": [],
   "source": [
    "def rfccv(n_estimators, min_samples_split, max_depth):\n",
    "    skf = StratifiedKFold(n_splits=3, random_state=SEED)\n",
    "    val = cross_val_score(\n",
    "        RandomForestClassifier(n_estimators=int(n_estimators),\n",
    "                               min_samples_split=int(min_samples_split),\n",
    "                               max_depth=int(max_depth),\n",
    "                               random_state=SEED\n",
    "                              ),\n",
    "        X_train, y_train, scoring='neg_log_loss', cv=skf\n",
    "    ).mean()\n",
    "    \n",
    "    return val\n",
    "\n",
    "def parameter_search():\n",
    "    gp_params = {\n",
    "        'alpha': 1e-5\n",
    "    }\n",
    "    \n",
    "    rfcBO = BayesianOptimization(\n",
    "        rfccv,\n",
    "        {\n",
    "            'n_estimators': (10, 250),\n",
    "            'min_samples_split': (2, 25),\n",
    "            'max_depth': (5, 30)\n",
    "        }\n",
    "    )\n",
    "    \n",
    "    rfcBO.maximize(n_iter=10, **gp_params)\n",
    "    print('RFC: %f' % rfcBO.res['max']['max_val'])"
   ]
  },
  {
   "cell_type": "code",
   "execution_count": 37,
   "metadata": {
    "collapsed": false
   },
   "outputs": [
    {
     "name": "stdout",
     "output_type": "stream",
     "text": [
      "\u001b[31mInitialization\u001b[0m\n",
      "\u001b[94m----------------------------------------------------------------------------------\u001b[0m\n",
      " Step |   Time |      Value |   max_depth |   min_samples_split |   n_estimators | \n",
      "    1 | 00m05s | \u001b[35m  -0.25019\u001b[0m | \u001b[32m    19.1442\u001b[0m | \u001b[32m            14.9380\u001b[0m | \u001b[32m      188.4220\u001b[0m | \n",
      "    2 | 00m05s |   -0.26961 |     20.7204 |              8.8383 |       200.7449 | \n",
      "    3 | 00m05s | \u001b[35m  -0.21208\u001b[0m | \u001b[32m    16.1495\u001b[0m | \u001b[32m            19.7687\u001b[0m | \u001b[32m      185.5168\u001b[0m | \n",
      "    4 | 00m01s |   -0.26320 |     26.5018 |             16.6650 |        62.3570 | \n",
      "    5 | 00m01s |   -0.27414 |     17.3623 |              4.5441 |        43.7993 | \n",
      "\u001b[31mBayesian Optimization\u001b[0m\n",
      "\u001b[94m----------------------------------------------------------------------------------\u001b[0m\n",
      " Step |   Time |      Value |   max_depth |   min_samples_split |   n_estimators | \n",
      "    6 | 00m16s | \u001b[35m  -0.13777\u001b[0m | \u001b[32m     5.0000\u001b[0m | \u001b[32m            25.0000\u001b[0m | \u001b[32m      250.0000\u001b[0m | \n",
      "    7 | 00m04s |   -0.13878 |      5.0000 |             25.0000 |        10.5354 | \n",
      "    8 | 00m06s |   -0.13784 |      5.0000 |             25.0000 |       104.7125 | \n",
      "    9 | 00m05s |   -0.13802 |      5.2896 |             24.9851 |        59.2356 | \n",
      "   10 | 00m09s |   -0.13779 |      5.1114 |             24.8772 |       222.6746 | \n",
      "   11 | 00m07s |   -0.13784 |      5.0433 |             24.7181 |       147.3821 | \n",
      "   12 | 00m05s |   -0.13812 |      5.1662 |             24.9146 |        35.8666 | \n",
      "   13 | 00m06s |   -0.13783 |      5.0731 |             24.7051 |        80.1930 | \n",
      "   14 | 00m08s |   -0.13779 |      5.1141 |             24.9687 |       185.7726 | \n",
      "   15 | 00m08s |   -0.13783 |      5.0398 |             24.9446 |       166.6364 | \n",
      "RFC: -0.137770\n"
     ]
    }
   ],
   "source": [
    "parameter_search()"
   ]
  },
  {
   "cell_type": "code",
   "execution_count": 39,
   "metadata": {
    "collapsed": true
   },
   "outputs": [],
   "source": [
    "def test_model(X_train, y_train, X_test, y_test):\n",
    "    rf = RandomForestClassifier(n_estimators=250, \n",
    "                                max_depth=5, \n",
    "                                min_samples_split=25, \n",
    "                                random_state=SEED)\n",
    "    \n",
    "    rf.fit(X_train, y_train)\n",
    "    preds = rf.predict_proba(X_test)\n",
    "    print('Log Loss on test set: {}'.format(log_loss(y_test, preds)))"
   ]
  },
  {
   "cell_type": "code",
   "execution_count": 40,
   "metadata": {
    "collapsed": false
   },
   "outputs": [
    {
     "name": "stdout",
     "output_type": "stream",
     "text": [
      "Log Loss on test set: 0.12788299648110937\n"
     ]
    }
   ],
   "source": [
    "test_model(X_train, y_train, X_test, y_test)"
   ]
  },
  {
   "cell_type": "code",
   "execution_count": 42,
   "metadata": {
    "collapsed": true
   },
   "outputs": [],
   "source": [
    "def full_training(X, y, Xtest, save=True):\n",
    "    rf = RandomForestClassifier(n_estimators=250, \n",
    "                                max_depth=5, \n",
    "                                min_samples_split=25, \n",
    "                                random_state=SEED)\n",
    "    \n",
    "    rf.fit(X, y)\n",
    "    final_preds = rf.predict_proba(Xtest)\n",
    "    \n",
    "    if save:\n",
    "        joblib.dump(rf, '../models/rf_model_angle_of_sign.pkl')\n",
    "        \n",
    "    return final_preds"
   ]
  },
  {
   "cell_type": "code",
   "execution_count": 44,
   "metadata": {
    "collapsed": true
   },
   "outputs": [],
   "source": [
    "final_preds = full_training(X, y, Xtest)"
   ]
  },
  {
   "cell_type": "code",
   "execution_count": 46,
   "metadata": {
    "collapsed": false
   },
   "outputs": [
    {
     "data": {
      "text/html": [
       "<div>\n",
       "<table border=\"1\" class=\"dataframe\">\n",
       "  <thead>\n",
       "    <tr style=\"text-align: right;\">\n",
       "      <th></th>\n",
       "      <th>AngleOfSign</th>\n",
       "      <th>DetectedCamera</th>\n",
       "      <th>Id</th>\n",
       "      <th>SignAspectRatio</th>\n",
       "      <th>SignHeight</th>\n",
       "      <th>SignWidth</th>\n",
       "      <th>Target</th>\n",
       "    </tr>\n",
       "  </thead>\n",
       "  <tbody>\n",
       "    <tr>\n",
       "      <th>0</th>\n",
       "      <td>67</td>\n",
       "      <td>Right</td>\n",
       "      <td>2c9180975a056a64015a1e10d3f270fe</td>\n",
       "      <td>0.63</td>\n",
       "      <td>169</td>\n",
       "      <td>107</td>\n",
       "      <td>NaN</td>\n",
       "    </tr>\n",
       "    <tr>\n",
       "      <th>1</th>\n",
       "      <td>16</td>\n",
       "      <td>Front</td>\n",
       "      <td>2c9180975a056a64015a1de4deb16bdc</td>\n",
       "      <td>0.88</td>\n",
       "      <td>69</td>\n",
       "      <td>61</td>\n",
       "      <td>NaN</td>\n",
       "    </tr>\n",
       "  </tbody>\n",
       "</table>\n",
       "</div>"
      ],
      "text/plain": [
       "   AngleOfSign DetectedCamera                                Id  \\\n",
       "0           67          Right  2c9180975a056a64015a1e10d3f270fe   \n",
       "1           16          Front  2c9180975a056a64015a1de4deb16bdc   \n",
       "\n",
       "   SignAspectRatio  SignHeight  SignWidth  Target  \n",
       "0             0.63         169        107     NaN  \n",
       "1             0.88          69         61     NaN  "
      ]
     },
     "execution_count": 46,
     "metadata": {},
     "output_type": "execute_result"
    }
   ],
   "source": [
    "data.loc[~train_mask, :].head(2)"
   ]
  },
  {
   "cell_type": "code",
   "execution_count": 47,
   "metadata": {
    "collapsed": false
   },
   "outputs": [],
   "source": [
    "sample_sub = dataset.sub\n",
    "sample_sub.loc[:, ['Front', 'Left', 'Rear', 'Right']] = final_preds"
   ]
  },
  {
   "cell_type": "code",
   "execution_count": 49,
   "metadata": {
    "collapsed": false
   },
   "outputs": [],
   "source": [
    "sample_sub.to_csv('../submissions/predict_sign/rf_angle_of_sign.csv', index=False)"
   ]
  }
 ],
 "metadata": {
  "kernelspec": {
   "display_name": "Python 3",
   "language": "python",
   "name": "python3"
  },
  "language_info": {
   "codemirror_mode": {
    "name": "ipython",
    "version": 3
   },
   "file_extension": ".py",
   "mimetype": "text/x-python",
   "name": "python",
   "nbconvert_exporter": "python",
   "pygments_lexer": "ipython3",
   "version": "3.6.0"
  },
  "widgets": {
   "state": {
    "0c5464c87b10423382a41804314e4af8": {
     "views": [
      {
       "cell_index": 7
      }
     ]
    }
   },
   "version": "1.2.0"
  }
 },
 "nbformat": 4,
 "nbformat_minor": 2
}
