{
 "cells": [
  {
   "cell_type": "code",
   "execution_count": 23,
   "metadata": {
    "collapsed": false
   },
   "outputs": [],
   "source": [
    "%matplotlib inline\n",
    "\n",
    "import pandas as pd\n",
    "import numpy as np\n",
    "import gc\n",
    "import time\n",
    "\n",
    "import matplotlib.pyplot as plt\n",
    "import seaborn as sns\n",
    "\n",
    "import xgboost as xgb\n",
    "\n",
    "sns.set_style('dark')\n",
    "\n",
    "SEED = 2313\n",
    "np.random.seed(SEED)\n",
    "\n",
    "import warnings\n",
    "warnings.filterwarnings('ignore')\n",
    "\n",
    "%run ../src/data/HotstarDataset.py\n",
    "%run ../src/features/categorical_features.py\n",
    "%run ../src/features/util.py\n",
    "%run ../src/models/cross_validation.py"
   ]
  },
  {
   "cell_type": "code",
   "execution_count": 8,
   "metadata": {
    "collapsed": true
   },
   "outputs": [],
   "source": [
    "dataset = Hotstar('../data/raw/5f828822-4--4-hotstar_dataset/')\n",
    "dataset.load_data('../data/processed/hotstar_processed.feather')\n",
    "\n",
    "data_processed = dataset.data\n",
    "train_mask     = dataset.get_train_mask() "
   ]
  },
  {
   "cell_type": "code",
   "execution_count": 9,
   "metadata": {
    "collapsed": false
   },
   "outputs": [],
   "source": [
    "# create ohe feature for genres, tod and dow\n",
    "genres_ohe = create_from_dict(data_processed, 'genres')\n",
    "tod_ohe    = create_from_dict(data_processed, 'tod')\n",
    "dow_ohe    = create_from_dict(data_processed, 'dow')"
   ]
  },
  {
   "cell_type": "code",
   "execution_count": 10,
   "metadata": {
    "collapsed": true
   },
   "outputs": [],
   "source": [
    "# count features\n",
    "data_processed['num_cities'] = count_feature(data_processed.cities)\n",
    "data_processed['num_genres'] = count_feature(data_processed.genres)\n",
    "data_processed['num_titles'] = count_feature(data_processed.titles)\n",
    "data_processed['num_tod']    = count_feature(data_processed.tod)\n",
    "data_processed['num_dow']    = count_feature(data_processed.dow)\n",
    "\n",
    "# watch time\n",
    "data_processed['watch_time_sec'] = num_seconds_watched(data_processed.genres)"
   ]
  },
  {
   "cell_type": "code",
   "execution_count": 12,
   "metadata": {
    "collapsed": true
   },
   "outputs": [],
   "source": [
    "data = pd.concat((genres_ohe, tod_ohe, dow_ohe,\n",
    "                  data_processed.num_cities,\n",
    "                  data_processed.num_genres,\n",
    "                  data_processed.num_titles,\n",
    "                  data_processed.num_tod,\n",
    "                  data_processed.num_dow,\n",
    "                  data_processed.watch_time_sec,\n",
    "                  data_processed.segment\n",
    "                 ), axis='columns')"
   ]
  },
  {
   "cell_type": "code",
   "execution_count": 14,
   "metadata": {
    "collapsed": false
   },
   "outputs": [],
   "source": [
    "save_file(data, '../data/processed/hotstar_processed_exp_8.feather')"
   ]
  },
  {
   "cell_type": "code",
   "execution_count": 16,
   "metadata": {
    "collapsed": false
   },
   "outputs": [],
   "source": [
    "f = data.columns.drop('segment')\n",
    "\n",
    "X = data.loc[train_mask, f]\n",
    "y = data.loc[train_mask, 'segment']\n",
    "\n",
    "Xtest = data.loc[~train_mask, f]"
   ]
  },
  {
   "cell_type": "code",
   "execution_count": 18,
   "metadata": {
    "collapsed": false
   },
   "outputs": [],
   "source": [
    "params = {\n",
    "    'stratify': y,\n",
    "    'test_size': .2,\n",
    "    'random_state': SEED\n",
    "}\n",
    "\n",
    "X_train, X_test, y_train, y_test = get_train_test_split(X, y, **params)"
   ]
  },
  {
   "cell_type": "code",
   "execution_count": 20,
   "metadata": {
    "collapsed": false
   },
   "outputs": [],
   "source": [
    "params = {\n",
    "    'stratify': y_train,\n",
    "    'test_size': .2,\n",
    "    'random_state': SEED\n",
    "}\n",
    "\n",
    "Xtr, Xte, ytr, yte = get_train_test_split(X_train, y_train, **params)"
   ]
  },
  {
   "cell_type": "code",
   "execution_count": 29,
   "metadata": {
    "collapsed": false
   },
   "outputs": [
    {
     "name": "stdout",
     "output_type": "stream",
     "text": [
      "[0]\ttrain-auc:0.799452\tval-auc:0.786533\n",
      "[10]\ttrain-auc:0.828899\tval-auc:0.803547\n",
      "[20]\ttrain-auc:0.831482\tval-auc:0.805615\n",
      "[30]\ttrain-auc:0.833197\tval-auc:0.806399\n",
      "[40]\ttrain-auc:0.834322\tval-auc:0.806988\n",
      "[50]\ttrain-auc:0.835874\tval-auc:0.807425\n",
      "[60]\ttrain-auc:0.836157\tval-auc:0.807444\n",
      "[70]\ttrain-auc:0.836625\tval-auc:0.807631\n",
      "[80]\ttrain-auc:0.83739\tval-auc:0.80752\n",
      "[90]\ttrain-auc:0.838204\tval-auc:0.807834\n",
      "[100]\ttrain-auc:0.838983\tval-auc:0.808035\n",
      "[110]\ttrain-auc:0.839554\tval-auc:0.807998\n",
      "[120]\ttrain-auc:0.840587\tval-auc:0.808072\n",
      "[130]\ttrain-auc:0.841561\tval-auc:0.808265\n",
      "[140]\ttrain-auc:0.842484\tval-auc:0.808335\n",
      "[150]\ttrain-auc:0.843355\tval-auc:0.808319\n",
      "[160]\ttrain-auc:0.844336\tval-auc:0.808515\n",
      "[170]\ttrain-auc:0.845177\tval-auc:0.808469\n",
      "[180]\ttrain-auc:0.846084\tval-auc:0.808348\n",
      "[190]\ttrain-auc:0.846779\tval-auc:0.808274\n",
      "[200]\ttrain-auc:0.847611\tval-auc:0.808347\n",
      "[210]\ttrain-auc:0.848353\tval-auc:0.808354\n",
      "[220]\ttrain-auc:0.849127\tval-auc:0.808558\n",
      "[230]\ttrain-auc:0.84994\tval-auc:0.808652\n",
      "[240]\ttrain-auc:0.850681\tval-auc:0.808813\n",
      "[250]\ttrain-auc:0.851319\tval-auc:0.808934\n",
      "[260]\ttrain-auc:0.852211\tval-auc:0.808979\n",
      "[270]\ttrain-auc:0.852902\tval-auc:0.809129\n",
      "[280]\ttrain-auc:0.853667\tval-auc:0.809214\n",
      "[290]\ttrain-auc:0.854388\tval-auc:0.809264\n",
      "[300]\ttrain-auc:0.855201\tval-auc:0.809402\n",
      "[310]\ttrain-auc:0.856031\tval-auc:0.809493\n",
      "[320]\ttrain-auc:0.856806\tval-auc:0.809636\n",
      "[330]\ttrain-auc:0.857581\tval-auc:0.809792\n",
      "[340]\ttrain-auc:0.858429\tval-auc:0.810001\n",
      "[350]\ttrain-auc:0.859246\tval-auc:0.810201\n",
      "[360]\ttrain-auc:0.860204\tval-auc:0.810333\n",
      "[370]\ttrain-auc:0.861044\tval-auc:0.8105\n",
      "[380]\ttrain-auc:0.861838\tval-auc:0.810561\n",
      "[390]\ttrain-auc:0.862774\tval-auc:0.81071\n",
      "[400]\ttrain-auc:0.86375\tval-auc:0.810724\n",
      "[410]\ttrain-auc:0.864557\tval-auc:0.810831\n",
      "[420]\ttrain-auc:0.8654\tval-auc:0.81092\n",
      "[430]\ttrain-auc:0.866218\tval-auc:0.811037\n",
      "[440]\ttrain-auc:0.867129\tval-auc:0.811153\n",
      "[450]\ttrain-auc:0.867938\tval-auc:0.811268\n",
      "[460]\ttrain-auc:0.868669\tval-auc:0.811222\n",
      "[470]\ttrain-auc:0.869474\tval-auc:0.811254\n",
      "[480]\ttrain-auc:0.8703\tval-auc:0.811248\n",
      "[490]\ttrain-auc:0.871237\tval-auc:0.811299\n"
     ]
    }
   ],
   "source": [
    "dtrain = xgb.DMatrix(Xtr, ytr, missing=np.nan, feature_names=f)\n",
    "dtest  = xgb.DMatrix(Xte, yte, missing=np.nan, feature_names=f)\n",
    "\n",
    "xgb_params = {\n",
    "    'eta': 0.008,\n",
    "    'max_depth': 8,\n",
    "    'min_child_weight': 1,\n",
    "    'subsample': 1,\n",
    "    'colsample_bytree': .8,\n",
    "    'objective': 'binary:logistic',\n",
    "    'seed': SEED,\n",
    "    'eval_metric': 'auc',\n",
    "    'verbose': 1,\n",
    "    'gamma': 1,\n",
    "    'nthread': 8\n",
    "}\n",
    "\n",
    "n_estimators = 500\n",
    "\n",
    "watchlist = [(dtrain, 'train'), (dtest, 'val')]\n",
    "\n",
    "model = xgb.train(xgb_params, dtrain, num_boost_round=n_estimators, verbose_eval=10,\n",
    "                  evals=watchlist\n",
    "                 )"
   ]
  },
  {
   "cell_type": "code",
   "execution_count": 31,
   "metadata": {
    "collapsed": false
   },
   "outputs": [
    {
     "name": "stdout",
     "output_type": "stream",
     "text": [
      "It took: 262.6242287158966 seconds to train model\n",
      "AUC on test set: 0.8145467705940561\n"
     ]
    }
   ],
   "source": [
    "# test on unseen data\n",
    "dtrain = xgb.DMatrix(X_train, y_train, missing=np.nan, feature_names=f)\n",
    "dval   = xgb.DMatrix(X_test, y_test, missing=np.nan, feature_names=f)\n",
    "\n",
    "n_estimators = 550\n",
    "start = time.time()\n",
    "model = xgb.train(xgb_params, dtrain, num_boost_round=n_estimators)\n",
    "end   = time.time()\n",
    "preds = model.predict(dval)\n",
    "\n",
    "print('It took: {} seconds to train model'.format(end - start))\n",
    "print('AUC on test set: {}'.format(roc_auc_score(y_test, preds)))"
   ]
  },
  {
   "cell_type": "code",
   "execution_count": 32,
   "metadata": {
    "collapsed": false
   },
   "outputs": [
    {
     "name": "stdout",
     "output_type": "stream",
     "text": [
      "It took: 363.9025273323059 seconds to train model\n"
     ]
    }
   ],
   "source": [
    "# train on full data\n",
    "dtrain = xgb.DMatrix(X, y, missing=np.nan, feature_names=f)\n",
    "dtest  = xgb.DMatrix(Xtest, missing=np.nan, feature_names=f)\n",
    "\n",
    "n_estimators = 600\n",
    "start = time.time()\n",
    "model = xgb.train(xgb_params, dtrain, num_boost_round=n_estimators)\n",
    "end  = time.time()\n",
    "\n",
    "preds = model.predict(dtest)\n",
    "\n",
    "print('It took: {} seconds to train model'.format(end - start))"
   ]
  },
  {
   "cell_type": "code",
   "execution_count": 33,
   "metadata": {
    "collapsed": false
   },
   "outputs": [
    {
     "data": {
      "image/png": "[encoded data removed]",
      "text/plain": [
       "<matplotlib.figure.Figure at 0x7fa0ec4a0898>"
      ]
     },
     "metadata": {},
     "output_type": "display_data"
    }
   ],
   "source": [
    "sns.distplot(preds);"
   ]
  },
  {
   "cell_type": "code",
   "execution_count": 34,
   "metadata": {
    "collapsed": true
   },
   "outputs": [],
   "source": [
    "sub            = pd.read_csv('../data/raw/5f828822-4--4-hotstar_dataset/sample_submission.csv')\n",
    "sub['segment'] = preds\n",
    "sub['ID']      = data_processed.loc[~train_mask, 'ID'].values\n",
    "sub.to_csv('../submissions/hotstar/xgb_processed_dataset_2.csv', index=False)"
   ]
  }
 ],
 "metadata": {
  "kernelspec": {
   "display_name": "Python 3",
   "language": "python",
   "name": "python3"
  },
  "language_info": {
   "codemirror_mode": {
    "name": "ipython",
    "version": 3
   },
   "file_extension": ".py",
   "mimetype": "text/x-python",
   "name": "python",
   "nbconvert_exporter": "python",
   "pygments_lexer": "ipython3",
   "version": "3.6.0"
  }
 },
 "nbformat": 4,
 "nbformat_minor": 2
}
