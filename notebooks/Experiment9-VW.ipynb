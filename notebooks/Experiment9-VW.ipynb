{
 "cells": [
  {
   "cell_type": "markdown",
   "metadata": {},
   "source": [
    "** Experiment 9 Vowpal Wabbit **\n",
    "\n",
    "1. OHE of genres, cities, tod, dow\n",
    "2. Watch time in seconds.\n",
    "3. Vowpal Wabbit with hinge loss"
   ]
  },
  {
   "cell_type": "code",
   "execution_count": 96,
   "metadata": {
    "collapsed": true
   },
   "outputs": [],
   "source": [
    "%matplotlib inline\n",
    "\n",
    "import pandas as pd\n",
    "import numpy as np\n",
    "import gc\n",
    "import time\n",
    "import os\n",
    "\n",
    "import matplotlib.pyplot as plt\n",
    "import seaborn as sns\n",
    "\n",
    "sns.set_style('dark')\n",
    "\n",
    "SEED = 2313\n",
    "np.random.seed(SEED)\n",
    "\n",
    "import warnings\n",
    "warnings.filterwarnings('ignore')\n",
    "\n",
    "%run ../src/data/HotstarDataset.py\n",
    "%run ../src/features/categorical_features.py\n",
    "%run ../src/features/util.py\n",
    "%run ../src/models/cross_validation.py"
   ]
  },
  {
   "cell_type": "code",
   "execution_count": 3,
   "metadata": {
    "collapsed": false
   },
   "outputs": [],
   "source": [
    "# load dataset\n",
    "dataset = Hotstar('../data/raw/5f828822-4--4-hotstar_dataset/')\n",
    "dataset.load_data('../data/processed/hotstar_processed.feather')\n",
    "\n",
    "data_processed = dataset.data\n",
    "train_mask     = dataset.get_train_mask() "
   ]
  },
  {
   "cell_type": "code",
   "execution_count": 67,
   "metadata": {
    "collapsed": false
   },
   "outputs": [],
   "source": [
    "def create_vw_file(features, label, outfile_path):\n",
    "    with open(outfile_path, 'w') as outfile:\n",
    "        for index in tqdm_notebook(range(len(features.values))):\n",
    "            segment = label.iloc[index]\n",
    "            genres  = features.iloc[index]\n",
    "\n",
    "            if pd.isnull(segment):\n",
    "                outfile.write('{}\\n'.format(genres))\n",
    "            else:\n",
    "                outfile.write('{} | {}\\n'.format(segment, genres))\n",
    "        \n",
    "        outfile.close()\n",
    "    \n",
    "    print('Number of lines written: {}'.format(len(features.values)))\n",
    "    print('Created input file for vw at: {}'.format(outfile_path))"
   ]
  },
  {
   "cell_type": "markdown",
   "metadata": {},
   "source": [
    "** Genres **"
   ]
  },
  {
   "cell_type": "code",
   "execution_count": 121,
   "metadata": {
    "collapsed": false
   },
   "outputs": [],
   "source": [
    "features = data_processed.genres.str.replace(r':\\d+', '').str.replace(',', ' ')\n",
    "segment  = data_processed.segment"
   ]
  },
  {
   "cell_type": "code",
   "execution_count": 122,
   "metadata": {
    "collapsed": true
   },
   "outputs": [],
   "source": [
    "# convert to 1 or -1\n",
    "segment[(segment == 0).values] = -1"
   ]
  },
  {
   "cell_type": "code",
   "execution_count": 123,
   "metadata": {
    "collapsed": false
   },
   "outputs": [],
   "source": [
    "# train test split\n",
    "params = {\n",
    "    'stratify': segment.loc[train_mask],\n",
    "    'test_size': .3,\n",
    "    'random_state': SEED\n",
    "}\n",
    "\n",
    "X_train, X_test, y_train, y_test = get_train_test_split(features.loc[train_mask],\n",
    "                                                        segment.loc[train_mask],\n",
    "                                                        **params\n",
    "                                                       )"
   ]
  },
  {
   "cell_type": "code",
   "execution_count": 124,
   "metadata": {
    "collapsed": false
   },
   "outputs": [],
   "source": [
    "# futher split train into train and validation\n",
    "params = {\n",
    "    'stratify': y_train,\n",
    "    'test_size': .2,\n",
    "    'random_state': SEED\n",
    "}\n",
    "\n",
    "Xtr, Xte, ytr, yte = get_train_test_split(X_train, y_train, **params)"
   ]
  },
  {
   "cell_type": "code",
   "execution_count": 125,
   "metadata": {
    "collapsed": false
   },
   "outputs": [
    {
     "name": "stdout",
     "output_type": "stream",
     "text": [
      "\n",
      "Number of lines written: 112000\n",
      "Created input file for vw at: ../data/processed/vowpal_wabbit_input_Xtr.vw\n"
     ]
    }
   ],
   "source": [
    "# create training set\n",
    "create_vw_file(Xtr, ytr, '../data/processed/vowpal_wabbit_input_Xtr.vw')"
   ]
  },
  {
   "cell_type": "code",
   "execution_count": 126,
   "metadata": {
    "collapsed": false
   },
   "outputs": [
    {
     "name": "stdout",
     "output_type": "stream",
     "text": [
      "\n",
      "Number of lines written: 28000\n",
      "Created input file for vw at: ../data/processed/vowpal_wabbit_input_Xte.vw\n"
     ]
    }
   ],
   "source": [
    "# create test set\n",
    "create_vw_file(Xte, yte, '../data/processed/vowpal_wabbit_input_Xte.vw')"
   ]
  },
  {
   "cell_type": "code",
   "execution_count": 72,
   "metadata": {
    "collapsed": false
   },
   "outputs": [
    {
     "name": "stdout",
     "output_type": "stream",
     "text": [
      "-1.0 | Crime\r\n",
      "-1.0 | Cricket,Reality\r\n",
      "1.0 | Romance,TalkShow,Family,Reality\r\n",
      "-1.0 | Action,Cricket\r\n",
      "-1.0 | TalkShow,Cricket\r\n"
     ]
    }
   ],
   "source": [
    "!head -5 ../data/processed/vowpal_wabbit_input_Xtr.vw"
   ]
  },
  {
   "cell_type": "code",
   "execution_count": 73,
   "metadata": {
    "collapsed": false
   },
   "outputs": [
    {
     "name": "stdout",
     "output_type": "stream",
     "text": [
      "-1.0 | TalkShow,Cricket\r\n",
      "-1.0 | Romance,Cricket,Family,Kabaddi,Drama,Action,Comedy,Thriller\r\n",
      "1.0 | TalkShow,Family\r\n",
      "-1.0 | Drama\r\n",
      "-1.0 | Romance,Family\r\n"
     ]
    }
   ],
   "source": [
    "!head -5 ../data/processed/vowpal_wabbit_input_Xte.vw"
   ]
  },
  {
   "cell_type": "code",
   "execution_count": 172,
   "metadata": {
    "collapsed": true
   },
   "outputs": [],
   "source": [
    "def train_vw_model(train_vw_file, model_filename,\n",
    "                   ngram=1, bit_precision=28, passes=1,\n",
    "                   seed=SEED, quiet=True):\n",
    "    init_time = time.time()\n",
    "    vw_call_string = ('vw {train_vw_file} ' + \n",
    "                       '-f {model_filename} -b {bit_precision} --random_seed {seed}').format(\n",
    "                       train_vw_file=train_vw_file, \n",
    "                       model_filename=model_filename, bit_precision=bit_precision, seed=seed)\n",
    "    if ngram > 1:\n",
    "         vw_call_string += ' --ngram={}'.format(ngram)\n",
    "            \n",
    "    if passes > 1:\n",
    "         vw_call_string += ' -k --passes={} --cache_file {}'.format(passes, \n",
    "                            model_filename.replace('.vw', '.cache'))\n",
    "    if quiet:\n",
    "        vw_call_string += ' --quiet'\n",
    "    \n",
    "    \n",
    "    print(vw_call_string) \n",
    "    res = os.system(vw_call_string)\n",
    "    print('Success. Elapsed: {} sec.'.format(round(time.time() - init_time, 2))\n",
    "          if not res else 'Failed.')"
   ]
  },
  {
   "cell_type": "code",
   "execution_count": 242,
   "metadata": {
    "collapsed": true
   },
   "outputs": [],
   "source": [
    "def test_vw_model(model_filename, test_vw_file, prediction_filename,\n",
    "                  true_labels, seed=SEED, quiet=True):\n",
    "    init_time = time.time()\n",
    "    vw_call_string = ('vw -t -i {model_filename} {test_vw_file} ' + \n",
    "                       '-p {prediction_filename} --random_seed {seed}').format(\n",
    "                       model_filename=model_filename, test_vw_file=test_vw_file, \n",
    "                       prediction_filename=prediction_filename, seed=seed)\n",
    "    if quiet:\n",
    "        vw_call_string += ' --quiet'\n",
    "        \n",
    "    print(vw_call_string) \n",
    "    res = os.system(vw_call_string)\n",
    "    \n",
    "    if true_labels is not None:\n",
    "        if not res: # the call resulted OK\n",
    "            vw_pred = np.loadtxt(prediction_filename)\n",
    "            print(\"AUC: {}. Elapsed: {} sec.\".format(\n",
    "                round(roc_auc_score(true_labels, vw_pred), 2), \n",
    "                round(time.time() - init_time, 2)))\n",
    "        else:\n",
    "            print('Failed.')"
   ]
  },
  {
   "cell_type": "code",
   "execution_count": 173,
   "metadata": {
    "collapsed": false
   },
   "outputs": [
    {
     "name": "stdout",
     "output_type": "stream",
     "text": [
      "vw ../data/processed/vowpal_wabbit_input_Xtr.vw -f ../models/vw_model.vw -b 28 --random_seed 2313 -k --passes=20 --cache_file ../models/vw_model.cache --quiet\n",
      "Success. Elapsed: 7.34 sec.\n"
     ]
    }
   ],
   "source": [
    "train_vw_model('../data/processed/vowpal_wabbit_input_Xtr.vw',\n",
    "               '../models/vw_model.vw',\n",
    "               ngram=1,\n",
    "               passes=20\n",
    "              )"
   ]
  },
  {
   "cell_type": "code",
   "execution_count": 174,
   "metadata": {
    "collapsed": false
   },
   "outputs": [
    {
     "name": "stdout",
     "output_type": "stream",
     "text": [
      "vw -t -i ../models/vw_model.vw ../data/processed/vowpal_wabbit_input_Xte.vw -p ../vw_predictions/xtr_preds.txt --random_seed 2313 --quiet\n",
      "AUC: 0.78. Elapsed: 0.34 sec.\n"
     ]
    }
   ],
   "source": [
    "test_vw_model('../models/vw_model.vw', '../data/processed/vowpal_wabbit_input_Xte.vw',\n",
    "              '../vw_predictions/xtr_preds.txt', yte\n",
    "             )"
   ]
  },
  {
   "cell_type": "markdown",
   "metadata": {},
   "source": [
    "** Use titles instead of genres **"
   ]
  },
  {
   "cell_type": "code",
   "execution_count": 147,
   "metadata": {
    "collapsed": true
   },
   "outputs": [],
   "source": [
    "features = data_processed.titles.str.replace(r':\\d+', '').str.replace(',', ' ')\\\n",
    "                     .str.replace(r':|\\|', '')\n",
    "segment  = data_processed.segment"
   ]
  },
  {
   "cell_type": "code",
   "execution_count": 148,
   "metadata": {
    "collapsed": true
   },
   "outputs": [],
   "source": [
    "# convert to 1 or -1\n",
    "segment[(segment == 0).values] = -1"
   ]
  },
  {
   "cell_type": "code",
   "execution_count": 149,
   "metadata": {
    "collapsed": true
   },
   "outputs": [],
   "source": [
    "# train test split\n",
    "params = {\n",
    "    'stratify': segment.loc[train_mask],\n",
    "    'test_size': .3,\n",
    "    'random_state': SEED\n",
    "}\n",
    "\n",
    "X_train, X_test, y_train, y_test = get_train_test_split(features.loc[train_mask],\n",
    "                                                        segment.loc[train_mask],\n",
    "                                                        **params\n",
    "                                                       )"
   ]
  },
  {
   "cell_type": "code",
   "execution_count": 150,
   "metadata": {
    "collapsed": true
   },
   "outputs": [],
   "source": [
    "# futher split train into train and validation\n",
    "params = {\n",
    "    'stratify': y_train,\n",
    "    'test_size': .2,\n",
    "    'random_state': SEED\n",
    "}\n",
    "\n",
    "Xtr, Xte, ytr, yte = get_train_test_split(X_train, y_train, **params)"
   ]
  },
  {
   "cell_type": "code",
   "execution_count": 151,
   "metadata": {
    "collapsed": false
   },
   "outputs": [
    {
     "name": "stdout",
     "output_type": "stream",
     "text": [
      "\n",
      "Number of lines written: 112000\n",
      "Created input file for vw at: ../data/processed/vowpal_wabbit_input_Xtr_titles.vw\n"
     ]
    }
   ],
   "source": [
    "# create training set\n",
    "create_vw_file(Xtr, ytr, '../data/processed/vowpal_wabbit_input_Xtr_titles.vw')"
   ]
  },
  {
   "cell_type": "code",
   "execution_count": 152,
   "metadata": {
    "collapsed": false
   },
   "outputs": [
    {
     "name": "stdout",
     "output_type": "stream",
     "text": [
      "\n",
      "Number of lines written: 28000\n",
      "Created input file for vw at: ../data/processed/vowpal_wabbit_input_Xte_titles.vw\n"
     ]
    }
   ],
   "source": [
    "# create test set\n",
    "create_vw_file(Xte, yte, '../data/processed/vowpal_wabbit_input_Xte_titles.vw')"
   ]
  },
  {
   "cell_type": "code",
   "execution_count": 156,
   "metadata": {
    "collapsed": false
   },
   "outputs": [
    {
     "name": "stdout",
     "output_type": "stream",
     "text": [
      "vw ../data/processed/vowpal_wabbit_input_Xtr.vw -f ../models/vw_model_titles.vw -b 28 --random_seed 2313 --ngram=2 --quiet\n",
      "Success. Elapsed: 0.45 sec.\n"
     ]
    }
   ],
   "source": [
    "train_vw_model('../data/processed/vowpal_wabbit_input_Xtr.vw',\n",
    "               '../models/vw_model_titles.vw'\n",
    "              )"
   ]
  },
  {
   "cell_type": "code",
   "execution_count": 157,
   "metadata": {
    "collapsed": false
   },
   "outputs": [
    {
     "name": "stdout",
     "output_type": "stream",
     "text": [
      "vw -t -i ../models/vw_model_titles.vw ../data/processed/vowpal_wabbit_input_Xte_titles.vw -p ../vw_predictions/xtr_preds_titles.txt --random_seed 2313 --quiet\n",
      "AUC: 0.49%. Elapsed: 0.36 sec.\n"
     ]
    }
   ],
   "source": [
    "test_vw_model('../models/vw_model_titles.vw', '../data/processed/vowpal_wabbit_input_Xte_titles.vw',\n",
    "              '../vw_predictions/xtr_preds_titles.txt', yte\n",
    "             )"
   ]
  },
  {
   "cell_type": "markdown",
   "metadata": {},
   "source": [
    "** So since we created features based on whether certain feature occured in an instance or not, we can now add the actual value observed in the training set with this value **"
   ]
  },
  {
   "cell_type": "code",
   "execution_count": 159,
   "metadata": {
    "collapsed": false
   },
   "outputs": [],
   "source": [
    "features = data_processed.genres.str.replace(r',', ' ')\n",
    "segment  = data_processed.segment"
   ]
  },
  {
   "cell_type": "code",
   "execution_count": 160,
   "metadata": {
    "collapsed": true
   },
   "outputs": [],
   "source": [
    "# convert to 1 or -1\n",
    "segment[(segment == 0).values] = -1\n",
    "\n",
    "# train test split\n",
    "params = {\n",
    "    'stratify': segment.loc[train_mask],\n",
    "    'test_size': .3,\n",
    "    'random_state': SEED\n",
    "}\n",
    "\n",
    "X_train, X_test, y_train, y_test = get_train_test_split(features.loc[train_mask],\n",
    "                                                        segment.loc[train_mask],\n",
    "                                                        **params\n",
    "                                                       )\n",
    "\n",
    "# futher split train into train and validation\n",
    "params = {\n",
    "    'stratify': y_train,\n",
    "    'test_size': .2,\n",
    "    'random_state': SEED\n",
    "}\n",
    "\n",
    "Xtr, Xte, ytr, yte = get_train_test_split(X_train, y_train, **params)"
   ]
  },
  {
   "cell_type": "code",
   "execution_count": 161,
   "metadata": {
    "collapsed": false
   },
   "outputs": [
    {
     "name": "stdout",
     "output_type": "stream",
     "text": [
      "\n",
      "Number of lines written: 112000\n",
      "Created input file for vw at: ../data/processed/vowpal_wabbit_input_Xtr_with_count.vw\n"
     ]
    }
   ],
   "source": [
    "# create training set\n",
    "create_vw_file(Xtr, ytr, '../data/processed/vowpal_wabbit_input_Xtr_with_count.vw')"
   ]
  },
  {
   "cell_type": "code",
   "execution_count": 162,
   "metadata": {
    "collapsed": false
   },
   "outputs": [
    {
     "name": "stdout",
     "output_type": "stream",
     "text": [
      "\n",
      "Number of lines written: 28000\n",
      "Created input file for vw at: ../data/processed/vowpal_wabbit_input_Xte_with_count.vw\n"
     ]
    }
   ],
   "source": [
    "# create test set\n",
    "create_vw_file(Xte, yte, '../data/processed/vowpal_wabbit_input_Xte_with_count.vw')"
   ]
  },
  {
   "cell_type": "code",
   "execution_count": 168,
   "metadata": {
    "collapsed": false
   },
   "outputs": [
    {
     "name": "stdout",
     "output_type": "stream",
     "text": [
      "vw ../data/processed/vowpal_wabbit_input_Xtr.vw -f ../models/vw_model_genres_with_count.vw -b 28 --random_seed 2313 --quiet\n",
      "Success. Elapsed: 0.43 sec.\n"
     ]
    }
   ],
   "source": [
    "train_vw_model('../data/processed/vowpal_wabbit_input_Xtr.vw',\n",
    "               '../models/vw_model_genres_with_count.vw',\n",
    "               ngram=1\n",
    "              )"
   ]
  },
  {
   "cell_type": "code",
   "execution_count": 171,
   "metadata": {
    "collapsed": false
   },
   "outputs": [
    {
     "name": "stdout",
     "output_type": "stream",
     "text": [
      "vw -t -i ../models/vw_model_genres_with_count.vw ../data/processed/vowpal_wabbit_input_Xte_with_count.vw -p ../vw_predictions/xtr_preds_genres_with_count.txt --random_seed 2313 --quiet\n",
      "AUC: 0.72. Elapsed: 0.33 sec.\n"
     ]
    }
   ],
   "source": [
    "test_vw_model('../models/vw_model_genres_with_count.vw', \n",
    "              '../data/processed/vowpal_wabbit_input_Xte_with_count.vw',\n",
    "              '../vw_predictions/xtr_preds_genres_with_count.txt', \n",
    "              yte\n",
    "             )"
   ]
  },
  {
   "cell_type": "markdown",
   "metadata": {},
   "source": [
    "** Input data format preparation **\n",
    "\n",
    "* Need to first prepare ohe features using regex to replace numeric values."
   ]
  },
  {
   "cell_type": "code",
   "execution_count": 196,
   "metadata": {
    "collapsed": false
   },
   "outputs": [
    {
     "data": {
      "text/plain": [
       "'10 tod_13 tod_12 tod_20 tod_21 tod_17 tod_16 tod_19 tod_18 tod_22 tod_2 tod_14 tod_15 tod_23'"
      ]
     },
     "execution_count": 196,
     "metadata": {},
     "output_type": "execute_result"
    }
   ],
   "source": [
    "' tod_'.join(X['tod'].iloc[0].split(' '))"
   ]
  },
  {
   "cell_type": "code",
   "execution_count": 250,
   "metadata": {
    "collapsed": false
   },
   "outputs": [],
   "source": [
    "def create_vw_file(X, y, outfile_path):\n",
    "    with open(outfile_path, 'w') as outfile:\n",
    "        for index in tqdm_notebook(range(len(X.values))):\n",
    "            segment = y.iloc[index]\n",
    "            \n",
    "            genres  = X['genres'].iloc[index]\n",
    "            cities  = X['cities'].iloc[index]\n",
    "            \n",
    "            tod     = 'tod_' + ' tod_'.join(X['tod'].iloc[index].split(' '))\n",
    "            dow     = 'dow_' + ' dow_'.join(X['dow'].iloc[index].split(' '))\n",
    "\n",
    "            if pd.isnull(segment):\n",
    "                outfile.write('{} | {} {} {} {}\\n'.format(\n",
    "                                                     '1',\n",
    "                                                     genres,\n",
    "                                                     cities,\n",
    "                                                     tod,\n",
    "                                                     dow\n",
    "                                                    ))\n",
    "            else:\n",
    "                outfile.write('{} | {} {} {} {}\\n'.format(segment, \n",
    "                                                          genres,\n",
    "                                                          cities,\n",
    "                                                          tod,\n",
    "                                                          dow\n",
    "                                                         ))\n",
    "        \n",
    "        outfile.close()\n",
    "    \n",
    "    print('Number of lines written: {}'.format(len(features.values)))\n",
    "    print('Created input file for vw at: {}'.format(outfile_path))"
   ]
  },
  {
   "cell_type": "code",
   "execution_count": 233,
   "metadata": {
    "collapsed": false
   },
   "outputs": [],
   "source": [
    "X = data_processed.loc[train_mask, ['genres', 'cities', 'tod', 'dow']]\n",
    "\n",
    "X['genres'] = X.genres.str.replace(r':\\d+', '').str.replace(',', ' ')\n",
    "X['cities'] = X.cities.str.replace(r':\\d+', '').str.replace(',', ' ')\n",
    "X['tod']    = X.tod.str.replace(r':\\d+', '').str.replace(',', ' ')\n",
    "X['dow']    = X.dow.str.replace(r':\\d+', '').str.replace(',', ' ')\n",
    "\n",
    "Xtest = data_processed.loc[~train_mask, ['genres', 'cities', 'tod', 'dow']]\n",
    "\n",
    "Xtest['genres'] = Xtest.genres.str.replace(r':\\d+', '').str.replace(',', ' ')\n",
    "Xtest['cities'] = Xtest.cities.str.replace(r':\\d+', '').str.replace(',', ' ')\n",
    "Xtest['tod']    = Xtest.tod.str.replace(r':\\d+', '').str.replace(',', ' ')\n",
    "Xtest['dow']    = Xtest.dow.str.replace(r':\\d+', '').str.replace(',', ' ')\n",
    "\n",
    "y = data_processed.loc[train_mask, 'segment']"
   ]
  },
  {
   "cell_type": "code",
   "execution_count": 234,
   "metadata": {
    "collapsed": false
   },
   "outputs": [],
   "source": [
    "# train test split\n",
    "params = {\n",
    "    'stratify': y,\n",
    "    'test_size': .3,\n",
    "    'random_state': SEED\n",
    "}\n",
    "\n",
    "X_train, X_test, y_train, y_test = get_train_test_split(X,\n",
    "                                                        y,\n",
    "                                                        **params\n",
    "                                                       )\n",
    "\n",
    "# futher split train into train and validation\n",
    "params = {\n",
    "    'stratify': y_train,\n",
    "    'test_size': .2,\n",
    "    'random_state': SEED\n",
    "}\n",
    "\n",
    "Xtr, Xte, ytr, yte = get_train_test_split(X_train, y_train, **params)"
   ]
  },
  {
   "cell_type": "code",
   "execution_count": 235,
   "metadata": {
    "collapsed": false
   },
   "outputs": [
    {
     "name": "stdout",
     "output_type": "stream",
     "text": [
      "\n",
      "Number of lines written: 300000\n",
      "Created input file for vw at: ../data/processed/vowpal_wabbit_xtr_multiple_features.vw\n"
     ]
    }
   ],
   "source": [
    "create_vw_file(Xtr, ytr, '../data/processed/vowpal_wabbit_xtr_multiple_features.vw')"
   ]
  },
  {
   "cell_type": "code",
   "execution_count": 236,
   "metadata": {
    "collapsed": false
   },
   "outputs": [
    {
     "name": "stdout",
     "output_type": "stream",
     "text": [
      "\n",
      "Number of lines written: 300000\n",
      "Created input file for vw at: ../data/processed/vowpal_wabbit_xte_multiple_features.vw\n"
     ]
    }
   ],
   "source": [
    "create_vw_file(Xte, yte, '../data/processed/vowpal_wabbit_xte_multiple_features.vw')"
   ]
  },
  {
   "cell_type": "code",
   "execution_count": 240,
   "metadata": {
    "collapsed": false
   },
   "outputs": [
    {
     "name": "stdout",
     "output_type": "stream",
     "text": [
      "vw ../data/processed/vowpal_wabbit_xtr_multiple_features.vw -f ../models/vw_model_multiple_features.vw -b 28 --random_seed 2313 --quiet\n",
      "Success. Elapsed: 0.48 sec.\n"
     ]
    }
   ],
   "source": [
    "train_vw_model('../data/processed/vowpal_wabbit_xtr_multiple_features.vw',\n",
    "               '../models/vw_model_multiple_features.vw',\n",
    "               ngram=1\n",
    "              )"
   ]
  },
  {
   "cell_type": "code",
   "execution_count": 243,
   "metadata": {
    "collapsed": false
   },
   "outputs": [
    {
     "name": "stdout",
     "output_type": "stream",
     "text": [
      "vw -t -i ../models/vw_model_multiple_features.vw ../data/processed/vowpal_wabbit_xte_multiple_features.vw -p ../vw_predictions/xtr_preds_multiple_features.txt --random_seed 2313 --quiet\n",
      "AUC: 0.78. Elapsed: 0.32 sec.\n"
     ]
    }
   ],
   "source": [
    "test_vw_model('../models/vw_model_multiple_features.vw', \n",
    "              '../data/processed/vowpal_wabbit_xte_multiple_features.vw',\n",
    "              '../vw_predictions/xtr_preds_multiple_features.txt', \n",
    "              yte\n",
    "             )"
   ]
  },
  {
   "cell_type": "markdown",
   "metadata": {},
   "source": [
    "** Train on X_train, X_test **"
   ]
  },
  {
   "cell_type": "code",
   "execution_count": 216,
   "metadata": {
    "collapsed": false
   },
   "outputs": [
    {
     "name": "stdout",
     "output_type": "stream",
     "text": [
      "\n",
      "Number of lines written: 300000\n",
      "Created input file for vw at: ../data/processed/vowpal_wabbit_x_train_multiple_features.vw\n",
      "\n",
      "Number of lines written: 300000\n",
      "Created input file for vw at: ../data/processed/vowpal_wabbit_x_test_multiple_features.vw\n"
     ]
    }
   ],
   "source": [
    "# train on X_train and test on X_test\n",
    "create_vw_file(X_train, y_train, '../data/processed/vowpal_wabbit_x_train_multiple_features.vw')\n",
    "create_vw_file(X_test, y_test, '../data/processed/vowpal_wabbit_x_test_multiple_features.vw')"
   ]
  },
  {
   "cell_type": "code",
   "execution_count": 222,
   "metadata": {
    "collapsed": false
   },
   "outputs": [
    {
     "name": "stdout",
     "output_type": "stream",
     "text": [
      "vw ../data/processed/vowpal_wabbit_x_train_multiple_features.vw -f ../models/vw_model_multiple_features_x_train.vw -b 28 --random_seed 2313 --quiet\n",
      "Success. Elapsed: 0.49 sec.\n",
      "vw -t -i ../models/vw_model_multiple_features_x_train.vw ../data/processed/vowpal_wabbit_x_test_multiple_features.vw -p ../vw_predictions/xtr_preds_multiple_features_x_test.txt --random_seed 2313 --quiet\n",
      "AUC: 0.78. Elapsed: 0.59 sec.\n"
     ]
    }
   ],
   "source": [
    "train_vw_model('../data/processed/vowpal_wabbit_x_train_multiple_features.vw',\n",
    "               '../models/vw_model_multiple_features_x_train.vw',\n",
    "               ngram=1\n",
    "              )\n",
    "\n",
    "test_vw_model('../models/vw_model_multiple_features_x_train.vw', \n",
    "              '../data/processed/vowpal_wabbit_x_test_multiple_features.vw',\n",
    "              '../vw_predictions/xtr_preds_multiple_features_x_test.txt', \n",
    "              y_test\n",
    "             )"
   ]
  },
  {
   "cell_type": "markdown",
   "metadata": {},
   "source": [
    "** Full Training **"
   ]
  },
  {
   "cell_type": "code",
   "execution_count": 251,
   "metadata": {
    "collapsed": false
   },
   "outputs": [
    {
     "name": "stdout",
     "output_type": "stream",
     "text": [
      "\n",
      "Number of lines written: 300000\n",
      "Created input file for vw at: ../data/processed/vowpal_wabbit_x_multiple_features.vw\n",
      "\n",
      "Number of lines written: 300000\n",
      "Created input file for vw at: ../data/processed/vowpal_wabbit_xtest_multiple_features.vw\n"
     ]
    }
   ],
   "source": [
    "# train on X_train and test on X_test\n",
    "create_vw_file(X, y, '../data/processed/vowpal_wabbit_x_multiple_features.vw')\n",
    "create_vw_file(Xtest, pd.Series([np.nan] * len(Xtest)), '../data/processed/vowpal_wabbit_xtest_multiple_features.vw')"
   ]
  },
  {
   "cell_type": "code",
   "execution_count": 252,
   "metadata": {
    "collapsed": false
   },
   "outputs": [
    {
     "name": "stdout",
     "output_type": "stream",
     "text": [
      "-1.0 | Cricket Kabaddi Reality gurgaon delhi tod_10 tod_13 tod_12 tod_20 tod_21 tod_17 tod_16 tod_19 tod_18 tod_22 tod_2 tod_14 tod_15 tod_23 dow_1 dow_3 dow_2 dow_5 dow_4 dow_7 dow_6\r\n",
      "-1.0 | Cricket Wildlife delhi nagar mumbai tod_11 tod_10 tod_20 tod_21 tod_22 tod_16 tod_19 tod_18 tod_23 tod_1 tod_3 tod_2 tod_5 tod_8 tod_9 tod_15 dow_1 dow_3 dow_2 dow_5 dow_4 dow_7 dow_6\r\n"
     ]
    }
   ],
   "source": [
    "!head -2 '../data/processed/vowpal_wabbit_x_multiple_features.vw'"
   ]
  },
  {
   "cell_type": "code",
   "execution_count": 253,
   "metadata": {
    "collapsed": false
   },
   "outputs": [
    {
     "name": "stdout",
     "output_type": "stream",
     "text": [
      "1 | Romance Cricket delhi mumbai tod_13 tod_15 dow_2 dow_4\r\n",
      "1 | Romance Action Mythology pune delhi navi mumbai tod_20 tod_21 tod_22 tod_23 tod_19 tod_1 tod_0 tod_15 dow_1 dow_3 dow_2 dow_5 dow_4 dow_7\r\n"
     ]
    }
   ],
   "source": [
    "!head -2 '../data/processed/vowpal_wabbit_xtest_multiple_features.vw'"
   ]
  },
  {
   "cell_type": "code",
   "execution_count": 254,
   "metadata": {
    "collapsed": false
   },
   "outputs": [
    {
     "name": "stdout",
     "output_type": "stream",
     "text": [
      "vw ../data/processed/vowpal_wabbit_x_multiple_features.vw -f ../models/vw_model_multiple_features_x.vw -b 28 --random_seed 2313 --quiet\n",
      "Success. Elapsed: 0.67 sec.\n",
      "vw -t -i ../models/vw_model_multiple_features_x.vw ../data/processed/vowpal_wabbit_xtest_multiple_features.vw -p ../vw_predictions/xtr_preds_multiple_features_xtest.txt --random_seed 2313 --quiet\n"
     ]
    }
   ],
   "source": [
    "train_vw_model('../data/processed/vowpal_wabbit_x_multiple_features.vw',\n",
    "               '../models/vw_model_multiple_features_x.vw',\n",
    "               ngram=1\n",
    "              )\n",
    "\n",
    "test_vw_model('../models/vw_model_multiple_features_x.vw', \n",
    "              '../data/processed/vowpal_wabbit_xtest_multiple_features.vw',\n",
    "              '../vw_predictions/xtr_preds_multiple_features_xtest.txt', \n",
    "              None\n",
    "             )"
   ]
  },
  {
   "cell_type": "code",
   "execution_count": 255,
   "metadata": {
    "collapsed": false
   },
   "outputs": [
    {
     "name": "stdout",
     "output_type": "stream",
     "text": [
      "-1\r\n",
      "-0.839207\r\n",
      "-0.709526\r\n",
      "-0.738760\r\n",
      "-0.778406\r\n"
     ]
    }
   ],
   "source": [
    "!head -5 '../vw_predictions/xtr_preds_multiple_features_xtest.txt'"
   ]
  },
  {
   "cell_type": "code",
   "execution_count": 257,
   "metadata": {
    "collapsed": false
   },
   "outputs": [],
   "source": [
    "# read predictions\n",
    "preds = np.loadtxt('../vw_predictions/xtr_preds_multiple_features_xtest.txt')\n",
    "\n",
    "# load predictions\n",
    "sub = pd.read_csv('../data/raw/5f828822-4--4-hotstar_dataset/sample_submission.csv')\n",
    "sub['segment'] = preds\n",
    "sub['ID']      = data_processed.loc[~train_mask, 'ID'].values\n",
    "sub.to_csv('../submissions/hotstar/vw.csv', index=False)"
   ]
  }
 ],
 "metadata": {
  "kernelspec": {
   "display_name": "Python 3",
   "language": "python",
   "name": "python3"
  },
  "language_info": {
   "codemirror_mode": {
    "name": "ipython",
    "version": 3
   },
   "file_extension": ".py",
   "mimetype": "text/x-python",
   "name": "python",
   "nbconvert_exporter": "python",
   "pygments_lexer": "ipython3",
   "version": "3.6.0"
  },
  "widgets": {
   "state": {
    "1e34640fe7be4eaea4c657e28748e158": {
     "views": [
      {
       "cell_index": 43
      }
     ]
    },
    "23a74b904e464cec904659a816102724": {
     "views": [
      {
       "cell_index": 46
      }
     ]
    },
    "31d6bba4db0946d6813eb9757c49b8a7": {
     "views": [
      {
       "cell_index": 29
      }
     ]
    },
    "3c33c2eb7a094148a5788cbc972f7584": {
     "views": [
      {
       "cell_index": 22
      }
     ]
    },
    "42caa7c9409e40209cf169cd4b7cc3be": {
     "views": [
      {
       "cell_index": 28
      }
     ]
    },
    "5986024a90f04c5192c6e2f003b703e7": {
     "views": [
      {
       "cell_index": 9
      }
     ]
    },
    "6c32a14ff2b04c05a2c051d7e878ed84": {
     "views": [
      {
       "cell_index": 47
      }
     ]
    },
    "7da8c4fbc5484b0c9727a93ad4129144": {
     "views": [
      {
       "cell_index": 21
      }
     ]
    },
    "82edf997636e412b8318c90129ca83ce": {
     "views": [
      {
       "cell_index": 39
      }
     ]
    },
    "83bca02ee96e45c09bcbd243758be314": {
     "views": [
      {
       "cell_index": 46
      }
     ]
    },
    "b27f82700ce44996bfe7933cfbe7b1cb": {
     "views": [
      {
       "cell_index": 8
      }
     ]
    },
    "b9d7cd01342e41cc962fec91bdb44da1": {
     "views": [
      {
       "cell_index": 38
      }
     ]
    },
    "e3150a2b582d4c238c067e1507691a23": {
     "views": [
      {
       "cell_index": 47
      }
     ]
    },
    "e3d1d2153b5e428b8c3a37a012b05464": {
     "views": [
      {
       "cell_index": 43
      }
     ]
    },
    "f07a24e5218d49f0b97e419605cde639": {
     "views": [
      {
       "cell_index": 46
      }
     ]
    }
   },
   "version": "1.2.0"
  }
 },
 "nbformat": 4,
 "nbformat_minor": 2
}
